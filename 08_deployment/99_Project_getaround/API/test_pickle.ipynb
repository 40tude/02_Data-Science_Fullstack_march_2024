{
 "cells": [
  {
   "cell_type": "code",
   "execution_count": 3,
   "metadata": {},
   "outputs": [
    {
     "data": {
      "text/html": [
       "<div>\n",
       "<style scoped>\n",
       "    .dataframe tbody tr th:only-of-type {\n",
       "        vertical-align: middle;\n",
       "    }\n",
       "\n",
       "    .dataframe tbody tr th {\n",
       "        vertical-align: top;\n",
       "    }\n",
       "\n",
       "    .dataframe thead th {\n",
       "        text-align: right;\n",
       "    }\n",
       "</style>\n",
       "<table border=\"1\" class=\"dataframe\">\n",
       "  <thead>\n",
       "    <tr style=\"text-align: right;\">\n",
       "      <th></th>\n",
       "      <th>model_key</th>\n",
       "      <th>mileage</th>\n",
       "      <th>engine_power</th>\n",
       "      <th>fuel</th>\n",
       "      <th>paint_color</th>\n",
       "      <th>car_type</th>\n",
       "      <th>private_parking_available</th>\n",
       "      <th>has_gps</th>\n",
       "      <th>has_air_conditioning</th>\n",
       "      <th>automatic_car</th>\n",
       "      <th>has_getaround_connect</th>\n",
       "      <th>has_speed_regulator</th>\n",
       "      <th>winter_tires</th>\n",
       "    </tr>\n",
       "  </thead>\n",
       "  <tbody>\n",
       "    <tr>\n",
       "      <th>0</th>\n",
       "      <td>Citroën</td>\n",
       "      <td>140411</td>\n",
       "      <td>100</td>\n",
       "      <td>diesel</td>\n",
       "      <td>black</td>\n",
       "      <td>convertible</td>\n",
       "      <td>True</td>\n",
       "      <td>True</td>\n",
       "      <td>False</td>\n",
       "      <td>False</td>\n",
       "      <td>True</td>\n",
       "      <td>True</td>\n",
       "      <td>True</td>\n",
       "    </tr>\n",
       "  </tbody>\n",
       "</table>\n",
       "</div>"
      ],
      "text/plain": [
       "  model_key mileage engine_power    fuel paint_color     car_type  \\\n",
       "0   Citroën  140411          100  diesel       black  convertible   \n",
       "\n",
       "   private_parking_available  has_gps  has_air_conditioning  automatic_car  \\\n",
       "0                       True     True                 False          False   \n",
       "\n",
       "   has_getaround_connect  has_speed_regulator  winter_tires  \n",
       "0                   True                 True          True  "
      ]
     },
     "metadata": {},
     "output_type": "display_data"
    },
    {
     "name": "stdout",
     "output_type": "stream",
     "text": [
      "prediction: 114.28 €\n"
     ]
    }
   ],
   "source": [
    "# this code works if and only if you have \n",
    "#       - the lib present in your python environment \n",
    "#       - the lib in the correct version\n",
    "\n",
    "# see environment.yml\n",
    "#   it has been generated with : conda env export > environment.yml\n",
    "#   you can use it this way    : conda env create -f environment.yml\n",
    "\n",
    "# see requirements.txt \n",
    "#   it has been generated with : pip list --format=freeze > requirements.txt\n",
    "#   you can use it this way    : pip install -r requirements.txt\n",
    "\n",
    "\n",
    "import pickle\n",
    "import joblib\n",
    "import pandas as pd\n",
    "\n",
    "# first line of the .csv\n",
    "# 0,Citroën,140411,100,diesel,black,convertible,True,True,False,False,True,True,True,106\n",
    "input_data = [[\"Citroën\",\"140411\",\"100\",\"diesel\",\"black\",\"convertible\",True,True,False,False,True,True,True]]       # cost 106\n",
    "\n",
    "input_features = ['model_key', 'mileage', 'engine_power', 'fuel', 'paint_color',\n",
    "                  'car_type', 'private_parking_available', 'has_gps',\n",
    "                  'has_air_conditioning', 'automatic_car', 'has_getaround_connect',\n",
    "                  'has_speed_regulator', 'winter_tires']\n",
    "\n",
    "input_df = pd.DataFrame(input_data, columns=input_features)\n",
    "display(input_df.head())\n",
    "\n",
    "with open('./assets/full_pipeline.pkl', 'rb') as file:\n",
    "    preprocessor = pickle.load(file)\n",
    "\n",
    "preprocessed_data = preprocessor.transform(input_df)\n",
    "\n",
    "model = joblib.load(\"./assets/model_xgb.pkl\")\n",
    "prediction = model.predict(preprocessed_data)\n",
    "# print (f\"prediction: {prediction.tolist()}\") \n",
    "print (f\"prediction: {prediction[0]:.2f} €\") \n"
   ]
  }
 ],
 "metadata": {
  "kernelspec": {
   "display_name": "jedha",
   "language": "python",
   "name": "python3"
  },
  "language_info": {
   "codemirror_mode": {
    "name": "ipython",
    "version": 3
   },
   "file_extension": ".py",
   "mimetype": "text/x-python",
   "name": "python",
   "nbconvert_exporter": "python",
   "pygments_lexer": "ipython3",
   "version": "3.12.5"
  }
 },
 "nbformat": 4,
 "nbformat_minor": 2
}
