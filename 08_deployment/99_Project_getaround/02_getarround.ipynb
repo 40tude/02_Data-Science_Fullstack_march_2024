{
 "cells": [
  {
   "cell_type": "code",
   "execution_count": 28,
   "metadata": {},
   "outputs": [],
   "source": [
    "# prelude\n",
    "import numpy as np\n",
    "import pandas as pd\n",
    "import seaborn as sns\n",
    "import matplotlib.pyplot as plt\n",
    "from matplotlib.ticker import PercentFormatter\n",
    "\n",
    "# -----------------------------------------------------------------------------\n",
    "from pathlib import Path\n",
    "# k_CurrentDir  = Path(__file__).parent    # __file__ is not known in Jupyter context\n",
    "k_Current_dir   = Path.cwd()\n",
    "k_AssetsDir     = \"assets\"\n",
    "k_Gold          = 1.618         # gold number for ratio\n",
    "k_Width         = 12\n",
    "k_Height        = k_Width/k_Gold\n",
    "k_WidthPx       = 1024\n",
    "k_HeightPx      = k_WidthPx/k_Gold\n",
    "k_random_state  = 0"
   ]
  },
  {
   "cell_type": "markdown",
   "metadata": {},
   "source": [
    "# getaround project\n",
    "\n",
    "* https://app.jedha.co/course/project-deployment-ft/getaround-analysis-ft"
   ]
  },
  {
   "cell_type": "markdown",
   "metadata": {},
   "source": [
    "# <span style=\"color:red\"><b>TODO & Ideas - TO BE COMMENTED</b></span>\n",
    "\n",
    "* ~~create figures with powerpoint to illustrate~~\n",
    "* replace ``delay_at_checkout_in_minutes`` with slices of 5, 15, 30 and 60... minutes of delay \n",
    "    * the idea is to simplify the analysis \n",
    "    * then remove ``delay_at_checkout_in_minutes`` ? \n",
    "    * use the length of the slice as an hyperparameter and see how it helps to fight overfit ?"
   ]
  },
  {
   "cell_type": "markdown",
   "metadata": {},
   "source": [
    "# Specifications (summary)"
   ]
  },
  {
   "cell_type": "markdown",
   "metadata": {},
   "source": [
    "|field name\t                                  |  Comment        |\n",
    "|---------------------------------------------|----------------------------------------------------------------------------------------------------------------------------------|\n",
    "|rental_id\t                                  |  Unique identifier of the rental|\n",
    "|car_id\t                                      |  Unique identifier of the car |\n",
    "|checkin_type\t                              |  Flow used for both checkin and checkout. (ie. access and return the car) <br> mobile = rental agreement signed on the owner's smartphone <br> connect = car equiped with the Connect technology , opened by the driver with his smartphone <br> Note: paper contracts were excluded from the data as we have no data on their delay at checkout and it's negligible use case |\n",
    "|state\t                                      |  canceled means that the rental did not happen (was canceled by the driver or the owner).\n",
    "|delay_at_checkout_in_minutes\t              |  Difference in minutes between the rental end time requested by the driver when booking the car and the actual time the driver completed the checkout. Negative values mean that the driver returned the car in advance.\n",
    "|previous_ended_rental_id\t                  |  id of the previous ended rental of the car (NULL when no previous rental or delay with previous rental higher than 12 hours)\n",
    "|time_delta_with_previous_rental_in_minutes\t  |  Difference in minutes between this rental planned start time and the previous rental planned end time (when lower than 12 hours, NULL if higher)\n"
   ]
  },
  {
   "cell_type": "markdown",
   "metadata": {},
   "source": [
    "Questions from the product manager : \n",
    "\n",
    "* How often are drivers late for the next check-in? How does it impact the next driver?\n",
    "* How many rentals would be affected by the feature depending on the threshold and scope we choose?\n",
    "* How many problematic cases will it solve depending on the chosen threshold and scope?\n",
    "* Which share of our owner’s revenue would potentially be affected by the feature?"
   ]
  },
  {
   "cell_type": "markdown",
   "metadata": {},
   "source": [
    "# EDA (Delay Analysis)"
   ]
  },
  {
   "cell_type": "code",
   "execution_count": 29,
   "metadata": {},
   "outputs": [],
   "source": [
    "# -----------------------------------------------------------------------------\n",
    "def remove_Outliers_IQR(df, column):\n",
    "    Q1 = df[column].quantile(0.25)\n",
    "    Q3 = df[column].quantile(0.75)\n",
    "    IQR = Q3 - Q1\n",
    "    lower_bound = Q1 - 1.5 * IQR\n",
    "    upper_bound = Q3 + 1.5 * IQR\n",
    "    df = df[((df[column] >= lower_bound) & (df[column] <= upper_bound)) | df[column].isna()]\n",
    "    return df\n",
    "\n",
    "\n",
    "# -----------------------------------------------------------------------------\n",
    "def remove_Outliers_Sigma(df, column):\n",
    "    mean_col = df[column].mean()\n",
    "    sigma_col = df[column].std()\n",
    "\n",
    "    lower_bound = mean_col - 3 * sigma_col\n",
    "    upper_bound = mean_col + 3 * sigma_col\n",
    "    df = df[((df[column] >= lower_bound) & (df[column] <= upper_bound)) | df[column].isna()]\n",
    "    return df\n",
    "\n",
    "# -----------------------------------------------------------------------------\n",
    "# method = \"IQR\" or \"sigma\"\n",
    "def remove_Outliers(df, column, method=\"sigma\"):\n",
    "    match method:\n",
    "        case \"IQR\":\n",
    "            df = remove_Outliers_IQR(df, column)\n",
    "        case \"sigma\":\n",
    "            df = remove_Outliers_Sigma(df, column)\n",
    "        case _:\n",
    "            raise Exception(\"method must be IQR or sigma\")    \n",
    "    \n",
    "    return df\n",
    "\n",
    "# print(df.shape)\n",
    "# for col in col_outliers:\n",
    "#     df = remove_Outliers(df, col, method=\"sigma\")\n",
    "# print(df.shape)"
   ]
  },
  {
   "cell_type": "code",
   "execution_count": 30,
   "metadata": {},
   "outputs": [
    {
     "name": "stdout",
     "output_type": "stream",
     "text": [
      "\n",
      "\n",
      "Preview of the dataset :\n"
     ]
    },
    {
     "data": {
      "text/html": [
       "<div>\n",
       "<style scoped>\n",
       "    .dataframe tbody tr th:only-of-type {\n",
       "        vertical-align: middle;\n",
       "    }\n",
       "\n",
       "    .dataframe tbody tr th {\n",
       "        vertical-align: top;\n",
       "    }\n",
       "\n",
       "    .dataframe thead th {\n",
       "        text-align: right;\n",
       "    }\n",
       "</style>\n",
       "<table border=\"1\" class=\"dataframe\">\n",
       "  <thead>\n",
       "    <tr style=\"text-align: right;\">\n",
       "      <th></th>\n",
       "      <th>rental_id</th>\n",
       "      <th>car_id</th>\n",
       "      <th>checkin_type</th>\n",
       "      <th>state</th>\n",
       "      <th>delay_at_checkout_in_minutes</th>\n",
       "      <th>previous_ended_rental_id</th>\n",
       "      <th>time_delta_with_previous_rental_in_minutes</th>\n",
       "      <th>Unnamed: 7</th>\n",
       "    </tr>\n",
       "  </thead>\n",
       "  <tbody>\n",
       "    <tr>\n",
       "      <th>10662</th>\n",
       "      <td>573874</td>\n",
       "      <td>405420</td>\n",
       "      <td>mobile</td>\n",
       "      <td>ended</td>\n",
       "      <td>-11.0</td>\n",
       "      <td>NaN</td>\n",
       "      <td>NaN</td>\n",
       "      <td>NaN</td>\n",
       "    </tr>\n",
       "    <tr>\n",
       "      <th>17978</th>\n",
       "      <td>561181</td>\n",
       "      <td>383002</td>\n",
       "      <td>mobile</td>\n",
       "      <td>canceled</td>\n",
       "      <td>NaN</td>\n",
       "      <td>NaN</td>\n",
       "      <td>NaN</td>\n",
       "      <td>NaN</td>\n",
       "    </tr>\n",
       "    <tr>\n",
       "      <th>19076</th>\n",
       "      <td>564710</td>\n",
       "      <td>400184</td>\n",
       "      <td>mobile</td>\n",
       "      <td>ended</td>\n",
       "      <td>NaN</td>\n",
       "      <td>NaN</td>\n",
       "      <td>NaN</td>\n",
       "      <td>NaN</td>\n",
       "    </tr>\n",
       "    <tr>\n",
       "      <th>18265</th>\n",
       "      <td>539272</td>\n",
       "      <td>376001</td>\n",
       "      <td>mobile</td>\n",
       "      <td>ended</td>\n",
       "      <td>NaN</td>\n",
       "      <td>NaN</td>\n",
       "      <td>NaN</td>\n",
       "      <td>NaN</td>\n",
       "    </tr>\n",
       "    <tr>\n",
       "      <th>19311</th>\n",
       "      <td>559257</td>\n",
       "      <td>398849</td>\n",
       "      <td>mobile</td>\n",
       "      <td>ended</td>\n",
       "      <td>NaN</td>\n",
       "      <td>NaN</td>\n",
       "      <td>NaN</td>\n",
       "      <td>NaN</td>\n",
       "    </tr>\n",
       "    <tr>\n",
       "      <th>484</th>\n",
       "      <td>551081</td>\n",
       "      <td>341630</td>\n",
       "      <td>mobile</td>\n",
       "      <td>ended</td>\n",
       "      <td>731.0</td>\n",
       "      <td>549811.0</td>\n",
       "      <td>690.0</td>\n",
       "      <td>NaN</td>\n",
       "    </tr>\n",
       "    <tr>\n",
       "      <th>1027</th>\n",
       "      <td>522370</td>\n",
       "      <td>404073</td>\n",
       "      <td>mobile</td>\n",
       "      <td>ended</td>\n",
       "      <td>307.0</td>\n",
       "      <td>NaN</td>\n",
       "      <td>NaN</td>\n",
       "      <td>NaN</td>\n",
       "    </tr>\n",
       "    <tr>\n",
       "      <th>14530</th>\n",
       "      <td>565057</td>\n",
       "      <td>292626</td>\n",
       "      <td>mobile</td>\n",
       "      <td>ended</td>\n",
       "      <td>-113.0</td>\n",
       "      <td>NaN</td>\n",
       "      <td>NaN</td>\n",
       "      <td>NaN</td>\n",
       "    </tr>\n",
       "    <tr>\n",
       "      <th>16554</th>\n",
       "      <td>546958</td>\n",
       "      <td>405005</td>\n",
       "      <td>connect</td>\n",
       "      <td>canceled</td>\n",
       "      <td>NaN</td>\n",
       "      <td>546959.0</td>\n",
       "      <td>570.0</td>\n",
       "      <td>NaN</td>\n",
       "    </tr>\n",
       "    <tr>\n",
       "      <th>9545</th>\n",
       "      <td>539551</td>\n",
       "      <td>384040</td>\n",
       "      <td>connect</td>\n",
       "      <td>ended</td>\n",
       "      <td>-1.0</td>\n",
       "      <td>NaN</td>\n",
       "      <td>NaN</td>\n",
       "      <td>NaN</td>\n",
       "    </tr>\n",
       "    <tr>\n",
       "      <th>164</th>\n",
       "      <td>529465</td>\n",
       "      <td>248159</td>\n",
       "      <td>mobile</td>\n",
       "      <td>ended</td>\n",
       "      <td>1490.0</td>\n",
       "      <td>NaN</td>\n",
       "      <td>NaN</td>\n",
       "      <td>NaN</td>\n",
       "    </tr>\n",
       "    <tr>\n",
       "      <th>7960</th>\n",
       "      <td>526810</td>\n",
       "      <td>403485</td>\n",
       "      <td>mobile</td>\n",
       "      <td>ended</td>\n",
       "      <td>11.0</td>\n",
       "      <td>NaN</td>\n",
       "      <td>NaN</td>\n",
       "      <td>NaN</td>\n",
       "    </tr>\n",
       "    <tr>\n",
       "      <th>15049</th>\n",
       "      <td>571038</td>\n",
       "      <td>341861</td>\n",
       "      <td>connect</td>\n",
       "      <td>ended</td>\n",
       "      <td>-152.0</td>\n",
       "      <td>574571.0</td>\n",
       "      <td>540.0</td>\n",
       "      <td>NaN</td>\n",
       "    </tr>\n",
       "    <tr>\n",
       "      <th>11049</th>\n",
       "      <td>551721</td>\n",
       "      <td>402947</td>\n",
       "      <td>mobile</td>\n",
       "      <td>ended</td>\n",
       "      <td>-16.0</td>\n",
       "      <td>NaN</td>\n",
       "      <td>NaN</td>\n",
       "      <td>NaN</td>\n",
       "    </tr>\n",
       "    <tr>\n",
       "      <th>2253</th>\n",
       "      <td>565191</td>\n",
       "      <td>316139</td>\n",
       "      <td>mobile</td>\n",
       "      <td>ended</td>\n",
       "      <td>137.0</td>\n",
       "      <td>NaN</td>\n",
       "      <td>NaN</td>\n",
       "      <td>NaN</td>\n",
       "    </tr>\n",
       "    <tr>\n",
       "      <th>15442</th>\n",
       "      <td>567419</td>\n",
       "      <td>369702</td>\n",
       "      <td>mobile</td>\n",
       "      <td>ended</td>\n",
       "      <td>-207.0</td>\n",
       "      <td>NaN</td>\n",
       "      <td>NaN</td>\n",
       "      <td>NaN</td>\n",
       "    </tr>\n",
       "    <tr>\n",
       "      <th>822</th>\n",
       "      <td>546058</td>\n",
       "      <td>405140</td>\n",
       "      <td>mobile</td>\n",
       "      <td>ended</td>\n",
       "      <td>396.0</td>\n",
       "      <td>NaN</td>\n",
       "      <td>NaN</td>\n",
       "      <td>NaN</td>\n",
       "    </tr>\n",
       "    <tr>\n",
       "      <th>21148</th>\n",
       "      <td>570014</td>\n",
       "      <td>248159</td>\n",
       "      <td>mobile</td>\n",
       "      <td>canceled</td>\n",
       "      <td>NaN</td>\n",
       "      <td>NaN</td>\n",
       "      <td>NaN</td>\n",
       "      <td>NaN</td>\n",
       "    </tr>\n",
       "    <tr>\n",
       "      <th>11267</th>\n",
       "      <td>556553</td>\n",
       "      <td>403620</td>\n",
       "      <td>mobile</td>\n",
       "      <td>ended</td>\n",
       "      <td>-19.0</td>\n",
       "      <td>NaN</td>\n",
       "      <td>NaN</td>\n",
       "      <td>NaN</td>\n",
       "    </tr>\n",
       "    <tr>\n",
       "      <th>9740</th>\n",
       "      <td>569820</td>\n",
       "      <td>377591</td>\n",
       "      <td>connect</td>\n",
       "      <td>ended</td>\n",
       "      <td>-2.0</td>\n",
       "      <td>NaN</td>\n",
       "      <td>NaN</td>\n",
       "      <td>NaN</td>\n",
       "    </tr>\n",
       "  </tbody>\n",
       "</table>\n",
       "</div>"
      ],
      "text/plain": [
       "       rental_id  car_id checkin_type     state  delay_at_checkout_in_minutes  \\\n",
       "10662     573874  405420       mobile     ended                         -11.0   \n",
       "17978     561181  383002       mobile  canceled                           NaN   \n",
       "19076     564710  400184       mobile     ended                           NaN   \n",
       "18265     539272  376001       mobile     ended                           NaN   \n",
       "19311     559257  398849       mobile     ended                           NaN   \n",
       "484       551081  341630       mobile     ended                         731.0   \n",
       "1027      522370  404073       mobile     ended                         307.0   \n",
       "14530     565057  292626       mobile     ended                        -113.0   \n",
       "16554     546958  405005      connect  canceled                           NaN   \n",
       "9545      539551  384040      connect     ended                          -1.0   \n",
       "164       529465  248159       mobile     ended                        1490.0   \n",
       "7960      526810  403485       mobile     ended                          11.0   \n",
       "15049     571038  341861      connect     ended                        -152.0   \n",
       "11049     551721  402947       mobile     ended                         -16.0   \n",
       "2253      565191  316139       mobile     ended                         137.0   \n",
       "15442     567419  369702       mobile     ended                        -207.0   \n",
       "822       546058  405140       mobile     ended                         396.0   \n",
       "21148     570014  248159       mobile  canceled                           NaN   \n",
       "11267     556553  403620       mobile     ended                         -19.0   \n",
       "9740      569820  377591      connect     ended                          -2.0   \n",
       "\n",
       "       previous_ended_rental_id  time_delta_with_previous_rental_in_minutes  \\\n",
       "10662                       NaN                                         NaN   \n",
       "17978                       NaN                                         NaN   \n",
       "19076                       NaN                                         NaN   \n",
       "18265                       NaN                                         NaN   \n",
       "19311                       NaN                                         NaN   \n",
       "484                    549811.0                                       690.0   \n",
       "1027                        NaN                                         NaN   \n",
       "14530                       NaN                                         NaN   \n",
       "16554                  546959.0                                       570.0   \n",
       "9545                        NaN                                         NaN   \n",
       "164                         NaN                                         NaN   \n",
       "7960                        NaN                                         NaN   \n",
       "15049                  574571.0                                       540.0   \n",
       "11049                       NaN                                         NaN   \n",
       "2253                        NaN                                         NaN   \n",
       "15442                       NaN                                         NaN   \n",
       "822                         NaN                                         NaN   \n",
       "21148                       NaN                                         NaN   \n",
       "11267                       NaN                                         NaN   \n",
       "9740                        NaN                                         NaN   \n",
       "\n",
       "       Unnamed: 7  \n",
       "10662         NaN  \n",
       "17978         NaN  \n",
       "19076         NaN  \n",
       "18265         NaN  \n",
       "19311         NaN  \n",
       "484           NaN  \n",
       "1027          NaN  \n",
       "14530         NaN  \n",
       "16554         NaN  \n",
       "9545          NaN  \n",
       "164           NaN  \n",
       "7960          NaN  \n",
       "15049         NaN  \n",
       "11049         NaN  \n",
       "2253          NaN  \n",
       "15442         NaN  \n",
       "822           NaN  \n",
       "21148         NaN  \n",
       "11267         NaN  \n",
       "9740          NaN  "
      ]
     },
     "metadata": {},
     "output_type": "display_data"
    }
   ],
   "source": [
    "# df = pd.read_excel('https://full-stack-assets.s3.eu-west-3.amazonaws.com/Deployment/get_around_delay_analysis.xlsx')\n",
    "df = pd.read_excel(k_Current_dir/k_AssetsDir/\"get_around_delay_analysis.xlsx\", sheet_name=\"rentals_data\")\n",
    "\n",
    "print(f\"\\n\\nPreview of the dataset :\")\n",
    "display(df.sample(20))"
   ]
  },
  {
   "cell_type": "code",
   "execution_count": 31,
   "metadata": {},
   "outputs": [
    {
     "name": "stdout",
     "output_type": "stream",
     "text": [
      "\n",
      "\n",
      "% of missing values :\n"
     ]
    },
    {
     "data": {
      "text/plain": [
       "rental_id                                      0.00\n",
       "car_id                                         0.00\n",
       "checkin_type                                   0.00\n",
       "state                                          0.00\n",
       "delay_at_checkout_in_minutes                  23.29\n",
       "previous_ended_rental_id                      91.36\n",
       "time_delta_with_previous_rental_in_minutes    91.36\n",
       "Unnamed: 7                                    99.66\n",
       "dtype: float64"
      ]
     },
     "metadata": {},
     "output_type": "display_data"
    }
   ],
   "source": [
    "print(f\"\\n\\n% of missing values :\")\n",
    "display(round(df.isnull().sum()/len(df)*100, 2))\n"
   ]
  },
  {
   "cell_type": "markdown",
   "metadata": {},
   "source": [
    "### <span style=\"color:orange\"><b>Comments :</b></span>\n",
    "* 90% of the rentals happen more than 12 hours before the current one \n"
   ]
  },
  {
   "cell_type": "code",
   "execution_count": 32,
   "metadata": {},
   "outputs": [],
   "source": [
    "# -----------------------------------------------------------------------------\n",
    "def preprocessor(df):\n",
    "    # drop\n",
    "    df.drop(columns=\"Unnamed: 7\", inplace=True)\n",
    "    df.drop_duplicates(inplace=True)\n",
    "\n",
    "    # format \n",
    "    df.columns = df.columns.str.lower()\n",
    "    df.columns = df.columns.str.replace(\"/\", \"_\")\n",
    "    \n",
    "    # cast \n",
    "    df['rental_id'] = df['rental_id'].astype(str)\n",
    "    df['car_id'] = df['car_id'].astype(str)\n",
    "    # df['previous_ended_rental_id'] = df['previous_ended_rental_id'].astype(str)\n",
    "    df['previous_ended_rental_id'] = df['previous_ended_rental_id'].apply(lambda x: str(int(x)) if not pd.isna(x) else x)\n",
    "\n",
    "\n",
    "    # other preprocessing should come here\n",
    "    # df[\"time_slot\"] = (df[\"hour\"]*60 + df[\"minute\"])//k_time_slot_len\n",
    "\n",
    "    return df"
   ]
  },
  {
   "cell_type": "code",
   "execution_count": 33,
   "metadata": {},
   "outputs": [
    {
     "name": "stdout",
     "output_type": "stream",
     "text": [
      "\n",
      "\n",
      "Preview of the preprocessed dataset :\n"
     ]
    },
    {
     "data": {
      "text/html": [
       "<div>\n",
       "<style scoped>\n",
       "    .dataframe tbody tr th:only-of-type {\n",
       "        vertical-align: middle;\n",
       "    }\n",
       "\n",
       "    .dataframe tbody tr th {\n",
       "        vertical-align: top;\n",
       "    }\n",
       "\n",
       "    .dataframe thead th {\n",
       "        text-align: right;\n",
       "    }\n",
       "</style>\n",
       "<table border=\"1\" class=\"dataframe\">\n",
       "  <thead>\n",
       "    <tr style=\"text-align: right;\">\n",
       "      <th></th>\n",
       "      <th>rental_id</th>\n",
       "      <th>car_id</th>\n",
       "      <th>checkin_type</th>\n",
       "      <th>state</th>\n",
       "      <th>delay_at_checkout_in_minutes</th>\n",
       "      <th>previous_ended_rental_id</th>\n",
       "      <th>time_delta_with_previous_rental_in_minutes</th>\n",
       "    </tr>\n",
       "  </thead>\n",
       "  <tbody>\n",
       "    <tr>\n",
       "      <th>0</th>\n",
       "      <td>532240</td>\n",
       "      <td>379042</td>\n",
       "      <td>mobile</td>\n",
       "      <td>ended</td>\n",
       "      <td>71084.0</td>\n",
       "      <td>NaN</td>\n",
       "      <td>NaN</td>\n",
       "    </tr>\n",
       "    <tr>\n",
       "      <th>1</th>\n",
       "      <td>549980</td>\n",
       "      <td>402829</td>\n",
       "      <td>mobile</td>\n",
       "      <td>ended</td>\n",
       "      <td>64059.0</td>\n",
       "      <td>NaN</td>\n",
       "      <td>NaN</td>\n",
       "    </tr>\n",
       "    <tr>\n",
       "      <th>2</th>\n",
       "      <td>537546</td>\n",
       "      <td>408750</td>\n",
       "      <td>mobile</td>\n",
       "      <td>ended</td>\n",
       "      <td>37382.0</td>\n",
       "      <td>NaN</td>\n",
       "      <td>NaN</td>\n",
       "    </tr>\n",
       "    <tr>\n",
       "      <th>3</th>\n",
       "      <td>534699</td>\n",
       "      <td>270195</td>\n",
       "      <td>mobile</td>\n",
       "      <td>ended</td>\n",
       "      <td>23126.0</td>\n",
       "      <td>NaN</td>\n",
       "      <td>NaN</td>\n",
       "    </tr>\n",
       "    <tr>\n",
       "      <th>4</th>\n",
       "      <td>556557</td>\n",
       "      <td>413591</td>\n",
       "      <td>mobile</td>\n",
       "      <td>ended</td>\n",
       "      <td>22618.0</td>\n",
       "      <td>NaN</td>\n",
       "      <td>NaN</td>\n",
       "    </tr>\n",
       "  </tbody>\n",
       "</table>\n",
       "</div>"
      ],
      "text/plain": [
       "  rental_id  car_id checkin_type  state  delay_at_checkout_in_minutes  \\\n",
       "0    532240  379042       mobile  ended                       71084.0   \n",
       "1    549980  402829       mobile  ended                       64059.0   \n",
       "2    537546  408750       mobile  ended                       37382.0   \n",
       "3    534699  270195       mobile  ended                       23126.0   \n",
       "4    556557  413591       mobile  ended                       22618.0   \n",
       "\n",
       "  previous_ended_rental_id  time_delta_with_previous_rental_in_minutes  \n",
       "0                      NaN                                         NaN  \n",
       "1                      NaN                                         NaN  \n",
       "2                      NaN                                         NaN  \n",
       "3                      NaN                                         NaN  \n",
       "4                      NaN                                         NaN  "
      ]
     },
     "metadata": {},
     "output_type": "display_data"
    }
   ],
   "source": [
    "df = preprocessor(df)\n",
    "print(f\"\\n\\nPreview of the preprocessed dataset :\")\n",
    "display(df.head())"
   ]
  },
  {
   "cell_type": "code",
   "execution_count": 34,
   "metadata": {},
   "outputs": [],
   "source": [
    "# -----------------------------------------------------------------------------\n",
    "def quick_View(df: pd.DataFrame) -> pd.DataFrame:\n",
    "\n",
    "    \"\"\"\n",
    "    Generates a summary DataFrame for each column in the input DataFrame.\n",
    "\n",
    "    This function analyzes each column in the given DataFrame and creates a summary that includes\n",
    "    data type, number of null values, percentage of null values, number of non-null values, \n",
    "    number of distinct values, min and max values, outlier bounds (for numeric columns),\n",
    "    and the frequency of distinct values.\n",
    "\n",
    "    Args:\n",
    "        df (pd.DataFrame): The input DataFrame to analyze.\n",
    "\n",
    "    Returns:\n",
    "        pd.DataFrame: A DataFrame containing the summary of each column from the input DataFrame. \n",
    "                      Each row in the resulting DataFrame represents a column from the input DataFrame\n",
    "                      with the following information:\n",
    "                      - \"name\": Column name\n",
    "                      - \"dtype\": Data type of the column\n",
    "                      - \"# null\": Number of null values\n",
    "                      - \"% null\": Percentage of null values\n",
    "                      - \"# NOT null\": Number of non-null values\n",
    "                      - \"distinct val\": Number of distinct values\n",
    "                      - \"-3*sig\": Lower bound for outliers (mean - 3*std) for numeric columns\n",
    "                      - \"min\": Minimum value for numeric columns\n",
    "                      - \"mean\" : Mean value for numeric columns\n",
    "                      - \"max\": Maximum value for numeric columns\n",
    "                      - \"+3*sig\": Upper bound for outliers (mean + 3*std) for numeric columns\n",
    "                      - \"distinct val count\": Dictionary of distinct value counts or top 10 values for object columns\n",
    "    \"\"\"\n",
    "\n",
    "    summary_lst = []\n",
    "  \n",
    "    for col_name in df.columns:\n",
    "        col_dtype               = df[col_name].dtype\n",
    "        num_of_null             = df[col_name].isnull().sum()\n",
    "        percent_of_null         = num_of_null/len(df)\n",
    "        num_of_non_null         = df[col_name].notnull().sum()\n",
    "        num_of_distinct_values  = df[col_name].nunique()\n",
    "\n",
    "        if num_of_distinct_values <= 10:\n",
    "            distinct_values_counts = df[col_name].value_counts().to_dict()\n",
    "        else:\n",
    "            top_10_values_counts    = df[col_name].value_counts().head(10).to_dict()\n",
    "            distinct_values_counts  = {k: v for k, v in sorted(top_10_values_counts.items(), key=lambda item: item[1], reverse=True)}\n",
    "\n",
    "        if col_dtype != \"object\":\n",
    "            max_of_col  = df[col_name].max()\n",
    "            min_of_col  = df[col_name].min()\n",
    "            mean_of_col = df[col_name].mean()\n",
    "            outlier_hi  = df[col_name].mean() + 3*df[col_name].std()\n",
    "            outlier_lo  = df[col_name].mean() - 3*df[col_name].std()\n",
    "        else:\n",
    "            max_of_col = -1\n",
    "            min_of_col =  1\n",
    "            mean_of_col = np.nan\n",
    "            outlier_hi = -1\n",
    "            outlier_lo =  1\n",
    "\n",
    "        summary_lst.append({\n",
    "            \"name\"                : col_name,\n",
    "            \"dtype\"               : col_dtype,\n",
    "            \"# null\"              : num_of_null,\n",
    "            \"% null\"              : (100*percent_of_null).round(2),\n",
    "            \"# NOT null\"          : num_of_non_null,\n",
    "            \"distinct val\"        : num_of_distinct_values,\n",
    "            \"-3*sig\"              : round(outlier_lo,2) ,\n",
    "            \"min\"                 : round(min_of_col,2),\n",
    "            \"mean\"                : round(mean_of_col,2),\n",
    "            \"max\"                 : round(max_of_col,2),\n",
    "            \"+3*sig\"              : round(outlier_hi,2) ,\n",
    "            \"distinct val count\"  : distinct_values_counts\n",
    "        })\n",
    "\n",
    "    df_tmp = pd.DataFrame(summary_lst)\n",
    "    return df_tmp"
   ]
  },
  {
   "cell_type": "code",
   "execution_count": 35,
   "metadata": {},
   "outputs": [
    {
     "name": "stdout",
     "output_type": "stream",
     "text": [
      "\n",
      "\n",
      "The dataset consists of :\n",
      "\t        2 dimensions\n",
      "\t   21_310 observations\n",
      "\t        7 features    \n",
      "\n",
      "\n",
      "% of data type :\n"
     ]
    },
    {
     "data": {
      "text/html": [
       "<div>\n",
       "<style scoped>\n",
       "    .dataframe tbody tr th:only-of-type {\n",
       "        vertical-align: middle;\n",
       "    }\n",
       "\n",
       "    .dataframe tbody tr th {\n",
       "        vertical-align: top;\n",
       "    }\n",
       "\n",
       "    .dataframe thead th {\n",
       "        text-align: right;\n",
       "    }\n",
       "</style>\n",
       "<table border=\"1\" class=\"dataframe\">\n",
       "  <thead>\n",
       "    <tr style=\"text-align: right;\">\n",
       "      <th></th>\n",
       "      <th>types</th>\n",
       "      <th>as_%</th>\n",
       "    </tr>\n",
       "  </thead>\n",
       "  <tbody>\n",
       "    <tr>\n",
       "      <th>object</th>\n",
       "      <td>5</td>\n",
       "      <td>71.43</td>\n",
       "    </tr>\n",
       "    <tr>\n",
       "      <th>float64</th>\n",
       "      <td>2</td>\n",
       "      <td>28.57</td>\n",
       "    </tr>\n",
       "  </tbody>\n",
       "</table>\n",
       "</div>"
      ],
      "text/plain": [
       "         types   as_%\n",
       "object       5  71.43\n",
       "float64      2  28.57"
      ]
     },
     "metadata": {},
     "output_type": "display_data"
    },
    {
     "name": "stdout",
     "output_type": "stream",
     "text": [
      "\n",
      "\n",
      "QuickView :\n"
     ]
    },
    {
     "data": {
      "text/html": [
       "<div>\n",
       "<style scoped>\n",
       "    .dataframe tbody tr th:only-of-type {\n",
       "        vertical-align: middle;\n",
       "    }\n",
       "\n",
       "    .dataframe tbody tr th {\n",
       "        vertical-align: top;\n",
       "    }\n",
       "\n",
       "    .dataframe thead th {\n",
       "        text-align: right;\n",
       "    }\n",
       "</style>\n",
       "<table border=\"1\" class=\"dataframe\">\n",
       "  <thead>\n",
       "    <tr style=\"text-align: right;\">\n",
       "      <th></th>\n",
       "      <th>name</th>\n",
       "      <th>dtype</th>\n",
       "      <th># null</th>\n",
       "      <th>% null</th>\n",
       "      <th># NOT null</th>\n",
       "      <th>distinct val</th>\n",
       "      <th>-3*sig</th>\n",
       "      <th>min</th>\n",
       "      <th>mean</th>\n",
       "      <th>max</th>\n",
       "      <th>+3*sig</th>\n",
       "      <th>distinct val count</th>\n",
       "    </tr>\n",
       "  </thead>\n",
       "  <tbody>\n",
       "    <tr>\n",
       "      <th>5</th>\n",
       "      <td>previous_ended_rental_id</td>\n",
       "      <td>object</td>\n",
       "      <td>19469</td>\n",
       "      <td>91.36</td>\n",
       "      <td>1841</td>\n",
       "      <td>1788</td>\n",
       "      <td>1.00</td>\n",
       "      <td>1.0</td>\n",
       "      <td>NaN</td>\n",
       "      <td>-1.0</td>\n",
       "      <td>-1.00</td>\n",
       "      <td>{'537243': 4, '547969': 3, '541079': 3, '54657...</td>\n",
       "    </tr>\n",
       "    <tr>\n",
       "      <th>6</th>\n",
       "      <td>time_delta_with_previous_rental_in_minutes</td>\n",
       "      <td>float64</td>\n",
       "      <td>19469</td>\n",
       "      <td>91.36</td>\n",
       "      <td>1841</td>\n",
       "      <td>25</td>\n",
       "      <td>-484.50</td>\n",
       "      <td>0.0</td>\n",
       "      <td>279.29</td>\n",
       "      <td>720.0</td>\n",
       "      <td>1043.07</td>\n",
       "      <td>{0.0: 279, 60.0: 183, 120.0: 137, 720.0: 130, ...</td>\n",
       "    </tr>\n",
       "    <tr>\n",
       "      <th>4</th>\n",
       "      <td>delay_at_checkout_in_minutes</td>\n",
       "      <td>float64</td>\n",
       "      <td>4964</td>\n",
       "      <td>23.29</td>\n",
       "      <td>16346</td>\n",
       "      <td>1745</td>\n",
       "      <td>-2947.98</td>\n",
       "      <td>-22433.0</td>\n",
       "      <td>59.70</td>\n",
       "      <td>71084.0</td>\n",
       "      <td>3067.39</td>\n",
       "      <td>{4.0: 165, 6.0: 152, 2.0: 151, 7.0: 150, 9.0: ...</td>\n",
       "    </tr>\n",
       "    <tr>\n",
       "      <th>0</th>\n",
       "      <td>rental_id</td>\n",
       "      <td>object</td>\n",
       "      <td>0</td>\n",
       "      <td>0.00</td>\n",
       "      <td>21310</td>\n",
       "      <td>21310</td>\n",
       "      <td>1.00</td>\n",
       "      <td>1.0</td>\n",
       "      <td>NaN</td>\n",
       "      <td>-1.0</td>\n",
       "      <td>-1.00</td>\n",
       "      <td>{'532240': 1, '522106': 1, '568794': 1, '53869...</td>\n",
       "    </tr>\n",
       "    <tr>\n",
       "      <th>1</th>\n",
       "      <td>car_id</td>\n",
       "      <td>object</td>\n",
       "      <td>0</td>\n",
       "      <td>0.00</td>\n",
       "      <td>21310</td>\n",
       "      <td>8143</td>\n",
       "      <td>1.00</td>\n",
       "      <td>1.0</td>\n",
       "      <td>NaN</td>\n",
       "      <td>-1.0</td>\n",
       "      <td>-1.00</td>\n",
       "      <td>{'334190': 33, '241021': 29, '392479': 29, '34...</td>\n",
       "    </tr>\n",
       "    <tr>\n",
       "      <th>2</th>\n",
       "      <td>checkin_type</td>\n",
       "      <td>object</td>\n",
       "      <td>0</td>\n",
       "      <td>0.00</td>\n",
       "      <td>21310</td>\n",
       "      <td>2</td>\n",
       "      <td>1.00</td>\n",
       "      <td>1.0</td>\n",
       "      <td>NaN</td>\n",
       "      <td>-1.0</td>\n",
       "      <td>-1.00</td>\n",
       "      <td>{'mobile': 17003, 'connect': 4307}</td>\n",
       "    </tr>\n",
       "    <tr>\n",
       "      <th>3</th>\n",
       "      <td>state</td>\n",
       "      <td>object</td>\n",
       "      <td>0</td>\n",
       "      <td>0.00</td>\n",
       "      <td>21310</td>\n",
       "      <td>2</td>\n",
       "      <td>1.00</td>\n",
       "      <td>1.0</td>\n",
       "      <td>NaN</td>\n",
       "      <td>-1.0</td>\n",
       "      <td>-1.00</td>\n",
       "      <td>{'ended': 18045, 'canceled': 3265}</td>\n",
       "    </tr>\n",
       "  </tbody>\n",
       "</table>\n",
       "</div>"
      ],
      "text/plain": [
       "                                         name    dtype  # null  % null  \\\n",
       "5                    previous_ended_rental_id   object   19469   91.36   \n",
       "6  time_delta_with_previous_rental_in_minutes  float64   19469   91.36   \n",
       "4                delay_at_checkout_in_minutes  float64    4964   23.29   \n",
       "0                                   rental_id   object       0    0.00   \n",
       "1                                      car_id   object       0    0.00   \n",
       "2                                checkin_type   object       0    0.00   \n",
       "3                                       state   object       0    0.00   \n",
       "\n",
       "   # NOT null  distinct val   -3*sig      min    mean      max   +3*sig  \\\n",
       "5        1841          1788     1.00      1.0     NaN     -1.0    -1.00   \n",
       "6        1841            25  -484.50      0.0  279.29    720.0  1043.07   \n",
       "4       16346          1745 -2947.98 -22433.0   59.70  71084.0  3067.39   \n",
       "0       21310         21310     1.00      1.0     NaN     -1.0    -1.00   \n",
       "1       21310          8143     1.00      1.0     NaN     -1.0    -1.00   \n",
       "2       21310             2     1.00      1.0     NaN     -1.0    -1.00   \n",
       "3       21310             2     1.00      1.0     NaN     -1.0    -1.00   \n",
       "\n",
       "                                  distinct val count  \n",
       "5  {'537243': 4, '547969': 3, '541079': 3, '54657...  \n",
       "6  {0.0: 279, 60.0: 183, 120.0: 137, 720.0: 130, ...  \n",
       "4  {4.0: 165, 6.0: 152, 2.0: 151, 7.0: 150, 9.0: ...  \n",
       "0  {'532240': 1, '522106': 1, '568794': 1, '53869...  \n",
       "1  {'334190': 33, '241021': 29, '392479': 29, '34...  \n",
       "2                 {'mobile': 17003, 'connect': 4307}  \n",
       "3                 {'ended': 18045, 'canceled': 3265}  "
      ]
     },
     "metadata": {},
     "output_type": "display_data"
    }
   ],
   "source": [
    "print(f\"\\n\\nThe dataset consists of :\")\n",
    "print(f\"\\t{len(df.shape):>9_} dimensions\")\n",
    "print(f\"\\t{df.shape[0]:>9_} observations\")\n",
    "print(f\"\\t{df.shape[1]:>9_} features    \")\n",
    "\n",
    "df_types = pd.DataFrame ({\n",
    "  \"types\" : df.dtypes.value_counts()\n",
    "})\n",
    "df_types[\"as_%\"] = (100 * df_types[\"types\"]/df_types[\"types\"].sum()).round(2)\n",
    "\n",
    "print(f\"\\n\\n% of data type :\")\n",
    "display(df_types)\n",
    "\n",
    "df_tmp = quick_View(df)\n",
    "print(f\"\\n\\nQuickView :\")\n",
    "display(df_tmp.sort_values(by=\"# null\", ascending=False))   \n",
    "\n"
   ]
  },
  {
   "cell_type": "markdown",
   "metadata": {},
   "source": [
    "### <span style=\"color:orange\"><b>Comments :</b></span>\n",
    "* Only 2 values for ``checkin_type`` and ``state`` \n",
    "* There are \"only\" 25 uniques value in `time_delta_with_previous_rental_in_minutes` \n",
    "* Many outliers in ``delay_at_checkout_in_minutes``"
   ]
  },
  {
   "cell_type": "markdown",
   "metadata": {},
   "source": [
    "### checkin_type :"
   ]
  },
  {
   "cell_type": "code",
   "execution_count": 36,
   "metadata": {},
   "outputs": [
    {
     "name": "stdout",
     "output_type": "stream",
     "text": [
      "Nb mobile  :  17_003\n",
      "Nb connect :   4_307\n"
     ]
    },
    {
     "data": {
      "image/png": "[encoded data removed]",
      "text/plain": [
       "<Figure size 1200x741.656 with 1 Axes>"
      ]
     },
     "metadata": {},
     "output_type": "display_data"
    }
   ],
   "source": [
    "counts = df[\"checkin_type\"].value_counts()\n",
    "print(f\"Nb mobile  : {counts['mobile']:>7_}\")\n",
    "print(f\"Nb connect : {counts['connect']:>7_}\")\n",
    "\n",
    "_ = counts.plot.pie(title=\"checkin_type : Weight as %\", autopct=\"%1.1f%%\", figsize=(k_Width, k_Height))"
   ]
  },
  {
   "cell_type": "markdown",
   "metadata": {},
   "source": [
    "### <span style=\"color:orange\"><b>Comments :</b></span>\n",
    "* 20% of the checkin/checkout are made via connected cars  \n"
   ]
  },
  {
   "cell_type": "markdown",
   "metadata": {},
   "source": [
    "### state :"
   ]
  },
  {
   "cell_type": "code",
   "execution_count": 37,
   "metadata": {},
   "outputs": [
    {
     "name": "stdout",
     "output_type": "stream",
     "text": [
      "Nb ended    :  18_045\n",
      "Nb canceled :   3_265\n"
     ]
    },
    {
     "data": {
      "image/png": "[encoded data removed]",
      "text/plain": [
       "<Figure size 1200x741.656 with 1 Axes>"
      ]
     },
     "metadata": {},
     "output_type": "display_data"
    }
   ],
   "source": [
    "counts = df[\"state\"].value_counts()\n",
    "print(f\"Nb ended    : {counts['ended']:>7_}\")\n",
    "print(f\"Nb canceled : {counts['canceled']:>7_}\")\n",
    "\n",
    "_ = counts.plot.pie(title=\"state : Weight as %\", autopct=\"%1.1f%%\", figsize=(k_Width, k_Height))"
   ]
  },
  {
   "cell_type": "markdown",
   "metadata": {},
   "source": [
    "### <span style=\"color:orange\"><b>Comments :</b></span>\n",
    "* 15% of the rentals are canceled  \n"
   ]
  },
  {
   "cell_type": "markdown",
   "metadata": {},
   "source": [
    "### time_delta_with_previous_rental_in_minutes :"
   ]
  },
  {
   "cell_type": "code",
   "execution_count": 38,
   "metadata": {},
   "outputs": [
    {
     "name": "stdout",
     "output_type": "stream",
     "text": [
      "Unique values in time_delta_with_previous_rental_in_minutes : \n"
     ]
    },
    {
     "data": {
      "text/plain": [
       "[nan,\n",
       " 0.0,\n",
       " 30.0,\n",
       " 60.0,\n",
       " 90.0,\n",
       " 120.0,\n",
       " 150.0,\n",
       " 180.0,\n",
       " 210.0,\n",
       " 240.0,\n",
       " 270.0,\n",
       " 300.0,\n",
       " 330.0,\n",
       " 360.0,\n",
       " 390.0,\n",
       " 420.0,\n",
       " 450.0,\n",
       " 480.0,\n",
       " 510.0,\n",
       " 540.0,\n",
       " 570.0,\n",
       " 600.0,\n",
       " 630.0,\n",
       " 660.0,\n",
       " 690.0,\n",
       " 720.0]"
      ]
     },
     "metadata": {},
     "output_type": "display_data"
    }
   ],
   "source": [
    "print(\"Unique values in time_delta_with_previous_rental_in_minutes : \")\n",
    "display(sorted(df[\"time_delta_with_previous_rental_in_minutes\"].unique()))"
   ]
  },
  {
   "cell_type": "code",
   "execution_count": 39,
   "metadata": {},
   "outputs": [
    {
     "data": {
      "image/png": "[encoded data removed]",
      "text/plain": [
       "<Figure size 1200x741.656 with 1 Axes>"
      ]
     },
     "metadata": {},
     "output_type": "display_data"
    }
   ],
   "source": [
    "fig, ax = plt.subplots(figsize=(k_Width,k_Height))\n",
    "sns.histplot(data=df, x=\"time_delta_with_previous_rental_in_minutes\", hue=\"checkin_type\") #, bins=100, , kde=True\n",
    "\n",
    "ax.set_title(\"Distribution of time_delta_with_previous_rental_in_minutes\")\n",
    "ax.set_xlabel(\"Minutes\")\n",
    "# ax.set_xlim(-2000, 2000)\n",
    "plt.show()"
   ]
  },
  {
   "cell_type": "markdown",
   "metadata": {},
   "source": [
    "### delay_at_checkout_in_minutes :"
   ]
  },
  {
   "cell_type": "code",
   "execution_count": 40,
   "metadata": {},
   "outputs": [
    {
     "data": {
      "image/png": "[encoded data removed]",
      "text/plain": [
       "<Figure size 1200x741.656 with 1 Axes>"
      ]
     },
     "metadata": {},
     "output_type": "display_data"
    }
   ],
   "source": [
    "fig, ax = plt.subplots(figsize=(k_Width,k_Height))\n",
    "sns.boxplot(df, y=\"delay_at_checkout_in_minutes\", legend=False)                  #palette=palette_gender, hue=\"gender\" ,  \n",
    "plt.title(\"delay_at_checkout_in_minutes\")\n",
    "plt.show()"
   ]
  },
  {
   "cell_type": "code",
   "execution_count": 41,
   "metadata": {},
   "outputs": [
    {
     "data": {
      "image/png": "[encoded data removed]",
      "text/plain": [
       "<Figure size 1200x741.656 with 1 Axes>"
      ]
     },
     "metadata": {},
     "output_type": "display_data"
    }
   ],
   "source": [
    "fig, ax = plt.subplots(figsize=(k_Width,k_Height))\n",
    "sns.histplot(data=df, x=\"delay_at_checkout_in_minutes\", hue=\"checkin_type\", bins=500) #, bins=100, , kde=True\n",
    "\n",
    "ax.set_title(\"Distribution of delay_at_checkout_in_minutes in range [-2_000, +2_000]\")\n",
    "ax.set_xlabel(\"Minutes\")\n",
    "ax.set_xlim(-2000, 2000)\n",
    "plt.show()"
   ]
  },
  {
   "cell_type": "markdown",
   "metadata": {},
   "source": [
    "# How often are drivers late for the next check-in? How does it impact the next driver?"
   ]
  },
  {
   "cell_type": "markdown",
   "metadata": {},
   "source": [
    "<p align=\"center\">\n",
    "<img src=\"./assets/no_treshold.png\" alt=\"drawing\" width=\"800\"/>\n",
    "<p> \n"
   ]
  },
  {
   "cell_type": "code",
   "execution_count": 42,
   "metadata": {},
   "outputs": [
    {
     "name": "stdout",
     "output_type": "stream",
     "text": [
      "Late returns         : 44.13 %\n",
      "On time returns      : 32.58 %\n",
      "Returns without info : 23.29 %\n"
     ]
    }
   ],
   "source": [
    "print(f\"Late returns         : {round(len(df[df['delay_at_checkout_in_minutes']>0])/len(df)*100, 2)} %\")\n",
    "print(f\"On time returns      : {round(len(df[df['delay_at_checkout_in_minutes']<=0])/len(df)*100, 2)} %\")\n",
    "print(f\"Returns without info : {round(df['delay_at_checkout_in_minutes'].isna().sum()/len(df)*100, 2)} %\")\n",
    "\n"
   ]
  },
  {
   "cell_type": "markdown",
   "metadata": {},
   "source": [
    "### <span style=\"color:orange\"><b>Comments :</b></span>\n",
    "* Only 1/3 of the returns are either on time or in advance\n",
    "* 1/4 of the returns with <span style=\"color:red\"><b>NO</b></span> data ?\n",
    "* We should first focus on getting more delay information\n",
    "    * Proposal : A car should not be be displayed in the search results as long as the info about `delay_at_checkout_in_minutes` in not filled\n"
   ]
  },
  {
   "cell_type": "code",
   "execution_count": 43,
   "metadata": {},
   "outputs": [
    {
     "name": "stdout",
     "output_type": "stream",
     "text": [
      "Returns :\n",
      "No info      23.29\n",
      "cat_delay\n",
      "On time      32.58\n",
      "10-30 min     8.93\n",
      "1H-2H         8.60\n",
      "30 min-1H     7.94\n",
      "2H-6H         7.83\n",
      "0-10 min      6.68\n",
      "> 6H          4.15\n",
      "Name: count, dtype: float64\n"
     ]
    }
   ],
   "source": [
    "labels_in_order = ['On time', '0-10 min', '10-30 min', '30 min-1H', '1H-2H', '2H-6H', '> 6H']\n",
    "\n",
    "categories = pd.cut(\n",
    "    df['delay_at_checkout_in_minutes'], \n",
    "    bins=[-float('inf'), 0, 10, 30, 60, 120, 360, float('inf')],\n",
    "    labels = labels_in_order\n",
    ")\n",
    "\n",
    "df['cat_delay'] = categories\n",
    "# df.sample(20)\n",
    "\n",
    "print(f\"Returns :\")\n",
    "print(f\"No info      {round(df['delay_at_checkout_in_minutes'].isna().sum()/len(df)*100, 2)}\")\n",
    "print(round(df['cat_delay'].value_counts()/len(df)*100, 2))\n"
   ]
  },
  {
   "cell_type": "code",
   "execution_count": 44,
   "metadata": {},
   "outputs": [
    {
     "name": "stdout",
     "output_type": "stream",
     "text": [
      "           delay_%\n",
      "cat_delay         \n",
      "On time      32.58\n",
      "0-10 min      6.68\n",
      "10-30 min     8.93\n",
      "30 min-1H     7.94\n",
      "1H-2H         8.60\n",
      "2H-6H         7.83\n",
      "> 6H          4.15\n"
     ]
    }
   ],
   "source": [
    "df_tmp = pd.DataFrame(round(df['cat_delay'].value_counts()/len(df)*100, 2)).reset_index()\n",
    "df_tmp.columns = ['cat_delay', 'delay_%']\n",
    "\n",
    "df_tmp['cat_delay'] = pd.Categorical(df_tmp['cat_delay'], categories=labels_in_order, ordered=True)\n",
    "df_tmp.sort_values('cat_delay', inplace=True)\n",
    "df_tmp.set_index('cat_delay', inplace=True)\n",
    "print(df_tmp)"
   ]
  },
  {
   "cell_type": "code",
   "execution_count": 45,
   "metadata": {},
   "outputs": [
    {
     "data": {
      "image/png": "[encoded data removed]",
      "text/plain": [
       "<Figure size 1200x741.656 with 2 Axes>"
      ]
     },
     "metadata": {},
     "output_type": "display_data"
    }
   ],
   "source": [
    "df_tmp[\"cum_percent\"] = df_tmp[\"delay_%\"].cumsum()/df_tmp[\"delay_%\"].sum()*100\n",
    "\n",
    "fig, ax = plt.subplots(figsize=(k_Width,k_Height))\n",
    "ax.bar(df_tmp.index, df_tmp[\"delay_%\"], color=\"C0\")\n",
    "ax.yaxis.set_major_formatter(PercentFormatter())\n",
    "ax.set_ylabel('Percentage')\n",
    "ax.tick_params(axis=\"y\", colors=\"C0\")\n",
    "ax.set_title(\"Distribution of known delays & their cumulative sum\")\n",
    "\n",
    "ax2 = ax.twinx()\n",
    "ax2.plot(df_tmp.index, df_tmp[\"cum_percent\"], color=\"C1\", marker=\"D\", ms=7)\n",
    "ax2.yaxis.set_major_formatter(PercentFormatter())\n",
    "ax2.set_ylabel('Cumulative sum')\n",
    "ax2.set(ylim=(0, 110))\n",
    "ax2.tick_params(axis=\"y\", colors=\"C1\")\n",
    "\n",
    "plt.show()"
   ]
  },
  {
   "cell_type": "markdown",
   "metadata": {},
   "source": [
    "Let's focus on the delays only"
   ]
  },
  {
   "cell_type": "code",
   "execution_count": 58,
   "metadata": {},
   "outputs": [
    {
     "name": "stdout",
     "output_type": "stream",
     "text": [
      "           delay_%\n",
      "cat_delay         \n",
      "0-10 min     15.14\n",
      "10-30 min    20.23\n",
      "30 min-1H    17.99\n",
      "1H-2H        19.49\n",
      "2H-6H        17.74\n",
      "> 6H          9.41\n"
     ]
    },
    {
     "data": {
      "image/png": "[encoded data removed]",
      "text/plain": [
       "<Figure size 1200x741.656 with 2 Axes>"
      ]
     },
     "metadata": {},
     "output_type": "display_data"
    }
   ],
   "source": [
    "labels_in_order = ['0-10 min', '10-30 min', '30 min-1H', '1H-2H', '2H-6H', '> 6H']\n",
    "\n",
    "categories = pd.cut(\n",
    "    df['delay_at_checkout_in_minutes'], \n",
    "    bins=[0, 10, 30, 60, 120, 360, float('inf')],\n",
    "    labels = labels_in_order\n",
    ")\n",
    "df['cat_delay'] = categories\n",
    "\n",
    "df_tmp = pd.DataFrame(round(df['cat_delay'].value_counts()/len(df[df[\"delay_at_checkout_in_minutes\"]>0])*100, 2)).reset_index()\n",
    "df_tmp.columns = ['cat_delay', 'delay_%']\n",
    "\n",
    "df_tmp['cat_delay'] = pd.Categorical(df_tmp['cat_delay'], categories=labels_in_order, ordered=True)\n",
    "df_tmp.sort_values('cat_delay', inplace=True)\n",
    "df_tmp.set_index('cat_delay', inplace=True)\n",
    "print(df_tmp)\n",
    "\n",
    "df_tmp[\"cum_percent\"] = df_tmp[\"delay_%\"].cumsum()/df_tmp[\"delay_%\"].sum()*100\n",
    "\n",
    "fig, ax = plt.subplots(figsize=(k_Width,k_Height))\n",
    "ax.bar(df_tmp.index, df_tmp[\"delay_%\"], color=\"C0\")\n",
    "ax.yaxis.set_major_formatter(PercentFormatter())\n",
    "ax.set_ylabel('Percentage')\n",
    "ax.tick_params(axis=\"y\", colors=\"C0\")\n",
    "ax.set_title(\"Distribution of positives known delays & their cumulative sum\")\n",
    "\n",
    "ax2 = ax.twinx()\n",
    "ax2.plot(df_tmp.index, df_tmp[\"cum_percent\"], color=\"C1\", marker=\"D\", ms=7)\n",
    "ax2.yaxis.set_major_formatter(PercentFormatter())\n",
    "ax2.set_ylabel('Cumulative sum')\n",
    "ax2.set(ylim=(0, 110))\n",
    "ax2.tick_params(axis=\"y\", colors=\"C1\")\n",
    "\n",
    "plt.show()\n"
   ]
  },
  {
   "cell_type": "markdown",
   "metadata": {},
   "source": [
    "### <span style=\"color:orange\"><b>Comments :</b></span>\n",
    "* More than 50% of the known delays are below 1H\n",
    "* Almost 80% of the known delays are below 2H\n",
    "* But, again, 1/4 of the returns comes with no information about the delay\n"
   ]
  },
  {
   "cell_type": "markdown",
   "metadata": {},
   "source": [
    "How the delay impact the next driver ?\n",
    " \n",
    "<p align=\"center\">\n",
    "<img src=\"./assets/no_treshold.png\" alt=\"drawing\" width=\"800\"/>\n",
    "<p> \n"
   ]
  },
  {
   "cell_type": "code",
   "execution_count": 88,
   "metadata": {},
   "outputs": [
    {
     "name": "stdout",
     "output_type": "stream",
     "text": [
      "9404\n",
      "270\n",
      "Among all the late returns, 2.87 % of them are problematic\n",
      "Indeed the checkout happened after the allowed delay time\n"
     ]
    }
   ],
   "source": [
    "# total number of reservations with a positive delay_at_checkout_in_minutes \n",
    "n1 = len(df[(df['delay_at_checkout_in_minutes'] > 0 )])\n",
    "print(n1)\n",
    "\n",
    "# number of bookings with a delay_at_checkout_in_minutes greater than the allowed delay time \n",
    "# If time_delta_with_previous_rental_in_minutes exiists this means there was a previous booking\n",
    "n2 = len(df[(df['delay_at_checkout_in_minutes'] > df['time_delta_with_previous_rental_in_minutes']) ])             \n",
    "print (n2)\n",
    "\n",
    "print(f\"Among all the late returns, {round(n2/n1*100, 2)} % of them are problematic\")\n",
    "print(f\"Indeed the checkout happened after the allowed delay time\")\n"
   ]
  },
  {
   "cell_type": "code",
   "execution_count": 92,
   "metadata": {},
   "outputs": [
    {
     "name": "stdout",
     "output_type": "stream",
     "text": [
      "802\n",
      "270\n",
      "Among all the late returns between 2 consecutive bookings, 33.67 % of them are problematic\n",
      "Indeed the checkout happened after the allowed delay time\n"
     ]
    }
   ],
   "source": [
    "# total number of reservations with a positive delay_at_checkout_in_minutes AND \n",
    "n1 = len(df[(df['delay_at_checkout_in_minutes'] > 0 ) & (df['previous_ended_rental_id'].notna())])\n",
    "print(n1)\n",
    "\n",
    "# number of bookings with a previous rental AND a delay_at_checkout_in_minutes greater than the allowed delay time \n",
    "n2 = len(df[(df['delay_at_checkout_in_minutes'] > df['time_delta_with_previous_rental_in_minutes']) ])              #  \n",
    "print (n2)\n",
    "\n",
    "print(f\"Among all the late returns between 2 consecutive bookings, {round(n2/n1*100, 2)} % of them are problematic\")\n",
    "print(f\"Indeed the checkout happened after the allowed delay time\")\n"
   ]
  },
  {
   "cell_type": "markdown",
   "metadata": {},
   "source": [
    "# How many rentals would be affected by the feature depending on the threshold and scope we choose?\n"
   ]
  },
  {
   "cell_type": "markdown",
   "metadata": {},
   "source": [
    "<p align=\"center\">\n",
    "<img src=\"./assets/with_treshold.png\" alt=\"drawing\" width=\"800\"/>\n",
    "<p> \n"
   ]
  },
  {
   "cell_type": "code",
   "execution_count": 93,
   "metadata": {},
   "outputs": [
    {
     "name": "stdout",
     "output_type": "stream",
     "text": [
      "4386\n",
      "9404\n",
      "With a treshold of 60 minutes, 46.64 % remain problematic\n"
     ]
    }
   ],
   "source": [
    "threshold = 60\n",
    "\n",
    "# number of reservations with delay_at_checkout_in_minutes > 0\n",
    "n1 = len(df[(df['delay_at_checkout_in_minutes'] > threshold )])\n",
    "print(n1)\n",
    "\n",
    "\n",
    "# number of bookings with a delay_at_checkout_in_minutes greater than the allowed delay time + threshold\n",
    "n2 = len(df[(df['delay_at_checkout_in_minutes'] > 0)])\n",
    "print(n2)\n",
    "\n",
    "\n",
    "\n",
    "# print(len(df[(df['delay_at_checkout_in_minutes'] > threshold)]))             #  & (df['previous_ended_rental_id'].notna())\n",
    "# print(f\"With a treshold of {threshold} minutes, {round(len(df[(df['delay_at_checkout_in_minutes'] > threshold + df['time_delta_with_previous_rental_in_minutes'])]) / len(df[(df['delay_at_checkout_in_minutes'] > 0 )]) * 100, 2)} % remain problematic\")\n",
    "print(f\"With a treshold of {threshold} minutes, {round(n1/n2 * 100, 2)} % remain problematic\")\n"
   ]
  },
  {
   "cell_type": "code",
   "execution_count": null,
   "metadata": {},
   "outputs": [],
   "source": [
    "problematic_rates = []\n",
    "\n",
    "for threshold in thresholds:\n",
    "    # Filter data for delays exceeding the threshold\n",
    "    delayed_rentals = delay_data[delay_data['delay_at_checkout_in_minutes'] > threshold]\n",
    "\n",
    "    # Calculate the percentage of problematic delays for each threshold\n",
    "    problematic_rate = (len(delayed_rentals) / len(delay_data)) * 100\n",
    "    problematic_rates.append(problematic_rate)\n",
    "\n",
    "# Create a line plot to visualize the impact of different thresholds\n",
    "fig = px.line(x=thresholds, y=problematic_rates, markers=True, title='Impact of Delay Threshold on Problematic Delays')\n",
    "fig.update_layout(xaxis_title='Delay Threshold (minutes)', yaxis_title='Percentage of Problematic Delays')\n",
    "fig.show()"
   ]
  },
  {
   "cell_type": "markdown",
   "metadata": {},
   "source": [
    "# How many problematic cases will it solve depending on the chosen threshold and scope?\n"
   ]
  },
  {
   "cell_type": "markdown",
   "metadata": {},
   "source": [
    "# Which share of our owner’s revenue would potentially be affected by the feature?"
   ]
  },
  {
   "cell_type": "markdown",
   "metadata": {},
   "source": [
    "# <span style=\"color:red\"><b>Scrap book - Please ignore</b></span>"
   ]
  },
  {
   "cell_type": "code",
   "execution_count": null,
   "metadata": {},
   "outputs": [],
   "source": [
    "import pandas as pd\n",
    "import matplotlib.pyplot as plt\n",
    "from matplotlib.ticker import PercentFormatter\n",
    "\n",
    "df = pd.DataFrame({'country': [177.0, 7.0, 4.0, 2.0, 2.0, 1.0, 1.0, 1.0]})\n",
    "df.index = ['USA', 'Canada', 'Russia', 'UK', 'Belgium', 'Mexico', 'Germany', 'Denmark']\n",
    "df = df.sort_values(by='country',ascending=False)\n",
    "df[\"cum_percent\"] = df[\"country\"].cumsum()/df[\"country\"].sum()*100\n",
    "\n",
    "\n",
    "fig, ax = plt.subplots()\n",
    "ax.bar(df.index, df[\"country\"], color=\"C0\")\n",
    "ax2 = ax.twinx()\n",
    "ax2.plot(df.index, df[\"cum_percent\"], color=\"C1\", marker=\"D\", ms=7)\n",
    "ax2.yaxis.set_major_formatter(PercentFormatter())\n",
    "\n",
    "ax.tick_params(axis=\"y\", colors=\"C0\")\n",
    "ax2.tick_params(axis=\"y\", colors=\"C1\")\n",
    "plt.show()"
   ]
  },
  {
   "cell_type": "code",
   "execution_count": null,
   "metadata": {},
   "outputs": [],
   "source": [
    "import pandas as pd\n",
    "\n",
    "df = pd.DataFrame({\n",
    "    'couleurs': ['rouge', 'vert', 'bleu', 'rouge', 'bleu'],\n",
    "    'valeurs': [10, 20, 30, 40, 50]\n",
    "})\n",
    "\n",
    "order = ['bleu', 'rouge', 'vert']\n",
    "\n",
    "df['couleurs'] = pd.Categorical(df['couleurs'], categories=order, ordered=True)\n",
    "df.sort_values('couleurs', inplace=True)\n",
    "print(df)"
   ]
  },
  {
   "cell_type": "code",
   "execution_count": null,
   "metadata": {},
   "outputs": [],
   "source": [
    "df_tmp = pd.DataFrame({'Delay': [23.29, 32.58, 3.30, 6.03, 6.28, 7.94, 8.60, 11.10, 0.88]})\n",
    "df_tmp.index = ['No info', 'On time', '< 5 min', '5-15 min', '15-30 min', '30 min-1H', '1H-2H', '2H-24H', '> 24H']\n",
    "# df_tmp = df_tmp.sort_values(by='Delay',ascending=False)\n",
    "df_tmp[\"cum_percent\"] = df_tmp[\"Delay\"].cumsum()/df_tmp[\"Delay\"].sum()*100\n",
    "\n",
    "\n",
    "fig, ax = plt.subplots(figsize=(k_Width,k_Height))\n",
    "ax.bar(df_tmp.index, df_tmp[\"Delay\"], color=\"C0\")\n",
    "ax2 = ax.twinx()\n",
    "ax2.plot(df_tmp.index, df_tmp[\"cum_percent\"], color=\"C1\", marker=\"D\", ms=7)\n",
    "ax2.yaxis.set_major_formatter(PercentFormatter())\n",
    "\n",
    "ax.tick_params(axis=\"y\", colors=\"C0\")\n",
    "ax2.tick_params(axis=\"y\", colors=\"C1\")\n",
    "plt.show()"
   ]
  },
  {
   "cell_type": "code",
   "execution_count": null,
   "metadata": {},
   "outputs": [],
   "source": [
    "df_tmp = pd.DataFrame({'Delay': [3.30, 6.03, 6.28, 7.94, 8.60, 11.10, 0.88]})\n",
    "df_tmp.index = ['< 5 min', '5-15 min', '15-30 min', '30 min-1H', '1H-2H', '2H-24H', '> 24H']\n",
    "# df_tmp = df_tmp.sort_values(by='Delay',ascending=False)\n",
    "df_tmp[\"cum_percent\"] = df_tmp[\"Delay\"].cumsum()/df_tmp[\"Delay\"].sum()*100\n",
    "\n",
    "\n",
    "fig, ax = plt.subplots(figsize=(k_Width,k_Height))\n",
    "ax.bar(df_tmp.index, df_tmp[\"Delay\"], color=\"C0\")\n",
    "ax2 = ax.twinx()\n",
    "ax2.plot(df_tmp.index, df_tmp[\"cum_percent\"], color=\"C1\", marker=\"D\", ms=7)\n",
    "ax2.yaxis.set_major_formatter(PercentFormatter())\n",
    "\n",
    "ax.tick_params(axis=\"y\", colors=\"C0\")\n",
    "ax2.tick_params(axis=\"y\", colors=\"C1\")\n",
    "plt.show()"
   ]
  },
  {
   "cell_type": "code",
   "execution_count": null,
   "metadata": {},
   "outputs": [],
   "source": [
    "categories = pd.cut(df['delay_at_checkout_in_minutes'], \n",
    "                    bins=[-float('inf'), 0, 5, 15, 30, 60, 120, 1440, float('inf')],\n",
    "                    labels=['On time', '< 5 min', '5-15 min', '15-30 min', '30 min-1H', '1H-2H', '2H-24H', '> 24H'])\n",
    "\n",
    "df['cat_delay'] = categories\n",
    "\n",
    "# df.sample(20)\n",
    "print(f\"Returns :\")\n",
    "print(f\"No info      {round(df['delay_at_checkout_in_minutes'].isna().sum()/len(df)*100, 2)}\")\n",
    "print(round(df['cat_delay'].value_counts()/len(df)*100, 2))\n"
   ]
  },
  {
   "cell_type": "code",
   "execution_count": null,
   "metadata": {},
   "outputs": [],
   "source": [
    "# categories = pd.cut(df['delay_at_checkout_in_minutes'], \n",
    "#                     bins=[-float('inf'), 0, 5, 15, 30, 60, 120, 1440, float('inf')],\n",
    "#                     labels=['On time', '< 5 min', '5-15 min', '15-30 min', '30 min-1H', '1H-2H', '2H-24H', '> 24H'])\n",
    "\n",
    "# df['cat_delay'] = categories\n",
    "\n",
    "# # df.sample(20)\n",
    "# print(f\"Returns :\")\n",
    "# print(f\"No info      {round(df['delay_at_checkout_in_minutes'].isna().sum()/len(df)*100, 2)}\")\n",
    "# print(round(df['cat_delay'].value_counts()/len(df)*100, 2))\n"
   ]
  },
  {
   "cell_type": "code",
   "execution_count": null,
   "metadata": {},
   "outputs": [],
   "source": [
    "# categories = pd.cut(df['delay_at_checkout_in_minutes'], \n",
    "#                     bins=[-float('inf'), 0, 5, 15, 30, 60, 120, 1440, float('inf')],\n",
    "#                     labels=['On time', '< 5 min', '5-15 min', '15-30 min', '30 min-1H', '1H-2H', '2H-24H', '> 24H'])\n",
    "\n",
    "# df['cat_delay'] = categories\n",
    "\n",
    "# # df.sample(20)\n",
    "# print(f\"Returns :\")\n",
    "# print(f\"No info      {round(df['delay_at_checkout_in_minutes'].isna().sum()/len(df)*100, 2)}\")\n",
    "# print(round(df['cat_delay'].value_counts()/len(df)*100, 2))\n"
   ]
  },
  {
   "cell_type": "code",
   "execution_count": null,
   "metadata": {},
   "outputs": [],
   "source": [
    "# df_tmp = quick_View(df)\n",
    "# print(f\"\\n\\nQuickView :\")\n",
    "# display(df_tmp.sort_values(by=\"# null\", ascending=False))   \n"
   ]
  },
  {
   "cell_type": "code",
   "execution_count": null,
   "metadata": {},
   "outputs": [],
   "source": [
    "# tmp_df = df[df['delay_at_checkout_in_minutes']>0]\n",
    "\n",
    "# fig, ax = plt.subplots(figsize=(k_Width,k_Height))\n",
    "# sns.histplot(data=tmp_df, x=\"delay_at_checkout_in_minutes\", bins=100) #, bins=100, , kde=True, , hue=\"checkin_type\", bins=500\n",
    "# ax.set_title(\"Distribution of delay_at_checkout_in_minutes in range [-2_000, +2_000]\")\n",
    "# ax.set_xlabel(\"Minutes\")\n",
    "# plt.show()"
   ]
  }
 ],
 "metadata": {
  "kernelspec": {
   "display_name": "jedha",
   "language": "python",
   "name": "python3"
  },
  "language_info": {
   "codemirror_mode": {
    "name": "ipython",
    "version": 3
   },
   "file_extension": ".py",
   "mimetype": "text/x-python",
   "name": "python",
   "nbconvert_exporter": "python",
   "pygments_lexer": "ipython3",
   "version": "3.11.7"
  }
 },
 "nbformat": 4,
 "nbformat_minor": 2
}
