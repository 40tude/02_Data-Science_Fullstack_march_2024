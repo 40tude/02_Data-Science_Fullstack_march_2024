{
 "cells": [
  {
   "cell_type": "markdown",
   "metadata": {},
   "source": [
    "# SCRAP BOOK - Please ignore\n"
   ]
  },
  {
   "cell_type": "code",
   "execution_count": null,
   "metadata": {},
   "outputs": [],
   "source": [
    "df_pivot = df_day.pivot_table(index=\"day\", columns=\"hour\", values='minute', aggfunc='count')\n",
    "display(df_pivot)"
   ]
  },
  {
   "cell_type": "code",
   "execution_count": null,
   "metadata": {},
   "outputs": [],
   "source": [
    "\n",
    "       \n",
    "# # -----------------------------------------------------------------------------\n",
    "# def get_Tranformer(X):\n",
    "#   numeric_features      = X.select_dtypes(include=\"number\").columns\n",
    "#   # categorical_features  = X.select_dtypes(exclude=\"number\").columns\n",
    "\n",
    "#   numerical_transformer = make_pipeline(\n",
    "#       # SimpleImputer(strategy=\"median\"),\n",
    "#       StandardScaler(),\n",
    "#   )\n",
    "\n",
    "#   # categorical_transformer = make_pipeline(\n",
    "#   #     SimpleImputer(strategy=\"most_frequent\"),\n",
    "#   #     OneHotEncoder(drop=\"first\"),                 \n",
    "#   # )\n",
    "\n",
    "#   col_transformer = make_column_transformer(\n",
    "#     (numerical_transformer,     numeric_features),\n",
    "#     # (categorical_transformer, categorical_features),\n",
    "#   )\n",
    "#   return col_transformer\n",
    "\n",
    "\n",
    "# wcss        = []\n",
    "# nb_clstr    = []\n",
    "# # silhouette  = []\n",
    "\n",
    "# col_transformer = get_Tranformer(X)\n",
    "\n",
    "# for n in range(2,20):\n",
    "#   nb_clstr.append(n)\n",
    "#   model = make_pipeline(\n",
    "#     col_transformer,\n",
    "#     KMeans(n_clusters= n, n_init='auto', random_state = k_random_state)        # default init = \"k-means++\", \n",
    "#   )\n",
    "#   model.fit_transform(X)\n",
    "#   # K-Means est le dernier élément du pipeline => utiliser -1\n",
    "#   # .steps() renvoie des tuples (nom, objet)\n",
    "#   # L'objet K-Means est accédé via [1]\n",
    "#   kmeans_model = model.steps[-1][1] \n",
    "#   wcss.append(kmeans_model.inertia_)\n",
    "#   print(f\"WCSS for             K = {n:02} is wcss = {wcss[-1]:_.2f}\")\n",
    "\n",
    "#   # silhouette.append(silhouette_score(X, model.predict(X)))\n",
    "#   # print(f\"Silhouette score for K = {n:02} is {silhouette[-1]}\")\n",
    "\n",
    "\n",
    "\n",
    "\n",
    "\n",
    "\n",
    "\n"
   ]
  },
  {
   "cell_type": "code",
   "execution_count": null,
   "metadata": {},
   "outputs": [],
   "source": [
    "# df_april_04_2014 = df_april_04_2014.sort_values(by = 'hour')\n",
    "fig = px.density_mapbox(\n",
    "  df_day, \n",
    "  lat = \"lat\", \n",
    "  lon = \"lon\", \n",
    "  z = \"hour\", \n",
    "  radius = 10,  # default = 30\n",
    "  # opacity = 0.05,\n",
    "  mapbox_style=\"open-street-map\", \n",
    "  color_continuous_scale=px.colors.sequential.Rainbow,\n",
    "  zoom = 10.0,\n",
    "  height = k_HeightPx,\n",
    "  width = k_WidthPx,\n",
    "  animation_frame = \"hour\",\n",
    "  title= \"april 04 2014 - Pickup per hour\", \n",
    ")\n",
    "\n",
    "fig.show()"
   ]
  },
  {
   "cell_type": "code",
   "execution_count": null,
   "metadata": {},
   "outputs": [],
   "source": [
    "# df_wcss = pd.DataFrame(wcss)\n",
    "# df_nb_clstr = pd.Series(nb_clstr)\n",
    "\n",
    "# fig= px.line(\n",
    "#     df_wcss,\n",
    "#     x = df_nb_clstr,\n",
    "#     y = df_wcss.iloc[:,-1]\n",
    "# )\n",
    "\n",
    "# fig.update_layout(\n",
    "#     yaxis_title=\"Inertia\",\n",
    "#     xaxis_title=\"# Clusters\",\n",
    "#     title=\"Inertia per cluster\"\n",
    "# )\n",
    "# fig.show() "
   ]
  },
  {
   "cell_type": "code",
   "execution_count": null,
   "metadata": {},
   "outputs": [],
   "source": [
    "# # Create a data frame\n",
    "# cluster_scores=pd.DataFrame(silhouette)\n",
    "# df_nb_clstr = pd.Series(nb_clstr)\n",
    "\n",
    "# # Create figure\n",
    "# fig = px.bar(data_frame=cluster_scores,\n",
    "#              x=df_nb_clstr,\n",
    "#              y=cluster_scores.iloc[:, -1]\n",
    "#             )\n",
    "\n",
    "# # Add title and axis labels\n",
    "# fig.update_layout(\n",
    "#     yaxis_title=\"Silhouette Score\",\n",
    "#     xaxis_title=\"# Clusters\",\n",
    "#     title=\"Silhouette Score per cluster\"\n",
    "# )\n",
    "\n",
    "# # Render\n",
    "# #fig.show(renderer=\"notebook\")\n",
    "# fig.show() # if using workspace"
   ]
  },
  {
   "cell_type": "code",
   "execution_count": null,
   "metadata": {},
   "outputs": [],
   "source": [
    "fig = px.line(\n",
    "    df_for_k_choice, \n",
    "    x=df_for_k_choice.index,\n",
    "    y=\"wcss\",\n",
    "    labels={'wcss': 'WCSS'},  \n",
    ")\n",
    "\n",
    "fig.add_trace(\n",
    "    go.Bar(\n",
    "        x=df_for_k_choice.index,\n",
    "        y=df_for_k_choice['sil'],\n",
    "        name='Silhouette Score',\n",
    "        yaxis='y2',  # Utilisation d'un deuxième axe Y\n",
    "        opacity=0.6  # transparency \n",
    "    )\n",
    ")\n",
    "\n",
    "fig.update_layout(\n",
    "    title_text=f\"{date_string} - KMEANS - Determine optimal # of clusters (k)\",\n",
    "    xaxis_title=\"k\",\n",
    "    yaxis=dict(\n",
    "        title=\"wcss\",\n",
    "    ),\n",
    "    yaxis2=dict(\n",
    "        title=\"Silhouette Score\",\n",
    "        overlaying='y',\n",
    "        side='right'\n",
    "    ),\n",
    "    height=k_HeightPx,\n",
    "    width=k_WidthPx,\n",
    ")\n",
    "\n",
    "fig.show()"
   ]
  },
  {
   "cell_type": "code",
   "execution_count": null,
   "metadata": {},
   "outputs": [],
   "source": [
    "# Create a data frame\n",
    "cluster_scores=pd.DataFrame(sil)\n",
    "# k_frame = pd.Series(k)\n",
    "\n",
    "# Create figure\n",
    "fig = px.bar(\n",
    "    cluster_scores,\n",
    "    height = k_HeightPx,\n",
    "    width = k_WidthPx,\n",
    "    x=([i for i in range(2, 20)]),\n",
    "    y=cluster_scores.iloc[:, -1],\n",
    "    title=\"Silhouette Score per cluster\"\n",
    ")\n",
    "\n",
    "# Add title and axis labels\n",
    "fig.update_layout(\n",
    "    yaxis_title=\"Silhouette Score\",\n",
    "    xaxis_title=\"# Clusters\",\n",
    "    \n",
    ")\n",
    "\n",
    "# Render\n",
    "#fig.show(renderer=\"notebook\")\n",
    "fig.show() # if using workspace"
   ]
  },
  {
   "cell_type": "code",
   "execution_count": null,
   "metadata": {},
   "outputs": [],
   "source": [
    "#HO ML V2 p 248\n",
    "from sklearn.metrics import silhouette_samples\n",
    "from matplotlib.ticker import FixedLocator, FixedFormatter\n",
    "\n",
    "plt.figure(figsize=(11, 9))\n",
    "\n",
    "for k in (3, 4, 5, 6):\n",
    "    plt.subplot(2, 2, k - 2)\n",
    "    \n",
    "    y_pred = kmeans_per_k[k - 1].labels_\n",
    "    silhouette_coefficients = silhouette_samples(X, y_pred)\n",
    "\n",
    "    padding = len(X) // 30\n",
    "    pos = padding\n",
    "    ticks = []\n",
    "    for i in range(k):\n",
    "        coeffs = silhouette_coefficients[y_pred == i]\n",
    "        coeffs.sort()\n",
    "\n",
    "        color = mpl.cm.Spectral(i / k)\n",
    "        plt.fill_betweenx(np.arange(pos, pos + len(coeffs)), 0, coeffs,\n",
    "                          facecolor=color, edgecolor=color, alpha=0.7)\n",
    "        ticks.append(pos + len(coeffs) // 2)\n",
    "        pos += len(coeffs) + padding\n",
    "\n",
    "    plt.gca().yaxis.set_major_locator(FixedLocator(ticks))\n",
    "    plt.gca().yaxis.set_major_formatter(FixedFormatter(range(k)))\n",
    "    if k in (3, 5):\n",
    "        plt.ylabel(\"Cluster\")\n",
    "    \n",
    "    if k in (5, 6):\n",
    "        plt.gca().set_xticks([-0.1, 0, 0.2, 0.4, 0.6, 0.8, 1])\n",
    "        plt.xlabel(\"Silhouette Coefficient\")\n",
    "    else:\n",
    "        plt.tick_params(labelbottom=False)\n",
    "\n",
    "    plt.axvline(x=silhouette_scores[k - 2], color=\"red\", linestyle=\"--\")\n",
    "    plt.title(\"$k={}$\".format(k), fontsize=16)\n",
    "\n",
    "save_fig(\"silhouette_analysis_plot\")\n",
    "plt.show()\n"
   ]
  },
  {
   "cell_type": "markdown",
   "metadata": {},
   "source": [
    "### Localization of the pick-ups during the day (per n-minute bin, no matter which day)\n",
    "* For the value of n see the value of ``k_bin_len`` in the prelude cell of this notebook"
   ]
  },
  {
   "cell_type": "code",
   "execution_count": null,
   "metadata": {},
   "outputs": [],
   "source": [
    "\n",
    "# ! One must order the dataframe by \"bin\" before the statement animation_frame='bin' otherwise the animation slider is really weird\n",
    "df_month = df_month.sort_values(by= \"bin\", ascending=True)\n",
    "\n",
    "fig = px.density_mapbox(\n",
    "  df_month,\n",
    "  lat=\"lat\",\n",
    "  lon=\"lon\",\n",
    "  animation_frame=\"bin\", \n",
    "  mapbox_style=\"carto-positron\",\n",
    "  radius=5,                        # ! radius changed from 3 to 10\n",
    "  zoom = 10.0,\n",
    "  height = k_HeightPx,\n",
    "  width = k_WidthPx,\n",
    "  title= f\"{date_string} - Localized pick-ups per bin of {k_bin_len} minutes over the selected month\"\n",
    ")\n",
    "\n",
    "fig.show()"
   ]
  },
  {
   "cell_type": "code",
   "execution_count": null,
   "metadata": {},
   "outputs": [],
   "source": [
    "# We focus on one month but since the process is heavy we only look at subset of data\n",
    "# date_string = date_obj.strftime(\"%Y-%B\")\n",
    "\n",
    "# df_month  = df[(df[\"month\"] == month) & (df[\"year\"] == year)] \n",
    "# df_for_kmeans = df_month.sample(k_subset_size)\n",
    "df_for_kmeans = df_all_same_weekday_same_hour.copy()\n",
    "df_for_kmeans = df_for_kmeans[df_for_kmeans[\"bin\"]==42]\n",
    "df_for_kmeans.describe().T"
   ]
  },
  {
   "cell_type": "code",
   "execution_count": null,
   "metadata": {},
   "outputs": [],
   "source": [
    "wcss = []\n",
    "sil=[]\n",
    "k=[]\n",
    "for i in range(2, 11): # Z! 2 to 11\n",
    "  kmeans = KMeans(n_clusters=i, random_state = k_random_state, n_init='auto') # default init='k-means++', n_init='auto' avoid warning\n",
    "  kmeans.fit(df_for_kmeans)\n",
    "  wcss.append(kmeans.inertia_)\n",
    "  sil.append(silhouette_score(df_for_kmeans, kmeans.predict(df_for_kmeans)))\n",
    "  k.append(i)\n",
    "\n",
    "df_for_k_choice = pd.DataFrame({'k':k, 'wcss':wcss, 'sil':sil}).set_index('k')\n"
   ]
  },
  {
   "cell_type": "code",
   "execution_count": null,
   "metadata": {},
   "outputs": [],
   "source": [
    "fig = go.Figure()\n",
    "\n",
    "fig.add_trace(\n",
    "    go.Scatter(\n",
    "        x=df_for_k_choice.index,\n",
    "        y=df_for_k_choice['wcss'],\n",
    "        mode='lines+markers',\n",
    "        name='WCSS',             # Ajout du nom dans la légende\n",
    "        line=dict(color='blue')  # couleur pour la ligne\n",
    "    )\n",
    ")\n",
    "\n",
    "fig.add_trace(\n",
    "    go.Bar(\n",
    "        x=df_for_k_choice.index,\n",
    "        y=df_for_k_choice['sil'],\n",
    "        name='Silhouette Score',\n",
    "        yaxis='y2',\n",
    "        opacity=0.6\n",
    "    )\n",
    ")\n",
    "\n",
    "fig.update_layout(\n",
    "    title_text=f\"{date_string} - KMEANS - Determine optimal # of clusters (k)\",\n",
    "    xaxis_title=\"k\",\n",
    "    yaxis=dict(\n",
    "        title=\"WCSS\",\n",
    "    ),\n",
    "    yaxis2=dict(\n",
    "        title=\"Silhouette Score\",\n",
    "        overlaying='y',\n",
    "        side='right'\n",
    "    ),\n",
    "    height=k_HeightPx,\n",
    "    width=k_WidthPx,\n",
    ")\n",
    "\n",
    "fig.show()"
   ]
  },
  {
   "cell_type": "markdown",
   "metadata": {},
   "source": [
    "* On choisit un k qui se trouve au niveau du coude dans la courbe WCSS et qui correspond aussi à une valeur élevée du coefficient de silhouette. \n",
    "* On décide que k=5 "
   ]
  },
  {
   "cell_type": "code",
   "execution_count": null,
   "metadata": {},
   "outputs": [],
   "source": [
    "df_with_kmeans_clusters = df_all_same_weekday_same_hour.copy()\n",
    "df_with_kmeans_clusters = df_with_kmeans_clusters[df_with_kmeans_clusters[\"bin\"]==42]\n",
    "k_optimal = 5\n",
    "kmeans = KMeans(n_clusters=k_optimal, random_state = k_random_state, n_init='auto') # default init='k-means++', n_init='auto' avoid warning \n",
    "df_with_kmeans_clusters['cluster'] = kmeans.fit_predict(df_with_kmeans_clusters)"
   ]
  },
  {
   "cell_type": "code",
   "execution_count": null,
   "metadata": {},
   "outputs": [],
   "source": [
    "df_with_kmeans_clusters = df_with_kmeans_clusters.sort_values(by= \"bin\", ascending=True)\n",
    "\n",
    "fig = px.scatter_mapbox(\n",
    "  df_with_kmeans_clusters, \n",
    "  lat=\"lat\", \n",
    "  lon=\"lon\", \n",
    "  opacity = 0.5,\n",
    "#   animation_frame='bin', \n",
    "  mapbox_style = \"carto-positron\",  \n",
    "  color='cluster',\n",
    "  zoom = 10.0,\n",
    "  height = k_HeightPx,\n",
    "  width = k_WidthPx,\n",
    "  title = f\"Localized pickups {date_obj.strftime('%A')} at {date_obj.strftime('%H')}H within the next {k_bin_len} minutes\"\n",
    ")\n",
    "\n",
    "fig.show()"
   ]
  },
  {
   "cell_type": "code",
   "execution_count": null,
   "metadata": {},
   "outputs": [
    {
     "data": {
      "application/vnd.plotly.v1+json": {
       "config": {
        "plotlyServerURL": "https://plot.ly"
       },
       "data": [
        {
         "hovertemplate": "lat=%{lat}<br>lon=%{lon}<br>cluster=%{marker.color}<extra></extra>",
         "lat": [
          40.7882,
          40.7734,
          40.7904,
          40.7498,
          40.7484,
          40.7714,
          40.7171,
          40.7255,
          40.725,
          40.7932,
          40.7319,
          40.7882,
          40.7836,
          40.7228,
          40.7484,
          40.7472,
          40.7923,
          40.7728,
          40.7317,
          40.7744,
          40.7409,
          40.7438,
          40.7679,
          40.786,
          40.7751,
          40.725,
          40.7697,
          40.768,
          40.7467,
          40.7892,
          40.7333,
          40.7473,
          40.7734,
          40.7376,
          40.7584,
          40.7757,
          40.729,
          40.7454,
          40.7979,
          40.7359,
          40.6993,
          40.7564,
          40.7833,
          40.7722,
          40.7282,
          40.7637,
          40.7744,
          40.7412,
          40.7794,
          40.7729,
          40.7686,
          40.7556,
          40.7495,
          40.729,
          40.733,
          40.7653,
          40.7514,
          40.7145,
          40.7448,
          40.7182,
          40.781,
          40.7742,
          40.746,
          40.7754,
          40.7827,
          40.7872,
          40.7968,
          40.7799,
          40.6982,
          40.7478,
          40.7584,
          40.7859,
          40.7751,
          40.7376,
          40.7248,
          40.7776,
          40.7275,
          40.7713,
          40.7825,
          40.7666,
          40.7559,
          40.7784,
          40.7736,
          40.7805,
          40.7715,
          40.7245,
          40.7451,
          40.7815,
          40.7774,
          40.7747,
          40.7295,
          40.7375,
          40.7254,
          40.7371,
          40.7767,
          40.7669,
          40.7332,
          40.7643,
          40.7847,
          40.7277,
          40.7381,
          40.7321,
          40.7879,
          40.7279,
          40.7448,
          40.7715,
          40.7458,
          40.7292,
          40.7234,
          40.7372,
          40.6926,
          40.7597,
          40.7777,
          40.7269,
          40.7657,
          40.7787,
          40.7348,
          40.7223,
          40.7774,
          40.7772,
          40.7361,
          40.7421,
          40.7783,
          40.7913,
          40.7738,
          40.7853,
          40.7805,
          40.7356,
          40.7829,
          40.7429,
          40.7682,
          40.7911,
          40.7881,
          40.7665,
          40.7238,
          40.7221,
          40.734,
          40.7769,
          40.7335,
          40.7752,
          40.7375,
          40.7961,
          40.7729,
          40.7804,
          40.7347,
          40.728,
          40.746,
          40.7363,
          40.7791,
          40.7146,
          40.7575,
          40.7647,
          40.7681,
          40.7544,
          40.7244,
          40.7267,
          40.7796,
          40.7228,
          40.7774,
          40.7591,
          40.764,
          40.718,
          40.7792,
          40.742,
          40.7204,
          40.7318,
          40.7928,
          40.7162,
          40.7483,
          40.7802,
          40.7858,
          40.742,
          40.7811,
          40.7979,
          40.7376,
          40.7424,
          40.7753,
          40.7345,
          40.796,
          40.7421,
          40.7625,
          40.7925,
          40.7704,
          40.778,
          40.774,
          40.7233,
          40.7802,
          40.7231,
          40.7428,
          40.7174,
          40.7344,
          40.7333,
          40.7707,
          40.7693,
          40.7543,
          40.7347,
          40.7739,
          40.686,
          40.7484,
          40.7678,
          40.7324,
          40.716,
          40.7802,
          40.7742,
          40.7771,
          40.7313,
          40.6934,
          40.7786,
          40.7802,
          40.7265,
          40.7302,
          40.7482,
          40.7626,
          40.7457,
          40.7388,
          40.7437,
          40.7457,
          40.7283,
          40.7797,
          40.7752,
          40.6998,
          40.7218,
          40.7449,
          40.717,
          40.77,
          40.7667,
          40.7984,
          40.7698,
          40.7808,
          40.7236,
          40.7259,
          40.7322,
          40.778,
          40.7287,
          40.779,
          40.7161,
          40.7598,
          40.7153,
          40.7759,
          40.7713,
          40.6875,
          40.7702,
          40.7219,
          40.764,
          40.7342,
          40.7737,
          40.7749,
          40.7596,
          40.7811,
          40.7302,
          40.7582,
          40.7658,
          40.7694,
          40.7515,
          40.7817,
          40.7753,
          40.7215,
          40.7273,
          40.7233,
          40.7339,
          40.7775,
          40.7228,
          40.7669,
          40.794,
          40.7731,
          40.7174,
          40.7599,
          40.731,
          40.7777,
          40.7749,
          40.7576,
          40.7767,
          40.7261,
          40.7277,
          40.7302,
          40.727,
          40.7698,
          40.7346,
          40.7223,
          40.7228,
          40.7307,
          40.7692,
          40.7326,
          40.7278,
          40.7228,
          40.7678,
          40.7302,
          40.7364,
          40.7457,
          40.7919,
          40.7824,
          40.7712,
          40.7505,
          40.7293,
          40.7801,
          40.7196,
          40.7341,
          40.716,
          40.7452,
          40.687,
          40.7848,
          40.7187,
          40.7587,
          40.7697,
          40.7347,
          40.7683,
          40.7179,
          40.7735,
          40.7212,
          40.6935,
          40.7704,
          40.7405,
          40.7784,
          40.744,
          40.7966,
          40.7256,
          40.7166,
          40.7438,
          40.7625,
          40.7523,
          40.7762,
          40.7663,
          40.7162,
          40.7303,
          40.7257,
          40.7683,
          40.7654,
          40.7272,
          40.72,
          40.7564,
          40.7482,
          40.7308,
          40.7685,
          40.7644,
          40.7323,
          40.768,
          40.7353,
          40.7685,
          40.7731,
          40.7655,
          40.7222,
          40.7451,
          40.782,
          40.769,
          40.7341,
          40.7453,
          40.7719,
          40.7329,
          40.7698,
          40.7703,
          40.7388,
          40.7612,
          40.7557,
          40.7842,
          40.7686,
          40.7658,
          40.7379,
          40.7762,
          40.7787,
          40.7664,
          40.729,
          40.7355,
          40.7613,
          40.7872,
          40.7326,
          40.731,
          40.7638,
          40.7941,
          40.7345,
          40.7264,
          40.7631,
          40.7345,
          40.7789,
          40.7355,
          40.7337,
          40.7762,
          40.7745
         ],
         "legendgroup": "",
         "lon": [
          -73.9742,
          -73.9472,
          -73.9756,
          -73.9794,
          -73.9891,
          -73.9508,
          -74.0146,
          -73.9896,
          -73.9881,
          -73.9745,
          -74.0046,
          -73.9743,
          -73.9835,
          -73.9774,
          -73.976,
          -73.9737,
          -73.9679,
          -73.9785,
          -73.9932,
          -73.9816,
          -73.9957,
          -73.9928,
          -73.9916,
          -73.9709,
          -73.9492,
          -74.0093,
          -73.9808,
          -73.9505,
          -73.9858,
          -73.9745,
          -74.0092,
          -73.9851,
          -73.9664,
          -74.0089,
          -73.975,
          -73.9487,
          -73.9783,
          -73.9941,
          -73.9735,
          -73.9799,
          -73.9945,
          -73.9643,
          -73.9507,
          -73.9499,
          -73.9908,
          -73.96,
          -73.9456,
          -74.0026,
          -73.953,
          -73.9479,
          -73.9555,
          -73.973,
          -73.9774,
          -73.9784,
          -73.9811,
          -73.9936,
          -73.994,
          -74.0106,
          -73.9843,
          -74.0151,
          -73.9463,
          -73.981,
          -74.0015,
          -73.9781,
          -73.9533,
          -73.9739,
          -73.9704,
          -73.9472,
          -73.9944,
          -73.9733,
          -73.9672,
          -73.9731,
          -73.9491,
          -74.0049,
          -73.9995,
          -73.9796,
          -73.9923,
          -73.9565,
          -73.9554,
          -73.9712,
          -73.9634,
          -73.9491,
          -73.9816,
          -73.9475,
          -73.9804,
          -73.9815,
          -73.995,
          -73.9812,
          -73.9767,
          -73.9911,
          -73.9783,
          -73.9805,
          -74.0092,
          -74.0038,
          -73.963,
          -73.9844,
          -74.0051,
          -73.9583,
          -73.9539,
          -73.9894,
          -74.0081,
          -73.9864,
          -73.9756,
          -73.9565,
          -73.9949,
          -73.9486,
          -74.0053,
          -73.9812,
          -74.0109,
          -73.9986,
          -73.9989,
          -73.9956,
          -73.9487,
          -73.9588,
          -73.979,
          -73.9496,
          -73.9848,
          -73.9983,
          -73.9751,
          -73.9551,
          -74.0092,
          -73.9966,
          -73.9483,
          -73.9776,
          -73.9888,
          -73.9715,
          -73.9467,
          -74.0033,
          -73.9713,
          -73.9949,
          -73.957,
          -73.9791,
          -73.9759,
          -73.9708,
          -73.9857,
          -74.004,
          -73.9951,
          -73.9776,
          -74.0043,
          -73.9904,
          -74.0054,
          -73.9708,
          -73.9896,
          -73.9473,
          -74.0089,
          -73.9827,
          -74.0002,
          -73.9989,
          -73.9765,
          -74.0087,
          -73.9753,
          -73.9783,
          -73.9918,
          -73.9929,
          -74.0006,
          -73.98,
          -73.9473,
          -74.002,
          -73.9484,
          -73.9943,
          -73.9825,
          -74.0147,
          -73.9471,
          -74.0008,
          -73.985,
          -73.9934,
          -73.975,
          -74.0124,
          -73.9902,
          -73.947,
          -73.9727,
          -73.9964,
          -73.9775,
          -73.9695,
          -74.0094,
          -73.9994,
          -73.9591,
          -73.9756,
          -73.9749,
          -73.9966,
          -73.9822,
          -73.9676,
          -73.9479,
          -73.9539,
          -73.966,
          -73.9912,
          -73.9459,
          -73.9795,
          -73.9948,
          -74.016,
          -73.9822,
          -74.0094,
          -73.9487,
          -73.9555,
          -73.9945,
          -73.9797,
          -73.9523,
          -73.9754,
          -73.9749,
          -73.9662,
          -73.98,
          -74.0121,
          -73.9475,
          -73.9491,
          -73.9776,
          -73.9862,
          -73.9997,
          -73.9537,
          -73.9475,
          -73.9801,
          -73.9838,
          -73.9903,
          -73.957,
          -74.0054,
          -74.0071,
          -73.9922,
          -73.9937,
          -73.9851,
          -73.9763,
          -73.9594,
          -73.9936,
          -73.9996,
          -73.9988,
          -74.0092,
          -73.9553,
          -73.9787,
          -73.9727,
          -73.9546,
          -73.9584,
          -74.0109,
          -73.9793,
          -73.9936,
          -73.9555,
          -73.9952,
          -73.9558,
          -74.0151,
          -73.9954,
          -74.0073,
          -73.9561,
          -73.9615,
          -73.9766,
          -73.9617,
          -73.9792,
          -73.9785,
          -73.9805,
          -73.9518,
          -73.9908,
          -73.965,
          -73.9593,
          -73.9799,
          -73.9661,
          -73.9827,
          -73.9516,
          -73.9939,
          -73.9539,
          -73.9649,
          -74.005,
          -73.9914,
          -73.9912,
          -73.9928,
          -73.9508,
          -73.9931,
          -73.968,
          -73.974,
          -73.9602,
          -74.016,
          -73.967,
          -73.9829,
          -73.9591,
          -73.9652,
          -73.9634,
          -73.949,
          -74.0096,
          -73.9852,
          -73.9861,
          -73.9838,
          -73.9807,
          -73.9833,
          -74.0114,
          -74.0046,
          -73.9851,
          -73.9612,
          -73.9951,
          -73.9825,
          -73.9884,
          -73.9834,
          -73.9822,
          -73.978,
          -74.0052,
          -73.9652,
          -73.9555,
          -73.9561,
          -73.9787,
          -73.9575,
          -73.955,
          -73.9876,
          -73.9932,
          -74.0073,
          -74.0004,
          -73.976,
          -73.9524,
          -74.0094,
          -73.9935,
          -73.9607,
          -73.9926,
          -73.8621,
          -74.0073,
          -73.9454,
          -73.9795,
          -73.9997,
          -73.9577,
          -73.998,
          -73.9584,
          -73.9914,
          -73.9723,
          -73.988,
          -74.0097,
          -74.0062,
          -73.9815,
          -73.9933,
          -73.9519,
          -73.9917,
          -74.0075,
          -73.9759,
          -74.0065,
          -73.9605,
          -73.9788,
          -73.9918,
          -73.988,
          -73.9744,
          -73.9996,
          -73.9955,
          -73.8625,
          -73.9815,
          -74.0077,
          -73.9584,
          -74.0055,
          -73.8626,
          -73.9894,
          -73.9757,
          -74.0039,
          -73.9924,
          -73.9829,
          -73.9609,
          -74.0042,
          -73.9945,
          -73.95,
          -73.9752,
          -73.9608,
          -73.9579,
          -74.0092,
          -73.9777,
          -73.9922,
          -73.971,
          -73.9619,
          -73.9828,
          -73.9985,
          -73.962,
          -73.9742,
          -73.9684,
          -73.9843,
          -74.0082,
          -73.9675,
          -73.9718,
          -73.9836,
          -73.9819,
          -73.9764,
          -73.9745,
          -73.9834,
          -73.9893,
          -73.9788,
          -73.9962,
          -73.9578,
          -74.0033,
          -73.9773,
          -73.9469,
          -73.9809
         ],
         "marker": {
          "color": [
           0,
           1,
           0,
           2,
           3,
           1,
           4,
           5,
           5,
           6,
           7,
           0,
           38,
           8,
           2,
           2,
           9,
           15,
           10,
           11,
           12,
           12,
           13,
           0,
           1,
           14,
           15,
           1,
           16,
           0,
           7,
           16,
           17,
           7,
           18,
           1,
           8,
           12,
           6,
           8,
           19,
           20,
           21,
           1,
           5,
           28,
           1,
           12,
           21,
           1,
           17,
           18,
           2,
           8,
           8,
           13,
           22,
           4,
           16,
           4,
           1,
           11,
           23,
           24,
           21,
           0,
           6,
           1,
           19,
           2,
           20,
           0,
           1,
           7,
           34,
           24,
           5,
           17,
           21,
           25,
           20,
           1,
           11,
           1,
           15,
           8,
           12,
           38,
           24,
           26,
           8,
           8,
           14,
           7,
           17,
           27,
           7,
           28,
           21,
           5,
           7,
           8,
           0,
           29,
           12,
           1,
           30,
           8,
           14,
           31,
           32,
           33,
           1,
           29,
           27,
           1,
           8,
           34,
           24,
           21,
           7,
           12,
           1,
           0,
           26,
           0,
           1,
           7,
           0,
           12,
           17,
           0,
           0,
           25,
           5,
           34,
           10,
           24,
           7,
           26,
           7,
           6,
           26,
           1,
           7,
           8,
           23,
           31,
           24,
           4,
           18,
           27,
           13,
           22,
           34,
           8,
           1,
           34,
           1,
           33,
           27,
           4,
           1,
           12,
           36,
           10,
           6,
           4,
           3,
           1,
           0,
           12,
           24,
           6,
           7,
           12,
           17,
           8,
           6,
           12,
           27,
           9,
           1,
           21,
           17,
           5,
           1,
           8,
           12,
           4,
           8,
           7,
           1,
           17,
           22,
           8,
           1,
           35,
           2,
           25,
           8,
           4,
           1,
           1,
           24,
           8,
           32,
           21,
           1,
           8,
           8,
           3,
           28,
           30,
           7,
           12,
           12,
           8,
           24,
           17,
           19,
           34,
           23,
           4,
           17,
           27,
           6,
           17,
           21,
           14,
           8,
           10,
           21,
           10,
           21,
           4,
           33,
           4,
           21,
           17,
           35,
           17,
           8,
           27,
           8,
           1,
           26,
           20,
           21,
           8,
           20,
           27,
           1,
           22,
           21,
           17,
           34,
           5,
           5,
           10,
           1,
           5,
           25,
           6,
           17,
           4,
           20,
           8,
           21,
           17,
           20,
           1,
           14,
           8,
           8,
           8,
           15,
           8,
           14,
           34,
           8,
           17,
           10,
           8,
           5,
           27,
           8,
           8,
           30,
           9,
           21,
           17,
           2,
           29,
           21,
           36,
           10,
           4,
           23,
           35,
           21,
           4,
           33,
           17,
           10,
           37,
           4,
           1,
           8,
           32,
           17,
           12,
           21,
           12,
           6,
           5,
           4,
           30,
           27,
           22,
           1,
           13,
           4,
           8,
           14,
           17,
           27,
           5,
           36,
           18,
           23,
           10,
           37,
           27,
           7,
           17,
           7,
           37,
           26,
           27,
           34,
           12,
           38,
           17,
           7,
           12,
           1,
           8,
           17,
           17,
           7,
           27,
           22,
           0,
           17,
           27,
           31,
           17,
           24,
           25,
           8,
           7,
           20,
           0,
           8,
           8,
           27,
           6,
           8,
           5,
           27,
           10,
           21,
           7,
           8,
           1,
           11
          ],
          "coloraxis": "coloraxis",
          "opacity": 0.5
         },
         "mode": "markers",
         "name": "",
         "showlegend": false,
         "subplot": "mapbox",
         "type": "scattermapbox"
        }
       ],
       "layout": {
        "coloraxis": {
         "colorbar": {
          "title": {
           "text": "cluster"
          }
         },
         "colorscale": [
          [
           0,
           "#0d0887"
          ],
          [
           0.1111111111111111,
           "#46039f"
          ],
          [
           0.2222222222222222,
           "#7201a8"
          ],
          [
           0.3333333333333333,
           "#9c179e"
          ],
          [
           0.4444444444444444,
           "#bd3786"
          ],
          [
           0.5555555555555556,
           "#d8576b"
          ],
          [
           0.6666666666666666,
           "#ed7953"
          ],
          [
           0.7777777777777778,
           "#fb9f3a"
          ],
          [
           0.8888888888888888,
           "#fdca26"
          ],
          [
           1,
           "#f0f921"
          ]
         ]
        },
        "height": 632.8800988875154,
        "legend": {
         "tracegroupgap": 0
        },
        "mapbox": {
         "center": {
          "lat": 40.75311485411141,
          "lon": -73.97904588859416
         },
         "domain": {
          "x": [
           0,
           1
          ],
          "y": [
           0,
           1
          ]
         },
         "style": "carto-positron",
         "zoom": 10
        },
        "template": {
         "data": {
          "bar": [
           {
            "error_x": {
             "color": "#2a3f5f"
            },
            "error_y": {
             "color": "#2a3f5f"
            },
            "marker": {
             "line": {
              "color": "#E5ECF6",
              "width": 0.5
             },
             "pattern": {
              "fillmode": "overlay",
              "size": 10,
              "solidity": 0.2
             }
            },
            "type": "bar"
           }
          ],
          "barpolar": [
           {
            "marker": {
             "line": {
              "color": "#E5ECF6",
              "width": 0.5
             },
             "pattern": {
              "fillmode": "overlay",
              "size": 10,
              "solidity": 0.2
             }
            },
            "type": "barpolar"
           }
          ],
          "carpet": [
           {
            "aaxis": {
             "endlinecolor": "#2a3f5f",
             "gridcolor": "white",
             "linecolor": "white",
             "minorgridcolor": "white",
             "startlinecolor": "#2a3f5f"
            },
            "baxis": {
             "endlinecolor": "#2a3f5f",
             "gridcolor": "white",
             "linecolor": "white",
             "minorgridcolor": "white",
             "startlinecolor": "#2a3f5f"
            },
            "type": "carpet"
           }
          ],
          "choropleth": [
           {
            "colorbar": {
             "outlinewidth": 0,
             "ticks": ""
            },
            "type": "choropleth"
           }
          ],
          "contour": [
           {
            "colorbar": {
             "outlinewidth": 0,
             "ticks": ""
            },
            "colorscale": [
             [
              0,
              "#0d0887"
             ],
             [
              0.1111111111111111,
              "#46039f"
             ],
             [
              0.2222222222222222,
              "#7201a8"
             ],
             [
              0.3333333333333333,
              "#9c179e"
             ],
             [
              0.4444444444444444,
              "#bd3786"
             ],
             [
              0.5555555555555556,
              "#d8576b"
             ],
             [
              0.6666666666666666,
              "#ed7953"
             ],
             [
              0.7777777777777778,
              "#fb9f3a"
             ],
             [
              0.8888888888888888,
              "#fdca26"
             ],
             [
              1,
              "#f0f921"
             ]
            ],
            "type": "contour"
           }
          ],
          "contourcarpet": [
           {
            "colorbar": {
             "outlinewidth": 0,
             "ticks": ""
            },
            "type": "contourcarpet"
           }
          ],
          "heatmap": [
           {
            "colorbar": {
             "outlinewidth": 0,
             "ticks": ""
            },
            "colorscale": [
             [
              0,
              "#0d0887"
             ],
             [
              0.1111111111111111,
              "#46039f"
             ],
             [
              0.2222222222222222,
              "#7201a8"
             ],
             [
              0.3333333333333333,
              "#9c179e"
             ],
             [
              0.4444444444444444,
              "#bd3786"
             ],
             [
              0.5555555555555556,
              "#d8576b"
             ],
             [
              0.6666666666666666,
              "#ed7953"
             ],
             [
              0.7777777777777778,
              "#fb9f3a"
             ],
             [
              0.8888888888888888,
              "#fdca26"
             ],
             [
              1,
              "#f0f921"
             ]
            ],
            "type": "heatmap"
           }
          ],
          "heatmapgl": [
           {
            "colorbar": {
             "outlinewidth": 0,
             "ticks": ""
            },
            "colorscale": [
             [
              0,
              "#0d0887"
             ],
             [
              0.1111111111111111,
              "#46039f"
             ],
             [
              0.2222222222222222,
              "#7201a8"
             ],
             [
              0.3333333333333333,
              "#9c179e"
             ],
             [
              0.4444444444444444,
              "#bd3786"
             ],
             [
              0.5555555555555556,
              "#d8576b"
             ],
             [
              0.6666666666666666,
              "#ed7953"
             ],
             [
              0.7777777777777778,
              "#fb9f3a"
             ],
             [
              0.8888888888888888,
              "#fdca26"
             ],
             [
              1,
              "#f0f921"
             ]
            ],
            "type": "heatmapgl"
           }
          ],
          "histogram": [
           {
            "marker": {
             "pattern": {
              "fillmode": "overlay",
              "size": 10,
              "solidity": 0.2
             }
            },
            "type": "histogram"
           }
          ],
          "histogram2d": [
           {
            "colorbar": {
             "outlinewidth": 0,
             "ticks": ""
            },
            "colorscale": [
             [
              0,
              "#0d0887"
             ],
             [
              0.1111111111111111,
              "#46039f"
             ],
             [
              0.2222222222222222,
              "#7201a8"
             ],
             [
              0.3333333333333333,
              "#9c179e"
             ],
             [
              0.4444444444444444,
              "#bd3786"
             ],
             [
              0.5555555555555556,
              "#d8576b"
             ],
             [
              0.6666666666666666,
              "#ed7953"
             ],
             [
              0.7777777777777778,
              "#fb9f3a"
             ],
             [
              0.8888888888888888,
              "#fdca26"
             ],
             [
              1,
              "#f0f921"
             ]
            ],
            "type": "histogram2d"
           }
          ],
          "histogram2dcontour": [
           {
            "colorbar": {
             "outlinewidth": 0,
             "ticks": ""
            },
            "colorscale": [
             [
              0,
              "#0d0887"
             ],
             [
              0.1111111111111111,
              "#46039f"
             ],
             [
              0.2222222222222222,
              "#7201a8"
             ],
             [
              0.3333333333333333,
              "#9c179e"
             ],
             [
              0.4444444444444444,
              "#bd3786"
             ],
             [
              0.5555555555555556,
              "#d8576b"
             ],
             [
              0.6666666666666666,
              "#ed7953"
             ],
             [
              0.7777777777777778,
              "#fb9f3a"
             ],
             [
              0.8888888888888888,
              "#fdca26"
             ],
             [
              1,
              "#f0f921"
             ]
            ],
            "type": "histogram2dcontour"
           }
          ],
          "mesh3d": [
           {
            "colorbar": {
             "outlinewidth": 0,
             "ticks": ""
            },
            "type": "mesh3d"
           }
          ],
          "parcoords": [
           {
            "line": {
             "colorbar": {
              "outlinewidth": 0,
              "ticks": ""
             }
            },
            "type": "parcoords"
           }
          ],
          "pie": [
           {
            "automargin": true,
            "type": "pie"
           }
          ],
          "scatter": [
           {
            "fillpattern": {
             "fillmode": "overlay",
             "size": 10,
             "solidity": 0.2
            },
            "type": "scatter"
           }
          ],
          "scatter3d": [
           {
            "line": {
             "colorbar": {
              "outlinewidth": 0,
              "ticks": ""
             }
            },
            "marker": {
             "colorbar": {
              "outlinewidth": 0,
              "ticks": ""
             }
            },
            "type": "scatter3d"
           }
          ],
          "scattercarpet": [
           {
            "marker": {
             "colorbar": {
              "outlinewidth": 0,
              "ticks": ""
             }
            },
            "type": "scattercarpet"
           }
          ],
          "scattergeo": [
           {
            "marker": {
             "colorbar": {
              "outlinewidth": 0,
              "ticks": ""
             }
            },
            "type": "scattergeo"
           }
          ],
          "scattergl": [
           {
            "marker": {
             "colorbar": {
              "outlinewidth": 0,
              "ticks": ""
             }
            },
            "type": "scattergl"
           }
          ],
          "scattermapbox": [
           {
            "marker": {
             "colorbar": {
              "outlinewidth": 0,
              "ticks": ""
             }
            },
            "type": "scattermapbox"
           }
          ],
          "scatterpolar": [
           {
            "marker": {
             "colorbar": {
              "outlinewidth": 0,
              "ticks": ""
             }
            },
            "type": "scatterpolar"
           }
          ],
          "scatterpolargl": [
           {
            "marker": {
             "colorbar": {
              "outlinewidth": 0,
              "ticks": ""
             }
            },
            "type": "scatterpolargl"
           }
          ],
          "scatterternary": [
           {
            "marker": {
             "colorbar": {
              "outlinewidth": 0,
              "ticks": ""
             }
            },
            "type": "scatterternary"
           }
          ],
          "surface": [
           {
            "colorbar": {
             "outlinewidth": 0,
             "ticks": ""
            },
            "colorscale": [
             [
              0,
              "#0d0887"
             ],
             [
              0.1111111111111111,
              "#46039f"
             ],
             [
              0.2222222222222222,
              "#7201a8"
             ],
             [
              0.3333333333333333,
              "#9c179e"
             ],
             [
              0.4444444444444444,
              "#bd3786"
             ],
             [
              0.5555555555555556,
              "#d8576b"
             ],
             [
              0.6666666666666666,
              "#ed7953"
             ],
             [
              0.7777777777777778,
              "#fb9f3a"
             ],
             [
              0.8888888888888888,
              "#fdca26"
             ],
             [
              1,
              "#f0f921"
             ]
            ],
            "type": "surface"
           }
          ],
          "table": [
           {
            "cells": {
             "fill": {
              "color": "#EBF0F8"
             },
             "line": {
              "color": "white"
             }
            },
            "header": {
             "fill": {
              "color": "#C8D4E3"
             },
             "line": {
              "color": "white"
             }
            },
            "type": "table"
           }
          ]
         },
         "layout": {
          "annotationdefaults": {
           "arrowcolor": "#2a3f5f",
           "arrowhead": 0,
           "arrowwidth": 1
          },
          "autotypenumbers": "strict",
          "coloraxis": {
           "colorbar": {
            "outlinewidth": 0,
            "ticks": ""
           }
          },
          "colorscale": {
           "diverging": [
            [
             0,
             "#8e0152"
            ],
            [
             0.1,
             "#c51b7d"
            ],
            [
             0.2,
             "#de77ae"
            ],
            [
             0.3,
             "#f1b6da"
            ],
            [
             0.4,
             "#fde0ef"
            ],
            [
             0.5,
             "#f7f7f7"
            ],
            [
             0.6,
             "#e6f5d0"
            ],
            [
             0.7,
             "#b8e186"
            ],
            [
             0.8,
             "#7fbc41"
            ],
            [
             0.9,
             "#4d9221"
            ],
            [
             1,
             "#276419"
            ]
           ],
           "sequential": [
            [
             0,
             "#0d0887"
            ],
            [
             0.1111111111111111,
             "#46039f"
            ],
            [
             0.2222222222222222,
             "#7201a8"
            ],
            [
             0.3333333333333333,
             "#9c179e"
            ],
            [
             0.4444444444444444,
             "#bd3786"
            ],
            [
             0.5555555555555556,
             "#d8576b"
            ],
            [
             0.6666666666666666,
             "#ed7953"
            ],
            [
             0.7777777777777778,
             "#fb9f3a"
            ],
            [
             0.8888888888888888,
             "#fdca26"
            ],
            [
             1,
             "#f0f921"
            ]
           ],
           "sequentialminus": [
            [
             0,
             "#0d0887"
            ],
            [
             0.1111111111111111,
             "#46039f"
            ],
            [
             0.2222222222222222,
             "#7201a8"
            ],
            [
             0.3333333333333333,
             "#9c179e"
            ],
            [
             0.4444444444444444,
             "#bd3786"
            ],
            [
             0.5555555555555556,
             "#d8576b"
            ],
            [
             0.6666666666666666,
             "#ed7953"
            ],
            [
             0.7777777777777778,
             "#fb9f3a"
            ],
            [
             0.8888888888888888,
             "#fdca26"
            ],
            [
             1,
             "#f0f921"
            ]
           ]
          },
          "colorway": [
           "#636efa",
           "#EF553B",
           "#00cc96",
           "#ab63fa",
           "#FFA15A",
           "#19d3f3",
           "#FF6692",
           "#B6E880",
           "#FF97FF",
           "#FECB52"
          ],
          "font": {
           "color": "#2a3f5f"
          },
          "geo": {
           "bgcolor": "white",
           "lakecolor": "white",
           "landcolor": "#E5ECF6",
           "showlakes": true,
           "showland": true,
           "subunitcolor": "white"
          },
          "hoverlabel": {
           "align": "left"
          },
          "hovermode": "closest",
          "mapbox": {
           "style": "light"
          },
          "paper_bgcolor": "white",
          "plot_bgcolor": "#E5ECF6",
          "polar": {
           "angularaxis": {
            "gridcolor": "white",
            "linecolor": "white",
            "ticks": ""
           },
           "bgcolor": "#E5ECF6",
           "radialaxis": {
            "gridcolor": "white",
            "linecolor": "white",
            "ticks": ""
           }
          },
          "scene": {
           "xaxis": {
            "backgroundcolor": "#E5ECF6",
            "gridcolor": "white",
            "gridwidth": 2,
            "linecolor": "white",
            "showbackground": true,
            "ticks": "",
            "zerolinecolor": "white"
           },
           "yaxis": {
            "backgroundcolor": "#E5ECF6",
            "gridcolor": "white",
            "gridwidth": 2,
            "linecolor": "white",
            "showbackground": true,
            "ticks": "",
            "zerolinecolor": "white"
           },
           "zaxis": {
            "backgroundcolor": "#E5ECF6",
            "gridcolor": "white",
            "gridwidth": 2,
            "linecolor": "white",
            "showbackground": true,
            "ticks": "",
            "zerolinecolor": "white"
           }
          },
          "shapedefaults": {
           "line": {
            "color": "#2a3f5f"
           }
          },
          "ternary": {
           "aaxis": {
            "gridcolor": "white",
            "linecolor": "white",
            "ticks": ""
           },
           "baxis": {
            "gridcolor": "white",
            "linecolor": "white",
            "ticks": ""
           },
           "bgcolor": "#E5ECF6",
           "caxis": {
            "gridcolor": "white",
            "linecolor": "white",
            "ticks": ""
           }
          },
          "title": {
           "x": 0.05
          },
          "xaxis": {
           "automargin": true,
           "gridcolor": "white",
           "linecolor": "white",
           "ticks": "",
           "title": {
            "standoff": 15
           },
           "zerolinecolor": "white",
           "zerolinewidth": 2
          },
          "yaxis": {
           "automargin": true,
           "gridcolor": "white",
           "linecolor": "white",
           "ticks": "",
           "title": {
            "standoff": 15
           },
           "zerolinecolor": "white",
           "zerolinewidth": 2
          }
         }
        },
        "title": {
         "text": "2014-April-Wed-07H - KMeans - Hot spots for the next hour"
        },
        "width": 1024
       }
      }
     },
     "metadata": {},
     "output_type": "display_data"
    }
   ],
   "source": [
    "fig = px.scatter_mapbox(\n",
    "  df_hour_extended[df_hour_extended[\"cluster\"]!=-1], \n",
    "  lat=\"lat\", \n",
    "  lon=\"lon\", \n",
    "  opacity = 0.5,\n",
    "  # animation_frame='bin', \n",
    "  mapbox_style = \"carto-positron\",  \n",
    "  color='cluster',\n",
    "  zoom = 10.0,\n",
    "  height = k_HeightPx,\n",
    "  width = k_WidthPx,\n",
    "  title = f\"{date_string} - K-Means - Hot spots for the next hour\",\n",
    ")\n",
    "\n",
    "fig.show()"
   ]
  }
 ],
 "metadata": {
  "language_info": {
   "name": "python"
  }
 },
 "nbformat": 4,
 "nbformat_minor": 2
}
