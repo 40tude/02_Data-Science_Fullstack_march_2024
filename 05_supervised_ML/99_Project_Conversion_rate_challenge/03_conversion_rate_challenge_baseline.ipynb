{
 "cells": [
  {
   "cell_type": "code",
   "execution_count": 43,
   "metadata": {},
   "outputs": [],
   "source": [
    "# prelude \n",
    "\n",
    "import numpy as np\n",
    "import pandas as pd\n",
    "import seaborn as sns\n",
    "from datetime import datetime\n",
    "import matplotlib.pyplot as plt\n",
    "from sklearn.pipeline import Pipeline\n",
    "from sklearn.compose import ColumnTransformer\n",
    "from sklearn.model_selection import GridSearchCV\n",
    "from sklearn.linear_model import LogisticRegression \n",
    "from sklearn.model_selection import train_test_split\n",
    "from sklearn.preprocessing import OneHotEncoder, StandardScaler, PolynomialFeatures   \n",
    "from sklearn.metrics import f1_score, precision_score, recall_score, ConfusionMatrixDisplay, RocCurveDisplay, roc_auc_score  \n",
    "\n",
    "k_target        = \"converted\"\n",
    "k_test_size     = 20/100    # see train_test_split\n",
    "k_random_state  = 42        # you know why this value...\n",
    "k_header        = \"conversion_data_test_predictions_\"\n",
    "k_author        = \"PHILIPPE\"\n"
   ]
  },
  {
   "cell_type": "markdown",
   "metadata": {},
   "source": [
    "# Conversion Rate Challenge : Baseline model"
   ]
  },
  {
   "cell_type": "markdown",
   "metadata": {},
   "source": [
    "* The code below :  \n",
    "  * Trains a baseline model on the dataset \n",
    "  * At this stage the model is a ``LogisticRegression()`` \n",
    "  * Optionally `PolynomialFeatures()` can be activated. This is not currently the case (indeed `poly__degree` is set to 1)\n",
    "  * It records predictions made on the unlabeled observations\n",
    "* Different models have been tested and predictions sent to the leaderboard"
   ]
  },
  {
   "cell_type": "code",
   "execution_count": 44,
   "metadata": {},
   "outputs": [
    {
     "name": "stdout",
     "output_type": "stream",
     "text": [
      "Best results on test dataset               :\n",
      "f1 \t\t precision \t recall\n",
      "0.768252 \t 0.865529 \t 0.690632\n",
      "\n",
      "Best results on whole dataset (train+test) :\n",
      "f1 \t\t precision \t recall\n",
      "0.763880 \t 0.855176 \t 0.690196\n"
     ]
    }
   ],
   "source": [
    "df = pd.read_csv(\"./assets/conversion_data_train.csv\")\n",
    "\n",
    "#######################################################################\n",
    "# training on train and test set\n",
    "X = df.drop(columns = k_target)\n",
    "y = df[k_target]\n",
    "\n",
    "X_train, X_test, y_train, y_test = train_test_split(X, y, test_size=k_test_size, random_state=k_random_state, stratify = y)\n",
    "\n",
    "numeric_features      = X.select_dtypes(include=\"number\").columns\n",
    "categorical_features  = X.select_dtypes(exclude=\"number\").columns\n",
    "\n",
    "numeric_transformer = Pipeline(\n",
    "  steps=[\n",
    "    (\"scaler_num\", StandardScaler()),\n",
    "  ]\n",
    ")\n",
    "\n",
    "categorical_transformer = Pipeline(\n",
    "  steps=[\n",
    "    # drop first has no impact on the scores\n",
    "    # However when using drop first it is then harder to find and communicate about features importance\n",
    "    # Indeed one of each categorical feature is missing \n",
    "    # (\"encoder_cat\", OneHotEncoder(drop=\"first\")),                 \n",
    "    (\"encoder_cat\", OneHotEncoder()),                 \n",
    "  ]\n",
    ")\n",
    "\n",
    "preprocessor = ColumnTransformer(\n",
    "  transformers=[\n",
    "    (\"num\", numeric_transformer,     numeric_features),\n",
    "    (\"cat\", categorical_transformer, categorical_features),\n",
    "  ]\n",
    ")\n",
    "\n",
    "X_train = preprocessor.fit_transform(X_train)\n",
    "X_test  = preprocessor.transform(X_test)\n",
    "\n",
    "pipe = Pipeline(steps=[\n",
    "    (\"poly\", PolynomialFeatures()),\n",
    "    (\"logistic\", LogisticRegression())\n",
    "])\n",
    "\n",
    "# Generate warnings at runtime\n",
    "# params = {\n",
    "#     \"poly__degree\"    : [1],\n",
    "#     \"logit__C\"        : [3, 0.1],\n",
    "#     \"logit__penalty\"  : [\"none\", \"l2\"],\n",
    "# }\n",
    "\n",
    "# Do NOT generate warnings at runtime\n",
    "# Conditional search grid\n",
    "#   Two parameter dictionaries are defined in the params list. \n",
    "#       One uses the “l2” penalty with different C values\n",
    "#       The other disables the penalty with penalty=None.\n",
    "params = [\n",
    "    {\n",
    "        \"poly__degree\": [1],\n",
    "        \"logistic__C\": [3, 0.1],\n",
    "        \"logistic__penalty\": [\"l2\"],  # Utiliser `l2` pour la régularisation\n",
    "    },\n",
    "    {\n",
    "        \"poly__degree\": [1],\n",
    "        \"logistic__penalty\": [None],  # None instead of none otherwise warning\n",
    "    },\n",
    "]\n",
    "\n",
    "\n",
    "gridsearch = GridSearchCV(pipe, param_grid = params, cv = 3, scoring=\"f1\", n_jobs = -1)\n",
    "gridsearch.fit(X_train, y_train)\n",
    "\n",
    "best_estimator = gridsearch.best_estimator_\n",
    "y_pred = best_estimator.predict(X_test)\n",
    "\n",
    "print(f\"Best results on test dataset               :\")\n",
    "print(f\"f1 \\t\\t precision \\t recall\")\n",
    "print(f\"{f1_score(y_test,  y_pred):.6f} \\t {precision_score(y_test,  y_pred):.6f} \\t {recall_score(y_test,  y_pred):.6f}\")\n",
    "\n",
    "#######################################################################\n",
    "# Training on the whole dataset\n",
    "X = df.drop(columns = k_target)\n",
    "y = df[k_target]\n",
    "\n",
    "X = preprocessor.fit_transform(X) # X is now an ndarray\n",
    "\n",
    "gridsearch.fit(X, y)\n",
    "best_estimator = gridsearch.best_estimator_\n",
    "y_pred = best_estimator.predict(X)\n",
    "\n",
    "print()\n",
    "print(f\"Best results on whole dataset (train+test) :\")\n",
    "print(f\"f1 \\t\\t precision \\t recall\")\n",
    "print(f\"{f1_score(y,  y_pred):.6f} \\t {precision_score(y,  y_pred):.6f} \\t {recall_score(y,  y_pred):.6f}\")\n",
    "\n",
    "#######################################################################\n",
    "# Prediction on unlabeled dataset\n",
    "X_no_labels = pd.read_csv(\"./assets/conversion_data_test.csv\")\n",
    "X_no_labels = preprocessor.transform(X_no_labels)\n",
    "\n",
    "data = {\n",
    "  \"converted\": best_estimator.predict(X_no_labels)\n",
    "}\n",
    "\n",
    "y_predictions = pd.DataFrame(columns=[\"converted\"], data=data)\n",
    "\n",
    "trailer   = datetime.now().strftime(\"%Y%m%d_%H%M%S\")\n",
    "out_file  = \"./assets/\" + k_header + k_author + \"-\" + trailer + \".csv\"\n",
    "y_predictions.to_csv(out_file, index=False)"
   ]
  },
  {
   "cell_type": "markdown",
   "metadata": {},
   "source": [
    "### <span style=\"color:orange\"><b>Comments :</b></span>\n",
    "\n",
    "* The most interesting part in the code above is the one close to ``GrideSearchCV()`` where :\n",
    "    * We define a pipe \n",
    "    * For each element of the pipe we define parameter values or range of values\n",
    "        * If `poly__degree` is set to 1, everything happens as if there were no feature engineering and the ``LogisticRegression`` is used on the initial features\n",
    "* With this dataset, early results show that a simple ``LogisticRegression`` was <span style=\"color:orange\"><b>\"good enough\"</b></span>\n",
    "* Other than that we were spending time to fine tune parameters in order to increase the F1 score at the fourth decimal\n",
    "    * Does it make sense? No !\n",
    "* Unfortunately, the code above does not help to compare different models (XGBoost vs LogisticeRegression vs XYZ model with a,b and c hyperparameters)\n",
    "\n",
    "It was at this stage of the Conversion Rate Challenge that the idea of a <span style=\"color:orange\"><b>framework</b></span> of some kind came up..."
   ]
  },
  {
   "cell_type": "markdown",
   "metadata": {},
   "source": [
    "## Performance analysis"
   ]
  },
  {
   "cell_type": "code",
   "execution_count": 45,
   "metadata": {},
   "outputs": [
    {
     "data": {
      "image/png": "[encoded data removed]",
      "text/plain": [
       "<Figure size 640x480 with 2 Axes>"
      ]
     },
     "metadata": {},
     "output_type": "display_data"
    }
   ],
   "source": [
    "\n",
    "_, ax = plt.subplots()  \n",
    "ax.set(\n",
    "    title=\"Confusion Matrix over the whole dataset\"\n",
    ")  \n",
    "ConfusionMatrixDisplay.from_estimator(\n",
    "    best_estimator, X, y, ax=ax\n",
    ")  \n",
    "plt.show()\n"
   ]
  },
  {
   "cell_type": "code",
   "execution_count": 46,
   "metadata": {},
   "outputs": [
    {
     "data": {
      "image/png": "[encoded data removed]",
      "text/plain": [
       "<Figure size 640x480 with 1 Axes>"
      ]
     },
     "metadata": {},
     "output_type": "display_data"
    }
   ],
   "source": [
    "_, ax = plt.subplots()  \n",
    "ax.set(\n",
    "    title=\"ROC Curve over the whole dataset\"\n",
    ")  \n",
    "RocCurveDisplay.from_estimator(\n",
    "    best_estimator, X, y, ax=ax\n",
    ")  \n",
    "plt.show()\n"
   ]
  },
  {
   "cell_type": "code",
   "execution_count": 47,
   "metadata": {},
   "outputs": [
    {
     "name": "stdout",
     "output_type": "stream",
     "text": [
      "AUC: 0.84\n"
     ]
    }
   ],
   "source": [
    "auc = roc_auc_score(y, y_pred)\n",
    "print(f\"AUC: {auc:.2f}\")"
   ]
  },
  {
   "cell_type": "markdown",
   "metadata": {},
   "source": [
    "## Features Importance"
   ]
  },
  {
   "cell_type": "code",
   "execution_count": 48,
   "metadata": {},
   "outputs": [
    {
     "name": "stdout",
     "output_type": "stream",
     "text": [
      "Index(['age', 'new_user', 'total_pages_visited'], dtype='object')\n",
      "['country_China' 'country_Germany' 'country_UK' 'country_US' 'source_Ads'\n",
      " 'source_Direct' 'source_Seo']\n",
      "['age' 'new_user' 'total_pages_visited' 'country_China' 'country_Germany'\n",
      " 'country_UK' 'country_US' 'source_Ads' 'source_Direct' 'source_Seo']\n",
      "[-2.91254865 -0.6070322  -0.80282103  2.53766835 -3.40703557  0.39974423\n",
      "  0.22471941 -0.12997672 -0.88961426 -1.10571868 -0.91721572]\n"
     ]
    },
    {
     "ename": "ValueError",
     "evalue": "All arrays must be of the same length",
     "output_type": "error",
     "traceback": [
      "\u001b[1;31m---------------------------------------------------------------------------\u001b[0m",
      "\u001b[1;31mValueError\u001b[0m                                Traceback (most recent call last)",
      "Cell \u001b[1;32mIn[48], line 21\u001b[0m\n\u001b[0;32m     18\u001b[0m coefficients \u001b[38;5;241m=\u001b[39m logistic_model\u001b[38;5;241m.\u001b[39mcoef_[\u001b[38;5;241m0\u001b[39m]\n\u001b[0;32m     19\u001b[0m \u001b[38;5;28mprint\u001b[39m(coefficients)\n\u001b[1;32m---> 21\u001b[0m features_df \u001b[38;5;241m=\u001b[39m \u001b[43mpd\u001b[49m\u001b[38;5;241;43m.\u001b[39;49m\u001b[43mDataFrame\u001b[49m\u001b[43m(\u001b[49m\u001b[43m{\u001b[49m\n\u001b[0;32m     22\u001b[0m \u001b[43m    \u001b[49m\u001b[38;5;124;43m\"\u001b[39;49m\u001b[38;5;124;43mFeature\u001b[39;49m\u001b[38;5;124;43m\"\u001b[39;49m\u001b[43m:\u001b[49m\u001b[43m \u001b[49m\u001b[43mall_feature_names\u001b[49m\u001b[43m,\u001b[49m\n\u001b[0;32m     23\u001b[0m \u001b[43m    \u001b[49m\u001b[38;5;124;43m\"\u001b[39;49m\u001b[38;5;124;43mCoefficient\u001b[39;49m\u001b[38;5;124;43m\"\u001b[39;49m\u001b[43m:\u001b[49m\u001b[43m \u001b[49m\u001b[43mcoefficients\u001b[49m\n\u001b[0;32m     24\u001b[0m \u001b[43m}\u001b[49m\u001b[43m)\u001b[49m\n\u001b[0;32m     26\u001b[0m features_df \u001b[38;5;241m=\u001b[39m features_df\u001b[38;5;241m.\u001b[39mreindex(features_df[\u001b[38;5;124m\"\u001b[39m\u001b[38;5;124mCoefficient\u001b[39m\u001b[38;5;124m\"\u001b[39m]\u001b[38;5;241m.\u001b[39mabs()\u001b[38;5;241m.\u001b[39msort_values(ascending\u001b[38;5;241m=\u001b[39m\u001b[38;5;28;01mFalse\u001b[39;00m)\u001b[38;5;241m.\u001b[39mindex)\n\u001b[0;32m     28\u001b[0m plt\u001b[38;5;241m.\u001b[39mfigure(figsize\u001b[38;5;241m=\u001b[39m(\u001b[38;5;241m10\u001b[39m, \u001b[38;5;241m6\u001b[39m))\n",
      "File \u001b[1;32mc:\\Users\\phili\\anaconda3\\envs\\jedha\\Lib\\site-packages\\pandas\\core\\frame.py:733\u001b[0m, in \u001b[0;36mDataFrame.__init__\u001b[1;34m(self, data, index, columns, dtype, copy)\u001b[0m\n\u001b[0;32m    727\u001b[0m     mgr \u001b[38;5;241m=\u001b[39m \u001b[38;5;28mself\u001b[39m\u001b[38;5;241m.\u001b[39m_init_mgr(\n\u001b[0;32m    728\u001b[0m         data, axes\u001b[38;5;241m=\u001b[39m{\u001b[38;5;124m\"\u001b[39m\u001b[38;5;124mindex\u001b[39m\u001b[38;5;124m\"\u001b[39m: index, \u001b[38;5;124m\"\u001b[39m\u001b[38;5;124mcolumns\u001b[39m\u001b[38;5;124m\"\u001b[39m: columns}, dtype\u001b[38;5;241m=\u001b[39mdtype, copy\u001b[38;5;241m=\u001b[39mcopy\n\u001b[0;32m    729\u001b[0m     )\n\u001b[0;32m    731\u001b[0m \u001b[38;5;28;01melif\u001b[39;00m \u001b[38;5;28misinstance\u001b[39m(data, \u001b[38;5;28mdict\u001b[39m):\n\u001b[0;32m    732\u001b[0m     \u001b[38;5;66;03m# GH#38939 de facto copy defaults to False only in non-dict cases\u001b[39;00m\n\u001b[1;32m--> 733\u001b[0m     mgr \u001b[38;5;241m=\u001b[39m \u001b[43mdict_to_mgr\u001b[49m\u001b[43m(\u001b[49m\u001b[43mdata\u001b[49m\u001b[43m,\u001b[49m\u001b[43m \u001b[49m\u001b[43mindex\u001b[49m\u001b[43m,\u001b[49m\u001b[43m \u001b[49m\u001b[43mcolumns\u001b[49m\u001b[43m,\u001b[49m\u001b[43m \u001b[49m\u001b[43mdtype\u001b[49m\u001b[38;5;241;43m=\u001b[39;49m\u001b[43mdtype\u001b[49m\u001b[43m,\u001b[49m\u001b[43m \u001b[49m\u001b[43mcopy\u001b[49m\u001b[38;5;241;43m=\u001b[39;49m\u001b[43mcopy\u001b[49m\u001b[43m,\u001b[49m\u001b[43m \u001b[49m\u001b[43mtyp\u001b[49m\u001b[38;5;241;43m=\u001b[39;49m\u001b[43mmanager\u001b[49m\u001b[43m)\u001b[49m\n\u001b[0;32m    734\u001b[0m \u001b[38;5;28;01melif\u001b[39;00m \u001b[38;5;28misinstance\u001b[39m(data, ma\u001b[38;5;241m.\u001b[39mMaskedArray):\n\u001b[0;32m    735\u001b[0m     \u001b[38;5;28;01mfrom\u001b[39;00m \u001b[38;5;21;01mnumpy\u001b[39;00m\u001b[38;5;21;01m.\u001b[39;00m\u001b[38;5;21;01mma\u001b[39;00m \u001b[38;5;28;01mimport\u001b[39;00m mrecords\n",
      "File \u001b[1;32mc:\\Users\\phili\\anaconda3\\envs\\jedha\\Lib\\site-packages\\pandas\\core\\internals\\construction.py:503\u001b[0m, in \u001b[0;36mdict_to_mgr\u001b[1;34m(data, index, columns, dtype, typ, copy)\u001b[0m\n\u001b[0;32m    499\u001b[0m     \u001b[38;5;28;01melse\u001b[39;00m:\n\u001b[0;32m    500\u001b[0m         \u001b[38;5;66;03m# dtype check to exclude e.g. range objects, scalars\u001b[39;00m\n\u001b[0;32m    501\u001b[0m         arrays \u001b[38;5;241m=\u001b[39m [x\u001b[38;5;241m.\u001b[39mcopy() \u001b[38;5;28;01mif\u001b[39;00m \u001b[38;5;28mhasattr\u001b[39m(x, \u001b[38;5;124m\"\u001b[39m\u001b[38;5;124mdtype\u001b[39m\u001b[38;5;124m\"\u001b[39m) \u001b[38;5;28;01melse\u001b[39;00m x \u001b[38;5;28;01mfor\u001b[39;00m x \u001b[38;5;129;01min\u001b[39;00m arrays]\n\u001b[1;32m--> 503\u001b[0m \u001b[38;5;28;01mreturn\u001b[39;00m \u001b[43marrays_to_mgr\u001b[49m\u001b[43m(\u001b[49m\u001b[43marrays\u001b[49m\u001b[43m,\u001b[49m\u001b[43m \u001b[49m\u001b[43mcolumns\u001b[49m\u001b[43m,\u001b[49m\u001b[43m \u001b[49m\u001b[43mindex\u001b[49m\u001b[43m,\u001b[49m\u001b[43m \u001b[49m\u001b[43mdtype\u001b[49m\u001b[38;5;241;43m=\u001b[39;49m\u001b[43mdtype\u001b[49m\u001b[43m,\u001b[49m\u001b[43m \u001b[49m\u001b[43mtyp\u001b[49m\u001b[38;5;241;43m=\u001b[39;49m\u001b[43mtyp\u001b[49m\u001b[43m,\u001b[49m\u001b[43m \u001b[49m\u001b[43mconsolidate\u001b[49m\u001b[38;5;241;43m=\u001b[39;49m\u001b[43mcopy\u001b[49m\u001b[43m)\u001b[49m\n",
      "File \u001b[1;32mc:\\Users\\phili\\anaconda3\\envs\\jedha\\Lib\\site-packages\\pandas\\core\\internals\\construction.py:114\u001b[0m, in \u001b[0;36marrays_to_mgr\u001b[1;34m(arrays, columns, index, dtype, verify_integrity, typ, consolidate)\u001b[0m\n\u001b[0;32m    111\u001b[0m \u001b[38;5;28;01mif\u001b[39;00m verify_integrity:\n\u001b[0;32m    112\u001b[0m     \u001b[38;5;66;03m# figure out the index, if necessary\u001b[39;00m\n\u001b[0;32m    113\u001b[0m     \u001b[38;5;28;01mif\u001b[39;00m index \u001b[38;5;129;01mis\u001b[39;00m \u001b[38;5;28;01mNone\u001b[39;00m:\n\u001b[1;32m--> 114\u001b[0m         index \u001b[38;5;241m=\u001b[39m \u001b[43m_extract_index\u001b[49m\u001b[43m(\u001b[49m\u001b[43marrays\u001b[49m\u001b[43m)\u001b[49m\n\u001b[0;32m    115\u001b[0m     \u001b[38;5;28;01melse\u001b[39;00m:\n\u001b[0;32m    116\u001b[0m         index \u001b[38;5;241m=\u001b[39m ensure_index(index)\n",
      "File \u001b[1;32mc:\\Users\\phili\\anaconda3\\envs\\jedha\\Lib\\site-packages\\pandas\\core\\internals\\construction.py:677\u001b[0m, in \u001b[0;36m_extract_index\u001b[1;34m(data)\u001b[0m\n\u001b[0;32m    675\u001b[0m lengths \u001b[38;5;241m=\u001b[39m \u001b[38;5;28mlist\u001b[39m(\u001b[38;5;28mset\u001b[39m(raw_lengths))\n\u001b[0;32m    676\u001b[0m \u001b[38;5;28;01mif\u001b[39;00m \u001b[38;5;28mlen\u001b[39m(lengths) \u001b[38;5;241m>\u001b[39m \u001b[38;5;241m1\u001b[39m:\n\u001b[1;32m--> 677\u001b[0m     \u001b[38;5;28;01mraise\u001b[39;00m \u001b[38;5;167;01mValueError\u001b[39;00m(\u001b[38;5;124m\"\u001b[39m\u001b[38;5;124mAll arrays must be of the same length\u001b[39m\u001b[38;5;124m\"\u001b[39m)\n\u001b[0;32m    679\u001b[0m \u001b[38;5;28;01mif\u001b[39;00m have_dicts:\n\u001b[0;32m    680\u001b[0m     \u001b[38;5;28;01mraise\u001b[39;00m \u001b[38;5;167;01mValueError\u001b[39;00m(\n\u001b[0;32m    681\u001b[0m         \u001b[38;5;124m\"\u001b[39m\u001b[38;5;124mMixing dicts with non-Series may lead to ambiguous ordering.\u001b[39m\u001b[38;5;124m\"\u001b[39m\n\u001b[0;32m    682\u001b[0m     )\n",
      "\u001b[1;31mValueError\u001b[0m: All arrays must be of the same length"
     ]
    }
   ],
   "source": [
    "# find the LogisticRegression within the pipe\n",
    "logistic_model = best_estimator.named_steps[\"logistic\"]  \n",
    "\n",
    "# Get num feature names \n",
    "num_features_names = numeric_features\n",
    "print(num_features_names)\n",
    "\n",
    "# Get category feature names (Z! OneHotEncoder())\n",
    "cat_transformer = preprocessor.named_transformers_['cat']['encoder_cat']\n",
    "categorical_features_names = cat_transformer.get_feature_names_out(categorical_features)\n",
    "print(categorical_features_names)\n",
    "\n",
    "# Stack arrays in sequence horizontally (column wise)\n",
    "all_feature_names = np.hstack([num_features_names, categorical_features_names])\n",
    "print(all_feature_names)\n",
    "\n",
    "# find the coefs from the model\n",
    "coefficients = logistic_model.coef_[0]\n",
    "print(coefficients)\n",
    "\n",
    "features_df = pd.DataFrame({\n",
    "    \"Feature\": all_feature_names,\n",
    "    \"Coefficient\": coefficients\n",
    "})\n",
    "\n",
    "features_df = features_df.reindex(features_df[\"Coefficient\"].abs().sort_values(ascending=False).index)\n",
    "\n",
    "plt.figure(figsize=(10, 6))\n",
    "sns.barplot(x=\"Coefficient\", y=\"Feature\", data=features_df)\n",
    "plt.title(\"Features Importance\")\n",
    "plt.show()"
   ]
  },
  {
   "cell_type": "markdown",
   "metadata": {},
   "source": [
    "# SCRAP Book - Please ignore"
   ]
  },
  {
   "cell_type": "code",
   "execution_count": 58,
   "metadata": {},
   "outputs": [
    {
     "name": "stdout",
     "output_type": "stream",
     "text": [
      "   country  age  new_user  source  total_pages_visited  converted\n",
      "0    China   22         1  Direct                    2          0\n",
      "1       UK   21         1     Ads                    3          0\n",
      "2  Germany   20         0     Seo                   14          1\n",
      "3       US   23         1     Seo                    3          0\n",
      "4       US   28         1  Direct                    3          0 \n",
      "\n",
      "   country  age  new_user  source  total_pages_visited\n",
      "0    China   22         1  Direct                    2\n",
      "1       UK   21         1     Ads                    3\n",
      "2  Germany   20         0     Seo                   14\n",
      "3       US   23         1     Seo                    3\n",
      "4       US   28         1  Direct                    3 \n",
      "\n",
      "[[-0.29  0.5  -0.66  1.    0.    0.    0.    0.    1.    0.  ]\n",
      " [-0.65  0.5  -0.44  0.    0.    1.    0.    1.    0.    0.  ]\n",
      " [-1.01 -2.    1.99  0.    1.    0.    0.    0.    0.    1.  ]\n",
      " [ 0.07  0.5  -0.44  0.    0.    0.    1.    0.    0.    1.  ]\n",
      " [ 1.87  0.5  -0.44  0.    0.    0.    1.    0.    1.    0.  ]] \n",
      "\n",
      "['age' 'new_user' 'total_pages_visited' 'country_China' 'country_Germany'\n",
      " 'country_UK' 'country_US' 'source_Ads' 'source_Direct' 'source_Seo']\n"
     ]
    }
   ],
   "source": [
    "import numpy as np\n",
    "import pandas as pd\n",
    "from sklearn.pipeline import Pipeline\n",
    "from sklearn.compose import ColumnTransformer\n",
    "from sklearn.model_selection import train_test_split\n",
    "from sklearn.preprocessing import OneHotEncoder, StandardScaler, PolynomialFeatures   \n",
    "\n",
    "k_target        = \"converted\"\n",
    "k_test_size     = 20/100    \n",
    "k_random_state  = 42\n",
    "\n",
    "data = {\n",
    "    'country': ['China', 'UK', 'Germany', 'US', 'US'],\n",
    "    'age': [22, 21, 20, 23, 28],\n",
    "    'new_user': [1, 1, 0, 1, 1],\n",
    "    'source': ['Direct', 'Ads', 'Seo', 'Seo', 'Direct'],\n",
    "    'total_pages_visited': [2, 3, 14, 3, 3],\n",
    "    'converted': [0, 0, 1, 0, 0]\n",
    "}\n",
    "\n",
    "df = pd.DataFrame(data)\n",
    "print(df.head(), \"\\n\")\n",
    "\n",
    "X = df.drop(columns = k_target)\n",
    "print(X.head(), \"\\n\")\n",
    "y = df[k_target]\n",
    "\n",
    "numeric_features      = X.select_dtypes(include=\"number\").columns\n",
    "categorical_features  = X.select_dtypes(exclude=\"number\").columns\n",
    "\n",
    "numeric_transformer = Pipeline(\n",
    "  steps=[\n",
    "    (\"scaler_num\", StandardScaler()),\n",
    "  ]\n",
    ")\n",
    "\n",
    "categorical_transformer = Pipeline(\n",
    "  steps=[\n",
    "      (\"encoder_cat\", OneHotEncoder()),                 \n",
    "  ]\n",
    ")\n",
    "\n",
    "preprocessor = ColumnTransformer(\n",
    "  transformers=[\n",
    "    (\"num\", numeric_transformer,     numeric_features),\n",
    "    (\"cat\", categorical_transformer, categorical_features),\n",
    "  ]\n",
    ")\n",
    "\n",
    "X = preprocessor.fit_transform(X)\n",
    "np.set_printoptions(precision=2)\n",
    "print (X, \"\\n\")\n",
    "np.set_printoptions(precision=8) # defaut voir doc\n",
    "\n",
    "\n",
    "\n",
    "numeric_features_names = numeric_features.tolist()\n",
    "cat_transformer = preprocessor.named_transformers_['cat']['encoder_cat']\n",
    "categorical_features_names = cat_transformer.get_feature_names_out(categorical_features)\n",
    "all_feature_names = np.hstack([numeric_features_names, categorical_features_names])\n",
    "print(all_feature_names)"
   ]
  }
 ],
 "metadata": {
  "kernelspec": {
   "display_name": "jedha",
   "language": "python",
   "name": "python3"
  },
  "language_info": {
   "codemirror_mode": {
    "name": "ipython",
    "version": 3
   },
   "file_extension": ".py",
   "mimetype": "text/x-python",
   "name": "python",
   "nbconvert_exporter": "python",
   "pygments_lexer": "ipython3",
   "version": "3.11.7"
  }
 },
 "nbformat": 4,
 "nbformat_minor": 2
}
