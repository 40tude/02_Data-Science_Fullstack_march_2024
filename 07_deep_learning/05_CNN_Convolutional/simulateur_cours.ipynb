{
 "cells": [
  {
   "cell_type": "code",
   "execution_count": 1,
   "metadata": {},
   "outputs": [
    {
     "data": {
      "text/plain": [
       "(array([[ 0., -2.,  5., -2.,  0.],\n",
       "        [ 0., 13.,  4., -4.,  6.],\n",
       "        [ 2.,  7., -2.,  9., -1.],\n",
       "        [ 8.,  7., 10.,  8., -4.],\n",
       "        [ 5.,  2.,  3., -1., -3.]]),\n",
       " array([[ 5.,  2., 14.,  5., -7.],\n",
       "        [ 8., 13., -3.,  7.,  5.],\n",
       "        [ 7., 11.,  4., 11., -2.],\n",
       "        [ 8., 11., 20.,  7., -2.],\n",
       "        [ 2.,  3., 10.,  6.,  7.]]))"
      ]
     },
     "execution_count": 1,
     "metadata": {},
     "output_type": "execute_result"
    }
   ],
   "source": [
    "# Voir https://app.jedha.co/course/convolutional-neural-network-ft/understand-cnn-ft\n",
    "import numpy as np\n",
    "\n",
    "input_0 = np.array([\n",
    "    [0, 0, 0, 0, 0, 0, 0],\n",
    "    [0, 1, 3, 2, 1, 0, 0],\n",
    "    [0, 0, 4, 1, 1, 2, 0],\n",
    "    [0, 0, 2, 2, 4, 1, 0],\n",
    "    [0, 0, 0, 1, 1, 1, 0],\n",
    "    [0, 0, 0, 0, 0, 1, 0],\n",
    "    [0, 0, 0, 0, 0, 0, 0]\n",
    "])\n",
    "\n",
    "input_1 = np.array([\n",
    "    [0, 0, 0, 0, 0, 0, 0],\n",
    "    [0, 1, 1, 0, 2, 0, 0],\n",
    "    [0, 1, 3, 0, 1, 0, 0],\n",
    "    [0, 0, 1, 2, 1, 0, 0],\n",
    "    [0, 0, 0, 2, 1, 1, 0],\n",
    "    [0, 1, 1, 2, 1, 0, 0],\n",
    "    [0, 0, 0, 0, 0, 0, 0]\n",
    "])\n",
    "\n",
    "input_2 = np.array([\n",
    "    [0, 0, 0, 0, 0, 0, 0],\n",
    "    [0, 0, 0, 2, 1, 0, 0],\n",
    "    [0, 1, 1, 0, 3, 0, 0],\n",
    "    [0, 1, 2, 0, 2, 1, 0],\n",
    "    [0, 1, 3, 2, 3, 0, 0],\n",
    "    [0, 0, 1, 1, 2, 1, 0],\n",
    "    [0, 0, 0, 0, 0, 0, 0]\n",
    "])\n",
    "\n",
    "filter_0 = [\n",
    "    np.array([[-1, 1, 2], [0, 1, -1], [1, 0, 0]]),     # For input_0\n",
    "    np.array([[ 1, 1, -1], [-1, -1, 0], [1, 0, 2]]),   # For input_1\n",
    "    np.array([[-2, 1, 2], [1, 0, 0], [0, -1, -1]])     # For input_2\n",
    "]\n",
    "\n",
    "filter_1 = [\n",
    "    np.array([[0, 0, 1], [-1, 2, 0], [2, -2, -1]]),  # For input_0\n",
    "    np.array([[-1, 0, -1], [1, 2, 0], [0, 1, 1]]),   # For input_1\n",
    "    np.array([[1, -1, 0], [0, 2, 1], [-2, 0, 1]])    # For input_2\n",
    "]\n",
    "\n",
    "# Bias terms\n",
    "bias_0 = -1\n",
    "bias_1 = 0\n",
    "\n",
    "# Function to perform convolution (valid mode)\n",
    "def convolve(input_map, kernel):\n",
    "    k_h, k_w = kernel.shape\n",
    "    i_h, i_w = input_map.shape\n",
    "    output_h = i_h - k_h + 1\n",
    "    output_w = i_w - k_w + 1\n",
    "    output = np.zeros((output_h, output_w))\n",
    "    \n",
    "    for i in range(output_h):\n",
    "        for j in range(output_w):\n",
    "            region = input_map[i:i+k_h, j:j+k_w]\n",
    "            output[i, j] = np.sum(region * kernel)\n",
    "    return output\n",
    "\n",
    "# Compute feature maps for Filter 0\n",
    "conv_0_0 = convolve(input_0, filter_0[0])\n",
    "conv_0_1 = convolve(input_1, filter_0[1])\n",
    "conv_0_2 = convolve(input_2, filter_0[2])\n",
    "output_filter_0 = conv_0_0 + conv_0_1 + conv_0_2 + bias_0\n",
    "\n",
    "# Compute feature maps for Filter 1\n",
    "conv_1_0 = convolve(input_0, filter_1[0])\n",
    "conv_1_1 = convolve(input_1, filter_1[1])\n",
    "conv_1_2 = convolve(input_2, filter_1[2])\n",
    "output_filter_1 = conv_1_0 + conv_1_1 + conv_1_2 + bias_1\n",
    "\n",
    "(output_filter_0, output_filter_1)\n"
   ]
  }
 ],
 "metadata": {
  "kernelspec": {
   "display_name": "base",
   "language": "python",
   "name": "python3"
  },
  "language_info": {
   "codemirror_mode": {
    "name": "ipython",
    "version": 3
   },
   "file_extension": ".py",
   "mimetype": "text/x-python",
   "name": "python",
   "nbconvert_exporter": "python",
   "pygments_lexer": "ipython3",
   "version": "3.12.4"
  }
 },
 "nbformat": 4,
 "nbformat_minor": 2
}
