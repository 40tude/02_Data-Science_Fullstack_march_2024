{
 "cells": [
  {
   "cell_type": "markdown",
   "metadata": {},
   "source": [
    "#  AT&T Spam Detector - Random Under Sampler\n"
   ]
  },
  {
   "cell_type": "markdown",
   "metadata": {},
   "source": [
    "# EDA"
   ]
  },
  {
   "cell_type": "code",
   "execution_count": 1,
   "metadata": {},
   "outputs": [],
   "source": [
    "# prelude\n",
    "\n",
    "import pandas as pd\n",
    "import re\n",
    "import en_core_web_sm\n",
    "from spacy.lang.en.stop_words import STOP_WORDS\n",
    "from wordcloud import WordCloud\n",
    "import matplotlib.pyplot as plt\n",
    "import tensorflow as tf\n",
    "from sklearn.model_selection import train_test_split\n",
    "import numpy as np\n",
    "from sklearn.metrics import confusion_matrix\n",
    "import plotly.graph_objects as go\n",
    "\n",
    "# For Random Under Sampler\n",
    "from imblearn.under_sampling import RandomUnderSampler \n",
    "from collections import Counter\n",
    "\n",
    "\n",
    "from pathlib import Path\n",
    "# k_CurrentDir  = Path(__file__).parent    # __file__ is not known in Jupyter context\n",
    "k_Current_dir   = Path.cwd()\n",
    "k_AssetsDir     = \"assets\"\n",
    "k_Gold          = 1.618                    # gold number for ratio\n",
    "k_Width         = 12\n",
    "k_Height        = k_Width/k_Gold\n",
    "k_WidthPx       = 1024\n",
    "k_HeightPx      = k_WidthPx/k_Gold\n",
    "k_random_state  = 42\n",
    "k_test_size     = 0.3\n",
    "k_num_words     = 1_000                    # the number of most freq words to keep during tokenization\n",
    "k_epochs        = 50                       # I tried 10, 20, 50 and 100"
   ]
  },
  {
   "cell_type": "code",
   "execution_count": 2,
   "metadata": {},
   "outputs": [],
   "source": [
    "# -----------------------------------------------------------------------------\n",
    "def quick_View(df: pd.DataFrame) -> pd.DataFrame:\n",
    "\n",
    "    \"\"\"\n",
    "    Generates a summary DataFrame for each column in the input DataFrame.\n",
    "\n",
    "    This function analyzes each column in the given DataFrame and creates a summary that includes\n",
    "    data type, number of null values, percentage of null values, number of non-null values, \n",
    "    number of distinct values, min and max values, outlier bounds (for numeric columns),\n",
    "    and the frequency of distinct values.\n",
    "\n",
    "    Args:\n",
    "        df (pd.DataFrame): The input DataFrame to analyze.\n",
    "\n",
    "    Returns:\n",
    "        pd.DataFrame: A DataFrame containing the summary of each column from the input DataFrame. \n",
    "                      Each row in the resulting DataFrame represents a column from the input DataFrame\n",
    "                      with the following information:\n",
    "                      - \"name\": Column name\n",
    "                      - \"dtype\": Data type of the column\n",
    "                      - \"# null\": Number of null values\n",
    "                      - \"% null\": Percentage of null values\n",
    "                      - \"# NOT null\": Number of non-null values\n",
    "                      - \"distinct val\": Number of distinct values\n",
    "                      - \"-3*sig\": Lower bound for outliers (mean - 3*std) for numeric columns\n",
    "                      - \"min\": Minimum value for numeric columns\n",
    "                      - \"max\": Maximum value for numeric columns\n",
    "                      - \"+3*sig\": Upper bound for outliers (mean + 3*std) for numeric columns\n",
    "                      - \"distinct val count\": Dictionary of distinct value counts or top 10 values for object columns\n",
    "    \"\"\"\n",
    "\n",
    "    summary_lst = []\n",
    "  \n",
    "    for col_name in df.columns:\n",
    "        col_dtype               = df[col_name].dtype\n",
    "        num_of_null             = df[col_name].isnull().sum()\n",
    "        percent_of_null         = num_of_null/len(df)\n",
    "        num_of_non_null         = df[col_name].notnull().sum()\n",
    "        num_of_distinct_values  = df[col_name].nunique()\n",
    "\n",
    "        if num_of_distinct_values <= 10:\n",
    "            distinct_values_counts = df[col_name].value_counts().to_dict()\n",
    "        else:\n",
    "            top_10_values_counts    = df[col_name].value_counts().head(10).to_dict()\n",
    "            distinct_values_counts  = {k: v for k, v in sorted(top_10_values_counts.items(), key=lambda item: item[1], reverse=True)}\n",
    "\n",
    "        if col_dtype != \"object\":\n",
    "            max_of_col = df[col_name].max()\n",
    "            min_of_col = df[col_name].min()\n",
    "            outlier_hi = df[col_name].mean() + 3*df[col_name].std()\n",
    "            outlier_lo = df[col_name].mean() - 3*df[col_name].std()\n",
    "        else:\n",
    "            max_of_col = -1\n",
    "            min_of_col =  1\n",
    "            outlier_hi = -1\n",
    "            outlier_lo =  1\n",
    "\n",
    "        summary_lst.append({\n",
    "            \"name\"                : col_name,\n",
    "            \"dtype\"               : col_dtype,\n",
    "            \"# null\"              : num_of_null,\n",
    "            \"% null\"              : (100*percent_of_null).round(2),\n",
    "            \"# NOT null\"          : num_of_non_null,\n",
    "            \"distinct val\"        : num_of_distinct_values,\n",
    "            \"-3*sig\"              : round(outlier_lo,2) ,\n",
    "            \"min\"                 : round(min_of_col,2),\n",
    "            \"max\"                 : round(max_of_col,2),\n",
    "            \"+3*sig\"              : round(outlier_hi,2) ,\n",
    "            \"distinct val count\"  : distinct_values_counts\n",
    "        })\n",
    "\n",
    "    df_tmp = pd.DataFrame(summary_lst)\n",
    "    return df_tmp"
   ]
  },
  {
   "cell_type": "code",
   "execution_count": 3,
   "metadata": {},
   "outputs": [],
   "source": [
    "# -----------------------------------------------------------------------------\n",
    "# drop empty cols and duplicates, rename cols...\n",
    "def cleaner(df):\n",
    "    df.drop(columns=\"Unnamed: 2\", inplace=True)\n",
    "    df.drop(columns=\"Unnamed: 3\", inplace=True)\n",
    "    df.drop(columns=\"Unnamed: 4\", inplace=True)\n",
    "\n",
    "    df.drop_duplicates(inplace=True)\n",
    "\n",
    "    df.columns = df.columns.str.lower()\n",
    "    df.columns = df.columns.str.replace(\"/\", \"_\")\n",
    "\n",
    "    df.rename(columns={\"v1\": \"target\"}, inplace=True)\n",
    "    df.rename(columns={\"v2\": \"text\"}, inplace=True)\n",
    "\n",
    "    return df"
   ]
  },
  {
   "cell_type": "code",
   "execution_count": 4,
   "metadata": {},
   "outputs": [
    {
     "name": "stdout",
     "output_type": "stream",
     "text": [
      "\n",
      "\n",
      "Preview of the dataset (raw) :\n"
     ]
    },
    {
     "data": {
      "text/html": [
       "<div>\n",
       "<style scoped>\n",
       "    .dataframe tbody tr th:only-of-type {\n",
       "        vertical-align: middle;\n",
       "    }\n",
       "\n",
       "    .dataframe tbody tr th {\n",
       "        vertical-align: top;\n",
       "    }\n",
       "\n",
       "    .dataframe thead th {\n",
       "        text-align: right;\n",
       "    }\n",
       "</style>\n",
       "<table border=\"1\" class=\"dataframe\">\n",
       "  <thead>\n",
       "    <tr style=\"text-align: right;\">\n",
       "      <th></th>\n",
       "      <th>v1</th>\n",
       "      <th>v2</th>\n",
       "      <th>Unnamed: 2</th>\n",
       "      <th>Unnamed: 3</th>\n",
       "      <th>Unnamed: 4</th>\n",
       "    </tr>\n",
       "  </thead>\n",
       "  <tbody>\n",
       "    <tr>\n",
       "      <th>0</th>\n",
       "      <td>ham</td>\n",
       "      <td>Go until jurong point, crazy.. Available only ...</td>\n",
       "      <td>NaN</td>\n",
       "      <td>NaN</td>\n",
       "      <td>NaN</td>\n",
       "    </tr>\n",
       "    <tr>\n",
       "      <th>1</th>\n",
       "      <td>ham</td>\n",
       "      <td>Ok lar... Joking wif u oni...</td>\n",
       "      <td>NaN</td>\n",
       "      <td>NaN</td>\n",
       "      <td>NaN</td>\n",
       "    </tr>\n",
       "    <tr>\n",
       "      <th>2</th>\n",
       "      <td>spam</td>\n",
       "      <td>Free entry in 2 a wkly comp to win FA Cup fina...</td>\n",
       "      <td>NaN</td>\n",
       "      <td>NaN</td>\n",
       "      <td>NaN</td>\n",
       "    </tr>\n",
       "    <tr>\n",
       "      <th>3</th>\n",
       "      <td>ham</td>\n",
       "      <td>U dun say so early hor... U c already then say...</td>\n",
       "      <td>NaN</td>\n",
       "      <td>NaN</td>\n",
       "      <td>NaN</td>\n",
       "    </tr>\n",
       "    <tr>\n",
       "      <th>4</th>\n",
       "      <td>ham</td>\n",
       "      <td>Nah I don't think he goes to usf, he lives aro...</td>\n",
       "      <td>NaN</td>\n",
       "      <td>NaN</td>\n",
       "      <td>NaN</td>\n",
       "    </tr>\n",
       "  </tbody>\n",
       "</table>\n",
       "</div>"
      ],
      "text/plain": [
       "     v1                                                 v2 Unnamed: 2  \\\n",
       "0   ham  Go until jurong point, crazy.. Available only ...        NaN   \n",
       "1   ham                      Ok lar... Joking wif u oni...        NaN   \n",
       "2  spam  Free entry in 2 a wkly comp to win FA Cup fina...        NaN   \n",
       "3   ham  U dun say so early hor... U c already then say...        NaN   \n",
       "4   ham  Nah I don't think he goes to usf, he lives aro...        NaN   \n",
       "\n",
       "  Unnamed: 3 Unnamed: 4  \n",
       "0        NaN        NaN  \n",
       "1        NaN        NaN  \n",
       "2        NaN        NaN  \n",
       "3        NaN        NaN  \n",
       "4        NaN        NaN  "
      ]
     },
     "metadata": {},
     "output_type": "display_data"
    },
    {
     "name": "stdout",
     "output_type": "stream",
     "text": [
      "\n",
      "\n",
      "Preview of the initial dataset :\n"
     ]
    },
    {
     "data": {
      "text/html": [
       "<div>\n",
       "<style scoped>\n",
       "    .dataframe tbody tr th:only-of-type {\n",
       "        vertical-align: middle;\n",
       "    }\n",
       "\n",
       "    .dataframe tbody tr th {\n",
       "        vertical-align: top;\n",
       "    }\n",
       "\n",
       "    .dataframe thead th {\n",
       "        text-align: right;\n",
       "    }\n",
       "</style>\n",
       "<table border=\"1\" class=\"dataframe\">\n",
       "  <thead>\n",
       "    <tr style=\"text-align: right;\">\n",
       "      <th></th>\n",
       "      <th>target</th>\n",
       "      <th>text</th>\n",
       "    </tr>\n",
       "  </thead>\n",
       "  <tbody>\n",
       "    <tr>\n",
       "      <th>0</th>\n",
       "      <td>ham</td>\n",
       "      <td>Go until jurong point, crazy.. Available only ...</td>\n",
       "    </tr>\n",
       "    <tr>\n",
       "      <th>1</th>\n",
       "      <td>ham</td>\n",
       "      <td>Ok lar... Joking wif u oni...</td>\n",
       "    </tr>\n",
       "    <tr>\n",
       "      <th>2</th>\n",
       "      <td>spam</td>\n",
       "      <td>Free entry in 2 a wkly comp to win FA Cup fina...</td>\n",
       "    </tr>\n",
       "    <tr>\n",
       "      <th>3</th>\n",
       "      <td>ham</td>\n",
       "      <td>U dun say so early hor... U c already then say...</td>\n",
       "    </tr>\n",
       "    <tr>\n",
       "      <th>4</th>\n",
       "      <td>ham</td>\n",
       "      <td>Nah I don't think he goes to usf, he lives aro...</td>\n",
       "    </tr>\n",
       "  </tbody>\n",
       "</table>\n",
       "</div>"
      ],
      "text/plain": [
       "  target                                               text\n",
       "0    ham  Go until jurong point, crazy.. Available only ...\n",
       "1    ham                      Ok lar... Joking wif u oni...\n",
       "2   spam  Free entry in 2 a wkly comp to win FA Cup fina...\n",
       "3    ham  U dun say so early hor... U c already then say...\n",
       "4    ham  Nah I don't think he goes to usf, he lives aro..."
      ]
     },
     "metadata": {},
     "output_type": "display_data"
    },
    {
     "name": "stdout",
     "output_type": "stream",
     "text": [
      "\n",
      "\n",
      "The dataset consists of :\n",
      "\t        2 dimensions\n",
      "\t    5_169 observations\n",
      "\t        2 features    \n",
      "\n",
      "\n",
      "It's a binary classification problem\n",
      "\n",
      "\n",
      "% of data type :\n"
     ]
    },
    {
     "data": {
      "text/html": [
       "<div>\n",
       "<style scoped>\n",
       "    .dataframe tbody tr th:only-of-type {\n",
       "        vertical-align: middle;\n",
       "    }\n",
       "\n",
       "    .dataframe tbody tr th {\n",
       "        vertical-align: top;\n",
       "    }\n",
       "\n",
       "    .dataframe thead th {\n",
       "        text-align: right;\n",
       "    }\n",
       "</style>\n",
       "<table border=\"1\" class=\"dataframe\">\n",
       "  <thead>\n",
       "    <tr style=\"text-align: right;\">\n",
       "      <th></th>\n",
       "      <th>types</th>\n",
       "      <th>as_%</th>\n",
       "    </tr>\n",
       "  </thead>\n",
       "  <tbody>\n",
       "    <tr>\n",
       "      <th>object</th>\n",
       "      <td>2</td>\n",
       "      <td>100.0</td>\n",
       "    </tr>\n",
       "  </tbody>\n",
       "</table>\n",
       "</div>"
      ],
      "text/plain": [
       "        types   as_%\n",
       "object      2  100.0"
      ]
     },
     "metadata": {},
     "output_type": "display_data"
    },
    {
     "name": "stdout",
     "output_type": "stream",
     "text": [
      "\n",
      "\n",
      "QuickView :\n"
     ]
    },
    {
     "data": {
      "text/html": [
       "<div>\n",
       "<style scoped>\n",
       "    .dataframe tbody tr th:only-of-type {\n",
       "        vertical-align: middle;\n",
       "    }\n",
       "\n",
       "    .dataframe tbody tr th {\n",
       "        vertical-align: top;\n",
       "    }\n",
       "\n",
       "    .dataframe thead th {\n",
       "        text-align: right;\n",
       "    }\n",
       "</style>\n",
       "<table border=\"1\" class=\"dataframe\">\n",
       "  <thead>\n",
       "    <tr style=\"text-align: right;\">\n",
       "      <th></th>\n",
       "      <th>name</th>\n",
       "      <th>dtype</th>\n",
       "      <th># null</th>\n",
       "      <th>% null</th>\n",
       "      <th># NOT null</th>\n",
       "      <th>distinct val</th>\n",
       "      <th>-3*sig</th>\n",
       "      <th>min</th>\n",
       "      <th>max</th>\n",
       "      <th>+3*sig</th>\n",
       "      <th>distinct val count</th>\n",
       "    </tr>\n",
       "  </thead>\n",
       "  <tbody>\n",
       "    <tr>\n",
       "      <th>0</th>\n",
       "      <td>target</td>\n",
       "      <td>object</td>\n",
       "      <td>0</td>\n",
       "      <td>0.0</td>\n",
       "      <td>5169</td>\n",
       "      <td>2</td>\n",
       "      <td>1</td>\n",
       "      <td>1</td>\n",
       "      <td>-1</td>\n",
       "      <td>-1</td>\n",
       "      <td>{'ham': 4516, 'spam': 653}</td>\n",
       "    </tr>\n",
       "    <tr>\n",
       "      <th>1</th>\n",
       "      <td>text</td>\n",
       "      <td>object</td>\n",
       "      <td>0</td>\n",
       "      <td>0.0</td>\n",
       "      <td>5169</td>\n",
       "      <td>5169</td>\n",
       "      <td>1</td>\n",
       "      <td>1</td>\n",
       "      <td>-1</td>\n",
       "      <td>-1</td>\n",
       "      <td>{'Go until jurong point, crazy.. Available onl...</td>\n",
       "    </tr>\n",
       "  </tbody>\n",
       "</table>\n",
       "</div>"
      ],
      "text/plain": [
       "     name   dtype  # null  % null  # NOT null  distinct val  -3*sig  min  max  \\\n",
       "0  target  object       0     0.0        5169             2       1    1   -1   \n",
       "1    text  object       0     0.0        5169          5169       1    1   -1   \n",
       "\n",
       "   +3*sig                                 distinct val count  \n",
       "0      -1                         {'ham': 4516, 'spam': 653}  \n",
       "1      -1  {'Go until jurong point, crazy.. Available onl...  "
      ]
     },
     "metadata": {},
     "output_type": "display_data"
    },
    {
     "name": "stdout",
     "output_type": "stream",
     "text": [
      "\n",
      "\n",
      "% of missing values :\n"
     ]
    },
    {
     "data": {
      "text/plain": [
       "target    0.0\n",
       "text      0.0\n",
       "dtype: float64"
      ]
     },
     "metadata": {},
     "output_type": "display_data"
    }
   ],
   "source": [
    "# df = pd.read_csv(\"https://full-stack-bigdata-datasets.s3.eu-west-3.amazonaws.com/Deep+Learning/project/spam.csv\", encoding=\"cp1252\")\n",
    "df = pd.read_csv(k_Current_dir / k_AssetsDir / \"spam.csv\", encoding=\"cp1252\")\n",
    "print(f\"\\n\\nPreview of the dataset (raw) :\")\n",
    "display(df.head())\n",
    "\n",
    "df = cleaner(df)\n",
    "# print(df.shape)\n",
    "\n",
    "print(f\"\\n\\nPreview of the initial dataset :\")\n",
    "display(df.head())\n",
    "\n",
    "print(f\"\\n\\nThe dataset consists of :\")\n",
    "print(f\"\\t{len(df.shape):>9_} dimensions\")\n",
    "print(f\"\\t{df.shape[0]:>9_} observations\")\n",
    "print(f\"\\t{df.shape[1]:>9_} features    \")\n",
    "\n",
    "print(f\"\\n\\nIt's a binary classification problem\")\n",
    "\n",
    "df_types = pd.DataFrame ({\n",
    "  \"types\" : df.dtypes.value_counts()\n",
    "})\n",
    "df_types[\"as_%\"] = (100 * df_types[\"types\"]/df_types[\"types\"].sum()).round(2)\n",
    "\n",
    "print(f\"\\n\\n% of data type :\")\n",
    "display(df_types)\n",
    "\n",
    "df_tmp = quick_View(df)\n",
    "print(f\"\\n\\nQuickView :\")\n",
    "display(df_tmp.sort_values(by=\"# null\", ascending=False))   \n",
    "\n",
    "print(f\"\\n\\n% of missing values :\")\n",
    "display(round(df.isnull().sum()/len(df)*100, 2))"
   ]
  },
  {
   "cell_type": "markdown",
   "metadata": {},
   "source": [
    "## <span style=\"color:orange\"><b>Comments :</b></span>\n",
    "* There is no missing values\n",
    "* 5k observations. Will it be enough ?\n",
    "* Unbalanced target"
   ]
  },
  {
   "cell_type": "markdown",
   "metadata": {},
   "source": [
    "## Spam & ham balance"
   ]
  },
  {
   "cell_type": "code",
   "execution_count": 5,
   "metadata": {},
   "outputs": [
    {
     "name": "stdout",
     "output_type": "stream",
     "text": [
      "Nb spam :     653\n",
      "Nb ham  :   4_516\n"
     ]
    },
    {
     "data": {
      "image/png": "[encoded data removed]",
      "text/plain": [
       "<Figure size 1200x741.656 with 1 Axes>"
      ]
     },
     "metadata": {},
     "output_type": "display_data"
    }
   ],
   "source": [
    "counts = df[\"target\"].value_counts()\n",
    "print(f\"Nb spam : {counts['spam']:>7_}\")\n",
    "print(f\"Nb ham  : {counts['ham']:>7_}\")\n",
    "\n",
    "_ = counts.plot.pie(title=\"Weight as %\", autopct=\"%1.1f%%\", figsize=(k_Width, k_Height))"
   ]
  },
  {
   "cell_type": "markdown",
   "metadata": {},
   "source": [
    "### <span style=\"color:orange\"><b>Comments :</b></span>\n",
    "* No surprise, the target is heavily unbalanced"
   ]
  },
  {
   "cell_type": "markdown",
   "metadata": {},
   "source": [
    "# Text processing\n"
   ]
  },
  {
   "cell_type": "markdown",
   "metadata": {},
   "source": [
    "## How ham and spam text look like ?"
   ]
  },
  {
   "cell_type": "code",
   "execution_count": 6,
   "metadata": {},
   "outputs": [
    {
     "name": "stdout",
     "output_type": "stream",
     "text": [
      "\n",
      "\n",
      "HAM : \n",
      "   target                                                                                                                                                                                                  text\n",
      "0     ham                                                                                       Go until jurong point, crazy.. Available only in bugis n great world la e buffet... Cine there got amore wat...\n",
      "1     ham                                                                                                                                                                         Ok lar... Joking wif u oni...\n",
      "3     ham                                                                                                                                                     U dun say so early hor... U c already then say...\n",
      "4     ham                                                                                                                                         Nah I don't think he goes to usf, he lives around here though\n",
      "6     ham                                                                                                                         Even my brother is not like to speak with me. They treat me like aids patent.\n",
      "7     ham                                      As per your request 'Melle Melle (Oru Minnaminunginte Nurungu Vettam)' has been set as your callertune for all Callers. Press *9 to copy your friends Callertune\n",
      "10    ham                                                                                         I'm gonna be home soon and i don't want to talk about this stuff anymore tonight, k? I've cried enough today.\n",
      "13    ham  I've been searching for the right words to thank you for this breather. I promise i wont take your help for granted and will fulfil my promise. You have been wonderful and a blessing at all times.\n",
      "14    ham                                                                                                                                                                   I HAVE A DATE ON SUNDAY WITH WILL!!\n",
      "16    ham                                                                                                                                                                            Oh k...i'm watching here:)\n",
      "17    ham                                                                                                                     Eh u remember how 2 spell his name... Yes i did. He v naughty make until i v wet.\n",
      "18    ham                                                                                                                                            Fine if thatåÕs the way u feel. ThatåÕs the way its gota b\n",
      "20    ham                                                                                                                                                             Is that seriously how you spell his name?\n",
      "21    ham                                                                                                                                                     I‰Û÷m going to try for 2 months ha ha only joking\n",
      "22    ham                                                                                                                                                 So Ì_ pay first lar... Then when is da stock comin...\n",
      "23    ham                                                                                                              Aft i finish my lunch then i go str down lor. Ard 3 smth lor. U finish ur lunch already?\n",
      "24    ham                                                                                                                                             Ffffffffff. Alright no way I can meet up with you sooner?\n",
      "25    ham                                                      Just forced myself to eat a slice. I'm really not hungry tho. This sucks. Mark is getting worried. He knows I'm sick when I turn down pizza. Lol\n",
      "26    ham                                                                                                                                                                        Lol your always so convincing.\n",
      "27    ham                                                                Did you catch the bus ? Are you frying an egg ? Did you make a tea? Are you eating your mom's left over dinner ? Do you feel my Love ?\n"
     ]
    }
   ],
   "source": [
    "print(f\"\\n\\nHAM : \")\n",
    "# pd.set_option(\"display.max_colwidth\", 1000)\n",
    "# print(df[df[\"target\"]==\"ham\"].head(20))\n",
    "print(df[df[\"target\"]==\"ham\"].head(20).to_string())"
   ]
  },
  {
   "cell_type": "code",
   "execution_count": 7,
   "metadata": {},
   "outputs": [
    {
     "name": "stdout",
     "output_type": "stream",
     "text": [
      "\n",
      "\n",
      "SPAM : \n",
      "    target                                                                                                                                                                          text\n",
      "2     spam                   Free entry in 2 a wkly comp to win FA Cup final tkts 21st May 2005. Text FA to 87121 to receive entry question(std txt rate)T&C's apply 08452810075over18's\n",
      "5     spam                          FreeMsg Hey there darling it's been 3 week's now and no word back! I'd like some fun you up for it still? Tb ok! XxX std chgs to send, å£1.50 to rcv\n",
      "8     spam                WINNER!! As a valued network customer you have been selected to receivea å£900 prize reward! To claim call 09061701461. Claim code KL341. Valid 12 hours only.\n",
      "9     spam                    Had your mobile 11 months or more? U R entitled to Update to the latest colour mobiles with camera for Free! Call The Mobile Update Co FREE on 08002986030\n",
      "11    spam                                      SIX chances to win CASH! From 100 to 20,000 pounds txt> CSH11 and send to 87575. Cost 150p/day, 6days, 16+ TsandCs apply Reply HL 4 info\n",
      "12    spam                  URGENT! You have won a 1 week FREE membership in our å£100,000 Prize Jackpot! Txt the word: CLAIM to No: 81010 T&C www.dbuk.net LCCLTD POBOX 4403LDNW1A7RW18\n",
      "15    spam                         XXXMobileMovieClub: To use your credit, click the WAP link in the next txt message or click here>> http://wap. xxxmobilemovieclub.com?n=QJKGIGHJJGCBL\n",
      "19    spam                  England v Macedonia - dont miss the goals/team news. Txt ur national team to 87077 eg ENGLAND to 87077 Try:WALES, SCOTLAND 4txt/Ì¼1.20 POBOXox36504W45WQ 16+\n",
      "34    spam               Thanks for your subscription to Ringtone UK your mobile will be charged å£5/month Please confirm by replying YES or NO. If you reply NO you will not be charged\n",
      "42    spam  07732584351 - Rodger Burns - MSG = We tried to call you re your reply to our sms for a free nokia mobile + free camcorder. Please call now 08000930705 for delivery tomorrow\n",
      "54    spam                                                      SMS. ac Sptv: The New Jersey Devils and the Detroit Red Wings play Ice Hockey. Correct or Incorrect? End? Reply END SPTV\n",
      "56    spam             Congrats! 1 year special cinema pass for 2 is yours. call 09061209465 now! C Suprman V, Matrix3, StarWars3, etc all 4 FREE! bx420-ip4-5we. 150pm. Dont miss out! \n",
      "65    spam                     As a valued customer, I am pleased to advise you that following recent review of your Mob No. you are awarded with a å£1500 Bonus Prize, call 09066364589\n",
      "67    spam             Urgent UR awarded a complimentary trip to EuroDisinc Trav, Aco&Entry41 Or å£1000. To claim txt DIS to 87121 18+6*å£1.50(moreFrmMob. ShrAcomOrSglSuplt)10, LS1 3AJ\n",
      "68    spam                                                                                              Did you hear about the new \\Divorce Barbie\\\"? It comes with all of Ken's stuff!\"\n",
      "93    spam                                   Please call our customer service representative on 0800 169 6031 between 10am-9pm as you have WON a guaranteed å£1000 cash or å£5000 prize!\n",
      "95    spam                                                 Your free ringtone is waiting to be collected. Simply text the password \\MIX\\\" to 85069 to verify. Get Usher and Britney. FML\n",
      "113   spam               GENT! We are trying to contact you. Last weekends draw shows that you won a å£1000 prize GUARANTEED. Call 09064012160. Claim Code K52. Valid 12hrs only. 150ppm\n",
      "116   spam                     You are a winner U have been specially selected 2 receive å£1000 or a 4* holiday (flights inc) speak to a live operator 2 claim 0871277810910p/min (18+) \n",
      "119   spam                              PRIVATE! Your 2004 Account Statement for 07742676969 shows 786 unredeemed Bonus Points. To claim call 08719180248 Identifier Code: 45239 Expires\n"
     ]
    }
   ],
   "source": [
    "print(f\"\\n\\nSPAM : \")\n",
    "print(df[df[\"target\"]==\"spam\"].head(20).to_string())"
   ]
  },
  {
   "cell_type": "markdown",
   "metadata": {},
   "source": [
    "## Cleaning"
   ]
  },
  {
   "cell_type": "code",
   "execution_count": 8,
   "metadata": {},
   "outputs": [
    {
     "data": {
      "text/html": [
       "<div>\n",
       "<style scoped>\n",
       "    .dataframe tbody tr th:only-of-type {\n",
       "        vertical-align: middle;\n",
       "    }\n",
       "\n",
       "    .dataframe tbody tr th {\n",
       "        vertical-align: top;\n",
       "    }\n",
       "\n",
       "    .dataframe thead th {\n",
       "        text-align: right;\n",
       "    }\n",
       "</style>\n",
       "<table border=\"1\" class=\"dataframe\">\n",
       "  <thead>\n",
       "    <tr style=\"text-align: right;\">\n",
       "      <th></th>\n",
       "      <th>target</th>\n",
       "      <th>text</th>\n",
       "      <th>clean_docs</th>\n",
       "    </tr>\n",
       "  </thead>\n",
       "  <tbody>\n",
       "    <tr>\n",
       "      <th>0</th>\n",
       "      <td>ham</td>\n",
       "      <td>Go until jurong point, crazy.. Available only ...</td>\n",
       "      <td>go until jurong point  crazy  available only i...</td>\n",
       "    </tr>\n",
       "    <tr>\n",
       "      <th>1</th>\n",
       "      <td>ham</td>\n",
       "      <td>Ok lar... Joking wif u oni...</td>\n",
       "      <td>ok lar  joking wif u oni</td>\n",
       "    </tr>\n",
       "    <tr>\n",
       "      <th>2</th>\n",
       "      <td>spam</td>\n",
       "      <td>Free entry in 2 a wkly comp to win FA Cup fina...</td>\n",
       "      <td>free entry in 2 a wkly comp to win fa cup fina...</td>\n",
       "    </tr>\n",
       "    <tr>\n",
       "      <th>3</th>\n",
       "      <td>ham</td>\n",
       "      <td>U dun say so early hor... U c already then say...</td>\n",
       "      <td>u dun say so early hor  u c already then say</td>\n",
       "    </tr>\n",
       "    <tr>\n",
       "      <th>4</th>\n",
       "      <td>ham</td>\n",
       "      <td>Nah I don't think he goes to usf, he lives aro...</td>\n",
       "      <td>nah i don't think he goes to usf  he lives aro...</td>\n",
       "    </tr>\n",
       "    <tr>\n",
       "      <th>...</th>\n",
       "      <td>...</td>\n",
       "      <td>...</td>\n",
       "      <td>...</td>\n",
       "    </tr>\n",
       "    <tr>\n",
       "      <th>5567</th>\n",
       "      <td>spam</td>\n",
       "      <td>This is the 2nd time we have tried 2 contact u...</td>\n",
       "      <td>this is the 2nd time we have tried 2 contact u...</td>\n",
       "    </tr>\n",
       "    <tr>\n",
       "      <th>5568</th>\n",
       "      <td>ham</td>\n",
       "      <td>Will Ì_ b going to esplanade fr home?</td>\n",
       "      <td>will ì  b going to esplanade fr home</td>\n",
       "    </tr>\n",
       "    <tr>\n",
       "      <th>5569</th>\n",
       "      <td>ham</td>\n",
       "      <td>Pity, * was in mood for that. So...any other s...</td>\n",
       "      <td>pity    was in mood for that  so any other sug...</td>\n",
       "    </tr>\n",
       "    <tr>\n",
       "      <th>5570</th>\n",
       "      <td>ham</td>\n",
       "      <td>The guy did some bitching but I acted like i'd...</td>\n",
       "      <td>the guy did some bitching but i acted like i'd...</td>\n",
       "    </tr>\n",
       "    <tr>\n",
       "      <th>5571</th>\n",
       "      <td>ham</td>\n",
       "      <td>Rofl. Its true to its name</td>\n",
       "      <td>rofl  its true to its name</td>\n",
       "    </tr>\n",
       "  </tbody>\n",
       "</table>\n",
       "<p>5169 rows × 3 columns</p>\n",
       "</div>"
      ],
      "text/plain": [
       "     target                                               text  \\\n",
       "0       ham  Go until jurong point, crazy.. Available only ...   \n",
       "1       ham                      Ok lar... Joking wif u oni...   \n",
       "2      spam  Free entry in 2 a wkly comp to win FA Cup fina...   \n",
       "3       ham  U dun say so early hor... U c already then say...   \n",
       "4       ham  Nah I don't think he goes to usf, he lives aro...   \n",
       "...     ...                                                ...   \n",
       "5567   spam  This is the 2nd time we have tried 2 contact u...   \n",
       "5568    ham              Will Ì_ b going to esplanade fr home?   \n",
       "5569    ham  Pity, * was in mood for that. So...any other s...   \n",
       "5570    ham  The guy did some bitching but I acted like i'd...   \n",
       "5571    ham                         Rofl. Its true to its name   \n",
       "\n",
       "                                             clean_docs  \n",
       "0     go until jurong point  crazy  available only i...  \n",
       "1                             ok lar  joking wif u oni   \n",
       "2     free entry in 2 a wkly comp to win fa cup fina...  \n",
       "3         u dun say so early hor  u c already then say   \n",
       "4     nah i don't think he goes to usf  he lives aro...  \n",
       "...                                                 ...  \n",
       "5567  this is the 2nd time we have tried 2 contact u...  \n",
       "5568              will ì  b going to esplanade fr home   \n",
       "5569  pity    was in mood for that  so any other sug...  \n",
       "5570  the guy did some bitching but i acted like i'd...  \n",
       "5571                         rofl  its true to its name  \n",
       "\n",
       "[5169 rows x 3 columns]"
      ]
     },
     "execution_count": 8,
     "metadata": {},
     "output_type": "execute_result"
    }
   ],
   "source": [
    "# The 2 lines below can help to print the punctuation signs\n",
    "# import string \n",
    "# string.punctuation\n",
    "\n",
    "# Remove punctuation  \n",
    "df[\"clean_docs\"] = df[\"text\"].apply(lambda x: re.sub(\"[!\\\"#$%&()*+,-./:;<=>?@\\[\\]^_`{|}~\\\\\\]+\",\" \", x)) \n",
    "\n",
    "# fillna() makes sure NA is replaced with \"\" so that lowering case do not generate error\n",
    "df[\"clean_docs\"] = df[\"clean_docs\"].fillna(\"\").apply(lambda x: x.lower())\n",
    "\n",
    "# df[\"clean_docs\"].head(20)\n",
    "df\n"
   ]
  },
  {
   "cell_type": "markdown",
   "metadata": {},
   "source": [
    "## Tokenization"
   ]
  },
  {
   "cell_type": "code",
   "execution_count": 9,
   "metadata": {},
   "outputs": [
    {
     "data": {
      "text/html": [
       "<div>\n",
       "<style scoped>\n",
       "    .dataframe tbody tr th:only-of-type {\n",
       "        vertical-align: middle;\n",
       "    }\n",
       "\n",
       "    .dataframe tbody tr th {\n",
       "        vertical-align: top;\n",
       "    }\n",
       "\n",
       "    .dataframe thead th {\n",
       "        text-align: right;\n",
       "    }\n",
       "</style>\n",
       "<table border=\"1\" class=\"dataframe\">\n",
       "  <thead>\n",
       "    <tr style=\"text-align: right;\">\n",
       "      <th></th>\n",
       "      <th>target</th>\n",
       "      <th>text</th>\n",
       "      <th>clean_docs</th>\n",
       "      <th>tokenized_docs</th>\n",
       "      <th>clean_tokens</th>\n",
       "    </tr>\n",
       "  </thead>\n",
       "  <tbody>\n",
       "    <tr>\n",
       "      <th>0</th>\n",
       "      <td>0</td>\n",
       "      <td>Go until jurong point, crazy.. Available only ...</td>\n",
       "      <td>go until jurong point  crazy  available only i...</td>\n",
       "      <td>[jurong, point,  , crazy,  , available, bugis,...</td>\n",
       "      <td>jurong point   crazy   available bugis n great...</td>\n",
       "    </tr>\n",
       "    <tr>\n",
       "      <th>1</th>\n",
       "      <td>0</td>\n",
       "      <td>Ok lar... Joking wif u oni...</td>\n",
       "      <td>ok lar  joking wif u oni</td>\n",
       "      <td>[ok, lar,  , joke, wif, u, oni]</td>\n",
       "      <td>ok lar   joke wif u oni</td>\n",
       "    </tr>\n",
       "    <tr>\n",
       "      <th>2</th>\n",
       "      <td>1</td>\n",
       "      <td>Free entry in 2 a wkly comp to win FA Cup fina...</td>\n",
       "      <td>free entry in 2 a wkly comp to win fa cup fina...</td>\n",
       "      <td>[free, entry, 2, wkly, comp, win, fa, cup, fin...</td>\n",
       "      <td>free entry 2 wkly comp win fa cup final tkts 2...</td>\n",
       "    </tr>\n",
       "    <tr>\n",
       "      <th>3</th>\n",
       "      <td>0</td>\n",
       "      <td>U dun say so early hor... U c already then say...</td>\n",
       "      <td>u dun say so early hor  u c already then say</td>\n",
       "      <td>[u, dun, early, hor,  , u, c]</td>\n",
       "      <td>u dun early hor   u c</td>\n",
       "    </tr>\n",
       "    <tr>\n",
       "      <th>4</th>\n",
       "      <td>0</td>\n",
       "      <td>Nah I don't think he goes to usf, he lives aro...</td>\n",
       "      <td>nah i don't think he goes to usf  he lives aro...</td>\n",
       "      <td>[nah, think, go, usf,  , live]</td>\n",
       "      <td>nah think go usf   live</td>\n",
       "    </tr>\n",
       "    <tr>\n",
       "      <th>...</th>\n",
       "      <td>...</td>\n",
       "      <td>...</td>\n",
       "      <td>...</td>\n",
       "      <td>...</td>\n",
       "      <td>...</td>\n",
       "    </tr>\n",
       "    <tr>\n",
       "      <th>5567</th>\n",
       "      <td>1</td>\n",
       "      <td>This is the 2nd time we have tried 2 contact u...</td>\n",
       "      <td>this is the 2nd time we have tried 2 contact u...</td>\n",
       "      <td>[2nd, time, try, 2, contact, u,  , u, win, å£7...</td>\n",
       "      <td>2nd time try 2 contact u   u win å£750 pound p...</td>\n",
       "    </tr>\n",
       "    <tr>\n",
       "      <th>5568</th>\n",
       "      <td>0</td>\n",
       "      <td>Will Ì_ b going to esplanade fr home?</td>\n",
       "      <td>will ì  b going to esplanade fr home</td>\n",
       "      <td>[ì,  , b, go, esplanade, fr, home]</td>\n",
       "      <td>ì   b go esplanade fr home</td>\n",
       "    </tr>\n",
       "    <tr>\n",
       "      <th>5569</th>\n",
       "      <td>0</td>\n",
       "      <td>Pity, * was in mood for that. So...any other s...</td>\n",
       "      <td>pity    was in mood for that  so any other sug...</td>\n",
       "      <td>[pity,    , mood,  , suggestion]</td>\n",
       "      <td>pity     mood   suggestion</td>\n",
       "    </tr>\n",
       "    <tr>\n",
       "      <th>5570</th>\n",
       "      <td>0</td>\n",
       "      <td>The guy did some bitching but I acted like i'd...</td>\n",
       "      <td>the guy did some bitching but i acted like i'd...</td>\n",
       "      <td>[guy, bitching, act, like, interested, buy, we...</td>\n",
       "      <td>guy bitching act like interested buy week give...</td>\n",
       "    </tr>\n",
       "    <tr>\n",
       "      <th>5571</th>\n",
       "      <td>0</td>\n",
       "      <td>Rofl. Its true to its name</td>\n",
       "      <td>rofl  its true to its name</td>\n",
       "      <td>[rofl,  , true]</td>\n",
       "      <td>rofl   true</td>\n",
       "    </tr>\n",
       "  </tbody>\n",
       "</table>\n",
       "<p>5169 rows × 5 columns</p>\n",
       "</div>"
      ],
      "text/plain": [
       "      target                                               text  \\\n",
       "0          0  Go until jurong point, crazy.. Available only ...   \n",
       "1          0                      Ok lar... Joking wif u oni...   \n",
       "2          1  Free entry in 2 a wkly comp to win FA Cup fina...   \n",
       "3          0  U dun say so early hor... U c already then say...   \n",
       "4          0  Nah I don't think he goes to usf, he lives aro...   \n",
       "...      ...                                                ...   \n",
       "5567       1  This is the 2nd time we have tried 2 contact u...   \n",
       "5568       0              Will Ì_ b going to esplanade fr home?   \n",
       "5569       0  Pity, * was in mood for that. So...any other s...   \n",
       "5570       0  The guy did some bitching but I acted like i'd...   \n",
       "5571       0                         Rofl. Its true to its name   \n",
       "\n",
       "                                             clean_docs  \\\n",
       "0     go until jurong point  crazy  available only i...   \n",
       "1                             ok lar  joking wif u oni    \n",
       "2     free entry in 2 a wkly comp to win fa cup fina...   \n",
       "3         u dun say so early hor  u c already then say    \n",
       "4     nah i don't think he goes to usf  he lives aro...   \n",
       "...                                                 ...   \n",
       "5567  this is the 2nd time we have tried 2 contact u...   \n",
       "5568              will ì  b going to esplanade fr home    \n",
       "5569  pity    was in mood for that  so any other sug...   \n",
       "5570  the guy did some bitching but i acted like i'd...   \n",
       "5571                         rofl  its true to its name   \n",
       "\n",
       "                                         tokenized_docs  \\\n",
       "0     [jurong, point,  , crazy,  , available, bugis,...   \n",
       "1                       [ok, lar,  , joke, wif, u, oni]   \n",
       "2     [free, entry, 2, wkly, comp, win, fa, cup, fin...   \n",
       "3                         [u, dun, early, hor,  , u, c]   \n",
       "4                        [nah, think, go, usf,  , live]   \n",
       "...                                                 ...   \n",
       "5567  [2nd, time, try, 2, contact, u,  , u, win, å£7...   \n",
       "5568                 [ì,  , b, go, esplanade, fr, home]   \n",
       "5569                   [pity,    , mood,  , suggestion]   \n",
       "5570  [guy, bitching, act, like, interested, buy, we...   \n",
       "5571                                    [rofl,  , true]   \n",
       "\n",
       "                                           clean_tokens  \n",
       "0     jurong point   crazy   available bugis n great...  \n",
       "1                               ok lar   joke wif u oni  \n",
       "2     free entry 2 wkly comp win fa cup final tkts 2...  \n",
       "3                                 u dun early hor   u c  \n",
       "4                               nah think go usf   live  \n",
       "...                                                 ...  \n",
       "5567  2nd time try 2 contact u   u win å£750 pound p...  \n",
       "5568                         ì   b go esplanade fr home  \n",
       "5569                         pity     mood   suggestion  \n",
       "5570  guy bitching act like interested buy week give...  \n",
       "5571                                        rofl   true  \n",
       "\n",
       "[5169 rows x 5 columns]"
      ]
     },
     "execution_count": 9,
     "metadata": {},
     "output_type": "execute_result"
    }
   ],
   "source": [
    "nlp = en_core_web_sm.load()\n",
    "\n",
    "# Tokenize the cleaned document\n",
    "df[\"tokenized_docs\"] = df[\"clean_docs\"].fillna(\"\").apply(lambda x: nlp(x))\n",
    "\n",
    "# remove stop-words, replace words with their lemma\n",
    "df[\"tokenized_docs\"] = df[\"tokenized_docs\"].apply(lambda x: [token.lemma_ for token in x if token.text not in STOP_WORDS])\n",
    "# df[\"tokenized_docs\"].head(20)\n",
    "\n",
    "# clean up tokenized documents\n",
    "df[\"clean_tokens\"] = [\" \".join(x) for x in df[\"tokenized_docs\"]]\n",
    "\n",
    "# set the target as boolean value (spam=1) \n",
    "df[\"target\"] = df[\"target\"].map({\"ham\":0,\"spam\":1})\n",
    "df\n"
   ]
  },
  {
   "cell_type": "markdown",
   "metadata": {},
   "source": [
    "## Word Cloud"
   ]
  },
  {
   "cell_type": "code",
   "execution_count": 10,
   "metadata": {},
   "outputs": [
    {
     "data": {
      "image/png": "[encoded data removed]",
      "text/plain": [
       "<Figure size 741.656x1200 with 1 Axes>"
      ]
     },
     "metadata": {},
     "output_type": "display_data"
    },
    {
     "data": {
      "image/png": "[encoded data removed]",
      "text/plain": [
       "<Figure size 741.656x1200 with 1 Axes>"
      ]
     },
     "metadata": {},
     "output_type": "display_data"
    }
   ],
   "source": [
    "for i in set(df[\"target\"]):\n",
    "    words = \"\"\n",
    "    for doc in df[df[\"target\"] == i][\"text\"]:\n",
    "        words += doc + \" \"\n",
    "    wordcloud = WordCloud().generate(words)\n",
    "    plt.figure(figsize = (k_Height, k_Width))\n",
    "    plt.imshow(wordcloud)\n",
    "    plt.axis(\"off\")\n",
    "    plt.title(f\"WordCloud for {'spam' if i==1 else 'ham'}\")\n",
    "    plt.show()"
   ]
  },
  {
   "cell_type": "markdown",
   "metadata": {},
   "source": [
    "### <span style=\"color:orange\"><b>Comments :</b></span>\n",
    "\n",
    "* With no surprise \"free\", \"call\", \"now\"... are dominant in spams sms\n",
    "* Surprisingly \"sex\" and \"viagra\" are missing 😁"
   ]
  },
  {
   "cell_type": "markdown",
   "metadata": {},
   "source": [
    "## Word occurrences"
   ]
  },
  {
   "cell_type": "code",
   "execution_count": 11,
   "metadata": {},
   "outputs": [],
   "source": [
    "def word_occurences_report(target):\n",
    "    df_tmp = \" \".join(df[df[\"target\"] == target][\"clean_tokens\"])\n",
    "    df_tmp = pd.DataFrame(df_tmp.split(\" \"))\n",
    "    df_tmp = df_tmp.value_counts(ascending=False)\n",
    "\n",
    "    df_tmp = df_tmp.reset_index()  \n",
    "    df_tmp.columns = [\"word\", \"occurrences\"]  \n",
    "    df_tmp.set_index(\"word\", inplace=True)  \n",
    "    display(df_tmp)\n",
    "\n",
    "    # print(f\"About words in ham :\")\n",
    "    print(f\"{len(df_tmp):>6_} differents words\")\n",
    "    print(f\"{df_tmp['occurrences'].sum():>6_} occurrences\")\n",
    "    pareto = int(df_tmp['occurrences'].sum()*0.8)\n",
    "    print(f\"{pareto:>6_} = 80% of thoses occurrences\")\n",
    "\n",
    "    i = 100\n",
    "    while df_tmp['occurrences'].head(i).sum()<pareto:\n",
    "        i+=100\n",
    "\n",
    "    print(f\"{i:6_} ({100*i/len(df_tmp):.0f} %) words are needed to cover 80% of the occurrences\")\n",
    "    print(f\"\\n\\n\\n\")\n",
    "    return"
   ]
  },
  {
   "cell_type": "code",
   "execution_count": 12,
   "metadata": {},
   "outputs": [
    {
     "name": "stdout",
     "output_type": "stream",
     "text": [
      "About words in spam :\n"
     ]
    },
    {
     "data": {
      "text/html": [
       "<div>\n",
       "<style scoped>\n",
       "    .dataframe tbody tr th:only-of-type {\n",
       "        vertical-align: middle;\n",
       "    }\n",
       "\n",
       "    .dataframe tbody tr th {\n",
       "        vertical-align: top;\n",
       "    }\n",
       "\n",
       "    .dataframe thead th {\n",
       "        text-align: right;\n",
       "    }\n",
       "</style>\n",
       "<table border=\"1\" class=\"dataframe\">\n",
       "  <thead>\n",
       "    <tr style=\"text-align: right;\">\n",
       "      <th></th>\n",
       "      <th>occurrences</th>\n",
       "    </tr>\n",
       "    <tr>\n",
       "      <th>word</th>\n",
       "      <th></th>\n",
       "    </tr>\n",
       "  </thead>\n",
       "  <tbody>\n",
       "    <tr>\n",
       "      <th></th>\n",
       "      <td>4422</td>\n",
       "    </tr>\n",
       "    <tr>\n",
       "      <th>free</th>\n",
       "      <td>195</td>\n",
       "    </tr>\n",
       "    <tr>\n",
       "      <th>2</th>\n",
       "      <td>171</td>\n",
       "    </tr>\n",
       "    <tr>\n",
       "      <th>txt</th>\n",
       "      <td>142</td>\n",
       "    </tr>\n",
       "    <tr>\n",
       "      <th>u</th>\n",
       "      <td>141</td>\n",
       "    </tr>\n",
       "    <tr>\n",
       "      <th>...</th>\n",
       "      <td>...</td>\n",
       "    </tr>\n",
       "    <tr>\n",
       "      <th>complete</th>\n",
       "      <td>1</td>\n",
       "    </tr>\n",
       "    <tr>\n",
       "      <th>complementary</th>\n",
       "      <td>1</td>\n",
       "    </tr>\n",
       "    <tr>\n",
       "      <th>compensation</th>\n",
       "      <td>1</td>\n",
       "    </tr>\n",
       "    <tr>\n",
       "      <th>compare</th>\n",
       "      <td>1</td>\n",
       "    </tr>\n",
       "    <tr>\n",
       "      <th>‰ûïharry</th>\n",
       "      <td>1</td>\n",
       "    </tr>\n",
       "  </tbody>\n",
       "</table>\n",
       "<p>2558 rows × 1 columns</p>\n",
       "</div>"
      ],
      "text/plain": [
       "               occurrences\n",
       "word                      \n",
       "                      4422\n",
       "free                   195\n",
       "2                      171\n",
       "txt                    142\n",
       "u                      141\n",
       "...                    ...\n",
       "complete                 1\n",
       "complementary            1\n",
       "compensation             1\n",
       "compare                  1\n",
       "‰ûïharry                 1\n",
       "\n",
       "[2558 rows x 1 columns]"
      ]
     },
     "metadata": {},
     "output_type": "display_data"
    },
    {
     "name": "stdout",
     "output_type": "stream",
     "text": [
      " 2_558 differents words\n",
      "15_527 occurrences\n",
      "12_421 = 80% of thoses occurrences\n",
      "   500 (20 %) words are needed to cover 80% of the occurrences\n",
      "\n",
      "\n",
      "\n",
      "\n",
      "About words in ham :\n"
     ]
    },
    {
     "data": {
      "text/html": [
       "<div>\n",
       "<style scoped>\n",
       "    .dataframe tbody tr th:only-of-type {\n",
       "        vertical-align: middle;\n",
       "    }\n",
       "\n",
       "    .dataframe tbody tr th {\n",
       "        vertical-align: top;\n",
       "    }\n",
       "\n",
       "    .dataframe thead th {\n",
       "        text-align: right;\n",
       "    }\n",
       "</style>\n",
       "<table border=\"1\" class=\"dataframe\">\n",
       "  <thead>\n",
       "    <tr style=\"text-align: right;\">\n",
       "      <th></th>\n",
       "      <th>occurrences</th>\n",
       "    </tr>\n",
       "    <tr>\n",
       "      <th>word</th>\n",
       "      <th></th>\n",
       "    </tr>\n",
       "  </thead>\n",
       "  <tbody>\n",
       "    <tr>\n",
       "      <th></th>\n",
       "      <td>15231</td>\n",
       "    </tr>\n",
       "    <tr>\n",
       "      <th>u</th>\n",
       "      <td>902</td>\n",
       "    </tr>\n",
       "    <tr>\n",
       "      <th>go</th>\n",
       "      <td>310</td>\n",
       "    </tr>\n",
       "    <tr>\n",
       "      <th>2</th>\n",
       "      <td>302</td>\n",
       "    </tr>\n",
       "    <tr>\n",
       "      <th>come</th>\n",
       "      <td>299</td>\n",
       "    </tr>\n",
       "    <tr>\n",
       "      <th>...</th>\n",
       "      <td>...</td>\n",
       "    </tr>\n",
       "    <tr>\n",
       "      <th>breath</th>\n",
       "      <td>1</td>\n",
       "    </tr>\n",
       "    <tr>\n",
       "      <th>breakin</th>\n",
       "      <td>1</td>\n",
       "    </tr>\n",
       "    <tr>\n",
       "      <th>breakfast</th>\n",
       "      <td>1</td>\n",
       "    </tr>\n",
       "    <tr>\n",
       "      <th>lovin</th>\n",
       "      <td>1</td>\n",
       "    </tr>\n",
       "    <tr>\n",
       "      <th>‹û¬ud</th>\n",
       "      <td>1</td>\n",
       "    </tr>\n",
       "  </tbody>\n",
       "</table>\n",
       "<p>5728 rows × 1 columns</p>\n",
       "</div>"
      ],
      "text/plain": [
       "           occurrences\n",
       "word                  \n",
       "                 15231\n",
       "u                  902\n",
       "go                 310\n",
       "2                  302\n",
       "come               299\n",
       "...                ...\n",
       "breath               1\n",
       "breakin              1\n",
       "breakfast            1\n",
       "lovin                1\n",
       "‹û¬ud                1\n",
       "\n",
       "[5728 rows x 1 columns]"
      ]
     },
     "metadata": {},
     "output_type": "display_data"
    },
    {
     "name": "stdout",
     "output_type": "stream",
     "text": [
      " 5_728 differents words\n",
      "47_980 occurrences\n",
      "38_384 = 80% of thoses occurrences\n",
      "   700 (12 %) words are needed to cover 80% of the occurrences\n",
      "\n",
      "\n",
      "\n",
      "\n"
     ]
    }
   ],
   "source": [
    "print(f\"About words in spam :\")\n",
    "word_occurences_report(1)\n",
    "\n",
    "print(f\"About words in ham :\")\n",
    "word_occurences_report(0)\n"
   ]
  },
  {
   "cell_type": "markdown",
   "metadata": {},
   "source": [
    "## Encoding"
   ]
  },
  {
   "cell_type": "code",
   "execution_count": 13,
   "metadata": {},
   "outputs": [
    {
     "data": {
      "text/html": [
       "<div>\n",
       "<style scoped>\n",
       "    .dataframe tbody tr th:only-of-type {\n",
       "        vertical-align: middle;\n",
       "    }\n",
       "\n",
       "    .dataframe tbody tr th {\n",
       "        vertical-align: top;\n",
       "    }\n",
       "\n",
       "    .dataframe thead th {\n",
       "        text-align: right;\n",
       "    }\n",
       "</style>\n",
       "<table border=\"1\" class=\"dataframe\">\n",
       "  <thead>\n",
       "    <tr style=\"text-align: right;\">\n",
       "      <th></th>\n",
       "      <th>target</th>\n",
       "      <th>text</th>\n",
       "      <th>clean_docs</th>\n",
       "      <th>tokenized_docs</th>\n",
       "      <th>clean_tokens</th>\n",
       "      <th>sms_encoded</th>\n",
       "    </tr>\n",
       "  </thead>\n",
       "  <tbody>\n",
       "    <tr>\n",
       "      <th>0</th>\n",
       "      <td>0</td>\n",
       "      <td>Go until jurong point, crazy.. Available only ...</td>\n",
       "      <td>go until jurong point  crazy  available only i...</td>\n",
       "      <td>[jurong, point,  , crazy,  , available, bugis,...</td>\n",
       "      <td>jurong point   crazy   available bugis n great...</td>\n",
       "      <td>[1, 253, 446, 469, 922, 37, 60, 272, 923, 75, ...</td>\n",
       "    </tr>\n",
       "    <tr>\n",
       "      <th>1</th>\n",
       "      <td>0</td>\n",
       "      <td>Ok lar... Joking wif u oni...</td>\n",
       "      <td>ok lar  joking wif u oni</td>\n",
       "      <td>[ok, lar,  , joke, wif, u, oni]</td>\n",
       "      <td>ok lar   joke wif u oni</td>\n",
       "      <td>[14, 207, 496, 301, 2, 1]</td>\n",
       "    </tr>\n",
       "    <tr>\n",
       "      <th>2</th>\n",
       "      <td>1</td>\n",
       "      <td>Free entry in 2 a wkly comp to win FA Cup fina...</td>\n",
       "      <td>free entry in 2 a wkly comp to win fa cup fina...</td>\n",
       "      <td>[free, entry, 2, wkly, comp, win, fa, cup, fin...</td>\n",
       "      <td>free entry 2 wkly comp win fa cup final tkts 2...</td>\n",
       "      <td>[15, 373, 3, 763, 716, 46, 1, 1, 497, 1, 1, 1,...</td>\n",
       "    </tr>\n",
       "    <tr>\n",
       "      <th>3</th>\n",
       "      <td>0</td>\n",
       "      <td>U dun say so early hor... U c already then say...</td>\n",
       "      <td>u dun say so early hor  u c already then say</td>\n",
       "      <td>[u, dun, early, hor,  , u, c]</td>\n",
       "      <td>u dun early hor   u c</td>\n",
       "      <td>[2, 129, 154, 1, 2, 56]</td>\n",
       "    </tr>\n",
       "    <tr>\n",
       "      <th>4</th>\n",
       "      <td>0</td>\n",
       "      <td>Nah I don't think he goes to usf, he lives aro...</td>\n",
       "      <td>nah i don't think he goes to usf  he lives aro...</td>\n",
       "      <td>[nah, think, go, usf,  , live]</td>\n",
       "      <td>nah think go usf   live</td>\n",
       "      <td>[717, 24, 5, 660, 175]</td>\n",
       "    </tr>\n",
       "    <tr>\n",
       "      <th>...</th>\n",
       "      <td>...</td>\n",
       "      <td>...</td>\n",
       "      <td>...</td>\n",
       "      <td>...</td>\n",
       "      <td>...</td>\n",
       "      <td>...</td>\n",
       "    </tr>\n",
       "    <tr>\n",
       "      <th>5567</th>\n",
       "      <td>1</td>\n",
       "      <td>This is the 2nd time we have tried 2 contact u...</td>\n",
       "      <td>this is the 2nd time we have tried 2 contact u...</td>\n",
       "      <td>[2nd, time, try, 2, contact, u,  , u, win, å£7...</td>\n",
       "      <td>2nd time try 2 contact u   u win å£750 pound p...</td>\n",
       "      <td>[310, 19, 57, 3, 106, 2, 2, 46, 1, 335, 84, 3,...</td>\n",
       "    </tr>\n",
       "    <tr>\n",
       "      <th>5568</th>\n",
       "      <td>0</td>\n",
       "      <td>Will Ì_ b going to esplanade fr home?</td>\n",
       "      <td>will ì  b going to esplanade fr home</td>\n",
       "      <td>[ì,  , b, go, esplanade, fr, home]</td>\n",
       "      <td>ì   b go esplanade fr home</td>\n",
       "      <td>[45, 97, 5, 1, 582, 28]</td>\n",
       "    </tr>\n",
       "    <tr>\n",
       "      <th>5569</th>\n",
       "      <td>0</td>\n",
       "      <td>Pity, * was in mood for that. So...any other s...</td>\n",
       "      <td>pity    was in mood for that  so any other sug...</td>\n",
       "      <td>[pity,    , mood,  , suggestion]</td>\n",
       "      <td>pity     mood   suggestion</td>\n",
       "      <td>[1, 1, 1]</td>\n",
       "    </tr>\n",
       "    <tr>\n",
       "      <th>5570</th>\n",
       "      <td>0</td>\n",
       "      <td>The guy did some bitching but I acted like i'd...</td>\n",
       "      <td>the guy did some bitching but i acted like i'd...</td>\n",
       "      <td>[guy, bitching, act, like, interested, buy, we...</td>\n",
       "      <td>guy bitching act like interested buy week give...</td>\n",
       "      <td>[121, 1, 1, 16, 980, 93, 44, 327, 15]</td>\n",
       "    </tr>\n",
       "    <tr>\n",
       "      <th>5571</th>\n",
       "      <td>0</td>\n",
       "      <td>Rofl. Its true to its name</td>\n",
       "      <td>rofl  its true to its name</td>\n",
       "      <td>[rofl,  , true]</td>\n",
       "      <td>rofl   true</td>\n",
       "      <td>[1, 368]</td>\n",
       "    </tr>\n",
       "  </tbody>\n",
       "</table>\n",
       "<p>5169 rows × 6 columns</p>\n",
       "</div>"
      ],
      "text/plain": [
       "      target                                               text  \\\n",
       "0          0  Go until jurong point, crazy.. Available only ...   \n",
       "1          0                      Ok lar... Joking wif u oni...   \n",
       "2          1  Free entry in 2 a wkly comp to win FA Cup fina...   \n",
       "3          0  U dun say so early hor... U c already then say...   \n",
       "4          0  Nah I don't think he goes to usf, he lives aro...   \n",
       "...      ...                                                ...   \n",
       "5567       1  This is the 2nd time we have tried 2 contact u...   \n",
       "5568       0              Will Ì_ b going to esplanade fr home?   \n",
       "5569       0  Pity, * was in mood for that. So...any other s...   \n",
       "5570       0  The guy did some bitching but I acted like i'd...   \n",
       "5571       0                         Rofl. Its true to its name   \n",
       "\n",
       "                                             clean_docs  \\\n",
       "0     go until jurong point  crazy  available only i...   \n",
       "1                             ok lar  joking wif u oni    \n",
       "2     free entry in 2 a wkly comp to win fa cup fina...   \n",
       "3         u dun say so early hor  u c already then say    \n",
       "4     nah i don't think he goes to usf  he lives aro...   \n",
       "...                                                 ...   \n",
       "5567  this is the 2nd time we have tried 2 contact u...   \n",
       "5568              will ì  b going to esplanade fr home    \n",
       "5569  pity    was in mood for that  so any other sug...   \n",
       "5570  the guy did some bitching but i acted like i'd...   \n",
       "5571                         rofl  its true to its name   \n",
       "\n",
       "                                         tokenized_docs  \\\n",
       "0     [jurong, point,  , crazy,  , available, bugis,...   \n",
       "1                       [ok, lar,  , joke, wif, u, oni]   \n",
       "2     [free, entry, 2, wkly, comp, win, fa, cup, fin...   \n",
       "3                         [u, dun, early, hor,  , u, c]   \n",
       "4                        [nah, think, go, usf,  , live]   \n",
       "...                                                 ...   \n",
       "5567  [2nd, time, try, 2, contact, u,  , u, win, å£7...   \n",
       "5568                 [ì,  , b, go, esplanade, fr, home]   \n",
       "5569                   [pity,    , mood,  , suggestion]   \n",
       "5570  [guy, bitching, act, like, interested, buy, we...   \n",
       "5571                                    [rofl,  , true]   \n",
       "\n",
       "                                           clean_tokens  \\\n",
       "0     jurong point   crazy   available bugis n great...   \n",
       "1                               ok lar   joke wif u oni   \n",
       "2     free entry 2 wkly comp win fa cup final tkts 2...   \n",
       "3                                 u dun early hor   u c   \n",
       "4                               nah think go usf   live   \n",
       "...                                                 ...   \n",
       "5567  2nd time try 2 contact u   u win å£750 pound p...   \n",
       "5568                         ì   b go esplanade fr home   \n",
       "5569                         pity     mood   suggestion   \n",
       "5570  guy bitching act like interested buy week give...   \n",
       "5571                                        rofl   true   \n",
       "\n",
       "                                            sms_encoded  \n",
       "0     [1, 253, 446, 469, 922, 37, 60, 272, 923, 75, ...  \n",
       "1                             [14, 207, 496, 301, 2, 1]  \n",
       "2     [15, 373, 3, 763, 716, 46, 1, 1, 497, 1, 1, 1,...  \n",
       "3                               [2, 129, 154, 1, 2, 56]  \n",
       "4                                [717, 24, 5, 660, 175]  \n",
       "...                                                 ...  \n",
       "5567  [310, 19, 57, 3, 106, 2, 2, 46, 1, 335, 84, 3,...  \n",
       "5568                            [45, 97, 5, 1, 582, 28]  \n",
       "5569                                          [1, 1, 1]  \n",
       "5570              [121, 1, 1, 16, 980, 93, 44, 327, 15]  \n",
       "5571                                           [1, 368]  \n",
       "\n",
       "[5169 rows x 6 columns]"
      ]
     },
     "execution_count": 13,
     "metadata": {},
     "output_type": "execute_result"
    }
   ],
   "source": [
    "# instantiate the tokenizer. oov_token=\"out_of_vocab\"\n",
    "# keep the 1_000 most frequents words during tokenization\n",
    "tokenizer = tf.keras.preprocessing.text.Tokenizer(num_words=k_num_words, oov_token=\"_UNKNOWN_\") \n",
    "tokenizer.fit_on_texts(df[\"clean_tokens\"])\n",
    "df[\"sms_encoded\"] = tokenizer.texts_to_sequences(df[\"clean_tokens\"])\n",
    "df\n"
   ]
  },
  {
   "cell_type": "markdown",
   "metadata": {},
   "source": [
    "## Padding"
   ]
  },
  {
   "cell_type": "code",
   "execution_count": 14,
   "metadata": {},
   "outputs": [
    {
     "name": "stdout",
     "output_type": "stream",
     "text": [
      "[[  1 253 446 ...   0   0   0]\n",
      " [ 14 207 496 ...   0   0   0]\n",
      " [ 15 373   3 ...   0   0   0]\n",
      " ...\n",
      " [  1   1   1 ...   0   0   0]\n",
      " [121   1   1 ...   0   0   0]\n",
      " [  1 368   0 ...   0   0   0]]\n",
      "(5169, 77)\n"
     ]
    }
   ],
   "source": [
    "# Tensorflow cannot create a tensor dataset based on lists\n",
    "# We have to store encoded sms into a numpy array before creating the tensorflow dataset\n",
    "# However, not all the sequences are the same length\n",
    "# This is where `tf.keras.preprocessing.sequence.pad_sequences()` comes in \n",
    "# It will add zero padding at the beginning (`padding=\"pre\"`) or at the end (`padding=\"post\"`) of our sequences so they all have equal length\n",
    "sms_padded = tf.keras.preprocessing.sequence.pad_sequences(df[\"sms_encoded\"], padding=\"post\")\n",
    "print(sms_padded)\n",
    "print(sms_padded.shape)\n",
    "\n",
    "# max_words = df['clean_tokens'].apply(lambda x: len(x.split())).max()\n",
    "# print(max_words)\n",
    "# 77"
   ]
  },
  {
   "cell_type": "markdown",
   "metadata": {},
   "source": [
    "## Split"
   ]
  },
  {
   "cell_type": "code",
   "execution_count": 15,
   "metadata": {},
   "outputs": [],
   "source": [
    "# stratify\n",
    "X_train, X_test, y_train, y_test = train_test_split(sms_padded, df[\"target\"], test_size = k_test_size, random_state = k_random_state, stratify = df[\"target\"])"
   ]
  },
  {
   "cell_type": "markdown",
   "metadata": {},
   "source": [
    "# Random Under Sampler on train set\n"
   ]
  },
  {
   "cell_type": "code",
   "execution_count": 16,
   "metadata": {},
   "outputs": [
    {
     "name": "stdout",
     "output_type": "stream",
     "text": [
      "Original dataset shape: Counter({0: 3161, 1: 457})\n",
      "Resample dataset shape Counter({0: 457, 1: 457})\n"
     ]
    },
    {
     "data": {
      "text/plain": [
       "(914,)"
      ]
     },
     "execution_count": 16,
     "metadata": {},
     "output_type": "execute_result"
    }
   ],
   "source": [
    "\n",
    "rus = RandomUnderSampler(random_state=k_random_state, replacement=True) # fit predictor and target variable\n",
    "X_rus, y_rus = rus.fit_resample(X_train, y_train)\n",
    "\n",
    "print('Original dataset shape:', Counter(y_train))\n",
    "print('Resample dataset shape', Counter(y_rus))\n",
    "\n",
    "X_train = X_rus.copy()\n",
    "y_train = y_rus.copy()\n",
    "y_train.shape"
   ]
  },
  {
   "cell_type": "markdown",
   "metadata": {},
   "source": [
    "## Create Tensor"
   ]
  },
  {
   "cell_type": "code",
   "execution_count": 17,
   "metadata": {},
   "outputs": [],
   "source": [
    "# creates a TensorFlow Dataset object to be used for data loading, batching, shuffling, and preprocessing when training the model\n",
    "train_ds = tf.data.Dataset.from_tensor_slices((X_train, y_train))\n",
    "test_ds = tf.data.Dataset.from_tensor_slices((X_test, y_test))"
   ]
  },
  {
   "cell_type": "code",
   "execution_count": 18,
   "metadata": {},
   "outputs": [
    {
     "name": "stdout",
     "output_type": "stream",
     "text": [
      "tf.Tensor(\n",
      "[[126  23 313 ...   0   0   0]\n",
      " [  1   1   1 ...   0   0   0]\n",
      " [ 15  72 513 ...   0   0   0]\n",
      " ...\n",
      " [ 21   7 137 ...   0   0   0]\n",
      " [ 15 242 293 ...   0   0   0]\n",
      " [  1  11   1 ...   0   0   0]], shape=(64, 77), dtype=int32) tf.Tensor(\n",
      "[0 1 1 0 0 0 1 1 1 0 1 0 1 1 0 0 1 0 1 0 1 0 0 0 0 1 0 0 1 1 0 1 0 0 0 1 0\n",
      " 0 1 1 1 0 1 1 1 0 1 1 0 1 0 0 0 0 1 1 0 1 0 1 1 0 1 0], shape=(64,), dtype=int64)\n",
      "\n",
      "(64, 77)\n"
     ]
    }
   ],
   "source": [
    "# Create generators, making sure that data are blended/mixed and divided into batches of 64 observations \n",
    "train_batch = train_ds.shuffle(len(train_ds)).batch(64)\n",
    "test_batch = test_ds.shuffle(len(test_ds)).batch(64)\n",
    "\n",
    "for sms, ham_spam in train_batch.take(1):\n",
    "  print(sms, ham_spam)\n",
    "\n",
    "print()\n",
    "print(sms.shape)"
   ]
  },
  {
   "cell_type": "markdown",
   "metadata": {},
   "source": [
    "# Using a Baseline Model\n"
   ]
  },
  {
   "cell_type": "code",
   "execution_count": 19,
   "metadata": {},
   "outputs": [
    {
     "name": "stdout",
     "output_type": "stream",
     "text": [
      "Model: \"sequential\"\n",
      "_________________________________________________________________\n",
      " Layer (type)                Output Shape              Param #   \n",
      "=================================================================\n",
      " embedding (Embedding)       (None, 77, 8)             8008      \n",
      "                                                                 \n",
      " global_average_pooling1d (G  (None, 8)                0         \n",
      " lobalAveragePooling1D)                                          \n",
      "                                                                 \n",
      " dense (Dense)               (None, 16)                144       \n",
      "                                                                 \n",
      " dense_1 (Dense)             (None, 1)                 17        \n",
      "                                                                 \n",
      "=================================================================\n",
      "Total params: 8,169\n",
      "Trainable params: 8,169\n",
      "Non-trainable params: 0\n",
      "_________________________________________________________________\n"
     ]
    }
   ],
   "source": [
    "sequence_length = sms_padded.shape[1]\n",
    "\n",
    "model = tf.keras.Sequential([\n",
    "    # This Embedding layer converts integer-encoded words (from the tokenizer) into dense vectors of size 8 \n",
    "    # tokenizer.num_words should be equal to k_num_words\n",
    "    # +1 because TensorFlow reserves an index for padding or the OOV token\n",
    "    # sms.shape[1] is the length of the input sequence. See the output of the previous cell (77)\n",
    "    # For the output I tried : 16 8 4 and 2\n",
    "    # I like 8\n",
    "    # tf.keras.layers.Embedding(tokenizer.num_words + 1, 8, input_shape=[sms.shape[1],], name=\"embedding\"),\n",
    "    tf.keras.layers.Embedding(tokenizer.num_words + 1, 8, input_shape=[sequence_length], name=\"embedding\"),\n",
    "\n",
    "    # Global average pooling\n",
    "    # Reduces the dimensionality by averaging the vectors across the sequence length\n",
    "    # The model loose the order of the words but we don't care  \n",
    "    tf.keras.layers.GlobalAveragePooling1D(),\n",
    "\n",
    "    # Fully connected (Dense) layer with 16 neurons. \n",
    "    # relu activation function introduces non-linearity (this helps the model to capture more complex patterns)\n",
    "    tf.keras.layers.Dense(16, activation=\"relu\"),\n",
    "\n",
    "    # Since this is a binary classification problem (based on the sigmoid activation), there's a single output neuron. \n",
    "    tf.keras.layers.Dense(1, activation=\"sigmoid\")\n",
    "])\n",
    "\n",
    "model.summary()"
   ]
  },
  {
   "cell_type": "code",
   "execution_count": 20,
   "metadata": {},
   "outputs": [
    {
     "data": {
      "image/png": "[encoded data removed]",
      "text/plain": [
       "<IPython.core.display.Image object>"
      ]
     },
     "execution_count": 20,
     "metadata": {},
     "output_type": "execute_result"
    }
   ],
   "source": [
    "path = Path(f\"{k_Current_dir/k_AssetsDir/'basic_arch.png'}\")\n",
    "tf.keras.utils.plot_model(model, path, show_shapes=True)"
   ]
  },
  {
   "cell_type": "markdown",
   "metadata": {},
   "source": [
    "## <span style=\"color:orange\"><b>Comments :</b></span>\n",
    "\n",
    "About the number of trainable parameters of the model\n",
    "\n",
    "```\n",
    "Inputs                 : 1000 words    (see k_num_words in prelude)\n",
    "Embedding layer        :  8 neurons => (1000 + 1) * 8 = 8008 params\n",
    "GlobalAveragePooling1D :    average => no params      =    0 params\n",
    "Dense layer            : 16 neurons => 8  * 16 + 16   =  144 params\n",
    "Dense layer            :  1 neuron  => 16 *  1 +  1   =   17 params\n",
    "                                                TOTAL = 8169 params\n",
    "```\n"
   ]
  },
  {
   "cell_type": "code",
   "execution_count": 21,
   "metadata": {},
   "outputs": [],
   "source": [
    "model.compile(\n",
    "    optimizer=\"adam\",\n",
    "    loss=tf.keras.losses.BinaryCrossentropy(),\n",
    "    metrics=[tf.keras.metrics.Recall(name=\"recall\"), tf.keras.metrics.Precision(name=\"precision\"), \"accuracy\"]       # name=... avoid recall_1 for example\n",
    ")"
   ]
  },
  {
   "cell_type": "code",
   "execution_count": 22,
   "metadata": {},
   "outputs": [],
   "source": [
    "# history = model.fit(\n",
    "#     train_batch,\n",
    "#     epochs = k_epochs,\n",
    "#     validation_data=test_batch,\n",
    "# )"
   ]
  },
  {
   "cell_type": "code",
   "execution_count": 23,
   "metadata": {},
   "outputs": [
    {
     "name": "stdout",
     "output_type": "stream",
     "text": [
      "Epoch 1/50\n",
      "49/49 [==============================] - 0s 1ms/steploss: 0.6923 - recall: 0.0000e+00 - precision: 0.0000e+00 - accuracy: 0.\n",
      "15/15 [==============================] - 2s 53ms/step - loss: 0.6922 - recall: 0.4354 - precision: 0.8122 - accuracy: 0.6674 - val_loss: 0.6891 - val_recall: 0.3418 - val_precision: 0.7128 - val_accuracy: 0.8994\n",
      "Epoch 2/50\n",
      "49/49 [==============================] - 0s 1ms/steposs: 0.6913 - recall: 0.1765 - precision: 1.0000 - accuracy: 0.\n",
      "15/15 [==============================] - 0s 21ms/step - loss: 0.6902 - recall: 0.0569 - precision: 0.8667 - accuracy: 0.5241 - val_loss: 0.6777 - val_recall: 0.0000e+00 - val_precision: 0.0000e+00 - val_accuracy: 0.8717\n",
      "Epoch 3/50\n",
      "49/49 [==============================] - 0s 2ms/steposs: 0.6885 - recall: 0.0000e+00 - precision: 0.0000e+00 - accuracy: 0.\n",
      "15/15 [==============================] - 0s 22ms/step - loss: 0.6874 - recall: 0.0044 - precision: 0.4000 - accuracy: 0.4989 - val_loss: 0.6698 - val_recall: 0.0000e+00 - val_precision: 0.0000e+00 - val_accuracy: 0.8717\n",
      "Epoch 4/50\n",
      "49/49 [==============================] - 0s 1ms/steposs: 0.6851 - recall: 0.0000e+00 - precision: 0.0000e+00 - accuracy: 0.\n",
      "15/15 [==============================] - 0s 23ms/step - loss: 0.6841 - recall: 0.0131 - precision: 0.6667 - accuracy: 0.5033 - val_loss: 0.6635 - val_recall: 0.0765 - val_precision: 0.6818 - val_accuracy: 0.8788\n",
      "Epoch 5/50\n",
      "49/49 [==============================] - 0s 1ms/steposs: 0.6812 - recall: 0.1562 - precision: 1.0000 - accuracy: 0.\n",
      "15/15 [==============================] - 0s 21ms/step - loss: 0.6792 - recall: 0.3151 - precision: 0.9536 - accuracy: 0.6499 - val_loss: 0.6609 - val_recall: 0.4082 - val_precision: 0.8247 - val_accuracy: 0.9142\n",
      "Epoch 6/50\n",
      "49/49 [==============================] - 0s 2ms/steposs: 0.6764 - recall: 0.3871 - precision: 0.9231 - accuracy: 0.\n",
      "15/15 [==============================] - 0s 24ms/step - loss: 0.6723 - recall: 0.3501 - precision: 0.9639 - accuracy: 0.6685 - val_loss: 0.6444 - val_recall: 0.3980 - val_precision: 0.8211 - val_accuracy: 0.9130\n",
      "Epoch 7/50\n",
      "49/49 [==============================] - 0s 1ms/steposs: 0.6730 - recall: 0.3889 - precision: 1.0000 - accuracy: 0.\n",
      "15/15 [==============================] - 0s 23ms/step - loss: 0.6638 - recall: 0.6214 - precision: 0.9660 - accuracy: 0.7998 - val_loss: 0.6377 - val_recall: 0.6020 - val_precision: 0.8369 - val_accuracy: 0.9349\n",
      "Epoch 8/50\n",
      "49/49 [==============================] - 0s 2ms/steposs: 0.6631 - recall: 0.6765 - precision: 0.9200 - accuracy: 0.\n",
      "15/15 [==============================] - 0s 21ms/step - loss: 0.6523 - recall: 0.6061 - precision: 0.9685 - accuracy: 0.7932 - val_loss: 0.6182 - val_recall: 0.5918 - val_precision: 0.8406 - val_accuracy: 0.9342\n",
      "Epoch 9/50\n",
      "49/49 [==============================] - 0s 2ms/steposs: 0.6495 - recall: 0.6944 - precision: 0.9615 - accuracy: 0.\n",
      "15/15 [==============================] - 0s 24ms/step - loss: 0.6389 - recall: 0.7396 - precision: 0.9741 - accuracy: 0.8600 - val_loss: 0.6011 - val_recall: 0.6582 - val_precision: 0.8431 - val_accuracy: 0.9413\n",
      "Epoch 10/50\n",
      "49/49 [==============================] - 0s 1ms/steposs: 0.6237 - recall: 0.9474 - precision: 1.0000 - accuracy: 0.\n",
      "15/15 [==============================] - 0s 21ms/step - loss: 0.6225 - recall: 0.7330 - precision: 0.9738 - accuracy: 0.8567 - val_loss: 0.5808 - val_recall: 0.7092 - val_precision: 0.8424 - val_accuracy: 0.9465\n",
      "Epoch 11/50\n",
      "49/49 [==============================] - 0s 1ms/steposs: 0.6174 - recall: 0.7714 - precision: 1.0000 - accuracy: 0.\n",
      "15/15 [==============================] - 0s 25ms/step - loss: 0.6040 - recall: 0.7659 - precision: 0.9749 - accuracy: 0.8731 - val_loss: 0.5624 - val_recall: 0.7449 - val_precision: 0.8295 - val_accuracy: 0.9484\n",
      "Epoch 12/50\n",
      "49/49 [==============================] - 0s 2ms/steposs: 0.5841 - recall: 0.8788 - precision: 1.0000 - accuracy: 0.\n",
      "15/15 [==============================] - 0s 25ms/step - loss: 0.5835 - recall: 0.8096 - precision: 0.9737 - accuracy: 0.8939 - val_loss: 0.5345 - val_recall: 0.7500 - val_precision: 0.8352 - val_accuracy: 0.9497\n",
      "Epoch 13/50\n",
      "49/49 [==============================] - 0s 2ms/steposs: 0.5605 - recall: 0.8276 - precision: 1.0000 - accuracy: 0.\n",
      "15/15 [==============================] - 0s 22ms/step - loss: 0.5607 - recall: 0.8249 - precision: 0.9742 - accuracy: 0.9015 - val_loss: 0.5154 - val_recall: 0.7704 - val_precision: 0.8297 - val_accuracy: 0.9510\n",
      "Epoch 14/50\n",
      "49/49 [==============================] - 0s 2ms/steposs: 0.5367 - recall: 0.8621 - precision: 1.0000 - accuracy: 0.\n",
      "15/15 [==============================] - 0s 24ms/step - loss: 0.5363 - recall: 0.8381 - precision: 0.9746 - accuracy: 0.9081 - val_loss: 0.4864 - val_recall: 0.7806 - val_precision: 0.8270 - val_accuracy: 0.9516\n",
      "Epoch 15/50\n",
      "49/49 [==============================] - 0s 1ms/steposs: 0.5324 - recall: 0.7895 - precision: 1.0000 - accuracy: 0.\n",
      "15/15 [==============================] - 0s 23ms/step - loss: 0.5094 - recall: 0.8381 - precision: 0.9746 - accuracy: 0.9081 - val_loss: 0.4599 - val_recall: 0.8061 - val_precision: 0.8144 - val_accuracy: 0.9523\n",
      "Epoch 16/50\n",
      "49/49 [==============================] - 0s 2ms/steposs: 0.4659 - recall: 0.8788 - precision: 1.0000 - accuracy: 0.\n",
      "15/15 [==============================] - 0s 22ms/step - loss: 0.4823 - recall: 0.8425 - precision: 0.9747 - accuracy: 0.9103 - val_loss: 0.4327 - val_recall: 0.8214 - val_precision: 0.8090 - val_accuracy: 0.9529\n",
      "Epoch 17/50\n",
      "49/49 [==============================] - 0s 2ms/steposs: 0.4429 - recall: 0.9394 - precision: 0.9688 - accuracy: 0.\n",
      "15/15 [==============================] - 0s 24ms/step - loss: 0.4544 - recall: 0.8556 - precision: 0.9726 - accuracy: 0.9158 - val_loss: 0.4083 - val_recall: 0.8418 - val_precision: 0.8128 - val_accuracy: 0.9555\n",
      "Epoch 18/50\n",
      "49/49 [==============================] - 0s 1ms/steposs: 0.4653 - recall: 0.7500 - precision: 0.8182 - accuracy: 0.\n",
      "15/15 [==============================] - 0s 24ms/step - loss: 0.4266 - recall: 0.8600 - precision: 0.9752 - accuracy: 0.9190 - val_loss: 0.3841 - val_recall: 0.8469 - val_precision: 0.8177 - val_accuracy: 0.9568\n",
      "Epoch 19/50\n",
      "49/49 [==============================] - 0s 2ms/steposs: 0.4196 - recall: 0.8667 - precision: 1.0000 - accuracy: 0.\n",
      "15/15 [==============================] - 0s 22ms/step - loss: 0.4004 - recall: 0.8818 - precision: 0.9664 - accuracy: 0.9256 - val_loss: 0.3609 - val_recall: 0.8520 - val_precision: 0.8146 - val_accuracy: 0.9568\n",
      "Epoch 20/50\n",
      "49/49 [==============================] - 0s 1ms/steposs: 0.3620 - recall: 0.8857 - precision: 1.0000 - accuracy: 0.\n",
      "15/15 [==============================] - 0s 22ms/step - loss: 0.3743 - recall: 0.8775 - precision: 0.9733 - accuracy: 0.9267 - val_loss: 0.3353 - val_recall: 0.8571 - val_precision: 0.8155 - val_accuracy: 0.9574\n",
      "Epoch 21/50\n",
      "49/49 [==============================] - 0s 1ms/steposs: 0.3620 - recall: 0.8788 - precision: 0.9667 - accuracy: 0.\n",
      "15/15 [==============================] - 0s 21ms/step - loss: 0.3512 - recall: 0.8753 - precision: 0.9756 - accuracy: 0.9267 - val_loss: 0.3144 - val_recall: 0.8673 - val_precision: 0.8173 - val_accuracy: 0.9587\n",
      "Epoch 22/50\n",
      "49/49 [==============================] - 0s 2ms/steposs: 0.3072 - recall: 0.8947 - precision: 1.0000 - accuracy: 0.\n",
      "15/15 [==============================] - 0s 23ms/step - loss: 0.3301 - recall: 0.8906 - precision: 0.9576 - accuracy: 0.9256 - val_loss: 0.3027 - val_recall: 0.8827 - val_precision: 0.8084 - val_accuracy: 0.9587\n",
      "Epoch 23/50\n",
      "49/49 [==============================] - 0s 1ms/steposs: 0.3473 - recall: 0.8611 - precision: 0.9688 - accuracy: 0.\n",
      "15/15 [==============================] - 0s 23ms/step - loss: 0.3098 - recall: 0.8753 - precision: 0.9756 - accuracy: 0.9267 - val_loss: 0.2767 - val_recall: 0.8673 - val_precision: 0.8095 - val_accuracy: 0.9574\n",
      "Epoch 24/50\n",
      "49/49 [==============================] - 0s 1ms/steposs: 0.3161 - recall: 0.8824 - precision: 0.9677 - accuracy: 0.\n",
      "15/15 [==============================] - 0s 21ms/step - loss: 0.2913 - recall: 0.8840 - precision: 0.9782 - accuracy: 0.9322 - val_loss: 0.2681 - val_recall: 0.8827 - val_precision: 0.8084 - val_accuracy: 0.9587\n",
      "Epoch 25/50\n",
      "49/49 [==============================] - 0s 2ms/steposs: 0.2385 - recall: 1.0000 - precision: 0.9697 - accuracy: 0.\n",
      "15/15 [==============================] - 0s 23ms/step - loss: 0.2748 - recall: 0.8972 - precision: 0.9647 - accuracy: 0.9322 - val_loss: 0.2609 - val_recall: 0.8929 - val_precision: 0.8028 - val_accuracy: 0.9587\n",
      "Epoch 26/50\n",
      "49/49 [==============================] - 0s 1ms/steposs: 0.2388 - recall: 0.9268 - precision: 1.0000 - accuracy: 0.\n",
      "15/15 [==============================] - 0s 22ms/step - loss: 0.2607 - recall: 0.8993 - precision: 0.9739 - accuracy: 0.9376 - val_loss: 0.2362 - val_recall: 0.8827 - val_precision: 0.8122 - val_accuracy: 0.9594\n",
      "Epoch 27/50\n",
      "49/49 [==============================] - 0s 2ms/steposs: 0.2937 - recall: 0.8649 - precision: 1.0000 - accuracy: 0.\n",
      "15/15 [==============================] - 0s 22ms/step - loss: 0.2475 - recall: 0.9015 - precision: 0.9671 - accuracy: 0.9354 - val_loss: 0.2355 - val_recall: 0.8980 - val_precision: 0.8037 - val_accuracy: 0.9594\n",
      "Epoch 28/50\n",
      "49/49 [==============================] - 0s 1ms/steposs: 0.2267 - recall: 0.8824 - precision: 0.9677 - accuracy: 0.\n",
      "15/15 [==============================] - 0s 20ms/step - loss: 0.2354 - recall: 0.9015 - precision: 0.9763 - accuracy: 0.9398 - val_loss: 0.2232 - val_recall: 0.8980 - val_precision: 0.8037 - val_accuracy: 0.9594\n",
      "Epoch 29/50\n",
      "49/49 [==============================] - 0s 1ms/steposs: 0.1626 - recall: 1.0000 - precision: 1.0000 - accuracy: 1.\n",
      "15/15 [==============================] - 0s 20ms/step - loss: 0.2247 - recall: 0.9059 - precision: 0.9718 - accuracy: 0.9398 - val_loss: 0.2207 - val_recall: 0.8980 - val_precision: 0.7964 - val_accuracy: 0.9581\n",
      "Epoch 30/50\n",
      "49/49 [==============================] - 0s 1ms/steposs: 0.1686 - recall: 0.9643 - precision: 1.0000 - accuracy: 0.\n",
      "15/15 [==============================] - 0s 21ms/step - loss: 0.2151 - recall: 0.9103 - precision: 0.9720 - accuracy: 0.9420 - val_loss: 0.2121 - val_recall: 0.8980 - val_precision: 0.8000 - val_accuracy: 0.9587\n",
      "Epoch 31/50\n",
      "49/49 [==============================] - 0s 2ms/steposs: 0.2952 - recall: 0.8571 - precision: 0.9375 - accuracy: 0.\n",
      "15/15 [==============================] - 0s 22ms/step - loss: 0.2058 - recall: 0.9059 - precision: 0.9787 - accuracy: 0.9431 - val_loss: 0.2001 - val_recall: 0.8980 - val_precision: 0.8111 - val_accuracy: 0.9607\n",
      "Epoch 32/50\n",
      "49/49 [==============================] - 0s 2ms/steposs: 0.1996 - recall: 0.9129 - precision: 0.9761 - accuracy: 0.\n",
      "15/15 [==============================] - 0s 25ms/step - loss: 0.1973 - recall: 0.9147 - precision: 0.9766 - accuracy: 0.9464 - val_loss: 0.2008 - val_recall: 0.9082 - val_precision: 0.7982 - val_accuracy: 0.9594\n",
      "Epoch 33/50\n",
      "49/49 [==============================] - 0s 1ms/steposs: 0.1154 - recall: 1.0000 - precision: 1.0000 - accuracy: 1.\n",
      "15/15 [==============================] - 0s 20ms/step - loss: 0.1899 - recall: 0.9190 - precision: 0.9767 - accuracy: 0.9486 - val_loss: 0.1926 - val_recall: 0.9082 - val_precision: 0.8018 - val_accuracy: 0.9600\n",
      "Epoch 34/50\n",
      "49/49 [==============================] - 0s 1ms/steposs: 0.1709 - recall: 0.9355 - precision: 0.9667 - accuracy: 0.\n",
      "15/15 [==============================] - 0s 22ms/step - loss: 0.1820 - recall: 0.9168 - precision: 0.9836 - accuracy: 0.9508 - val_loss: 0.1814 - val_recall: 0.8980 - val_precision: 0.8224 - val_accuracy: 0.9626\n",
      "Epoch 35/50\n",
      "49/49 [==============================] - 0s 2ms/steposs: 0.1634 - recall: 0.9118 - precision: 1.0000 - accuracy: 0.\n",
      "15/15 [==============================] - 0s 24ms/step - loss: 0.1754 - recall: 0.9168 - precision: 0.9836 - accuracy: 0.9508 - val_loss: 0.1796 - val_recall: 0.9133 - val_precision: 0.8174 - val_accuracy: 0.9632\n",
      "Epoch 36/50\n",
      "49/49 [==============================] - 0s 2ms/steposs: 0.1948 - recall: 0.9189 - precision: 1.0000 - accuracy: 0.\n",
      "15/15 [==============================] - 0s 24ms/step - loss: 0.1687 - recall: 0.9278 - precision: 0.9838 - accuracy: 0.9562 - val_loss: 0.1836 - val_recall: 0.9133 - val_precision: 0.8063 - val_accuracy: 0.9613\n",
      "Epoch 37/50\n",
      "49/49 [==============================] - 0s 1ms/steposs: 0.1277 - recall: 0.9459 - precision: 1.0000 - accuracy: 0.\n",
      "15/15 [==============================] - 0s 20ms/step - loss: 0.1633 - recall: 0.9278 - precision: 0.9792 - accuracy: 0.9540 - val_loss: 0.1675 - val_recall: 0.9133 - val_precision: 0.8249 - val_accuracy: 0.9645\n",
      "Epoch 38/50\n",
      "49/49 [==============================] - 0s 2ms/steposs: 0.1464 - recall: 0.9429 - precision: 1.0000 - accuracy: 0.\n",
      "15/15 [==============================] - 0s 24ms/step - loss: 0.1573 - recall: 0.9212 - precision: 0.9859 - accuracy: 0.9540 - val_loss: 0.1589 - val_recall: 0.9133 - val_precision: 0.8443 - val_accuracy: 0.9678\n",
      "Epoch 39/50\n",
      "49/49 [==============================] - 0s 1ms/steposs: 0.1190 - recall: 0.9032 - precision: 1.0000 - accuracy: 0.\n",
      "15/15 [==============================] - 0s 22ms/step - loss: 0.1513 - recall: 0.9278 - precision: 0.9860 - accuracy: 0.9573 - val_loss: 0.1706 - val_recall: 0.9133 - val_precision: 0.8027 - val_accuracy: 0.9607\n",
      "Epoch 40/50\n",
      "49/49 [==============================] - 0s 1ms/steposs: 0.1995 - recall: 0.8710 - precision: 0.9643 - accuracy: 0.\n",
      "15/15 [==============================] - 0s 20ms/step - loss: 0.1477 - recall: 0.9387 - precision: 0.9795 - accuracy: 0.9595 - val_loss: 0.1612 - val_recall: 0.9133 - val_precision: 0.8211 - val_accuracy: 0.9639\n",
      "Epoch 41/50\n",
      "49/49 [==============================] - 0s 2ms/steposs: 0.1302 - recall: 0.9211 - precision: 0.9722 - accuracy: 0.\n",
      "15/15 [==============================] - 0s 25ms/step - loss: 0.1414 - recall: 0.9256 - precision: 0.9860 - accuracy: 0.9562 - val_loss: 0.1496 - val_recall: 0.9133 - val_precision: 0.8404 - val_accuracy: 0.9671\n",
      "Epoch 42/50\n",
      "49/49 [==============================] - 0s 1ms/steposs: 0.1511 - recall: 0.9143 - precision: 1.0000 - accuracy: 0.\n",
      "15/15 [==============================] - 0s 22ms/step - loss: 0.1372 - recall: 0.9344 - precision: 0.9861 - accuracy: 0.9606 - val_loss: 0.1585 - val_recall: 0.9184 - val_precision: 0.8145 - val_accuracy: 0.9632\n",
      "Epoch 43/50\n",
      "49/49 [==============================] - 0s 1ms/steposs: 0.1980 - recall: 0.8750 - precision: 0.9655 - accuracy: 0.\n",
      "15/15 [==============================] - 0s 21ms/step - loss: 0.1325 - recall: 0.9344 - precision: 0.9884 - accuracy: 0.9617 - val_loss: 0.1444 - val_recall: 0.9184 - val_precision: 0.8411 - val_accuracy: 0.9678\n",
      "Epoch 44/50\n",
      "49/49 [==============================] - 0s 2ms/steposs: 0.1041 - recall: 0.9688 - precision: 1.0000 - accuracy: 0.\n",
      "15/15 [==============================] - 0s 22ms/step - loss: 0.1289 - recall: 0.9387 - precision: 0.9885 - accuracy: 0.9639 - val_loss: 0.1612 - val_recall: 0.9388 - val_precision: 0.7965 - val_accuracy: 0.9620\n",
      "Epoch 45/50\n",
      "49/49 [==============================] - 0s 1ms/steposs: 0.0824 - recall: 0.9667 - precision: 1.0000 - accuracy: 0.\n",
      "15/15 [==============================] - 0s 24ms/step - loss: 0.1244 - recall: 0.9365 - precision: 0.9885 - accuracy: 0.9628 - val_loss: 0.1371 - val_recall: 0.9133 - val_precision: 0.8483 - val_accuracy: 0.9684\n",
      "Epoch 46/50\n",
      "49/49 [==============================] - 0s 1ms/steposs: 0.1032 - recall: 0.9231 - precision: 1.0000 - accuracy: 0.\n",
      "15/15 [==============================] - 0s 21ms/step - loss: 0.1203 - recall: 0.9365 - precision: 0.9907 - accuracy: 0.9639 - val_loss: 0.1470 - val_recall: 0.9286 - val_precision: 0.8161 - val_accuracy: 0.9645\n",
      "Epoch 47/50\n",
      "49/49 [==============================] - 0s 1ms/steposs: 0.1294 - recall: 0.9286 - precision: 0.9630 - accuracy: 0.\n",
      "15/15 [==============================] - 0s 21ms/step - loss: 0.1167 - recall: 0.9409 - precision: 0.9908 - accuracy: 0.9661 - val_loss: 0.1388 - val_recall: 0.9235 - val_precision: 0.8341 - val_accuracy: 0.9671\n",
      "Epoch 48/50\n",
      "49/49 [==============================] - 0s 1ms/steposs: 0.1435 - recall: 0.8571 - precision: 1.0000 - accuracy: 0.\n",
      "15/15 [==============================] - 0s 21ms/step - loss: 0.1133 - recall: 0.9409 - precision: 0.9908 - accuracy: 0.9661 - val_loss: 0.1378 - val_recall: 0.9235 - val_precision: 0.8227 - val_accuracy: 0.9652\n",
      "Epoch 49/50\n",
      "49/49 [==============================] - 0s 1ms/steposs: 0.0612 - recall: 1.0000 - precision: 1.0000 - accuracy: 1.\n",
      "15/15 [==============================] - 0s 21ms/step - loss: 0.1104 - recall: 0.9409 - precision: 0.9908 - accuracy: 0.9661 - val_loss: 0.1391 - val_recall: 0.9286 - val_precision: 0.8161 - val_accuracy: 0.9645\n",
      "Epoch 50/50\n",
      "49/49 [==============================] - 0s 2ms/steposs: 0.0841 - recall: 0.9444 - precision: 1.0000 - accuracy: 0.\n",
      "15/15 [==============================] - 0s 21ms/step - loss: 0.1068 - recall: 0.9431 - precision: 0.9908 - accuracy: 0.9672 - val_loss: 0.1333 - val_recall: 0.9286 - val_precision: 0.8235 - val_accuracy: 0.9658\n"
     ]
    }
   ],
   "source": [
    "confusion_matrices = []\n",
    "\n",
    "def get_data_from_dataset(dataset):\n",
    "    features = []\n",
    "    labels = []\n",
    "    for batch_features, batch_labels in dataset:\n",
    "        features.append(batch_features.numpy())\n",
    "        labels.append(batch_labels.numpy())\n",
    "    return np.concatenate(features), np.concatenate(labels)\n",
    "\n",
    "class ConfusionMatrixCallback(tf.keras.callbacks.Callback):             # inherit from tf.keras.callbacks.Callback\n",
    "    def __init__(self, val_data):\n",
    "        # store data once\n",
    "        self.val_data = val_data                                        \n",
    "\n",
    "    def on_epoch_end(self, epoch, logs=None):\n",
    "        # extract features and labels from validation set\n",
    "        val_features, val_labels = get_data_from_dataset(self.val_data)\n",
    "        \n",
    "        # make prediction with validation features\n",
    "        val_pred = (self.model.predict(val_features) > 0.5).astype(\"int32\")\n",
    "        \n",
    "        # compute the associated confusion matrix\n",
    "        cm = confusion_matrix(val_labels, val_pred)\n",
    "\n",
    "        # flip the 2 lines just to make sure it looks like sklearn.metrics.confusion_matrix\n",
    "        cm_flipped = np.flipud(cm)\n",
    "        \n",
    "        confusion_matrices.append(cm_flipped)\n",
    "\n",
    "history = model.fit(\n",
    "    train_batch,\n",
    "    epochs=k_epochs,\n",
    "    validation_data=test_batch,\n",
    "    callbacks=[ConfusionMatrixCallback(test_batch)]\n",
    ")"
   ]
  },
  {
   "cell_type": "markdown",
   "metadata": {},
   "source": [
    "## Evaluating"
   ]
  },
  {
   "cell_type": "markdown",
   "metadata": {},
   "source": [
    "### <span style=\"color:orange\"><b>Sync point :</b></span>\n",
    "\n",
    "<p align=\"center\">\n",
    "<img src=\"./assets/metrics.png\" alt=\"drawing\" width=\"400\"/>\n",
    "<p>\n",
    "\n",
    "* Sms identified as spam (=1)\n",
    "* Can I accept spam in my sms? I don't know...\n",
    "* Can I accept to see an sms from my beloved CEO classified as spam? No! \n",
    "* So I want FP to tend towards 0 and precision $\\frac{TP}{TP+FP}$ towards 1 (even if the recall, $\\frac{TP}{TP+FN}$, is not that great )\n",
    "* I decide to favour precision over recall\n",
    "\n",
    "Just to make sure...\n",
    "* **Overfitting**\n",
    "    * If accuracy continues to increase on training but starts to decrease or stagnate on validation\n",
    "    * this indicates overfitting.\n",
    "\n",
    "* **Underfitting** \n",
    "    * If the loss curves do not decrease \n",
    "    * or \n",
    "    * If accuracy remains low\n",
    "    * this could indicate that the model has not yet learned sufficiently.\n"
   ]
  },
  {
   "cell_type": "code",
   "execution_count": 24,
   "metadata": {},
   "outputs": [],
   "source": [
    "def save_fig(fig_id, tight_layout=True, fig_extension=\"png\", resolution=300):\n",
    "    path = Path(f\"{k_Current_dir/k_AssetsDir/fig_id}.{fig_extension}\")\n",
    "    print(\"Saving figure\", fig_id)\n",
    "    if tight_layout:\n",
    "        plt.tight_layout()\n",
    "    plt.savefig(path, format=fig_extension, dpi=resolution)\n",
    "    return"
   ]
  },
  {
   "cell_type": "markdown",
   "metadata": {},
   "source": [
    "### Loss"
   ]
  },
  {
   "cell_type": "code",
   "execution_count": 25,
   "metadata": {},
   "outputs": [
    {
     "name": "stdout",
     "output_type": "stream",
     "text": [
      "Saving figure baseline_rus_loss\n"
     ]
    },
    {
     "data": {
      "image/png": "[encoded data removed]",
      "text/plain": [
       "<Figure size 640x480 with 1 Axes>"
      ]
     },
     "metadata": {},
     "output_type": "display_data"
    },
    {
     "data": {
      "text/plain": [
       "[[0.141373,\n",
       "  0.137171,\n",
       "  0.132528,\n",
       "  0.128866,\n",
       "  0.124369,\n",
       "  0.120274,\n",
       "  0.116673,\n",
       "  0.113261,\n",
       "  0.110436,\n",
       "  0.10682]]"
      ]
     },
     "metadata": {},
     "output_type": "display_data"
    },
    {
     "data": {
      "text/plain": [
       "[[0.149587,\n",
       "  0.158533,\n",
       "  0.144398,\n",
       "  0.161203,\n",
       "  0.137105,\n",
       "  0.146958,\n",
       "  0.138764,\n",
       "  0.137849,\n",
       "  0.139078,\n",
       "  0.133346]]"
      ]
     },
     "metadata": {},
     "output_type": "display_data"
    }
   ],
   "source": [
    "# \"val_\" stands for validation\n",
    "# history.history.keys()\n",
    "\n",
    "plt.plot(history.history[\"loss\"], color=\"b\", label=\"Train Loss\")\n",
    "plt.plot(history.history[\"val_loss\"], color=\"r\", label=\"Val Loss\")\n",
    "plt.ylabel(\"Values\")\n",
    "plt.xlabel(\"Epochs\")\n",
    "plt.title(\"Baseline RUS : Loss\")\n",
    "plt.legend()\n",
    "plt.ylim(0,1)\n",
    "save_fig(\"baseline_rus_loss\", \"png\")\n",
    "plt.show()\n",
    "\n",
    "\n",
    "# display(history.history['loss'][-10:])\n",
    "display([[round(f, 6) for f in history.history['loss'][-10:]]])\n",
    "display([[round(f, 6) for f in history.history['val_loss'][-10:]]])\n"
   ]
  },
  {
   "cell_type": "markdown",
   "metadata": {},
   "source": [
    "### Accuracy"
   ]
  },
  {
   "cell_type": "code",
   "execution_count": 26,
   "metadata": {},
   "outputs": [
    {
     "name": "stdout",
     "output_type": "stream",
     "text": [
      "Saving figure baseline_rus_accuracy\n"
     ]
    },
    {
     "data": {
      "image/png": "[encoded data removed]",
      "text/plain": [
       "<Figure size 640x480 with 1 Axes>"
      ]
     },
     "metadata": {},
     "output_type": "display_data"
    },
    {
     "data": {
      "text/plain": [
       "[[0.956236,\n",
       "  0.960613,\n",
       "  0.961707,\n",
       "  0.963895,\n",
       "  0.962801,\n",
       "  0.963895,\n",
       "  0.966083,\n",
       "  0.966083,\n",
       "  0.966083,\n",
       "  0.967177]]"
      ]
     },
     "metadata": {},
     "output_type": "display_data"
    },
    {
     "data": {
      "text/plain": [
       "[[0.967118,\n",
       "  0.96325,\n",
       "  0.967763,\n",
       "  0.96196,\n",
       "  0.968407,\n",
       "  0.964539,\n",
       "  0.967118,\n",
       "  0.965184,\n",
       "  0.964539,\n",
       "  0.965828]]"
      ]
     },
     "metadata": {},
     "output_type": "display_data"
    }
   ],
   "source": [
    "plt.plot(history.history[\"accuracy\"], color=\"b\", label=\"Train Accuracy\")\n",
    "plt.plot(history.history[\"val_accuracy\"], color=\"r\", label=\"Val Accuracy\")\n",
    "plt.ylabel(\"Values\")\n",
    "plt.xlabel(\"Epochs\")\n",
    "plt.title(\"Baseline RUS : Accuracy\")\n",
    "plt.legend()\n",
    "plt.ylim(0,1)\n",
    "save_fig(\"baseline_rus_accuracy\", \"png\")\n",
    "plt.show()\n",
    "\n",
    "display([[round(f, 6) for f in history.history['accuracy'][-10:]]])\n",
    "display([[round(f, 6) for f in history.history['val_accuracy'][-10:]]])\n"
   ]
  },
  {
   "cell_type": "markdown",
   "metadata": {},
   "source": [
    "### Precision"
   ]
  },
  {
   "cell_type": "code",
   "execution_count": 27,
   "metadata": {},
   "outputs": [
    {
     "name": "stdout",
     "output_type": "stream",
     "text": [
      "Saving figure baseline_rus_precision\n"
     ]
    },
    {
     "data": {
      "image/png": "[encoded data removed]",
      "text/plain": [
       "<Figure size 640x480 with 1 Axes>"
      ]
     },
     "metadata": {},
     "output_type": "display_data"
    },
    {
     "data": {
      "text/plain": [
       "[[0.986014,\n",
       "  0.986143,\n",
       "  0.988426,\n",
       "  0.988479,\n",
       "  0.988453,\n",
       "  0.990741,\n",
       "  0.990783,\n",
       "  0.990783,\n",
       "  0.990783,\n",
       "  0.990805]]"
      ]
     },
     "metadata": {},
     "output_type": "display_data"
    },
    {
     "data": {
      "text/plain": [
       "[[0.840376,\n",
       "  0.81448,\n",
       "  0.841121,\n",
       "  0.796537,\n",
       "  0.848341,\n",
       "  0.816144,\n",
       "  0.834101,\n",
       "  0.822727,\n",
       "  0.816144,\n",
       "  0.823529]]"
      ]
     },
     "metadata": {},
     "output_type": "display_data"
    }
   ],
   "source": [
    "plt.plot(history.history[\"precision\"], color=\"b\", label=\"Train Precision\")\n",
    "plt.plot(history.history[\"val_precision\"], color=\"r\", label=\"Val Precision\")\n",
    "plt.ylabel(\"Values\")\n",
    "plt.xlabel(\"Epochs\")\n",
    "plt.title(\"Baseline RUS : Precision\")\n",
    "plt.legend()\n",
    "plt.ylim(0,1)\n",
    "save_fig(\"baseline_rus_precision\", \"png\")\n",
    "plt.show()\n",
    "\n",
    "display([[round(f, 6) for f in history.history['precision'][-10:]]])\n",
    "display([[round(f, 6) for f in history.history['val_precision'][-10:]]])\n"
   ]
  },
  {
   "cell_type": "markdown",
   "metadata": {},
   "source": [
    "### Recall"
   ]
  },
  {
   "cell_type": "code",
   "execution_count": 28,
   "metadata": {},
   "outputs": [
    {
     "name": "stdout",
     "output_type": "stream",
     "text": [
      "Saving figure baseline_rus_recall\n"
     ]
    },
    {
     "data": {
      "image/png": "[encoded data removed]",
      "text/plain": [
       "<Figure size 640x480 with 1 Axes>"
      ]
     },
     "metadata": {},
     "output_type": "display_data"
    },
    {
     "data": {
      "text/plain": [
       "[[0.925602,\n",
       "  0.934354,\n",
       "  0.934354,\n",
       "  0.938731,\n",
       "  0.936543,\n",
       "  0.936543,\n",
       "  0.940919,\n",
       "  0.940919,\n",
       "  0.940919,\n",
       "  0.943107]]"
      ]
     },
     "metadata": {},
     "output_type": "display_data"
    },
    {
     "data": {
      "text/plain": [
       "[[0.913265,\n",
       "  0.918367,\n",
       "  0.918367,\n",
       "  0.938776,\n",
       "  0.913265,\n",
       "  0.928571,\n",
       "  0.923469,\n",
       "  0.923469,\n",
       "  0.928571,\n",
       "  0.928571]]"
      ]
     },
     "metadata": {},
     "output_type": "display_data"
    }
   ],
   "source": [
    "plt.plot(history.history[\"recall\"], color=\"b\", label=\"Train Recall\")\n",
    "plt.plot(history.history[\"val_recall\"], color=\"r\", label=\"Val Recall\")\n",
    "plt.ylabel(\"Values\")\n",
    "plt.xlabel(\"Epochs\")\n",
    "plt.title(\"Baseline RUS: Recall\")\n",
    "plt.legend()\n",
    "plt.ylim(0,1)\n",
    "save_fig(\"baseline_rus_recall\", \"png\")\n",
    "plt.show()\n",
    "\n",
    "display([[round(f, 6) for f in history.history['recall'][-10:]]])\n",
    "display([[round(f, 6) for f in history.history['val_recall'][-10:]]])\n"
   ]
  },
  {
   "cell_type": "code",
   "execution_count": 29,
   "metadata": {},
   "outputs": [],
   "source": [
    "def f1_calculus(name, rec, prec):\n",
    "    df_tmp=pd.DataFrame()\n",
    "    df_tmp[name] = 2*np.array(rec)*np.array(prec)/(np.array(rec)+np.array(prec)+tf.keras.backend.epsilon()) # epsilon avoid runtimeWarning: divide by zero encountered in divide...\n",
    "    return df_tmp"
   ]
  },
  {
   "cell_type": "markdown",
   "metadata": {},
   "source": [
    "### F1 Score"
   ]
  },
  {
   "cell_type": "code",
   "execution_count": 30,
   "metadata": {},
   "outputs": [
    {
     "name": "stdout",
     "output_type": "stream",
     "text": [
      "Saving figure baseline_rus_f1\n"
     ]
    },
    {
     "data": {
      "image/png": "[encoded data removed]",
      "text/plain": [
       "<Figure size 640x480 with 1 Axes>"
      ]
     },
     "metadata": {},
     "output_type": "display_data"
    },
    {
     "data": {
      "text/html": [
       "<div>\n",
       "<style scoped>\n",
       "    .dataframe tbody tr th:only-of-type {\n",
       "        vertical-align: middle;\n",
       "    }\n",
       "\n",
       "    .dataframe tbody tr th {\n",
       "        vertical-align: top;\n",
       "    }\n",
       "\n",
       "    .dataframe thead th {\n",
       "        text-align: right;\n",
       "    }\n",
       "</style>\n",
       "<table border=\"1\" class=\"dataframe\">\n",
       "  <thead>\n",
       "    <tr style=\"text-align: right;\">\n",
       "      <th></th>\n",
       "      <th>f1</th>\n",
       "    </tr>\n",
       "  </thead>\n",
       "  <tbody>\n",
       "    <tr>\n",
       "      <th>40</th>\n",
       "      <td>0.954853</td>\n",
       "    </tr>\n",
       "    <tr>\n",
       "      <th>41</th>\n",
       "      <td>0.959551</td>\n",
       "    </tr>\n",
       "    <tr>\n",
       "      <th>42</th>\n",
       "      <td>0.960630</td>\n",
       "    </tr>\n",
       "    <tr>\n",
       "      <th>43</th>\n",
       "      <td>0.962963</td>\n",
       "    </tr>\n",
       "    <tr>\n",
       "      <th>44</th>\n",
       "      <td>0.961798</td>\n",
       "    </tr>\n",
       "    <tr>\n",
       "      <th>45</th>\n",
       "      <td>0.962880</td>\n",
       "    </tr>\n",
       "    <tr>\n",
       "      <th>46</th>\n",
       "      <td>0.965208</td>\n",
       "    </tr>\n",
       "    <tr>\n",
       "      <th>47</th>\n",
       "      <td>0.965208</td>\n",
       "    </tr>\n",
       "    <tr>\n",
       "      <th>48</th>\n",
       "      <td>0.965208</td>\n",
       "    </tr>\n",
       "    <tr>\n",
       "      <th>49</th>\n",
       "      <td>0.966368</td>\n",
       "    </tr>\n",
       "  </tbody>\n",
       "</table>\n",
       "</div>"
      ],
      "text/plain": [
       "          f1\n",
       "40  0.954853\n",
       "41  0.959551\n",
       "42  0.960630\n",
       "43  0.962963\n",
       "44  0.961798\n",
       "45  0.962880\n",
       "46  0.965208\n",
       "47  0.965208\n",
       "48  0.965208\n",
       "49  0.966368"
      ]
     },
     "metadata": {},
     "output_type": "display_data"
    },
    {
     "data": {
      "text/html": [
       "<div>\n",
       "<style scoped>\n",
       "    .dataframe tbody tr th:only-of-type {\n",
       "        vertical-align: middle;\n",
       "    }\n",
       "\n",
       "    .dataframe tbody tr th {\n",
       "        vertical-align: top;\n",
       "    }\n",
       "\n",
       "    .dataframe thead th {\n",
       "        text-align: right;\n",
       "    }\n",
       "</style>\n",
       "<table border=\"1\" class=\"dataframe\">\n",
       "  <thead>\n",
       "    <tr style=\"text-align: right;\">\n",
       "      <th></th>\n",
       "      <th>val_f1</th>\n",
       "    </tr>\n",
       "  </thead>\n",
       "  <tbody>\n",
       "    <tr>\n",
       "      <th>40</th>\n",
       "      <td>0.875306</td>\n",
       "    </tr>\n",
       "    <tr>\n",
       "      <th>41</th>\n",
       "      <td>0.863309</td>\n",
       "    </tr>\n",
       "    <tr>\n",
       "      <th>42</th>\n",
       "      <td>0.878049</td>\n",
       "    </tr>\n",
       "    <tr>\n",
       "      <th>43</th>\n",
       "      <td>0.861827</td>\n",
       "    </tr>\n",
       "    <tr>\n",
       "      <th>44</th>\n",
       "      <td>0.879607</td>\n",
       "    </tr>\n",
       "    <tr>\n",
       "      <th>45</th>\n",
       "      <td>0.868735</td>\n",
       "    </tr>\n",
       "    <tr>\n",
       "      <th>46</th>\n",
       "      <td>0.876513</td>\n",
       "    </tr>\n",
       "    <tr>\n",
       "      <th>47</th>\n",
       "      <td>0.870192</td>\n",
       "    </tr>\n",
       "    <tr>\n",
       "      <th>48</th>\n",
       "      <td>0.868735</td>\n",
       "    </tr>\n",
       "    <tr>\n",
       "      <th>49</th>\n",
       "      <td>0.872902</td>\n",
       "    </tr>\n",
       "  </tbody>\n",
       "</table>\n",
       "</div>"
      ],
      "text/plain": [
       "      val_f1\n",
       "40  0.875306\n",
       "41  0.863309\n",
       "42  0.878049\n",
       "43  0.861827\n",
       "44  0.879607\n",
       "45  0.868735\n",
       "46  0.876513\n",
       "47  0.870192\n",
       "48  0.868735\n",
       "49  0.872902"
      ]
     },
     "metadata": {},
     "output_type": "display_data"
    }
   ],
   "source": [
    "df_tmp = f1_calculus(\"f1\", history.history[\"recall\"], history.history[\"precision\"])\n",
    "df_val_tmp = f1_calculus(\"val_f1\", history.history[\"val_recall\"], history.history[\"val_precision\"])\n",
    "\n",
    "plt.plot(df_tmp[\"f1\"], color=\"b\", label=\"Train F1\")\n",
    "plt.plot(df_val_tmp[\"val_f1\"], color=\"r\", label=\"Val F1\")\n",
    "plt.ylabel(\"Values\")\n",
    "plt.xlabel(\"Epochs\")\n",
    "plt.title(\"Baseline RUS: F1\")\n",
    "plt.legend()\n",
    "plt.ylim(0,1)\n",
    "save_fig(\"baseline_rus_f1\", \"png\")\n",
    "plt.show()\n",
    "\n",
    "display(df_tmp.tail(10))\n",
    "display(df_val_tmp.tail(10))\n",
    "\n",
    "\n"
   ]
  },
  {
   "cell_type": "markdown",
   "metadata": {},
   "source": [
    "### Confusion matrix (animated)"
   ]
  },
  {
   "cell_type": "code",
   "execution_count": 31,
   "metadata": {},
   "outputs": [
    {
     "data": {
      "application/vnd.plotly.v1+json": {
       "config": {
        "plotlyServerURL": "https://plot.ly"
       },
       "data": [
        {
         "colorscale": [
          [
           0,
           "#440154"
          ],
          [
           0.1111111111111111,
           "#482878"
          ],
          [
           0.2222222222222222,
           "#3e4989"
          ],
          [
           0.3333333333333333,
           "#31688e"
          ],
          [
           0.4444444444444444,
           "#26828e"
          ],
          [
           0.5555555555555556,
           "#1f9e89"
          ],
          [
           0.6666666666666666,
           "#35b779"
          ],
          [
           0.7777777777777778,
           "#6ece58"
          ],
          [
           0.8888888888888888,
           "#b5de2b"
          ],
          [
           1,
           "#fde725"
          ]
         ],
         "hoverinfo": "skip",
         "showscale": true,
         "text": [
          [
           "129",
           "67"
          ],
          [
           "1328",
           "27"
          ]
         ],
         "textfont": {
          "size": 14
         },
         "texttemplate": "%{text}",
         "type": "heatmap",
         "z": [
          [
           129,
           67
          ],
          [
           1328,
           27
          ]
         ]
        }
       ],
       "frames": [
        {
         "data": [
          {
           "colorscale": [
            [
             0,
             "#440154"
            ],
            [
             0.1111111111111111,
             "#482878"
            ],
            [
             0.2222222222222222,
             "#3e4989"
            ],
            [
             0.3333333333333333,
             "#31688e"
            ],
            [
             0.4444444444444444,
             "#26828e"
            ],
            [
             0.5555555555555556,
             "#1f9e89"
            ],
            [
             0.6666666666666666,
             "#35b779"
            ],
            [
             0.7777777777777778,
             "#6ece58"
            ],
            [
             0.8888888888888888,
             "#b5de2b"
            ],
            [
             1,
             "#fde725"
            ]
           ],
           "hoverinfo": "skip",
           "showscale": true,
           "text": [
            [
             "129",
             "67"
            ],
            [
             "1328",
             "27"
            ]
           ],
           "textfont": {
            "size": 14
           },
           "texttemplate": "%{text}",
           "type": "heatmap",
           "z": [
            [
             129,
             67
            ],
            [
             1328,
             27
            ]
           ]
          }
         ],
         "name": "Epoch 1"
        },
        {
         "data": [
          {
           "colorscale": [
            [
             0,
             "#440154"
            ],
            [
             0.1111111111111111,
             "#482878"
            ],
            [
             0.2222222222222222,
             "#3e4989"
            ],
            [
             0.3333333333333333,
             "#31688e"
            ],
            [
             0.4444444444444444,
             "#26828e"
            ],
            [
             0.5555555555555556,
             "#1f9e89"
            ],
            [
             0.6666666666666666,
             "#35b779"
            ],
            [
             0.7777777777777778,
             "#6ece58"
            ],
            [
             0.8888888888888888,
             "#b5de2b"
            ],
            [
             1,
             "#fde725"
            ]
           ],
           "hoverinfo": "skip",
           "showscale": true,
           "text": [
            [
             "196",
             "0"
            ],
            [
             "1352",
             "3"
            ]
           ],
           "textfont": {
            "size": 14
           },
           "texttemplate": "%{text}",
           "type": "heatmap",
           "z": [
            [
             196,
             0
            ],
            [
             1352,
             3
            ]
           ]
          }
         ],
         "name": "Epoch 2"
        },
        {
         "data": [
          {
           "colorscale": [
            [
             0,
             "#440154"
            ],
            [
             0.1111111111111111,
             "#482878"
            ],
            [
             0.2222222222222222,
             "#3e4989"
            ],
            [
             0.3333333333333333,
             "#31688e"
            ],
            [
             0.4444444444444444,
             "#26828e"
            ],
            [
             0.5555555555555556,
             "#1f9e89"
            ],
            [
             0.6666666666666666,
             "#35b779"
            ],
            [
             0.7777777777777778,
             "#6ece58"
            ],
            [
             0.8888888888888888,
             "#b5de2b"
            ],
            [
             1,
             "#fde725"
            ]
           ],
           "hoverinfo": "skip",
           "showscale": true,
           "text": [
            [
             "196",
             "0"
            ],
            [
             "1352",
             "3"
            ]
           ],
           "textfont": {
            "size": 14
           },
           "texttemplate": "%{text}",
           "type": "heatmap",
           "z": [
            [
             196,
             0
            ],
            [
             1352,
             3
            ]
           ]
          }
         ],
         "name": "Epoch 3"
        },
        {
         "data": [
          {
           "colorscale": [
            [
             0,
             "#440154"
            ],
            [
             0.1111111111111111,
             "#482878"
            ],
            [
             0.2222222222222222,
             "#3e4989"
            ],
            [
             0.3333333333333333,
             "#31688e"
            ],
            [
             0.4444444444444444,
             "#26828e"
            ],
            [
             0.5555555555555556,
             "#1f9e89"
            ],
            [
             0.6666666666666666,
             "#35b779"
            ],
            [
             0.7777777777777778,
             "#6ece58"
            ],
            [
             0.8888888888888888,
             "#b5de2b"
            ],
            [
             1,
             "#fde725"
            ]
           ],
           "hoverinfo": "skip",
           "showscale": true,
           "text": [
            [
             "181",
             "15"
            ],
            [
             "1348",
             "7"
            ]
           ],
           "textfont": {
            "size": 14
           },
           "texttemplate": "%{text}",
           "type": "heatmap",
           "z": [
            [
             181,
             15
            ],
            [
             1348,
             7
            ]
           ]
          }
         ],
         "name": "Epoch 4"
        },
        {
         "data": [
          {
           "colorscale": [
            [
             0,
             "#440154"
            ],
            [
             0.1111111111111111,
             "#482878"
            ],
            [
             0.2222222222222222,
             "#3e4989"
            ],
            [
             0.3333333333333333,
             "#31688e"
            ],
            [
             0.4444444444444444,
             "#26828e"
            ],
            [
             0.5555555555555556,
             "#1f9e89"
            ],
            [
             0.6666666666666666,
             "#35b779"
            ],
            [
             0.7777777777777778,
             "#6ece58"
            ],
            [
             0.8888888888888888,
             "#b5de2b"
            ],
            [
             1,
             "#fde725"
            ]
           ],
           "hoverinfo": "skip",
           "showscale": true,
           "text": [
            [
             "116",
             "80"
            ],
            [
             "1338",
             "17"
            ]
           ],
           "textfont": {
            "size": 14
           },
           "texttemplate": "%{text}",
           "type": "heatmap",
           "z": [
            [
             116,
             80
            ],
            [
             1338,
             17
            ]
           ]
          }
         ],
         "name": "Epoch 5"
        },
        {
         "data": [
          {
           "colorscale": [
            [
             0,
             "#440154"
            ],
            [
             0.1111111111111111,
             "#482878"
            ],
            [
             0.2222222222222222,
             "#3e4989"
            ],
            [
             0.3333333333333333,
             "#31688e"
            ],
            [
             0.4444444444444444,
             "#26828e"
            ],
            [
             0.5555555555555556,
             "#1f9e89"
            ],
            [
             0.6666666666666666,
             "#35b779"
            ],
            [
             0.7777777777777778,
             "#6ece58"
            ],
            [
             0.8888888888888888,
             "#b5de2b"
            ],
            [
             1,
             "#fde725"
            ]
           ],
           "hoverinfo": "skip",
           "showscale": true,
           "text": [
            [
             "118",
             "78"
            ],
            [
             "1338",
             "17"
            ]
           ],
           "textfont": {
            "size": 14
           },
           "texttemplate": "%{text}",
           "type": "heatmap",
           "z": [
            [
             118,
             78
            ],
            [
             1338,
             17
            ]
           ]
          }
         ],
         "name": "Epoch 6"
        },
        {
         "data": [
          {
           "colorscale": [
            [
             0,
             "#440154"
            ],
            [
             0.1111111111111111,
             "#482878"
            ],
            [
             0.2222222222222222,
             "#3e4989"
            ],
            [
             0.3333333333333333,
             "#31688e"
            ],
            [
             0.4444444444444444,
             "#26828e"
            ],
            [
             0.5555555555555556,
             "#1f9e89"
            ],
            [
             0.6666666666666666,
             "#35b779"
            ],
            [
             0.7777777777777778,
             "#6ece58"
            ],
            [
             0.8888888888888888,
             "#b5de2b"
            ],
            [
             1,
             "#fde725"
            ]
           ],
           "hoverinfo": "skip",
           "showscale": true,
           "text": [
            [
             "78",
             "118"
            ],
            [
             "1332",
             "23"
            ]
           ],
           "textfont": {
            "size": 14
           },
           "texttemplate": "%{text}",
           "type": "heatmap",
           "z": [
            [
             78,
             118
            ],
            [
             1332,
             23
            ]
           ]
          }
         ],
         "name": "Epoch 7"
        },
        {
         "data": [
          {
           "colorscale": [
            [
             0,
             "#440154"
            ],
            [
             0.1111111111111111,
             "#482878"
            ],
            [
             0.2222222222222222,
             "#3e4989"
            ],
            [
             0.3333333333333333,
             "#31688e"
            ],
            [
             0.4444444444444444,
             "#26828e"
            ],
            [
             0.5555555555555556,
             "#1f9e89"
            ],
            [
             0.6666666666666666,
             "#35b779"
            ],
            [
             0.7777777777777778,
             "#6ece58"
            ],
            [
             0.8888888888888888,
             "#b5de2b"
            ],
            [
             1,
             "#fde725"
            ]
           ],
           "hoverinfo": "skip",
           "showscale": true,
           "text": [
            [
             "80",
             "116"
            ],
            [
             "1333",
             "22"
            ]
           ],
           "textfont": {
            "size": 14
           },
           "texttemplate": "%{text}",
           "type": "heatmap",
           "z": [
            [
             80,
             116
            ],
            [
             1333,
             22
            ]
           ]
          }
         ],
         "name": "Epoch 8"
        },
        {
         "data": [
          {
           "colorscale": [
            [
             0,
             "#440154"
            ],
            [
             0.1111111111111111,
             "#482878"
            ],
            [
             0.2222222222222222,
             "#3e4989"
            ],
            [
             0.3333333333333333,
             "#31688e"
            ],
            [
             0.4444444444444444,
             "#26828e"
            ],
            [
             0.5555555555555556,
             "#1f9e89"
            ],
            [
             0.6666666666666666,
             "#35b779"
            ],
            [
             0.7777777777777778,
             "#6ece58"
            ],
            [
             0.8888888888888888,
             "#b5de2b"
            ],
            [
             1,
             "#fde725"
            ]
           ],
           "hoverinfo": "skip",
           "showscale": true,
           "text": [
            [
             "67",
             "129"
            ],
            [
             "1331",
             "24"
            ]
           ],
           "textfont": {
            "size": 14
           },
           "texttemplate": "%{text}",
           "type": "heatmap",
           "z": [
            [
             67,
             129
            ],
            [
             1331,
             24
            ]
           ]
          }
         ],
         "name": "Epoch 9"
        },
        {
         "data": [
          {
           "colorscale": [
            [
             0,
             "#440154"
            ],
            [
             0.1111111111111111,
             "#482878"
            ],
            [
             0.2222222222222222,
             "#3e4989"
            ],
            [
             0.3333333333333333,
             "#31688e"
            ],
            [
             0.4444444444444444,
             "#26828e"
            ],
            [
             0.5555555555555556,
             "#1f9e89"
            ],
            [
             0.6666666666666666,
             "#35b779"
            ],
            [
             0.7777777777777778,
             "#6ece58"
            ],
            [
             0.8888888888888888,
             "#b5de2b"
            ],
            [
             1,
             "#fde725"
            ]
           ],
           "hoverinfo": "skip",
           "showscale": true,
           "text": [
            [
             "57",
             "139"
            ],
            [
             "1329",
             "26"
            ]
           ],
           "textfont": {
            "size": 14
           },
           "texttemplate": "%{text}",
           "type": "heatmap",
           "z": [
            [
             57,
             139
            ],
            [
             1329,
             26
            ]
           ]
          }
         ],
         "name": "Epoch 10"
        },
        {
         "data": [
          {
           "colorscale": [
            [
             0,
             "#440154"
            ],
            [
             0.1111111111111111,
             "#482878"
            ],
            [
             0.2222222222222222,
             "#3e4989"
            ],
            [
             0.3333333333333333,
             "#31688e"
            ],
            [
             0.4444444444444444,
             "#26828e"
            ],
            [
             0.5555555555555556,
             "#1f9e89"
            ],
            [
             0.6666666666666666,
             "#35b779"
            ],
            [
             0.7777777777777778,
             "#6ece58"
            ],
            [
             0.8888888888888888,
             "#b5de2b"
            ],
            [
             1,
             "#fde725"
            ]
           ],
           "hoverinfo": "skip",
           "showscale": true,
           "text": [
            [
             "50",
             "146"
            ],
            [
             "1325",
             "30"
            ]
           ],
           "textfont": {
            "size": 14
           },
           "texttemplate": "%{text}",
           "type": "heatmap",
           "z": [
            [
             50,
             146
            ],
            [
             1325,
             30
            ]
           ]
          }
         ],
         "name": "Epoch 11"
        },
        {
         "data": [
          {
           "colorscale": [
            [
             0,
             "#440154"
            ],
            [
             0.1111111111111111,
             "#482878"
            ],
            [
             0.2222222222222222,
             "#3e4989"
            ],
            [
             0.3333333333333333,
             "#31688e"
            ],
            [
             0.4444444444444444,
             "#26828e"
            ],
            [
             0.5555555555555556,
             "#1f9e89"
            ],
            [
             0.6666666666666666,
             "#35b779"
            ],
            [
             0.7777777777777778,
             "#6ece58"
            ],
            [
             0.8888888888888888,
             "#b5de2b"
            ],
            [
             1,
             "#fde725"
            ]
           ],
           "hoverinfo": "skip",
           "showscale": true,
           "text": [
            [
             "49",
             "147"
            ],
            [
             "1326",
             "29"
            ]
           ],
           "textfont": {
            "size": 14
           },
           "texttemplate": "%{text}",
           "type": "heatmap",
           "z": [
            [
             49,
             147
            ],
            [
             1326,
             29
            ]
           ]
          }
         ],
         "name": "Epoch 12"
        },
        {
         "data": [
          {
           "colorscale": [
            [
             0,
             "#440154"
            ],
            [
             0.1111111111111111,
             "#482878"
            ],
            [
             0.2222222222222222,
             "#3e4989"
            ],
            [
             0.3333333333333333,
             "#31688e"
            ],
            [
             0.4444444444444444,
             "#26828e"
            ],
            [
             0.5555555555555556,
             "#1f9e89"
            ],
            [
             0.6666666666666666,
             "#35b779"
            ],
            [
             0.7777777777777778,
             "#6ece58"
            ],
            [
             0.8888888888888888,
             "#b5de2b"
            ],
            [
             1,
             "#fde725"
            ]
           ],
           "hoverinfo": "skip",
           "showscale": true,
           "text": [
            [
             "45",
             "151"
            ],
            [
             "1324",
             "31"
            ]
           ],
           "textfont": {
            "size": 14
           },
           "texttemplate": "%{text}",
           "type": "heatmap",
           "z": [
            [
             45,
             151
            ],
            [
             1324,
             31
            ]
           ]
          }
         ],
         "name": "Epoch 13"
        },
        {
         "data": [
          {
           "colorscale": [
            [
             0,
             "#440154"
            ],
            [
             0.1111111111111111,
             "#482878"
            ],
            [
             0.2222222222222222,
             "#3e4989"
            ],
            [
             0.3333333333333333,
             "#31688e"
            ],
            [
             0.4444444444444444,
             "#26828e"
            ],
            [
             0.5555555555555556,
             "#1f9e89"
            ],
            [
             0.6666666666666666,
             "#35b779"
            ],
            [
             0.7777777777777778,
             "#6ece58"
            ],
            [
             0.8888888888888888,
             "#b5de2b"
            ],
            [
             1,
             "#fde725"
            ]
           ],
           "hoverinfo": "skip",
           "showscale": true,
           "text": [
            [
             "43",
             "153"
            ],
            [
             "1323",
             "32"
            ]
           ],
           "textfont": {
            "size": 14
           },
           "texttemplate": "%{text}",
           "type": "heatmap",
           "z": [
            [
             43,
             153
            ],
            [
             1323,
             32
            ]
           ]
          }
         ],
         "name": "Epoch 14"
        },
        {
         "data": [
          {
           "colorscale": [
            [
             0,
             "#440154"
            ],
            [
             0.1111111111111111,
             "#482878"
            ],
            [
             0.2222222222222222,
             "#3e4989"
            ],
            [
             0.3333333333333333,
             "#31688e"
            ],
            [
             0.4444444444444444,
             "#26828e"
            ],
            [
             0.5555555555555556,
             "#1f9e89"
            ],
            [
             0.6666666666666666,
             "#35b779"
            ],
            [
             0.7777777777777778,
             "#6ece58"
            ],
            [
             0.8888888888888888,
             "#b5de2b"
            ],
            [
             1,
             "#fde725"
            ]
           ],
           "hoverinfo": "skip",
           "showscale": true,
           "text": [
            [
             "38",
             "158"
            ],
            [
             "1319",
             "36"
            ]
           ],
           "textfont": {
            "size": 14
           },
           "texttemplate": "%{text}",
           "type": "heatmap",
           "z": [
            [
             38,
             158
            ],
            [
             1319,
             36
            ]
           ]
          }
         ],
         "name": "Epoch 15"
        },
        {
         "data": [
          {
           "colorscale": [
            [
             0,
             "#440154"
            ],
            [
             0.1111111111111111,
             "#482878"
            ],
            [
             0.2222222222222222,
             "#3e4989"
            ],
            [
             0.3333333333333333,
             "#31688e"
            ],
            [
             0.4444444444444444,
             "#26828e"
            ],
            [
             0.5555555555555556,
             "#1f9e89"
            ],
            [
             0.6666666666666666,
             "#35b779"
            ],
            [
             0.7777777777777778,
             "#6ece58"
            ],
            [
             0.8888888888888888,
             "#b5de2b"
            ],
            [
             1,
             "#fde725"
            ]
           ],
           "hoverinfo": "skip",
           "showscale": true,
           "text": [
            [
             "35",
             "161"
            ],
            [
             "1317",
             "38"
            ]
           ],
           "textfont": {
            "size": 14
           },
           "texttemplate": "%{text}",
           "type": "heatmap",
           "z": [
            [
             35,
             161
            ],
            [
             1317,
             38
            ]
           ]
          }
         ],
         "name": "Epoch 16"
        },
        {
         "data": [
          {
           "colorscale": [
            [
             0,
             "#440154"
            ],
            [
             0.1111111111111111,
             "#482878"
            ],
            [
             0.2222222222222222,
             "#3e4989"
            ],
            [
             0.3333333333333333,
             "#31688e"
            ],
            [
             0.4444444444444444,
             "#26828e"
            ],
            [
             0.5555555555555556,
             "#1f9e89"
            ],
            [
             0.6666666666666666,
             "#35b779"
            ],
            [
             0.7777777777777778,
             "#6ece58"
            ],
            [
             0.8888888888888888,
             "#b5de2b"
            ],
            [
             1,
             "#fde725"
            ]
           ],
           "hoverinfo": "skip",
           "showscale": true,
           "text": [
            [
             "31",
             "165"
            ],
            [
             "1317",
             "38"
            ]
           ],
           "textfont": {
            "size": 14
           },
           "texttemplate": "%{text}",
           "type": "heatmap",
           "z": [
            [
             31,
             165
            ],
            [
             1317,
             38
            ]
           ]
          }
         ],
         "name": "Epoch 17"
        },
        {
         "data": [
          {
           "colorscale": [
            [
             0,
             "#440154"
            ],
            [
             0.1111111111111111,
             "#482878"
            ],
            [
             0.2222222222222222,
             "#3e4989"
            ],
            [
             0.3333333333333333,
             "#31688e"
            ],
            [
             0.4444444444444444,
             "#26828e"
            ],
            [
             0.5555555555555556,
             "#1f9e89"
            ],
            [
             0.6666666666666666,
             "#35b779"
            ],
            [
             0.7777777777777778,
             "#6ece58"
            ],
            [
             0.8888888888888888,
             "#b5de2b"
            ],
            [
             1,
             "#fde725"
            ]
           ],
           "hoverinfo": "skip",
           "showscale": true,
           "text": [
            [
             "30",
             "166"
            ],
            [
             "1318",
             "37"
            ]
           ],
           "textfont": {
            "size": 14
           },
           "texttemplate": "%{text}",
           "type": "heatmap",
           "z": [
            [
             30,
             166
            ],
            [
             1318,
             37
            ]
           ]
          }
         ],
         "name": "Epoch 18"
        },
        {
         "data": [
          {
           "colorscale": [
            [
             0,
             "#440154"
            ],
            [
             0.1111111111111111,
             "#482878"
            ],
            [
             0.2222222222222222,
             "#3e4989"
            ],
            [
             0.3333333333333333,
             "#31688e"
            ],
            [
             0.4444444444444444,
             "#26828e"
            ],
            [
             0.5555555555555556,
             "#1f9e89"
            ],
            [
             0.6666666666666666,
             "#35b779"
            ],
            [
             0.7777777777777778,
             "#6ece58"
            ],
            [
             0.8888888888888888,
             "#b5de2b"
            ],
            [
             1,
             "#fde725"
            ]
           ],
           "hoverinfo": "skip",
           "showscale": true,
           "text": [
            [
             "29",
             "167"
            ],
            [
             "1317",
             "38"
            ]
           ],
           "textfont": {
            "size": 14
           },
           "texttemplate": "%{text}",
           "type": "heatmap",
           "z": [
            [
             29,
             167
            ],
            [
             1317,
             38
            ]
           ]
          }
         ],
         "name": "Epoch 19"
        },
        {
         "data": [
          {
           "colorscale": [
            [
             0,
             "#440154"
            ],
            [
             0.1111111111111111,
             "#482878"
            ],
            [
             0.2222222222222222,
             "#3e4989"
            ],
            [
             0.3333333333333333,
             "#31688e"
            ],
            [
             0.4444444444444444,
             "#26828e"
            ],
            [
             0.5555555555555556,
             "#1f9e89"
            ],
            [
             0.6666666666666666,
             "#35b779"
            ],
            [
             0.7777777777777778,
             "#6ece58"
            ],
            [
             0.8888888888888888,
             "#b5de2b"
            ],
            [
             1,
             "#fde725"
            ]
           ],
           "hoverinfo": "skip",
           "showscale": true,
           "text": [
            [
             "28",
             "168"
            ],
            [
             "1317",
             "38"
            ]
           ],
           "textfont": {
            "size": 14
           },
           "texttemplate": "%{text}",
           "type": "heatmap",
           "z": [
            [
             28,
             168
            ],
            [
             1317,
             38
            ]
           ]
          }
         ],
         "name": "Epoch 20"
        },
        {
         "data": [
          {
           "colorscale": [
            [
             0,
             "#440154"
            ],
            [
             0.1111111111111111,
             "#482878"
            ],
            [
             0.2222222222222222,
             "#3e4989"
            ],
            [
             0.3333333333333333,
             "#31688e"
            ],
            [
             0.4444444444444444,
             "#26828e"
            ],
            [
             0.5555555555555556,
             "#1f9e89"
            ],
            [
             0.6666666666666666,
             "#35b779"
            ],
            [
             0.7777777777777778,
             "#6ece58"
            ],
            [
             0.8888888888888888,
             "#b5de2b"
            ],
            [
             1,
             "#fde725"
            ]
           ],
           "hoverinfo": "skip",
           "showscale": true,
           "text": [
            [
             "26",
             "170"
            ],
            [
             "1317",
             "38"
            ]
           ],
           "textfont": {
            "size": 14
           },
           "texttemplate": "%{text}",
           "type": "heatmap",
           "z": [
            [
             26,
             170
            ],
            [
             1317,
             38
            ]
           ]
          }
         ],
         "name": "Epoch 21"
        },
        {
         "data": [
          {
           "colorscale": [
            [
             0,
             "#440154"
            ],
            [
             0.1111111111111111,
             "#482878"
            ],
            [
             0.2222222222222222,
             "#3e4989"
            ],
            [
             0.3333333333333333,
             "#31688e"
            ],
            [
             0.4444444444444444,
             "#26828e"
            ],
            [
             0.5555555555555556,
             "#1f9e89"
            ],
            [
             0.6666666666666666,
             "#35b779"
            ],
            [
             0.7777777777777778,
             "#6ece58"
            ],
            [
             0.8888888888888888,
             "#b5de2b"
            ],
            [
             1,
             "#fde725"
            ]
           ],
           "hoverinfo": "skip",
           "showscale": true,
           "text": [
            [
             "23",
             "173"
            ],
            [
             "1314",
             "41"
            ]
           ],
           "textfont": {
            "size": 14
           },
           "texttemplate": "%{text}",
           "type": "heatmap",
           "z": [
            [
             23,
             173
            ],
            [
             1314,
             41
            ]
           ]
          }
         ],
         "name": "Epoch 22"
        },
        {
         "data": [
          {
           "colorscale": [
            [
             0,
             "#440154"
            ],
            [
             0.1111111111111111,
             "#482878"
            ],
            [
             0.2222222222222222,
             "#3e4989"
            ],
            [
             0.3333333333333333,
             "#31688e"
            ],
            [
             0.4444444444444444,
             "#26828e"
            ],
            [
             0.5555555555555556,
             "#1f9e89"
            ],
            [
             0.6666666666666666,
             "#35b779"
            ],
            [
             0.7777777777777778,
             "#6ece58"
            ],
            [
             0.8888888888888888,
             "#b5de2b"
            ],
            [
             1,
             "#fde725"
            ]
           ],
           "hoverinfo": "skip",
           "showscale": true,
           "text": [
            [
             "26",
             "170"
            ],
            [
             "1315",
             "40"
            ]
           ],
           "textfont": {
            "size": 14
           },
           "texttemplate": "%{text}",
           "type": "heatmap",
           "z": [
            [
             26,
             170
            ],
            [
             1315,
             40
            ]
           ]
          }
         ],
         "name": "Epoch 23"
        },
        {
         "data": [
          {
           "colorscale": [
            [
             0,
             "#440154"
            ],
            [
             0.1111111111111111,
             "#482878"
            ],
            [
             0.2222222222222222,
             "#3e4989"
            ],
            [
             0.3333333333333333,
             "#31688e"
            ],
            [
             0.4444444444444444,
             "#26828e"
            ],
            [
             0.5555555555555556,
             "#1f9e89"
            ],
            [
             0.6666666666666666,
             "#35b779"
            ],
            [
             0.7777777777777778,
             "#6ece58"
            ],
            [
             0.8888888888888888,
             "#b5de2b"
            ],
            [
             1,
             "#fde725"
            ]
           ],
           "hoverinfo": "skip",
           "showscale": true,
           "text": [
            [
             "23",
             "173"
            ],
            [
             "1314",
             "41"
            ]
           ],
           "textfont": {
            "size": 14
           },
           "texttemplate": "%{text}",
           "type": "heatmap",
           "z": [
            [
             23,
             173
            ],
            [
             1314,
             41
            ]
           ]
          }
         ],
         "name": "Epoch 24"
        },
        {
         "data": [
          {
           "colorscale": [
            [
             0,
             "#440154"
            ],
            [
             0.1111111111111111,
             "#482878"
            ],
            [
             0.2222222222222222,
             "#3e4989"
            ],
            [
             0.3333333333333333,
             "#31688e"
            ],
            [
             0.4444444444444444,
             "#26828e"
            ],
            [
             0.5555555555555556,
             "#1f9e89"
            ],
            [
             0.6666666666666666,
             "#35b779"
            ],
            [
             0.7777777777777778,
             "#6ece58"
            ],
            [
             0.8888888888888888,
             "#b5de2b"
            ],
            [
             1,
             "#fde725"
            ]
           ],
           "hoverinfo": "skip",
           "showscale": true,
           "text": [
            [
             "21",
             "175"
            ],
            [
             "1312",
             "43"
            ]
           ],
           "textfont": {
            "size": 14
           },
           "texttemplate": "%{text}",
           "type": "heatmap",
           "z": [
            [
             21,
             175
            ],
            [
             1312,
             43
            ]
           ]
          }
         ],
         "name": "Epoch 25"
        },
        {
         "data": [
          {
           "colorscale": [
            [
             0,
             "#440154"
            ],
            [
             0.1111111111111111,
             "#482878"
            ],
            [
             0.2222222222222222,
             "#3e4989"
            ],
            [
             0.3333333333333333,
             "#31688e"
            ],
            [
             0.4444444444444444,
             "#26828e"
            ],
            [
             0.5555555555555556,
             "#1f9e89"
            ],
            [
             0.6666666666666666,
             "#35b779"
            ],
            [
             0.7777777777777778,
             "#6ece58"
            ],
            [
             0.8888888888888888,
             "#b5de2b"
            ],
            [
             1,
             "#fde725"
            ]
           ],
           "hoverinfo": "skip",
           "showscale": true,
           "text": [
            [
             "23",
             "173"
            ],
            [
             "1315",
             "40"
            ]
           ],
           "textfont": {
            "size": 14
           },
           "texttemplate": "%{text}",
           "type": "heatmap",
           "z": [
            [
             23,
             173
            ],
            [
             1315,
             40
            ]
           ]
          }
         ],
         "name": "Epoch 26"
        },
        {
         "data": [
          {
           "colorscale": [
            [
             0,
             "#440154"
            ],
            [
             0.1111111111111111,
             "#482878"
            ],
            [
             0.2222222222222222,
             "#3e4989"
            ],
            [
             0.3333333333333333,
             "#31688e"
            ],
            [
             0.4444444444444444,
             "#26828e"
            ],
            [
             0.5555555555555556,
             "#1f9e89"
            ],
            [
             0.6666666666666666,
             "#35b779"
            ],
            [
             0.7777777777777778,
             "#6ece58"
            ],
            [
             0.8888888888888888,
             "#b5de2b"
            ],
            [
             1,
             "#fde725"
            ]
           ],
           "hoverinfo": "skip",
           "showscale": true,
           "text": [
            [
             "20",
             "176"
            ],
            [
             "1312",
             "43"
            ]
           ],
           "textfont": {
            "size": 14
           },
           "texttemplate": "%{text}",
           "type": "heatmap",
           "z": [
            [
             20,
             176
            ],
            [
             1312,
             43
            ]
           ]
          }
         ],
         "name": "Epoch 27"
        },
        {
         "data": [
          {
           "colorscale": [
            [
             0,
             "#440154"
            ],
            [
             0.1111111111111111,
             "#482878"
            ],
            [
             0.2222222222222222,
             "#3e4989"
            ],
            [
             0.3333333333333333,
             "#31688e"
            ],
            [
             0.4444444444444444,
             "#26828e"
            ],
            [
             0.5555555555555556,
             "#1f9e89"
            ],
            [
             0.6666666666666666,
             "#35b779"
            ],
            [
             0.7777777777777778,
             "#6ece58"
            ],
            [
             0.8888888888888888,
             "#b5de2b"
            ],
            [
             1,
             "#fde725"
            ]
           ],
           "hoverinfo": "skip",
           "showscale": true,
           "text": [
            [
             "20",
             "176"
            ],
            [
             "1312",
             "43"
            ]
           ],
           "textfont": {
            "size": 14
           },
           "texttemplate": "%{text}",
           "type": "heatmap",
           "z": [
            [
             20,
             176
            ],
            [
             1312,
             43
            ]
           ]
          }
         ],
         "name": "Epoch 28"
        },
        {
         "data": [
          {
           "colorscale": [
            [
             0,
             "#440154"
            ],
            [
             0.1111111111111111,
             "#482878"
            ],
            [
             0.2222222222222222,
             "#3e4989"
            ],
            [
             0.3333333333333333,
             "#31688e"
            ],
            [
             0.4444444444444444,
             "#26828e"
            ],
            [
             0.5555555555555556,
             "#1f9e89"
            ],
            [
             0.6666666666666666,
             "#35b779"
            ],
            [
             0.7777777777777778,
             "#6ece58"
            ],
            [
             0.8888888888888888,
             "#b5de2b"
            ],
            [
             1,
             "#fde725"
            ]
           ],
           "hoverinfo": "skip",
           "showscale": true,
           "text": [
            [
             "20",
             "176"
            ],
            [
             "1310",
             "45"
            ]
           ],
           "textfont": {
            "size": 14
           },
           "texttemplate": "%{text}",
           "type": "heatmap",
           "z": [
            [
             20,
             176
            ],
            [
             1310,
             45
            ]
           ]
          }
         ],
         "name": "Epoch 29"
        },
        {
         "data": [
          {
           "colorscale": [
            [
             0,
             "#440154"
            ],
            [
             0.1111111111111111,
             "#482878"
            ],
            [
             0.2222222222222222,
             "#3e4989"
            ],
            [
             0.3333333333333333,
             "#31688e"
            ],
            [
             0.4444444444444444,
             "#26828e"
            ],
            [
             0.5555555555555556,
             "#1f9e89"
            ],
            [
             0.6666666666666666,
             "#35b779"
            ],
            [
             0.7777777777777778,
             "#6ece58"
            ],
            [
             0.8888888888888888,
             "#b5de2b"
            ],
            [
             1,
             "#fde725"
            ]
           ],
           "hoverinfo": "skip",
           "showscale": true,
           "text": [
            [
             "20",
             "176"
            ],
            [
             "1311",
             "44"
            ]
           ],
           "textfont": {
            "size": 14
           },
           "texttemplate": "%{text}",
           "type": "heatmap",
           "z": [
            [
             20,
             176
            ],
            [
             1311,
             44
            ]
           ]
          }
         ],
         "name": "Epoch 30"
        },
        {
         "data": [
          {
           "colorscale": [
            [
             0,
             "#440154"
            ],
            [
             0.1111111111111111,
             "#482878"
            ],
            [
             0.2222222222222222,
             "#3e4989"
            ],
            [
             0.3333333333333333,
             "#31688e"
            ],
            [
             0.4444444444444444,
             "#26828e"
            ],
            [
             0.5555555555555556,
             "#1f9e89"
            ],
            [
             0.6666666666666666,
             "#35b779"
            ],
            [
             0.7777777777777778,
             "#6ece58"
            ],
            [
             0.8888888888888888,
             "#b5de2b"
            ],
            [
             1,
             "#fde725"
            ]
           ],
           "hoverinfo": "skip",
           "showscale": true,
           "text": [
            [
             "20",
             "176"
            ],
            [
             "1314",
             "41"
            ]
           ],
           "textfont": {
            "size": 14
           },
           "texttemplate": "%{text}",
           "type": "heatmap",
           "z": [
            [
             20,
             176
            ],
            [
             1314,
             41
            ]
           ]
          }
         ],
         "name": "Epoch 31"
        },
        {
         "data": [
          {
           "colorscale": [
            [
             0,
             "#440154"
            ],
            [
             0.1111111111111111,
             "#482878"
            ],
            [
             0.2222222222222222,
             "#3e4989"
            ],
            [
             0.3333333333333333,
             "#31688e"
            ],
            [
             0.4444444444444444,
             "#26828e"
            ],
            [
             0.5555555555555556,
             "#1f9e89"
            ],
            [
             0.6666666666666666,
             "#35b779"
            ],
            [
             0.7777777777777778,
             "#6ece58"
            ],
            [
             0.8888888888888888,
             "#b5de2b"
            ],
            [
             1,
             "#fde725"
            ]
           ],
           "hoverinfo": "skip",
           "showscale": true,
           "text": [
            [
             "18",
             "178"
            ],
            [
             "1310",
             "45"
            ]
           ],
           "textfont": {
            "size": 14
           },
           "texttemplate": "%{text}",
           "type": "heatmap",
           "z": [
            [
             18,
             178
            ],
            [
             1310,
             45
            ]
           ]
          }
         ],
         "name": "Epoch 32"
        },
        {
         "data": [
          {
           "colorscale": [
            [
             0,
             "#440154"
            ],
            [
             0.1111111111111111,
             "#482878"
            ],
            [
             0.2222222222222222,
             "#3e4989"
            ],
            [
             0.3333333333333333,
             "#31688e"
            ],
            [
             0.4444444444444444,
             "#26828e"
            ],
            [
             0.5555555555555556,
             "#1f9e89"
            ],
            [
             0.6666666666666666,
             "#35b779"
            ],
            [
             0.7777777777777778,
             "#6ece58"
            ],
            [
             0.8888888888888888,
             "#b5de2b"
            ],
            [
             1,
             "#fde725"
            ]
           ],
           "hoverinfo": "skip",
           "showscale": true,
           "text": [
            [
             "18",
             "178"
            ],
            [
             "1311",
             "44"
            ]
           ],
           "textfont": {
            "size": 14
           },
           "texttemplate": "%{text}",
           "type": "heatmap",
           "z": [
            [
             18,
             178
            ],
            [
             1311,
             44
            ]
           ]
          }
         ],
         "name": "Epoch 33"
        },
        {
         "data": [
          {
           "colorscale": [
            [
             0,
             "#440154"
            ],
            [
             0.1111111111111111,
             "#482878"
            ],
            [
             0.2222222222222222,
             "#3e4989"
            ],
            [
             0.3333333333333333,
             "#31688e"
            ],
            [
             0.4444444444444444,
             "#26828e"
            ],
            [
             0.5555555555555556,
             "#1f9e89"
            ],
            [
             0.6666666666666666,
             "#35b779"
            ],
            [
             0.7777777777777778,
             "#6ece58"
            ],
            [
             0.8888888888888888,
             "#b5de2b"
            ],
            [
             1,
             "#fde725"
            ]
           ],
           "hoverinfo": "skip",
           "showscale": true,
           "text": [
            [
             "20",
             "176"
            ],
            [
             "1317",
             "38"
            ]
           ],
           "textfont": {
            "size": 14
           },
           "texttemplate": "%{text}",
           "type": "heatmap",
           "z": [
            [
             20,
             176
            ],
            [
             1317,
             38
            ]
           ]
          }
         ],
         "name": "Epoch 34"
        },
        {
         "data": [
          {
           "colorscale": [
            [
             0,
             "#440154"
            ],
            [
             0.1111111111111111,
             "#482878"
            ],
            [
             0.2222222222222222,
             "#3e4989"
            ],
            [
             0.3333333333333333,
             "#31688e"
            ],
            [
             0.4444444444444444,
             "#26828e"
            ],
            [
             0.5555555555555556,
             "#1f9e89"
            ],
            [
             0.6666666666666666,
             "#35b779"
            ],
            [
             0.7777777777777778,
             "#6ece58"
            ],
            [
             0.8888888888888888,
             "#b5de2b"
            ],
            [
             1,
             "#fde725"
            ]
           ],
           "hoverinfo": "skip",
           "showscale": true,
           "text": [
            [
             "17",
             "179"
            ],
            [
             "1315",
             "40"
            ]
           ],
           "textfont": {
            "size": 14
           },
           "texttemplate": "%{text}",
           "type": "heatmap",
           "z": [
            [
             17,
             179
            ],
            [
             1315,
             40
            ]
           ]
          }
         ],
         "name": "Epoch 35"
        },
        {
         "data": [
          {
           "colorscale": [
            [
             0,
             "#440154"
            ],
            [
             0.1111111111111111,
             "#482878"
            ],
            [
             0.2222222222222222,
             "#3e4989"
            ],
            [
             0.3333333333333333,
             "#31688e"
            ],
            [
             0.4444444444444444,
             "#26828e"
            ],
            [
             0.5555555555555556,
             "#1f9e89"
            ],
            [
             0.6666666666666666,
             "#35b779"
            ],
            [
             0.7777777777777778,
             "#6ece58"
            ],
            [
             0.8888888888888888,
             "#b5de2b"
            ],
            [
             1,
             "#fde725"
            ]
           ],
           "hoverinfo": "skip",
           "showscale": true,
           "text": [
            [
             "17",
             "179"
            ],
            [
             "1312",
             "43"
            ]
           ],
           "textfont": {
            "size": 14
           },
           "texttemplate": "%{text}",
           "type": "heatmap",
           "z": [
            [
             17,
             179
            ],
            [
             1312,
             43
            ]
           ]
          }
         ],
         "name": "Epoch 36"
        },
        {
         "data": [
          {
           "colorscale": [
            [
             0,
             "#440154"
            ],
            [
             0.1111111111111111,
             "#482878"
            ],
            [
             0.2222222222222222,
             "#3e4989"
            ],
            [
             0.3333333333333333,
             "#31688e"
            ],
            [
             0.4444444444444444,
             "#26828e"
            ],
            [
             0.5555555555555556,
             "#1f9e89"
            ],
            [
             0.6666666666666666,
             "#35b779"
            ],
            [
             0.7777777777777778,
             "#6ece58"
            ],
            [
             0.8888888888888888,
             "#b5de2b"
            ],
            [
             1,
             "#fde725"
            ]
           ],
           "hoverinfo": "skip",
           "showscale": true,
           "text": [
            [
             "17",
             "179"
            ],
            [
             "1317",
             "38"
            ]
           ],
           "textfont": {
            "size": 14
           },
           "texttemplate": "%{text}",
           "type": "heatmap",
           "z": [
            [
             17,
             179
            ],
            [
             1317,
             38
            ]
           ]
          }
         ],
         "name": "Epoch 37"
        },
        {
         "data": [
          {
           "colorscale": [
            [
             0,
             "#440154"
            ],
            [
             0.1111111111111111,
             "#482878"
            ],
            [
             0.2222222222222222,
             "#3e4989"
            ],
            [
             0.3333333333333333,
             "#31688e"
            ],
            [
             0.4444444444444444,
             "#26828e"
            ],
            [
             0.5555555555555556,
             "#1f9e89"
            ],
            [
             0.6666666666666666,
             "#35b779"
            ],
            [
             0.7777777777777778,
             "#6ece58"
            ],
            [
             0.8888888888888888,
             "#b5de2b"
            ],
            [
             1,
             "#fde725"
            ]
           ],
           "hoverinfo": "skip",
           "showscale": true,
           "text": [
            [
             "17",
             "179"
            ],
            [
             "1322",
             "33"
            ]
           ],
           "textfont": {
            "size": 14
           },
           "texttemplate": "%{text}",
           "type": "heatmap",
           "z": [
            [
             17,
             179
            ],
            [
             1322,
             33
            ]
           ]
          }
         ],
         "name": "Epoch 38"
        },
        {
         "data": [
          {
           "colorscale": [
            [
             0,
             "#440154"
            ],
            [
             0.1111111111111111,
             "#482878"
            ],
            [
             0.2222222222222222,
             "#3e4989"
            ],
            [
             0.3333333333333333,
             "#31688e"
            ],
            [
             0.4444444444444444,
             "#26828e"
            ],
            [
             0.5555555555555556,
             "#1f9e89"
            ],
            [
             0.6666666666666666,
             "#35b779"
            ],
            [
             0.7777777777777778,
             "#6ece58"
            ],
            [
             0.8888888888888888,
             "#b5de2b"
            ],
            [
             1,
             "#fde725"
            ]
           ],
           "hoverinfo": "skip",
           "showscale": true,
           "text": [
            [
             "17",
             "179"
            ],
            [
             "1311",
             "44"
            ]
           ],
           "textfont": {
            "size": 14
           },
           "texttemplate": "%{text}",
           "type": "heatmap",
           "z": [
            [
             17,
             179
            ],
            [
             1311,
             44
            ]
           ]
          }
         ],
         "name": "Epoch 39"
        },
        {
         "data": [
          {
           "colorscale": [
            [
             0,
             "#440154"
            ],
            [
             0.1111111111111111,
             "#482878"
            ],
            [
             0.2222222222222222,
             "#3e4989"
            ],
            [
             0.3333333333333333,
             "#31688e"
            ],
            [
             0.4444444444444444,
             "#26828e"
            ],
            [
             0.5555555555555556,
             "#1f9e89"
            ],
            [
             0.6666666666666666,
             "#35b779"
            ],
            [
             0.7777777777777778,
             "#6ece58"
            ],
            [
             0.8888888888888888,
             "#b5de2b"
            ],
            [
             1,
             "#fde725"
            ]
           ],
           "hoverinfo": "skip",
           "showscale": true,
           "text": [
            [
             "17",
             "179"
            ],
            [
             "1316",
             "39"
            ]
           ],
           "textfont": {
            "size": 14
           },
           "texttemplate": "%{text}",
           "type": "heatmap",
           "z": [
            [
             17,
             179
            ],
            [
             1316,
             39
            ]
           ]
          }
         ],
         "name": "Epoch 40"
        },
        {
         "data": [
          {
           "colorscale": [
            [
             0,
             "#440154"
            ],
            [
             0.1111111111111111,
             "#482878"
            ],
            [
             0.2222222222222222,
             "#3e4989"
            ],
            [
             0.3333333333333333,
             "#31688e"
            ],
            [
             0.4444444444444444,
             "#26828e"
            ],
            [
             0.5555555555555556,
             "#1f9e89"
            ],
            [
             0.6666666666666666,
             "#35b779"
            ],
            [
             0.7777777777777778,
             "#6ece58"
            ],
            [
             0.8888888888888888,
             "#b5de2b"
            ],
            [
             1,
             "#fde725"
            ]
           ],
           "hoverinfo": "skip",
           "showscale": true,
           "text": [
            [
             "17",
             "179"
            ],
            [
             "1321",
             "34"
            ]
           ],
           "textfont": {
            "size": 14
           },
           "texttemplate": "%{text}",
           "type": "heatmap",
           "z": [
            [
             17,
             179
            ],
            [
             1321,
             34
            ]
           ]
          }
         ],
         "name": "Epoch 41"
        },
        {
         "data": [
          {
           "colorscale": [
            [
             0,
             "#440154"
            ],
            [
             0.1111111111111111,
             "#482878"
            ],
            [
             0.2222222222222222,
             "#3e4989"
            ],
            [
             0.3333333333333333,
             "#31688e"
            ],
            [
             0.4444444444444444,
             "#26828e"
            ],
            [
             0.5555555555555556,
             "#1f9e89"
            ],
            [
             0.6666666666666666,
             "#35b779"
            ],
            [
             0.7777777777777778,
             "#6ece58"
            ],
            [
             0.8888888888888888,
             "#b5de2b"
            ],
            [
             1,
             "#fde725"
            ]
           ],
           "hoverinfo": "skip",
           "showscale": true,
           "text": [
            [
             "16",
             "180"
            ],
            [
             "1314",
             "41"
            ]
           ],
           "textfont": {
            "size": 14
           },
           "texttemplate": "%{text}",
           "type": "heatmap",
           "z": [
            [
             16,
             180
            ],
            [
             1314,
             41
            ]
           ]
          }
         ],
         "name": "Epoch 42"
        },
        {
         "data": [
          {
           "colorscale": [
            [
             0,
             "#440154"
            ],
            [
             0.1111111111111111,
             "#482878"
            ],
            [
             0.2222222222222222,
             "#3e4989"
            ],
            [
             0.3333333333333333,
             "#31688e"
            ],
            [
             0.4444444444444444,
             "#26828e"
            ],
            [
             0.5555555555555556,
             "#1f9e89"
            ],
            [
             0.6666666666666666,
             "#35b779"
            ],
            [
             0.7777777777777778,
             "#6ece58"
            ],
            [
             0.8888888888888888,
             "#b5de2b"
            ],
            [
             1,
             "#fde725"
            ]
           ],
           "hoverinfo": "skip",
           "showscale": true,
           "text": [
            [
             "16",
             "180"
            ],
            [
             "1321",
             "34"
            ]
           ],
           "textfont": {
            "size": 14
           },
           "texttemplate": "%{text}",
           "type": "heatmap",
           "z": [
            [
             16,
             180
            ],
            [
             1321,
             34
            ]
           ]
          }
         ],
         "name": "Epoch 43"
        },
        {
         "data": [
          {
           "colorscale": [
            [
             0,
             "#440154"
            ],
            [
             0.1111111111111111,
             "#482878"
            ],
            [
             0.2222222222222222,
             "#3e4989"
            ],
            [
             0.3333333333333333,
             "#31688e"
            ],
            [
             0.4444444444444444,
             "#26828e"
            ],
            [
             0.5555555555555556,
             "#1f9e89"
            ],
            [
             0.6666666666666666,
             "#35b779"
            ],
            [
             0.7777777777777778,
             "#6ece58"
            ],
            [
             0.8888888888888888,
             "#b5de2b"
            ],
            [
             1,
             "#fde725"
            ]
           ],
           "hoverinfo": "skip",
           "showscale": true,
           "text": [
            [
             "12",
             "184"
            ],
            [
             "1308",
             "47"
            ]
           ],
           "textfont": {
            "size": 14
           },
           "texttemplate": "%{text}",
           "type": "heatmap",
           "z": [
            [
             12,
             184
            ],
            [
             1308,
             47
            ]
           ]
          }
         ],
         "name": "Epoch 44"
        },
        {
         "data": [
          {
           "colorscale": [
            [
             0,
             "#440154"
            ],
            [
             0.1111111111111111,
             "#482878"
            ],
            [
             0.2222222222222222,
             "#3e4989"
            ],
            [
             0.3333333333333333,
             "#31688e"
            ],
            [
             0.4444444444444444,
             "#26828e"
            ],
            [
             0.5555555555555556,
             "#1f9e89"
            ],
            [
             0.6666666666666666,
             "#35b779"
            ],
            [
             0.7777777777777778,
             "#6ece58"
            ],
            [
             0.8888888888888888,
             "#b5de2b"
            ],
            [
             1,
             "#fde725"
            ]
           ],
           "hoverinfo": "skip",
           "showscale": true,
           "text": [
            [
             "17",
             "179"
            ],
            [
             "1323",
             "32"
            ]
           ],
           "textfont": {
            "size": 14
           },
           "texttemplate": "%{text}",
           "type": "heatmap",
           "z": [
            [
             17,
             179
            ],
            [
             1323,
             32
            ]
           ]
          }
         ],
         "name": "Epoch 45"
        },
        {
         "data": [
          {
           "colorscale": [
            [
             0,
             "#440154"
            ],
            [
             0.1111111111111111,
             "#482878"
            ],
            [
             0.2222222222222222,
             "#3e4989"
            ],
            [
             0.3333333333333333,
             "#31688e"
            ],
            [
             0.4444444444444444,
             "#26828e"
            ],
            [
             0.5555555555555556,
             "#1f9e89"
            ],
            [
             0.6666666666666666,
             "#35b779"
            ],
            [
             0.7777777777777778,
             "#6ece58"
            ],
            [
             0.8888888888888888,
             "#b5de2b"
            ],
            [
             1,
             "#fde725"
            ]
           ],
           "hoverinfo": "skip",
           "showscale": true,
           "text": [
            [
             "14",
             "182"
            ],
            [
             "1314",
             "41"
            ]
           ],
           "textfont": {
            "size": 14
           },
           "texttemplate": "%{text}",
           "type": "heatmap",
           "z": [
            [
             14,
             182
            ],
            [
             1314,
             41
            ]
           ]
          }
         ],
         "name": "Epoch 46"
        },
        {
         "data": [
          {
           "colorscale": [
            [
             0,
             "#440154"
            ],
            [
             0.1111111111111111,
             "#482878"
            ],
            [
             0.2222222222222222,
             "#3e4989"
            ],
            [
             0.3333333333333333,
             "#31688e"
            ],
            [
             0.4444444444444444,
             "#26828e"
            ],
            [
             0.5555555555555556,
             "#1f9e89"
            ],
            [
             0.6666666666666666,
             "#35b779"
            ],
            [
             0.7777777777777778,
             "#6ece58"
            ],
            [
             0.8888888888888888,
             "#b5de2b"
            ],
            [
             1,
             "#fde725"
            ]
           ],
           "hoverinfo": "skip",
           "showscale": true,
           "text": [
            [
             "15",
             "181"
            ],
            [
             "1319",
             "36"
            ]
           ],
           "textfont": {
            "size": 14
           },
           "texttemplate": "%{text}",
           "type": "heatmap",
           "z": [
            [
             15,
             181
            ],
            [
             1319,
             36
            ]
           ]
          }
         ],
         "name": "Epoch 47"
        },
        {
         "data": [
          {
           "colorscale": [
            [
             0,
             "#440154"
            ],
            [
             0.1111111111111111,
             "#482878"
            ],
            [
             0.2222222222222222,
             "#3e4989"
            ],
            [
             0.3333333333333333,
             "#31688e"
            ],
            [
             0.4444444444444444,
             "#26828e"
            ],
            [
             0.5555555555555556,
             "#1f9e89"
            ],
            [
             0.6666666666666666,
             "#35b779"
            ],
            [
             0.7777777777777778,
             "#6ece58"
            ],
            [
             0.8888888888888888,
             "#b5de2b"
            ],
            [
             1,
             "#fde725"
            ]
           ],
           "hoverinfo": "skip",
           "showscale": true,
           "text": [
            [
             "15",
             "181"
            ],
            [
             "1316",
             "39"
            ]
           ],
           "textfont": {
            "size": 14
           },
           "texttemplate": "%{text}",
           "type": "heatmap",
           "z": [
            [
             15,
             181
            ],
            [
             1316,
             39
            ]
           ]
          }
         ],
         "name": "Epoch 48"
        },
        {
         "data": [
          {
           "colorscale": [
            [
             0,
             "#440154"
            ],
            [
             0.1111111111111111,
             "#482878"
            ],
            [
             0.2222222222222222,
             "#3e4989"
            ],
            [
             0.3333333333333333,
             "#31688e"
            ],
            [
             0.4444444444444444,
             "#26828e"
            ],
            [
             0.5555555555555556,
             "#1f9e89"
            ],
            [
             0.6666666666666666,
             "#35b779"
            ],
            [
             0.7777777777777778,
             "#6ece58"
            ],
            [
             0.8888888888888888,
             "#b5de2b"
            ],
            [
             1,
             "#fde725"
            ]
           ],
           "hoverinfo": "skip",
           "showscale": true,
           "text": [
            [
             "14",
             "182"
            ],
            [
             "1314",
             "41"
            ]
           ],
           "textfont": {
            "size": 14
           },
           "texttemplate": "%{text}",
           "type": "heatmap",
           "z": [
            [
             14,
             182
            ],
            [
             1314,
             41
            ]
           ]
          }
         ],
         "name": "Epoch 49"
        },
        {
         "data": [
          {
           "colorscale": [
            [
             0,
             "#440154"
            ],
            [
             0.1111111111111111,
             "#482878"
            ],
            [
             0.2222222222222222,
             "#3e4989"
            ],
            [
             0.3333333333333333,
             "#31688e"
            ],
            [
             0.4444444444444444,
             "#26828e"
            ],
            [
             0.5555555555555556,
             "#1f9e89"
            ],
            [
             0.6666666666666666,
             "#35b779"
            ],
            [
             0.7777777777777778,
             "#6ece58"
            ],
            [
             0.8888888888888888,
             "#b5de2b"
            ],
            [
             1,
             "#fde725"
            ]
           ],
           "hoverinfo": "skip",
           "showscale": true,
           "text": [
            [
             "14",
             "182"
            ],
            [
             "1316",
             "39"
            ]
           ],
           "textfont": {
            "size": 14
           },
           "texttemplate": "%{text}",
           "type": "heatmap",
           "z": [
            [
             14,
             182
            ],
            [
             1316,
             39
            ]
           ]
          }
         ],
         "name": "Epoch 50"
        }
       ],
       "layout": {
        "autosize": false,
        "height": 1000,
        "sliders": [
         {
          "currentvalue": {
           "prefix": "Epoch: "
          },
          "steps": [
           {
            "args": [
             [
              "Epoch 1"
             ],
             {
              "frame": {
               "duration": 500,
               "redraw": true
              }
             }
            ],
            "label": "Epoch 1",
            "method": "animate"
           },
           {
            "args": [
             [
              "Epoch 2"
             ],
             {
              "frame": {
               "duration": 500,
               "redraw": true
              }
             }
            ],
            "label": "Epoch 2",
            "method": "animate"
           },
           {
            "args": [
             [
              "Epoch 3"
             ],
             {
              "frame": {
               "duration": 500,
               "redraw": true
              }
             }
            ],
            "label": "Epoch 3",
            "method": "animate"
           },
           {
            "args": [
             [
              "Epoch 4"
             ],
             {
              "frame": {
               "duration": 500,
               "redraw": true
              }
             }
            ],
            "label": "Epoch 4",
            "method": "animate"
           },
           {
            "args": [
             [
              "Epoch 5"
             ],
             {
              "frame": {
               "duration": 500,
               "redraw": true
              }
             }
            ],
            "label": "Epoch 5",
            "method": "animate"
           },
           {
            "args": [
             [
              "Epoch 6"
             ],
             {
              "frame": {
               "duration": 500,
               "redraw": true
              }
             }
            ],
            "label": "Epoch 6",
            "method": "animate"
           },
           {
            "args": [
             [
              "Epoch 7"
             ],
             {
              "frame": {
               "duration": 500,
               "redraw": true
              }
             }
            ],
            "label": "Epoch 7",
            "method": "animate"
           },
           {
            "args": [
             [
              "Epoch 8"
             ],
             {
              "frame": {
               "duration": 500,
               "redraw": true
              }
             }
            ],
            "label": "Epoch 8",
            "method": "animate"
           },
           {
            "args": [
             [
              "Epoch 9"
             ],
             {
              "frame": {
               "duration": 500,
               "redraw": true
              }
             }
            ],
            "label": "Epoch 9",
            "method": "animate"
           },
           {
            "args": [
             [
              "Epoch 10"
             ],
             {
              "frame": {
               "duration": 500,
               "redraw": true
              }
             }
            ],
            "label": "Epoch 10",
            "method": "animate"
           },
           {
            "args": [
             [
              "Epoch 11"
             ],
             {
              "frame": {
               "duration": 500,
               "redraw": true
              }
             }
            ],
            "label": "Epoch 11",
            "method": "animate"
           },
           {
            "args": [
             [
              "Epoch 12"
             ],
             {
              "frame": {
               "duration": 500,
               "redraw": true
              }
             }
            ],
            "label": "Epoch 12",
            "method": "animate"
           },
           {
            "args": [
             [
              "Epoch 13"
             ],
             {
              "frame": {
               "duration": 500,
               "redraw": true
              }
             }
            ],
            "label": "Epoch 13",
            "method": "animate"
           },
           {
            "args": [
             [
              "Epoch 14"
             ],
             {
              "frame": {
               "duration": 500,
               "redraw": true
              }
             }
            ],
            "label": "Epoch 14",
            "method": "animate"
           },
           {
            "args": [
             [
              "Epoch 15"
             ],
             {
              "frame": {
               "duration": 500,
               "redraw": true
              }
             }
            ],
            "label": "Epoch 15",
            "method": "animate"
           },
           {
            "args": [
             [
              "Epoch 16"
             ],
             {
              "frame": {
               "duration": 500,
               "redraw": true
              }
             }
            ],
            "label": "Epoch 16",
            "method": "animate"
           },
           {
            "args": [
             [
              "Epoch 17"
             ],
             {
              "frame": {
               "duration": 500,
               "redraw": true
              }
             }
            ],
            "label": "Epoch 17",
            "method": "animate"
           },
           {
            "args": [
             [
              "Epoch 18"
             ],
             {
              "frame": {
               "duration": 500,
               "redraw": true
              }
             }
            ],
            "label": "Epoch 18",
            "method": "animate"
           },
           {
            "args": [
             [
              "Epoch 19"
             ],
             {
              "frame": {
               "duration": 500,
               "redraw": true
              }
             }
            ],
            "label": "Epoch 19",
            "method": "animate"
           },
           {
            "args": [
             [
              "Epoch 20"
             ],
             {
              "frame": {
               "duration": 500,
               "redraw": true
              }
             }
            ],
            "label": "Epoch 20",
            "method": "animate"
           },
           {
            "args": [
             [
              "Epoch 21"
             ],
             {
              "frame": {
               "duration": 500,
               "redraw": true
              }
             }
            ],
            "label": "Epoch 21",
            "method": "animate"
           },
           {
            "args": [
             [
              "Epoch 22"
             ],
             {
              "frame": {
               "duration": 500,
               "redraw": true
              }
             }
            ],
            "label": "Epoch 22",
            "method": "animate"
           },
           {
            "args": [
             [
              "Epoch 23"
             ],
             {
              "frame": {
               "duration": 500,
               "redraw": true
              }
             }
            ],
            "label": "Epoch 23",
            "method": "animate"
           },
           {
            "args": [
             [
              "Epoch 24"
             ],
             {
              "frame": {
               "duration": 500,
               "redraw": true
              }
             }
            ],
            "label": "Epoch 24",
            "method": "animate"
           },
           {
            "args": [
             [
              "Epoch 25"
             ],
             {
              "frame": {
               "duration": 500,
               "redraw": true
              }
             }
            ],
            "label": "Epoch 25",
            "method": "animate"
           },
           {
            "args": [
             [
              "Epoch 26"
             ],
             {
              "frame": {
               "duration": 500,
               "redraw": true
              }
             }
            ],
            "label": "Epoch 26",
            "method": "animate"
           },
           {
            "args": [
             [
              "Epoch 27"
             ],
             {
              "frame": {
               "duration": 500,
               "redraw": true
              }
             }
            ],
            "label": "Epoch 27",
            "method": "animate"
           },
           {
            "args": [
             [
              "Epoch 28"
             ],
             {
              "frame": {
               "duration": 500,
               "redraw": true
              }
             }
            ],
            "label": "Epoch 28",
            "method": "animate"
           },
           {
            "args": [
             [
              "Epoch 29"
             ],
             {
              "frame": {
               "duration": 500,
               "redraw": true
              }
             }
            ],
            "label": "Epoch 29",
            "method": "animate"
           },
           {
            "args": [
             [
              "Epoch 30"
             ],
             {
              "frame": {
               "duration": 500,
               "redraw": true
              }
             }
            ],
            "label": "Epoch 30",
            "method": "animate"
           },
           {
            "args": [
             [
              "Epoch 31"
             ],
             {
              "frame": {
               "duration": 500,
               "redraw": true
              }
             }
            ],
            "label": "Epoch 31",
            "method": "animate"
           },
           {
            "args": [
             [
              "Epoch 32"
             ],
             {
              "frame": {
               "duration": 500,
               "redraw": true
              }
             }
            ],
            "label": "Epoch 32",
            "method": "animate"
           },
           {
            "args": [
             [
              "Epoch 33"
             ],
             {
              "frame": {
               "duration": 500,
               "redraw": true
              }
             }
            ],
            "label": "Epoch 33",
            "method": "animate"
           },
           {
            "args": [
             [
              "Epoch 34"
             ],
             {
              "frame": {
               "duration": 500,
               "redraw": true
              }
             }
            ],
            "label": "Epoch 34",
            "method": "animate"
           },
           {
            "args": [
             [
              "Epoch 35"
             ],
             {
              "frame": {
               "duration": 500,
               "redraw": true
              }
             }
            ],
            "label": "Epoch 35",
            "method": "animate"
           },
           {
            "args": [
             [
              "Epoch 36"
             ],
             {
              "frame": {
               "duration": 500,
               "redraw": true
              }
             }
            ],
            "label": "Epoch 36",
            "method": "animate"
           },
           {
            "args": [
             [
              "Epoch 37"
             ],
             {
              "frame": {
               "duration": 500,
               "redraw": true
              }
             }
            ],
            "label": "Epoch 37",
            "method": "animate"
           },
           {
            "args": [
             [
              "Epoch 38"
             ],
             {
              "frame": {
               "duration": 500,
               "redraw": true
              }
             }
            ],
            "label": "Epoch 38",
            "method": "animate"
           },
           {
            "args": [
             [
              "Epoch 39"
             ],
             {
              "frame": {
               "duration": 500,
               "redraw": true
              }
             }
            ],
            "label": "Epoch 39",
            "method": "animate"
           },
           {
            "args": [
             [
              "Epoch 40"
             ],
             {
              "frame": {
               "duration": 500,
               "redraw": true
              }
             }
            ],
            "label": "Epoch 40",
            "method": "animate"
           },
           {
            "args": [
             [
              "Epoch 41"
             ],
             {
              "frame": {
               "duration": 500,
               "redraw": true
              }
             }
            ],
            "label": "Epoch 41",
            "method": "animate"
           },
           {
            "args": [
             [
              "Epoch 42"
             ],
             {
              "frame": {
               "duration": 500,
               "redraw": true
              }
             }
            ],
            "label": "Epoch 42",
            "method": "animate"
           },
           {
            "args": [
             [
              "Epoch 43"
             ],
             {
              "frame": {
               "duration": 500,
               "redraw": true
              }
             }
            ],
            "label": "Epoch 43",
            "method": "animate"
           },
           {
            "args": [
             [
              "Epoch 44"
             ],
             {
              "frame": {
               "duration": 500,
               "redraw": true
              }
             }
            ],
            "label": "Epoch 44",
            "method": "animate"
           },
           {
            "args": [
             [
              "Epoch 45"
             ],
             {
              "frame": {
               "duration": 500,
               "redraw": true
              }
             }
            ],
            "label": "Epoch 45",
            "method": "animate"
           },
           {
            "args": [
             [
              "Epoch 46"
             ],
             {
              "frame": {
               "duration": 500,
               "redraw": true
              }
             }
            ],
            "label": "Epoch 46",
            "method": "animate"
           },
           {
            "args": [
             [
              "Epoch 47"
             ],
             {
              "frame": {
               "duration": 500,
               "redraw": true
              }
             }
            ],
            "label": "Epoch 47",
            "method": "animate"
           },
           {
            "args": [
             [
              "Epoch 48"
             ],
             {
              "frame": {
               "duration": 500,
               "redraw": true
              }
             }
            ],
            "label": "Epoch 48",
            "method": "animate"
           },
           {
            "args": [
             [
              "Epoch 49"
             ],
             {
              "frame": {
               "duration": 500,
               "redraw": true
              }
             }
            ],
            "label": "Epoch 49",
            "method": "animate"
           },
           {
            "args": [
             [
              "Epoch 50"
             ],
             {
              "frame": {
               "duration": 500,
               "redraw": true
              }
             }
            ],
            "label": "Epoch 50",
            "method": "animate"
           }
          ]
         }
        ],
        "template": {
         "data": {
          "bar": [
           {
            "error_x": {
             "color": "#2a3f5f"
            },
            "error_y": {
             "color": "#2a3f5f"
            },
            "marker": {
             "line": {
              "color": "#E5ECF6",
              "width": 0.5
             },
             "pattern": {
              "fillmode": "overlay",
              "size": 10,
              "solidity": 0.2
             }
            },
            "type": "bar"
           }
          ],
          "barpolar": [
           {
            "marker": {
             "line": {
              "color": "#E5ECF6",
              "width": 0.5
             },
             "pattern": {
              "fillmode": "overlay",
              "size": 10,
              "solidity": 0.2
             }
            },
            "type": "barpolar"
           }
          ],
          "carpet": [
           {
            "aaxis": {
             "endlinecolor": "#2a3f5f",
             "gridcolor": "white",
             "linecolor": "white",
             "minorgridcolor": "white",
             "startlinecolor": "#2a3f5f"
            },
            "baxis": {
             "endlinecolor": "#2a3f5f",
             "gridcolor": "white",
             "linecolor": "white",
             "minorgridcolor": "white",
             "startlinecolor": "#2a3f5f"
            },
            "type": "carpet"
           }
          ],
          "choropleth": [
           {
            "colorbar": {
             "outlinewidth": 0,
             "ticks": ""
            },
            "type": "choropleth"
           }
          ],
          "contour": [
           {
            "colorbar": {
             "outlinewidth": 0,
             "ticks": ""
            },
            "colorscale": [
             [
              0,
              "#0d0887"
             ],
             [
              0.1111111111111111,
              "#46039f"
             ],
             [
              0.2222222222222222,
              "#7201a8"
             ],
             [
              0.3333333333333333,
              "#9c179e"
             ],
             [
              0.4444444444444444,
              "#bd3786"
             ],
             [
              0.5555555555555556,
              "#d8576b"
             ],
             [
              0.6666666666666666,
              "#ed7953"
             ],
             [
              0.7777777777777778,
              "#fb9f3a"
             ],
             [
              0.8888888888888888,
              "#fdca26"
             ],
             [
              1,
              "#f0f921"
             ]
            ],
            "type": "contour"
           }
          ],
          "contourcarpet": [
           {
            "colorbar": {
             "outlinewidth": 0,
             "ticks": ""
            },
            "type": "contourcarpet"
           }
          ],
          "heatmap": [
           {
            "colorbar": {
             "outlinewidth": 0,
             "ticks": ""
            },
            "colorscale": [
             [
              0,
              "#0d0887"
             ],
             [
              0.1111111111111111,
              "#46039f"
             ],
             [
              0.2222222222222222,
              "#7201a8"
             ],
             [
              0.3333333333333333,
              "#9c179e"
             ],
             [
              0.4444444444444444,
              "#bd3786"
             ],
             [
              0.5555555555555556,
              "#d8576b"
             ],
             [
              0.6666666666666666,
              "#ed7953"
             ],
             [
              0.7777777777777778,
              "#fb9f3a"
             ],
             [
              0.8888888888888888,
              "#fdca26"
             ],
             [
              1,
              "#f0f921"
             ]
            ],
            "type": "heatmap"
           }
          ],
          "heatmapgl": [
           {
            "colorbar": {
             "outlinewidth": 0,
             "ticks": ""
            },
            "colorscale": [
             [
              0,
              "#0d0887"
             ],
             [
              0.1111111111111111,
              "#46039f"
             ],
             [
              0.2222222222222222,
              "#7201a8"
             ],
             [
              0.3333333333333333,
              "#9c179e"
             ],
             [
              0.4444444444444444,
              "#bd3786"
             ],
             [
              0.5555555555555556,
              "#d8576b"
             ],
             [
              0.6666666666666666,
              "#ed7953"
             ],
             [
              0.7777777777777778,
              "#fb9f3a"
             ],
             [
              0.8888888888888888,
              "#fdca26"
             ],
             [
              1,
              "#f0f921"
             ]
            ],
            "type": "heatmapgl"
           }
          ],
          "histogram": [
           {
            "marker": {
             "pattern": {
              "fillmode": "overlay",
              "size": 10,
              "solidity": 0.2
             }
            },
            "type": "histogram"
           }
          ],
          "histogram2d": [
           {
            "colorbar": {
             "outlinewidth": 0,
             "ticks": ""
            },
            "colorscale": [
             [
              0,
              "#0d0887"
             ],
             [
              0.1111111111111111,
              "#46039f"
             ],
             [
              0.2222222222222222,
              "#7201a8"
             ],
             [
              0.3333333333333333,
              "#9c179e"
             ],
             [
              0.4444444444444444,
              "#bd3786"
             ],
             [
              0.5555555555555556,
              "#d8576b"
             ],
             [
              0.6666666666666666,
              "#ed7953"
             ],
             [
              0.7777777777777778,
              "#fb9f3a"
             ],
             [
              0.8888888888888888,
              "#fdca26"
             ],
             [
              1,
              "#f0f921"
             ]
            ],
            "type": "histogram2d"
           }
          ],
          "histogram2dcontour": [
           {
            "colorbar": {
             "outlinewidth": 0,
             "ticks": ""
            },
            "colorscale": [
             [
              0,
              "#0d0887"
             ],
             [
              0.1111111111111111,
              "#46039f"
             ],
             [
              0.2222222222222222,
              "#7201a8"
             ],
             [
              0.3333333333333333,
              "#9c179e"
             ],
             [
              0.4444444444444444,
              "#bd3786"
             ],
             [
              0.5555555555555556,
              "#d8576b"
             ],
             [
              0.6666666666666666,
              "#ed7953"
             ],
             [
              0.7777777777777778,
              "#fb9f3a"
             ],
             [
              0.8888888888888888,
              "#fdca26"
             ],
             [
              1,
              "#f0f921"
             ]
            ],
            "type": "histogram2dcontour"
           }
          ],
          "mesh3d": [
           {
            "colorbar": {
             "outlinewidth": 0,
             "ticks": ""
            },
            "type": "mesh3d"
           }
          ],
          "parcoords": [
           {
            "line": {
             "colorbar": {
              "outlinewidth": 0,
              "ticks": ""
             }
            },
            "type": "parcoords"
           }
          ],
          "pie": [
           {
            "automargin": true,
            "type": "pie"
           }
          ],
          "scatter": [
           {
            "fillpattern": {
             "fillmode": "overlay",
             "size": 10,
             "solidity": 0.2
            },
            "type": "scatter"
           }
          ],
          "scatter3d": [
           {
            "line": {
             "colorbar": {
              "outlinewidth": 0,
              "ticks": ""
             }
            },
            "marker": {
             "colorbar": {
              "outlinewidth": 0,
              "ticks": ""
             }
            },
            "type": "scatter3d"
           }
          ],
          "scattercarpet": [
           {
            "marker": {
             "colorbar": {
              "outlinewidth": 0,
              "ticks": ""
             }
            },
            "type": "scattercarpet"
           }
          ],
          "scattergeo": [
           {
            "marker": {
             "colorbar": {
              "outlinewidth": 0,
              "ticks": ""
             }
            },
            "type": "scattergeo"
           }
          ],
          "scattergl": [
           {
            "marker": {
             "colorbar": {
              "outlinewidth": 0,
              "ticks": ""
             }
            },
            "type": "scattergl"
           }
          ],
          "scattermapbox": [
           {
            "marker": {
             "colorbar": {
              "outlinewidth": 0,
              "ticks": ""
             }
            },
            "type": "scattermapbox"
           }
          ],
          "scatterpolar": [
           {
            "marker": {
             "colorbar": {
              "outlinewidth": 0,
              "ticks": ""
             }
            },
            "type": "scatterpolar"
           }
          ],
          "scatterpolargl": [
           {
            "marker": {
             "colorbar": {
              "outlinewidth": 0,
              "ticks": ""
             }
            },
            "type": "scatterpolargl"
           }
          ],
          "scatterternary": [
           {
            "marker": {
             "colorbar": {
              "outlinewidth": 0,
              "ticks": ""
             }
            },
            "type": "scatterternary"
           }
          ],
          "surface": [
           {
            "colorbar": {
             "outlinewidth": 0,
             "ticks": ""
            },
            "colorscale": [
             [
              0,
              "#0d0887"
             ],
             [
              0.1111111111111111,
              "#46039f"
             ],
             [
              0.2222222222222222,
              "#7201a8"
             ],
             [
              0.3333333333333333,
              "#9c179e"
             ],
             [
              0.4444444444444444,
              "#bd3786"
             ],
             [
              0.5555555555555556,
              "#d8576b"
             ],
             [
              0.6666666666666666,
              "#ed7953"
             ],
             [
              0.7777777777777778,
              "#fb9f3a"
             ],
             [
              0.8888888888888888,
              "#fdca26"
             ],
             [
              1,
              "#f0f921"
             ]
            ],
            "type": "surface"
           }
          ],
          "table": [
           {
            "cells": {
             "fill": {
              "color": "#EBF0F8"
             },
             "line": {
              "color": "white"
             }
            },
            "header": {
             "fill": {
              "color": "#C8D4E3"
             },
             "line": {
              "color": "white"
             }
            },
            "type": "table"
           }
          ]
         },
         "layout": {
          "annotationdefaults": {
           "arrowcolor": "#2a3f5f",
           "arrowhead": 0,
           "arrowwidth": 1
          },
          "autotypenumbers": "strict",
          "coloraxis": {
           "colorbar": {
            "outlinewidth": 0,
            "ticks": ""
           }
          },
          "colorscale": {
           "diverging": [
            [
             0,
             "#8e0152"
            ],
            [
             0.1,
             "#c51b7d"
            ],
            [
             0.2,
             "#de77ae"
            ],
            [
             0.3,
             "#f1b6da"
            ],
            [
             0.4,
             "#fde0ef"
            ],
            [
             0.5,
             "#f7f7f7"
            ],
            [
             0.6,
             "#e6f5d0"
            ],
            [
             0.7,
             "#b8e186"
            ],
            [
             0.8,
             "#7fbc41"
            ],
            [
             0.9,
             "#4d9221"
            ],
            [
             1,
             "#276419"
            ]
           ],
           "sequential": [
            [
             0,
             "#0d0887"
            ],
            [
             0.1111111111111111,
             "#46039f"
            ],
            [
             0.2222222222222222,
             "#7201a8"
            ],
            [
             0.3333333333333333,
             "#9c179e"
            ],
            [
             0.4444444444444444,
             "#bd3786"
            ],
            [
             0.5555555555555556,
             "#d8576b"
            ],
            [
             0.6666666666666666,
             "#ed7953"
            ],
            [
             0.7777777777777778,
             "#fb9f3a"
            ],
            [
             0.8888888888888888,
             "#fdca26"
            ],
            [
             1,
             "#f0f921"
            ]
           ],
           "sequentialminus": [
            [
             0,
             "#0d0887"
            ],
            [
             0.1111111111111111,
             "#46039f"
            ],
            [
             0.2222222222222222,
             "#7201a8"
            ],
            [
             0.3333333333333333,
             "#9c179e"
            ],
            [
             0.4444444444444444,
             "#bd3786"
            ],
            [
             0.5555555555555556,
             "#d8576b"
            ],
            [
             0.6666666666666666,
             "#ed7953"
            ],
            [
             0.7777777777777778,
             "#fb9f3a"
            ],
            [
             0.8888888888888888,
             "#fdca26"
            ],
            [
             1,
             "#f0f921"
            ]
           ]
          },
          "colorway": [
           "#636efa",
           "#EF553B",
           "#00cc96",
           "#ab63fa",
           "#FFA15A",
           "#19d3f3",
           "#FF6692",
           "#B6E880",
           "#FF97FF",
           "#FECB52"
          ],
          "font": {
           "color": "#2a3f5f"
          },
          "geo": {
           "bgcolor": "white",
           "lakecolor": "white",
           "landcolor": "#E5ECF6",
           "showlakes": true,
           "showland": true,
           "subunitcolor": "white"
          },
          "hoverlabel": {
           "align": "left"
          },
          "hovermode": "closest",
          "mapbox": {
           "style": "light"
          },
          "paper_bgcolor": "white",
          "plot_bgcolor": "#E5ECF6",
          "polar": {
           "angularaxis": {
            "gridcolor": "white",
            "linecolor": "white",
            "ticks": ""
           },
           "bgcolor": "#E5ECF6",
           "radialaxis": {
            "gridcolor": "white",
            "linecolor": "white",
            "ticks": ""
           }
          },
          "scene": {
           "xaxis": {
            "backgroundcolor": "#E5ECF6",
            "gridcolor": "white",
            "gridwidth": 2,
            "linecolor": "white",
            "showbackground": true,
            "ticks": "",
            "zerolinecolor": "white"
           },
           "yaxis": {
            "backgroundcolor": "#E5ECF6",
            "gridcolor": "white",
            "gridwidth": 2,
            "linecolor": "white",
            "showbackground": true,
            "ticks": "",
            "zerolinecolor": "white"
           },
           "zaxis": {
            "backgroundcolor": "#E5ECF6",
            "gridcolor": "white",
            "gridwidth": 2,
            "linecolor": "white",
            "showbackground": true,
            "ticks": "",
            "zerolinecolor": "white"
           }
          },
          "shapedefaults": {
           "line": {
            "color": "#2a3f5f"
           }
          },
          "ternary": {
           "aaxis": {
            "gridcolor": "white",
            "linecolor": "white",
            "ticks": ""
           },
           "baxis": {
            "gridcolor": "white",
            "linecolor": "white",
            "ticks": ""
           },
           "bgcolor": "#E5ECF6",
           "caxis": {
            "gridcolor": "white",
            "linecolor": "white",
            "ticks": ""
           }
          },
          "title": {
           "x": 0.05
          },
          "xaxis": {
           "automargin": true,
           "gridcolor": "white",
           "linecolor": "white",
           "ticks": "",
           "title": {
            "standoff": 15
           },
           "zerolinecolor": "white",
           "zerolinewidth": 2
          },
          "yaxis": {
           "automargin": true,
           "gridcolor": "white",
           "linecolor": "white",
           "ticks": "",
           "title": {
            "standoff": 15
           },
           "zerolinecolor": "white",
           "zerolinewidth": 2
          }
         }
        },
        "title": {
         "text": "Animated confusion matrix"
        },
        "updatemenus": [
         {
          "buttons": [
           {
            "args": [
             null,
             {
              "frame": {
               "duration": 500,
               "redraw": true
              },
              "fromcurrent": true,
              "mode": "immediate"
             }
            ],
            "label": "Play",
            "method": "animate"
           }
          ],
          "type": "buttons"
         }
        ],
        "width": 1000,
        "xaxis": {
         "ticktext": [
          "Ham",
          "Spam"
         ],
         "tickvals": [
          0,
          1
         ],
         "title": {
          "text": "Predicted label"
         }
        },
        "yaxis": {
         "categoryarray": [
          1,
          0
         ],
         "categoryorder": "array",
         "ticktext": [
          "Spam",
          "Ham"
         ],
         "tickvals": [
          0,
          1
         ],
         "title": {
          "text": "True Label"
         }
        }
       }
      }
     },
     "metadata": {},
     "output_type": "display_data"
    }
   ],
   "source": [
    "def plot_confusion_matrices(confusion_matrices):\n",
    "    epochs = range(1, k_epochs + 1)\n",
    "    frames = []\n",
    "\n",
    "    # Create a frame per epoch\n",
    "    for epoch, cm in zip(epochs, confusion_matrices):\n",
    "        annotations = [[f'{value}' for value in row] for row in cm]\n",
    "        frame = go.Frame(data=[go.Heatmap(\n",
    "            z=cm, \n",
    "            text=annotations,\n",
    "            colorscale='Viridis',                       # mimic default color of sklearn.metrics.confusion_matrix()\n",
    "            hoverinfo='skip',                           # ! Hide hover info (x, y, z)\n",
    "            showscale=True,                             # colorbar visible\n",
    "            texttemplate=\"%{text}\",                     # string to be displayed in the cells\n",
    "            textfont={\"size\": 14},  \n",
    "        )], name=f\"Epoch {epoch}\")\n",
    "        frames.append(frame)\n",
    "\n",
    "    # Initialization with the first confusion matrix\n",
    "    fig = go.Figure(\n",
    "        data=[go.Heatmap(\n",
    "            z=confusion_matrices[0], \n",
    "            text=[[f'{value}' for value in row] for row in confusion_matrices[0]], \n",
    "            colorscale='Viridis',\n",
    "            hoverinfo='skip',  \n",
    "            showscale=True,  \n",
    "            texttemplate=\"%{text}\",  \n",
    "            textfont={\"size\": 14},  \n",
    "        )],\n",
    "        layout=go.Layout(\n",
    "            autosize=False,\n",
    "            width=1000,\n",
    "            height=1000,\n",
    "            title=\"Animated confusion matrix\",\n",
    "            xaxis_title=\"Predicted label\",\n",
    "            yaxis_title=\"True Label\",\n",
    "            # Make sure 0 is on top and 1 is bottom on y axis \n",
    "            # Make sure we read \"Ham\" and \"Spam\"\n",
    "            xaxis=dict(\n",
    "                tickvals=[0, 1], \n",
    "                ticktext=[\"Ham\", \"Spam\"]\n",
    "            ),\n",
    "            yaxis=dict(\n",
    "                tickvals=[0, 1],  \n",
    "                ticktext=[\"Spam\", \"Ham\"],  \n",
    "                categoryorder=\"array\",  \n",
    "                categoryarray=[1, 0]  \n",
    "            ),\n",
    "            updatemenus=[{\n",
    "                'type': 'buttons',\n",
    "                'buttons': [{\n",
    "                    'label': 'Play',\n",
    "                    'method': 'animate',\n",
    "                    'args': [None, {\n",
    "                        'frame': {'duration': 500, 'redraw': True},\n",
    "                        'fromcurrent': True,\n",
    "                        'mode': 'immediate',\n",
    "                    }]\n",
    "                }]\n",
    "            }]\n",
    "        ),\n",
    "        frames=frames  # assign frames to the Figure\n",
    "    )\n",
    "\n",
    "    # Add a slider\n",
    "    fig.update_layout(\n",
    "        sliders=[{\n",
    "            'steps': [{\n",
    "                'args': [[f\"Epoch {epoch}\"], {'frame': {'duration': 500, 'redraw': True}}],\n",
    "                'label': f'Epoch {epoch}',\n",
    "                'method': 'animate'\n",
    "            } for epoch in epochs],\n",
    "            'currentvalue': {'prefix': 'Epoch: '}\n",
    "        }]\n",
    "    )\n",
    "    fig.show()\n",
    "\n",
    "plot_confusion_matrices(confusion_matrices)"
   ]
  }
 ],
 "metadata": {
  "kernelspec": {
   "display_name": "jedha",
   "language": "python",
   "name": "python3"
  },
  "language_info": {
   "codemirror_mode": {
    "name": "ipython",
    "version": 3
   },
   "file_extension": ".py",
   "mimetype": "text/x-python",
   "name": "python",
   "nbconvert_exporter": "python",
   "pygments_lexer": "ipython3",
   "version": "3.10.13"
  }
 },
 "nbformat": 4,
 "nbformat_minor": 2
}
