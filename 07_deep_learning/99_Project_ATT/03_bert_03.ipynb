{
 "cells": [
  {
   "cell_type": "markdown",
   "metadata": {},
   "source": [
    "# AT&T Spam Detector - TFBertForSequenceClassification - bert-base-uncased"
   ]
  },
  {
   "cell_type": "markdown",
   "metadata": {},
   "source": [
    "* This code use bert-base-uncased (cat = CAT )"
   ]
  },
  {
   "cell_type": "code",
   "execution_count": 1,
   "metadata": {},
   "outputs": [
    {
     "name": "stderr",
     "output_type": "stream",
     "text": [
      "c:\\Users\\phili\\anaconda3\\envs\\tf_cpu_bert_seq\\lib\\site-packages\\tqdm\\auto.py:21: TqdmWarning: IProgress not found. Please update jupyter and ipywidgets. See https://ipywidgets.readthedocs.io/en/stable/user_install.html\n",
      "  from .autonotebook import tqdm as notebook_tqdm\n"
     ]
    }
   ],
   "source": [
    "# conda create --name tf_cpu_bert_seq --file ./assets/requirements_tf_cpu_bert_seq_model.txt\n",
    "\n",
    "import pandas as pd\n",
    "from sklearn.model_selection import train_test_split\n",
    "from transformers import BertTokenizer, TFBertForSequenceClassification\n",
    "from transformers import InputExample, InputFeatures\n",
    "import tensorflow as tf\n",
    "from tensorflow.keras.callbacks import EarlyStopping\n",
    "from tensorflow.keras.callbacks import ReduceLROnPlateau\n",
    "from tensorflow.keras.callbacks import ModelCheckpoint\n",
    "from tensorflow.keras.callbacks import TensorBoard\n",
    "import matplotlib.pyplot as plt\n",
    "import numpy as np\n",
    "import unicodedata\n",
    "\n",
    "import re\n",
    "import en_core_web_sm # conda install spacy-model-en_core_web_sm\n",
    "from spacy.lang.en.stop_words import STOP_WORDS\n",
    "\n",
    "\n",
    "\n",
    "from pathlib import Path\n",
    "k_Current_dir = Path.cwd()\n",
    "k_AssetsDir = \"assets\"\n",
    "k_sms_max_len   = 100\n",
    "k_random_state  = 42\n",
    "k_batch_size    = 64\n",
    "k_test_size     = 0.3\n",
    "k_epochs        = 2\n",
    "\n"
   ]
  },
  {
   "cell_type": "code",
   "execution_count": 2,
   "metadata": {},
   "outputs": [],
   "source": [
    "# -----------------------------------------------------------------------------\n",
    "# drop empty cols and duplicates, rename cols...\n",
    "def cleaner(df):\n",
    "    df.drop(columns=\"Unnamed: 2\", inplace=True)\n",
    "    df.drop(columns=\"Unnamed: 3\", inplace=True)\n",
    "    df.drop(columns=\"Unnamed: 4\", inplace=True)\n",
    "\n",
    "    df.drop_duplicates(inplace=True)\n",
    "\n",
    "    df.columns = df.columns.str.lower()\n",
    "    df.columns = df.columns.str.replace(\"/\", \"_\")\n",
    "\n",
    "    df.rename(columns={\"v1\": \"labels\"}, inplace=True)\n",
    "    df.rename(columns={\"v2\": \"texts\"}, inplace=True)\n",
    "\n",
    "    df[\"labels\"] = df[\"labels\"].map({\"ham\": 0, \"spam\": 1})\n",
    "\n",
    "    # Remove punctuation  \n",
    "    df[\"texts\"] = df[\"texts\"].apply(lambda x: re.sub(\"[!\\\"#$%&()*+,-./:;<=>?@\\[\\]^_`{|}~\\\\\\]+\",\" \", x)) \n",
    "\n",
    "    # see model.save(path) lower\n",
    "    # https://www.kaggle.com/code/ludovicocuoghi/twitter-sentiment-analysis-with-bert-vs-roberta\n",
    "    # remove non utf8/ascii characters such as '\\x9a\\x91\\x97\\x9a\\x97'\n",
    "    # df[\"texts\"] = df[\"texts\"].apply(lambda x: re.sub(r'[^\\x00-\\x7f]',r'', x)) \n",
    "\n",
    "    # def unicode_to_ascii(s):\n",
    "    # def unicode_to_ascii(s):\n",
    "    #     return ''.join(c for c in unicodedata.normalize('NFD', s) if unicodedata.category(c) != 'Mn')\n",
    "    # df[\"texts\"] = df[\"texts\"].apply(lambda x: unicode_to_ascii(x))\n",
    "\n",
    "    # fillna() makes sure NA is replaced with \"\" so that lowering case do not generate error\n",
    "    df[\"texts\"] = df[\"texts\"].fillna(\"\").apply(lambda x: x.lower())\n",
    "\n",
    "    nlp = en_core_web_sm.load()\n",
    "\n",
    "    # Tokenize the cleaned document\n",
    "    df[\"texts\"] = df[\"texts\"].fillna(\"\").apply(lambda x: nlp(x))\n",
    "\n",
    "    # remove stop-words, replace words with their lemma\n",
    "    df[\"texts\"] = df[\"texts\"].apply(lambda x: [token.lemma_ for token in x if token.text not in STOP_WORDS])\n",
    "\n",
    "    # clean up tokenized documents\n",
    "    df[\"texts\"] = [\" \".join(x) for x in df[\"texts\"]]\n",
    "\n",
    "    \n",
    "    display(df.head(20))\n",
    "    # df.info()\n",
    "    return df"
   ]
  },
  {
   "cell_type": "code",
   "execution_count": 3,
   "metadata": {},
   "outputs": [],
   "source": [
    "# Convert data into InputExample\n",
    "def convert_data_to_examples(texts, labels):\n",
    "    examples = []\n",
    "    for text, label in zip(texts, labels):\n",
    "        examples.append(InputExample(guid=None, text_a=text, text_b=None, label=label))\n",
    "    return examples\n"
   ]
  },
  {
   "cell_type": "code",
   "execution_count": 4,
   "metadata": {},
   "outputs": [],
   "source": [
    "# Convert InputExample into InputFeatures\n",
    "def convert_examples_to_tf_dataset(examples, tokenizer, max_length=k_sms_max_len):\n",
    "    features = []\n",
    "\n",
    "    for example in examples:\n",
    "        input_dict = tokenizer.encode_plus(\n",
    "            example.text_a,\n",
    "            add_special_tokens=True,\n",
    "            max_length=max_length,\n",
    "            pad_to_max_length=True,\n",
    "            return_token_type_ids=False,\n",
    "            return_attention_mask=True,\n",
    "            truncation=True\n",
    "        )\n",
    "        input_ids, attention_mask = input_dict[\"input_ids\"], input_dict[\"attention_mask\"]\n",
    "\n",
    "        features.append(\n",
    "            InputFeatures(\n",
    "                input_ids=input_ids,\n",
    "                attention_mask=attention_mask,\n",
    "                label=example.label\n",
    "            )\n",
    "        )\n",
    "\n",
    "    def gen():\n",
    "        for feature in features:\n",
    "            yield (\n",
    "                {\n",
    "                    'input_ids': feature.input_ids,\n",
    "                    'attention_mask': feature.attention_mask\n",
    "                },\n",
    "                feature.label\n",
    "            )\n",
    "\n",
    "    return tf.data.Dataset.from_generator(\n",
    "        gen,\n",
    "        ({'input_ids': tf.int32, 'attention_mask': tf.int32}, tf.int64),\n",
    "        ({'input_ids': tf.TensorShape([None]), 'attention_mask': tf.TensorShape([None])}, tf.TensorShape([])),\n",
    "    )\n"
   ]
  },
  {
   "cell_type": "code",
   "execution_count": 5,
   "metadata": {},
   "outputs": [
    {
     "data": {
      "text/html": [
       "<div>\n",
       "<style scoped>\n",
       "    .dataframe tbody tr th:only-of-type {\n",
       "        vertical-align: middle;\n",
       "    }\n",
       "\n",
       "    .dataframe tbody tr th {\n",
       "        vertical-align: top;\n",
       "    }\n",
       "\n",
       "    .dataframe thead th {\n",
       "        text-align: right;\n",
       "    }\n",
       "</style>\n",
       "<table border=\"1\" class=\"dataframe\">\n",
       "  <thead>\n",
       "    <tr style=\"text-align: right;\">\n",
       "      <th></th>\n",
       "      <th>labels</th>\n",
       "      <th>texts</th>\n",
       "    </tr>\n",
       "  </thead>\n",
       "  <tbody>\n",
       "    <tr>\n",
       "      <th>0</th>\n",
       "      <td>0</td>\n",
       "      <td>jurong point   crazy   available bugis n great...</td>\n",
       "    </tr>\n",
       "    <tr>\n",
       "      <th>1</th>\n",
       "      <td>0</td>\n",
       "      <td>ok lar   joke wif u oni</td>\n",
       "    </tr>\n",
       "    <tr>\n",
       "      <th>2</th>\n",
       "      <td>1</td>\n",
       "      <td>free entry 2 wkly comp win fa cup final tkts 2...</td>\n",
       "    </tr>\n",
       "    <tr>\n",
       "      <th>3</th>\n",
       "      <td>0</td>\n",
       "      <td>u dun early hor   u c</td>\n",
       "    </tr>\n",
       "    <tr>\n",
       "      <th>4</th>\n",
       "      <td>0</td>\n",
       "      <td>nah think go usf   live</td>\n",
       "    </tr>\n",
       "    <tr>\n",
       "      <th>5</th>\n",
       "      <td>1</td>\n",
       "      <td>freemsg hey darle 3 week word   like fun   tb ...</td>\n",
       "    </tr>\n",
       "    <tr>\n",
       "      <th>6</th>\n",
       "      <td>0</td>\n",
       "      <td>brother like speak   treat like aids patent</td>\n",
       "    </tr>\n",
       "    <tr>\n",
       "      <th>7</th>\n",
       "      <td>0</td>\n",
       "      <td>request ' melle melle   oru minnaminunginte nu...</td>\n",
       "    </tr>\n",
       "    <tr>\n",
       "      <th>8</th>\n",
       "      <td>1</td>\n",
       "      <td>winner   value network customer select receive...</td>\n",
       "    </tr>\n",
       "    <tr>\n",
       "      <th>9</th>\n",
       "      <td>1</td>\n",
       "      <td>mobile 11 month   u r entitle update late colo...</td>\n",
       "    </tr>\n",
       "    <tr>\n",
       "      <th>10</th>\n",
       "      <td>0</td>\n",
       "      <td>go to home soon want talk stuff anymore tonigh...</td>\n",
       "    </tr>\n",
       "    <tr>\n",
       "      <th>11</th>\n",
       "      <td>1</td>\n",
       "      <td>chance win cash   100 20 000 pound txt   csh11...</td>\n",
       "    </tr>\n",
       "    <tr>\n",
       "      <th>12</th>\n",
       "      <td>1</td>\n",
       "      <td>urgent   win 1 week free membership å£100 000 ...</td>\n",
       "    </tr>\n",
       "    <tr>\n",
       "      <th>13</th>\n",
       "      <td>0</td>\n",
       "      <td>search right word thank breather   promise wil...</td>\n",
       "    </tr>\n",
       "    <tr>\n",
       "      <th>14</th>\n",
       "      <td>0</td>\n",
       "      <td>date sunday</td>\n",
       "    </tr>\n",
       "    <tr>\n",
       "      <th>15</th>\n",
       "      <td>1</td>\n",
       "      <td>xxxmobilemovieclub   use credit   click wap li...</td>\n",
       "    </tr>\n",
       "    <tr>\n",
       "      <th>16</th>\n",
       "      <td>0</td>\n",
       "      <td>oh k watch</td>\n",
       "    </tr>\n",
       "    <tr>\n",
       "      <th>17</th>\n",
       "      <td>0</td>\n",
       "      <td>eh u remember 2 spell   yes   v naughty v wet</td>\n",
       "    </tr>\n",
       "    <tr>\n",
       "      <th>18</th>\n",
       "      <td>0</td>\n",
       "      <td>fine thatåõs way u feel   thatåõs way gota b</td>\n",
       "    </tr>\n",
       "    <tr>\n",
       "      <th>19</th>\n",
       "      <td>1</td>\n",
       "      <td>england v macedonia    not miss goal team news...</td>\n",
       "    </tr>\n",
       "  </tbody>\n",
       "</table>\n",
       "</div>"
      ],
      "text/plain": [
       "    labels                                              texts\n",
       "0        0  jurong point   crazy   available bugis n great...\n",
       "1        0                            ok lar   joke wif u oni\n",
       "2        1  free entry 2 wkly comp win fa cup final tkts 2...\n",
       "3        0                              u dun early hor   u c\n",
       "4        0                            nah think go usf   live\n",
       "5        1  freemsg hey darle 3 week word   like fun   tb ...\n",
       "6        0        brother like speak   treat like aids patent\n",
       "7        0  request ' melle melle   oru minnaminunginte nu...\n",
       "8        1  winner   value network customer select receive...\n",
       "9        1  mobile 11 month   u r entitle update late colo...\n",
       "10       0  go to home soon want talk stuff anymore tonigh...\n",
       "11       1  chance win cash   100 20 000 pound txt   csh11...\n",
       "12       1  urgent   win 1 week free membership å£100 000 ...\n",
       "13       0  search right word thank breather   promise wil...\n",
       "14       0                                        date sunday\n",
       "15       1  xxxmobilemovieclub   use credit   click wap li...\n",
       "16       0                                         oh k watch\n",
       "17       0      eh u remember 2 spell   yes   v naughty v wet\n",
       "18       0       fine thatåõs way u feel   thatåõs way gota b\n",
       "19       1  england v macedonia    not miss goal team news..."
      ]
     },
     "metadata": {},
     "output_type": "display_data"
    },
    {
     "name": "stderr",
     "output_type": "stream",
     "text": [
      "c:\\Users\\phili\\anaconda3\\envs\\tf_cpu_bert_seq\\lib\\site-packages\\transformers\\tokenization_utils_base.py:2271: FutureWarning: The `pad_to_max_length` argument is deprecated and will be removed in a future version, use `padding=True` or `padding='longest'` to pad to the longest sequence in the batch, or use `padding='max_length'` to pad to a max length. In this case, you can give a specific length with `max_length` (e.g. `max_length=45`) or leave max_length to None to pad to the maximal input size of the model (e.g. 512 for Bert).\n",
      "  warnings.warn(\n",
      "All model checkpoint layers were used when initializing TFBertForSequenceClassification.\n",
      "\n",
      "Some layers of TFBertForSequenceClassification were not initialized from the model checkpoint at bert-base-uncased and are newly initialized: ['classifier']\n",
      "You should probably TRAIN this model on a down-stream task to be able to use it for predictions and inference.\n"
     ]
    },
    {
     "name": "stdout",
     "output_type": "stream",
     "text": [
      "Model: \"tf_bert_for_sequence_classification\"\n",
      "_________________________________________________________________\n",
      " Layer (type)                Output Shape              Param #   \n",
      "=================================================================\n",
      " bert (TFBertMainLayer)      multiple                  109482240 \n",
      "                                                                 \n",
      " dropout_37 (Dropout)        multiple                  0         \n",
      "                                                                 \n",
      " classifier (Dense)          multiple                  1538      \n",
      "                                                                 \n",
      "=================================================================\n",
      "Total params: 109,483,778\n",
      "Trainable params: 24,429,314\n",
      "Non-trainable params: 85,054,464\n",
      "_________________________________________________________________\n"
     ]
    },
    {
     "data": {
      "image/png": "[encoded data removed]",
      "text/plain": [
       "<IPython.core.display.Image object>"
      ]
     },
     "execution_count": 5,
     "metadata": {},
     "output_type": "execute_result"
    }
   ],
   "source": [
    "# see scrapbook on how to detect encoding\n",
    "df = pd.read_csv(k_Current_dir / k_AssetsDir / \"spam.csv\", encoding=\"cp1252\")\n",
    "# df = pd.read_csv(k_Current_dir / k_AssetsDir / \"spam.csv\", encoding=\"ISO-8859-1\")\n",
    "# df = pd.read_csv(k_Current_dir / k_AssetsDir / \"spam.csv\", encoding=\"utf-8\", encoding_errors=\"ignore\")\n",
    "df = cleaner(df)\n",
    "\n",
    "X = df['texts'].values\n",
    "y = df['labels'].values\n",
    "\n",
    "X_train, X_test, y_train, y_test = train_test_split(X, y, test_size=k_test_size, random_state=k_random_state)\n",
    "\n",
    "tokenizer = BertTokenizer.from_pretrained('bert-base-uncased')\n",
    "\n",
    "train_examples = convert_data_to_examples(X_train, y_train)\n",
    "test_examples  = convert_data_to_examples(X_test, y_test)\n",
    "\n",
    "train_dataset = convert_examples_to_tf_dataset(train_examples, tokenizer)\n",
    "test_dataset  = convert_examples_to_tf_dataset(test_examples, tokenizer)\n",
    "\n",
    "train_dataset = train_dataset.shuffle(100).batch(k_batch_size).repeat(2)\n",
    "test_dataset  = test_dataset.batch(k_batch_size)\n",
    "\n",
    "model = TFBertForSequenceClassification.from_pretrained('bert-base-uncased', num_labels=2)\n",
    "\n",
    "# checking \n",
    "# for x, y in train_dataset.take(1):\n",
    "#     print(f'y_true shape: {y.shape}')\n",
    "#     predictions = model(x)\n",
    "#     logits = predictions.logits\n",
    "#     print(f'y_pred shape: {logits.shape}')  \n",
    "\n",
    "\n",
    "# ! Freeze all layers, included layers form head classification.\n",
    "# The whole model cannot be trained\n",
    "# Not a good idea\n",
    "# for layer in model.layers:\n",
    "\n",
    "# Freeze only internal layers of BERT. \n",
    "# Classification layers can be trained\n",
    "# Smarter\n",
    "for layer in model.bert.encoder.layer:\n",
    "    layer.trainable = False\n",
    "\n",
    "\n"
   ]
  },
  {
   "cell_type": "code",
   "execution_count": null,
   "metadata": {},
   "outputs": [],
   "source": [
    "# model.summary()\n",
    "\n",
    "# Get access to BERT model\n",
    "bert_model = model.bert\n",
    "bert_model.summary()\n",
    "\n",
    "# Get access to the \"head\"\n",
    "classifier = model.classifier\n",
    "classifier.summary()\n",
    "\n",
    "for layer in model.layers:\n",
    "    print(layer.name, layer.output_shape)\n",
    "\n",
    "path = Path(f\"{k_Current_dir/k_AssetsDir/'bert_seq_uncased_arch.png'}\")\n",
    "tf.keras.utils.plot_model(model, path, show_shapes=True)\n",
    "\n"
   ]
  },
  {
   "cell_type": "code",
   "execution_count": 6,
   "metadata": {},
   "outputs": [
    {
     "name": "stdout",
     "output_type": "stream",
     "text": [
      "\n",
      "\n",
      "--------------------------------------------------\n",
      "Once the model runs, open a terminal, make sure you are in the directory of the project and type in : \n",
      "tensorboard --logdir=logs\n",
      "Then visit the URL\n"
     ]
    }
   ],
   "source": [
    "early_stopping = EarlyStopping(\n",
    "    monitor='val_loss',           # can be 'val_accuracy' if needed \n",
    "    patience=3,          \n",
    "    restore_best_weights=True  \n",
    ")\n",
    "\n",
    "reduce_lr = ReduceLROnPlateau(\n",
    "    monitor='val_loss', \n",
    "    factor=0.2,       # reduction factor of learning rate\n",
    "    patience=2,       \n",
    "    min_lr=1e-7       # minimal value for learning rate\n",
    ")\n",
    "\n",
    "# checkpoint does'nt work because it use model.save() which have issue with utf-8 \n",
    "# model.save_pretrained() seems to work however\n",
    "# see Custom callback to be used as a replacement of checkpoints in scrapbook section\n",
    "# path = Path(f\"{k_Current_dir/k_AssetsDir/'bert_seq_uncased_best_model.h5'}\")\n",
    "# path = Path(f\"{k_Current_dir/k_AssetsDir}/bert_seq_uncased_saved_model\")\n",
    "# checkpoint = ModelCheckpoint(\n",
    "#     path,                       # model's path\n",
    "#     monitor='val_loss', \n",
    "#     save_best_only=True, \n",
    "#     mode='min',\n",
    "#     save_format='tf'  # Use TensorFlow format. Does'nt work otherwise\n",
    "# )\n",
    "\n",
    "tensorboard = TensorBoard(log_dir='logs', histogram_freq=1)\n",
    "print(f\"\\n\\n--------------------------------------------------\")\n",
    "print(f\"Once the model runs, open a terminal, make sure you are in the directory of the project and type in : \")\n",
    "print(f\"tensorboard --logdir=logs\")\n",
    "print(f\"Then visit the URL\")\n"
   ]
  },
  {
   "cell_type": "code",
   "execution_count": 7,
   "metadata": {},
   "outputs": [
    {
     "name": "stdout",
     "output_type": "stream",
     "text": [
      "Epoch 1/2\n",
      "114/114 [==============================] - 1182s 10s/step - loss: 0.3077 - accuracy: 0.8954 - val_loss: 0.1458 - val_accuracy: 0.9703 - lr: 3.0000e-05\n",
      "Epoch 2/2\n",
      "114/114 [==============================] - 1257s 11s/step - loss: 0.0853 - accuracy: 0.9807 - val_loss: 0.0623 - val_accuracy: 0.9832 - lr: 3.0000e-05\n"
     ]
    }
   ],
   "source": [
    "# 00H20/epoch & 228 steps when k_batch_size=32\n",
    "# 00H15/epoch & 114 steps when k_batch_size=64\n",
    "\n",
    "optimizer = tf.keras.optimizers.Adam(learning_rate=3e-5, epsilon=1e-08)\n",
    "loss = tf.keras.losses.SparseCategoricalCrossentropy(from_logits=True)\n",
    "metrics = tf.keras.metrics.SparseCategoricalAccuracy('accuracy')\n",
    "# ! Does'nt work yet. \n",
    "# ! I DO NOT UNDERSTAND\n",
    "# metrics=[\n",
    "#     tf.keras.metrics.SparseCategoricalAccuracy('accuracy'), # order of metrics matters ?\n",
    "#     tf.keras.metrics.Recall(name=\"recall\"), \n",
    "#     tf.keras.metrics.Precision(name=\"precision\"), \n",
    "# ]   # name=... avoid recall_1 for example\n",
    "\n",
    "model.compile(optimizer=optimizer, loss=loss, metrics=metrics)\n",
    "\n",
    "history = model.fit(\n",
    "    train_dataset, \n",
    "    epochs=k_epochs, \n",
    "    validation_data=test_dataset,\n",
    "    # checkpoint does'nt work\n",
    "    # see Custom callback to be used as a replacement of checkpoints in scrapbook section\n",
    "    # callbacks=[early_stopping, reduce_lr, checkpoint, tensorboard]\n",
    "    callbacks=[early_stopping, reduce_lr, tensorboard]\n",
    ")\n"
   ]
  },
  {
   "cell_type": "code",
   "execution_count": 8,
   "metadata": {},
   "outputs": [],
   "source": [
    "# You can but do NOT use h5 as file format to save the model\n",
    "# model.save('path_to_save_model/model.h5', save_format='h5')\n",
    "\n",
    "# I had an issue with utf-8 0x92 : UnicodeDecodeError: 'utf-8' codec can't decode byte 0x92 in position 315: invalid start byte\n",
    "# 0x92 is a smart quote(’) of Windows-1252. It simply doesn't exist in unicode, therefore it can't be decoded\n",
    "# https://www.kaggle.com/code/ludovicocuoghi/twitter-sentiment-analysis-with-bert-vs-roberta\n",
    "# I added more steps in cleaner() (see above) but it did'nt help\n",
    "# The solution => use model.save_pretrained() rather than model.save()\n",
    "# The line below is better than using h5 but it is useless IF in ModelCheckpoint() \"save_best_only\" is set to \"True\" (which is NOT the case in this code)\n",
    "path = Path(f\"{k_Current_dir/k_AssetsDir}/bert_seq_uncased_saved_model\")\n",
    "model.save_pretrained(path)\n",
    "# model.save(path)\n",
    "\n",
    "# If you need to load a model saved with model.save_pretrained()\n",
    "# from transformers import TFBertForSequenceClassification\n",
    "# model = TFBertForSequenceClassification.from_pretrained(path)\n",
    "\n",
    "# If you need to load a model saved with model.save() \n",
    "# model = tf.keras.models.load_model(path)\n"
   ]
  },
  {
   "cell_type": "code",
   "execution_count": 9,
   "metadata": {},
   "outputs": [],
   "source": [
    "# -----------------------------------------------------------------------------\n",
    "def save_fig(fig_id, tight_layout=True, fig_extension=\"png\", resolution=300):\n",
    "    path = Path(f\"{k_Current_dir/k_AssetsDir/fig_id}.{fig_extension}\")\n",
    "    print(\"Saving figure\", fig_id)\n",
    "    if tight_layout:\n",
    "        plt.tight_layout()\n",
    "    plt.savefig(path, format=fig_extension, dpi=resolution)\n",
    "    return"
   ]
  },
  {
   "cell_type": "code",
   "execution_count": 10,
   "metadata": {},
   "outputs": [
    {
     "name": "stdout",
     "output_type": "stream",
     "text": [
      "Saving figure bert_seq_uncased_loss\n"
     ]
    },
    {
     "data": {
      "image/png": "[encoded data removed]",
      "text/plain": [
       "<Figure size 640x480 with 1 Axes>"
      ]
     },
     "metadata": {},
     "output_type": "display_data"
    },
    {
     "data": {
      "text/plain": [
       "[[0.307717, 0.085297]]"
      ]
     },
     "metadata": {},
     "output_type": "display_data"
    },
    {
     "data": {
      "text/plain": [
       "[[0.145819, 0.062274]]"
      ]
     },
     "metadata": {},
     "output_type": "display_data"
    }
   ],
   "source": [
    "plt.plot(history.history[\"loss\"], color=\"b\", label=\"Train Loss\")\n",
    "plt.plot(history.history[\"val_loss\"], color=\"r\", label=\"Val Loss\")\n",
    "plt.ylabel(\"Values\")\n",
    "plt.xlabel(\"Epochs\")\n",
    "plt.title(\"Bert Sequence Classification Uncased : Loss\")\n",
    "plt.legend()\n",
    "plt.ylim(0,1)\n",
    "save_fig(\"bert_seq_uncased_loss\", \"png\")\n",
    "plt.show()\n",
    "\n",
    "display([[round(f, 6) for f in history.history['loss'][-10:]]])\n",
    "display([[round(f, 6) for f in history.history['val_loss'][-10:]]])\n"
   ]
  },
  {
   "cell_type": "code",
   "execution_count": 11,
   "metadata": {},
   "outputs": [
    {
     "name": "stdout",
     "output_type": "stream",
     "text": [
      "Saving figure bert_seq_uncased_accuracy\n"
     ]
    },
    {
     "data": {
      "image/png": "[encoded data removed]",
      "text/plain": [
       "<Figure size 640x480 with 1 Axes>"
      ]
     },
     "metadata": {},
     "output_type": "display_data"
    },
    {
     "data": {
      "text/plain": [
       "[[0.895384, 0.980652]]"
      ]
     },
     "metadata": {},
     "output_type": "display_data"
    },
    {
     "data": {
      "text/plain": [
       "[[0.970342, 0.983237]]"
      ]
     },
     "metadata": {},
     "output_type": "display_data"
    }
   ],
   "source": [
    "plt.plot(history.history[\"accuracy\"], color=\"b\", label=\"Train Accuracy\")\n",
    "plt.plot(history.history[\"val_accuracy\"], color=\"r\", label=\"Val Accuracy\")\n",
    "plt.ylabel(\"Values\")\n",
    "plt.xlabel(\"Epochs\")\n",
    "plt.title(\"Bert Sequence Classification Uncased : Accuracy\")\n",
    "plt.legend()\n",
    "plt.ylim(0,1)\n",
    "save_fig(\"bert_seq_uncased_accuracy\", \"png\")\n",
    "plt.show()\n",
    "\n",
    "display([[round(f, 6) for f in history.history['accuracy'][-10:]]])\n",
    "display([[round(f, 6) for f in history.history['val_accuracy'][-10:]]])\n"
   ]
  },
  {
   "cell_type": "code",
   "execution_count": 12,
   "metadata": {},
   "outputs": [],
   "source": [
    "# plt.plot(history.history[\"precision\"], color=\"b\", label=\"Train Precision\")\n",
    "# plt.plot(history.history[\"val_precision\"], color=\"r\", label=\"Val Precision\")\n",
    "# plt.ylabel(\"Values\")\n",
    "# plt.xlabel(\"Epochs\")\n",
    "# plt.title(\"Bert Sequence Classification Uncased : Precision\")\n",
    "# plt.legend()\n",
    "# plt.ylim(0,1)\n",
    "# save_fig(\"bert_seq_uncased_precision\", \"png\")\n",
    "# plt.show()\n",
    "\n",
    "# display([[round(f, 6) for f in history.history['precision'][-10:]]])\n",
    "# display([[round(f, 6) for f in history.history['val_precision'][-10:]]])"
   ]
  },
  {
   "cell_type": "code",
   "execution_count": 13,
   "metadata": {},
   "outputs": [],
   "source": [
    "# plt.plot(history.history[\"recall\"], color=\"b\", label=\"Train Recall\")\n",
    "# plt.plot(history.history[\"val_recall\"], color=\"r\", label=\"Val Recall\")\n",
    "# plt.ylabel(\"Values\")\n",
    "# plt.xlabel(\"Epochs\")\n",
    "# plt.title(\"Bert Sequence Classification Uncased : Recall\")\n",
    "# plt.legend()\n",
    "# plt.ylim(0,1)\n",
    "# save_fig(\"bert_seq_uncased_recall\", \"png\")\n",
    "# plt.show()\n",
    "\n",
    "# display([[round(f, 6) for f in history.history['recall'][-10:]]])\n",
    "# display([[round(f, 6) for f in history.history['val_recall'][-10:]]])"
   ]
  },
  {
   "cell_type": "code",
   "execution_count": 14,
   "metadata": {},
   "outputs": [],
   "source": [
    "# def f1_calculus(name, rec, prec):\n",
    "#     df_tmp=pd.DataFrame()\n",
    "#     df_tmp[name] = 2*np.array(rec)*np.array(prec)/(np.array(rec)+np.array(prec)+tf.keras.backend.epsilon()) # epsilon avoid runtimeWarning: divide by zero encountered in divide...\n",
    "#     return df_tmp"
   ]
  },
  {
   "cell_type": "code",
   "execution_count": 15,
   "metadata": {},
   "outputs": [],
   "source": [
    "# df_tmp = f1_calculus(\"f1\", history.history[\"recall\"], history.history[\"precision\"])\n",
    "# df_val_tmp = f1_calculus(\"val_f1\", history.history[\"val_recall\"], history.history[\"val_precision\"])\n",
    "\n",
    "# plt.plot(df_tmp[\"f1\"], color=\"b\", label=\"Train F1\")\n",
    "# plt.plot(df_val_tmp[\"val_f1\"], color=\"r\", label=\"Val F1\")\n",
    "# plt.ylabel(\"Values\")\n",
    "# plt.xlabel(\"Epochs\")\n",
    "# plt.title(\"Bert Sequence Classification Uncased : F1\")\n",
    "# plt.legend()\n",
    "# plt.ylim(0,1)\n",
    "# save_fig(\"bert_seq_uncased_f1\", \"png\")\n",
    "# plt.show()\n",
    "\n",
    "# display(df_tmp.tail(10))\n",
    "# display(df_val_tmp.tail(10))"
   ]
  },
  {
   "cell_type": "markdown",
   "metadata": {},
   "source": [
    "# <span style=\"color:red\"><b>Scrapbook - Please ignore</b></span>"
   ]
  },
  {
   "cell_type": "code",
   "execution_count": 16,
   "metadata": {},
   "outputs": [
    {
     "data": {
      "text/html": [
       "<div>\n",
       "<style scoped>\n",
       "    .dataframe tbody tr th:only-of-type {\n",
       "        vertical-align: middle;\n",
       "    }\n",
       "\n",
       "    .dataframe tbody tr th {\n",
       "        vertical-align: top;\n",
       "    }\n",
       "\n",
       "    .dataframe thead th {\n",
       "        text-align: right;\n",
       "    }\n",
       "</style>\n",
       "<table border=\"1\" class=\"dataframe\">\n",
       "  <thead>\n",
       "    <tr style=\"text-align: right;\">\n",
       "      <th></th>\n",
       "      <th>texts</th>\n",
       "    </tr>\n",
       "  </thead>\n",
       "  <tbody>\n",
       "    <tr>\n",
       "      <th>0</th>\n",
       "      <td>élève</td>\n",
       "    </tr>\n",
       "    <tr>\n",
       "      <th>1</th>\n",
       "      <td>café</td>\n",
       "    </tr>\n",
       "    <tr>\n",
       "      <th>2</th>\n",
       "      <td>mañana</td>\n",
       "    </tr>\n",
       "    <tr>\n",
       "      <th>3</th>\n",
       "      <td>français</td>\n",
       "    </tr>\n",
       "  </tbody>\n",
       "</table>\n",
       "</div>"
      ],
      "text/plain": [
       "      texts\n",
       "0     élève\n",
       "1      café\n",
       "2    mañana\n",
       "3  français"
      ]
     },
     "metadata": {},
     "output_type": "display_data"
    },
    {
     "data": {
      "text/html": [
       "<div>\n",
       "<style scoped>\n",
       "    .dataframe tbody tr th:only-of-type {\n",
       "        vertical-align: middle;\n",
       "    }\n",
       "\n",
       "    .dataframe tbody tr th {\n",
       "        vertical-align: top;\n",
       "    }\n",
       "\n",
       "    .dataframe thead th {\n",
       "        text-align: right;\n",
       "    }\n",
       "</style>\n",
       "<table border=\"1\" class=\"dataframe\">\n",
       "  <thead>\n",
       "    <tr style=\"text-align: right;\">\n",
       "      <th></th>\n",
       "      <th>texts</th>\n",
       "    </tr>\n",
       "  </thead>\n",
       "  <tbody>\n",
       "    <tr>\n",
       "      <th>0</th>\n",
       "      <td>eleve</td>\n",
       "    </tr>\n",
       "    <tr>\n",
       "      <th>1</th>\n",
       "      <td>cafe</td>\n",
       "    </tr>\n",
       "    <tr>\n",
       "      <th>2</th>\n",
       "      <td>manana</td>\n",
       "    </tr>\n",
       "    <tr>\n",
       "      <th>3</th>\n",
       "      <td>francais</td>\n",
       "    </tr>\n",
       "  </tbody>\n",
       "</table>\n",
       "</div>"
      ],
      "text/plain": [
       "      texts\n",
       "0     eleve\n",
       "1      cafe\n",
       "2    manana\n",
       "3  francais"
      ]
     },
     "metadata": {},
     "output_type": "display_data"
    }
   ],
   "source": [
    "import unicodedata\n",
    "import pandas as pd\n",
    "\n",
    "def unicode_to_ascii(s):\n",
    "    return ''.join(c for c in unicodedata.normalize('NFD', s) if unicodedata.category(c) != 'Mn')\n",
    "\n",
    "df = pd.DataFrame({\n",
    "    'texts': ['élève', 'café', 'mañana', 'français']\n",
    "})\n",
    "display(df)\n",
    "\n",
    "df[\"texts\"] = df[\"texts\"].apply(lambda x: unicode_to_ascii(x))\n",
    "display(df)\n"
   ]
  },
  {
   "cell_type": "code",
   "execution_count": 17,
   "metadata": {},
   "outputs": [
    {
     "name": "stdout",
     "output_type": "stream",
     "text": [
      "Encoding = Windows-1252\n"
     ]
    }
   ],
   "source": [
    "# Windows cp1252\n",
    "# Linux, Web : ISO-8859-1, UTF-8\n",
    "import chardet\n",
    "\n",
    "with open(k_Current_dir/k_AssetsDir/\"spam.csv\", \"rb\") as file:\n",
    "    raw_data = file.read(10000)  # read 10_000 bytes\n",
    "\n",
    "result = chardet.detect(raw_data)\n",
    "encoding = result['encoding']\n",
    "\n",
    "print(f\"Encoding = {encoding}\")\n",
    "\n",
    "# Lire le fichier avec l'encodage détecté\n",
    "df = pd.read_csv(k_Current_dir/k_AssetsDir/\"spam.csv\", encoding=encoding)\n",
    "\n",
    "\n",
    "# One can try\n",
    "df = pd.read_csv(k_Current_dir/k_AssetsDir/\"spam.csv\", encoding=\"utf-8\", encoding_errors=\"ignore\")"
   ]
  },
  {
   "cell_type": "code",
   "execution_count": 18,
   "metadata": {},
   "outputs": [
    {
     "name": "stderr",
     "output_type": "stream",
     "text": [
      "All model checkpoint layers were used when initializing TFBertForSequenceClassification.\n",
      "\n",
      "Some layers of TFBertForSequenceClassification were not initialized from the model checkpoint at bert-base-uncased and are newly initialized: ['classifier']\n",
      "You should probably TRAIN this model on a down-stream task to be able to use it for predictions and inference.\n"
     ]
    }
   ],
   "source": [
    "# Checking path\n",
    "# path = Path(f\"{k_Current_dir/k_AssetsDir}/bert_seq_uncased_saved_model\")\n",
    "# print(path)\n",
    "\n",
    "df = pd.read_csv(k_Current_dir / k_AssetsDir / \"spam.csv\", encoding=\"cp1252\")\n",
    "model = TFBertForSequenceClassification.from_pretrained('bert-base-uncased', num_labels=2)\n",
    "\n",
    "path = Path(f\"{k_Current_dir/k_AssetsDir}/bert_seq_uncased_saved_model\")\n",
    "model.save_pretrained(path)\n",
    "# model.save(path)\n",
    "\n"
   ]
  },
  {
   "cell_type": "code",
   "execution_count": 19,
   "metadata": {},
   "outputs": [
    {
     "ename": "NameError",
     "evalue": "name 'val_dataset' is not defined",
     "output_type": "error",
     "traceback": [
      "\u001b[1;31m---------------------------------------------------------------------------\u001b[0m",
      "\u001b[1;31mNameError\u001b[0m                                 Traceback (most recent call last)",
      "Cell \u001b[1;32mIn[19], line 43\u001b[0m\n\u001b[0;32m     38\u001b[0m save_path \u001b[38;5;241m=\u001b[39m \u001b[38;5;124m\"\u001b[39m\u001b[38;5;124mpath/to/save/model\u001b[39m\u001b[38;5;124m\"\u001b[39m\n\u001b[0;32m     39\u001b[0m save_pretrained_callback \u001b[38;5;241m=\u001b[39m SavePretrainedCheckpoint(save_path, monitor\u001b[38;5;241m=\u001b[39m\u001b[38;5;124m'\u001b[39m\u001b[38;5;124mval_loss\u001b[39m\u001b[38;5;124m'\u001b[39m, mode\u001b[38;5;241m=\u001b[39m\u001b[38;5;124m'\u001b[39m\u001b[38;5;124mmin\u001b[39m\u001b[38;5;124m'\u001b[39m, save_best_only\u001b[38;5;241m=\u001b[39m\u001b[38;5;28;01mTrue\u001b[39;00m)\n\u001b[0;32m     41\u001b[0m model\u001b[38;5;241m.\u001b[39mfit(\n\u001b[0;32m     42\u001b[0m     train_dataset,\n\u001b[1;32m---> 43\u001b[0m     validation_data\u001b[38;5;241m=\u001b[39m\u001b[43mval_dataset\u001b[49m,\n\u001b[0;32m     44\u001b[0m     epochs\u001b[38;5;241m=\u001b[39m\u001b[38;5;241m50\u001b[39m,\n\u001b[0;32m     45\u001b[0m     callbacks\u001b[38;5;241m=\u001b[39m[save_pretrained_callback]\n\u001b[0;32m     46\u001b[0m )\n",
      "\u001b[1;31mNameError\u001b[0m: name 'val_dataset' is not defined"
     ]
    }
   ],
   "source": [
    "# Custom callback to be used as a replacement of checkpoints\n",
    "\n",
    "import tensorflow as tf\n",
    "from transformers import TFBertForSequenceClassification\n",
    "\n",
    "class SavePretrainedCheckpoint(tf.keras.callbacks.Callback):\n",
    "    def __init__(self, save_path, monitor='val_loss', mode='min', save_best_only=True):\n",
    "        super(SavePretrainedCheckpoint, self).__init__()\n",
    "        self.save_path = save_path\n",
    "        self.monitor = monitor\n",
    "        self.mode = mode\n",
    "        self.save_best_only = save_best_only\n",
    "        self.best = None\n",
    "\n",
    "        # Mode min or max, min -> we save when val_loss decreases, max -> when a metric increases\n",
    "        if self.mode == 'min':\n",
    "            self.monitor_op = lambda current, best: current < best\n",
    "            self.best = float('inf')\n",
    "        else:\n",
    "            self.monitor_op = lambda current, best: current > best\n",
    "            self.best = -float('inf')\n",
    "\n",
    "    def on_epoch_end(self, epoch, logs=None):\n",
    "        logs = logs or {}\n",
    "        current = logs.get(self.monitor)\n",
    "\n",
    "        if current is None:\n",
    "            print(f\"Warning: Metric {self.monitor} is not available. Skipping save.\")\n",
    "            return\n",
    "\n",
    "        if not self.save_best_only or self.monitor_op(current, self.best):\n",
    "            print(f\"Saving model to {self.save_path} at epoch {epoch + 1}\")\n",
    "            self.best = current\n",
    "            # Use save_pretrained to save the model\n",
    "            self.model.save_pretrained(self.save_path)\n",
    "\n",
    "# Use SavePretrainedCheckpoint during model.fit()\n",
    "save_path = \"path/to/save/model\"\n",
    "save_pretrained_callback = SavePretrainedCheckpoint(save_path, monitor='val_loss', mode='min', save_best_only=True)\n",
    "\n",
    "model.fit(\n",
    "    train_dataset,\n",
    "    validation_data=val_dataset,\n",
    "    epochs=50,\n",
    "    callbacks=[save_pretrained_callback]\n",
    ")"
   ]
  }
 ],
 "metadata": {
  "kernelspec": {
   "display_name": "tf_cpu_bert_seq",
   "language": "python",
   "name": "python3"
  },
  "language_info": {
   "codemirror_mode": {
    "name": "ipython",
    "version": 3
   },
   "file_extension": ".py",
   "mimetype": "text/x-python",
   "name": "python",
   "nbconvert_exporter": "python",
   "pygments_lexer": "ipython3",
   "version": "3.8.19"
  }
 },
 "nbformat": 4,
 "nbformat_minor": 2
}
