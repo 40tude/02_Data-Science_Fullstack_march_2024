{
 "cells": [
  {
   "cell_type": "markdown",
   "metadata": {},
   "source": [
    "#  AT&T Spam Detector - SMOTE\n"
   ]
  },
  {
   "cell_type": "markdown",
   "metadata": {},
   "source": [
    "# EDA"
   ]
  },
  {
   "cell_type": "code",
   "execution_count": 17,
   "metadata": {},
   "outputs": [],
   "source": [
    "# prelude\n",
    "\n",
    "import pandas as pd\n",
    "import re\n",
    "import en_core_web_sm\n",
    "from spacy.lang.en.stop_words import STOP_WORDS\n",
    "from wordcloud import WordCloud\n",
    "import matplotlib.pyplot as plt\n",
    "import tensorflow as tf\n",
    "from sklearn.model_selection import train_test_split\n",
    "import numpy as np\n",
    "from sklearn.metrics import confusion_matrix\n",
    "import plotly.graph_objects as go\n",
    "\n",
    "# For SMOTE\n",
    "from imblearn.over_sampling import SMOTE  # conda install imbalanced-learn\n",
    "from collections import Counter\n",
    "\n",
    "\n",
    "\n",
    "\n",
    "\n",
    "from pathlib import Path\n",
    "# k_CurrentDir  = Path(__file__).parent    # __file__ is not known in Jupyter context\n",
    "k_Current_dir   = Path.cwd()\n",
    "k_AssetsDir     = \"assets\"\n",
    "k_Gold          = 1.618                    # gold number for ratio\n",
    "k_Width         = 12\n",
    "k_Height        = k_Width/k_Gold\n",
    "k_WidthPx       = 1024\n",
    "k_HeightPx      = k_WidthPx/k_Gold\n",
    "k_random_state  = 42\n",
    "k_test_size     = 0.3\n",
    "k_num_words     = 1_000                    # the number of most freq words to keep during tokenization\n",
    "k_epochs        = 50                       # I tried 10, 20, 50 and 100"
   ]
  },
  {
   "cell_type": "code",
   "execution_count": 2,
   "metadata": {},
   "outputs": [],
   "source": [
    "# -----------------------------------------------------------------------------\n",
    "def quick_View(df: pd.DataFrame) -> pd.DataFrame:\n",
    "\n",
    "    \"\"\"\n",
    "    Generates a summary DataFrame for each column in the input DataFrame.\n",
    "\n",
    "    This function analyzes each column in the given DataFrame and creates a summary that includes\n",
    "    data type, number of null values, percentage of null values, number of non-null values, \n",
    "    number of distinct values, min and max values, outlier bounds (for numeric columns),\n",
    "    and the frequency of distinct values.\n",
    "\n",
    "    Args:\n",
    "        df (pd.DataFrame): The input DataFrame to analyze.\n",
    "\n",
    "    Returns:\n",
    "        pd.DataFrame: A DataFrame containing the summary of each column from the input DataFrame. \n",
    "                      Each row in the resulting DataFrame represents a column from the input DataFrame\n",
    "                      with the following information:\n",
    "                      - \"name\": Column name\n",
    "                      - \"dtype\": Data type of the column\n",
    "                      - \"# null\": Number of null values\n",
    "                      - \"% null\": Percentage of null values\n",
    "                      - \"# NOT null\": Number of non-null values\n",
    "                      - \"distinct val\": Number of distinct values\n",
    "                      - \"-3*sig\": Lower bound for outliers (mean - 3*std) for numeric columns\n",
    "                      - \"min\": Minimum value for numeric columns\n",
    "                      - \"max\": Maximum value for numeric columns\n",
    "                      - \"+3*sig\": Upper bound for outliers (mean + 3*std) for numeric columns\n",
    "                      - \"distinct val count\": Dictionary of distinct value counts or top 10 values for object columns\n",
    "    \"\"\"\n",
    "\n",
    "    summary_lst = []\n",
    "  \n",
    "    for col_name in df.columns:\n",
    "        col_dtype               = df[col_name].dtype\n",
    "        num_of_null             = df[col_name].isnull().sum()\n",
    "        percent_of_null         = num_of_null/len(df)\n",
    "        num_of_non_null         = df[col_name].notnull().sum()\n",
    "        num_of_distinct_values  = df[col_name].nunique()\n",
    "\n",
    "        if num_of_distinct_values <= 10:\n",
    "            distinct_values_counts = df[col_name].value_counts().to_dict()\n",
    "        else:\n",
    "            top_10_values_counts    = df[col_name].value_counts().head(10).to_dict()\n",
    "            distinct_values_counts  = {k: v for k, v in sorted(top_10_values_counts.items(), key=lambda item: item[1], reverse=True)}\n",
    "\n",
    "        if col_dtype != \"object\":\n",
    "            max_of_col = df[col_name].max()\n",
    "            min_of_col = df[col_name].min()\n",
    "            outlier_hi = df[col_name].mean() + 3*df[col_name].std()\n",
    "            outlier_lo = df[col_name].mean() - 3*df[col_name].std()\n",
    "        else:\n",
    "            max_of_col = -1\n",
    "            min_of_col =  1\n",
    "            outlier_hi = -1\n",
    "            outlier_lo =  1\n",
    "\n",
    "        summary_lst.append({\n",
    "            \"name\"                : col_name,\n",
    "            \"dtype\"               : col_dtype,\n",
    "            \"# null\"              : num_of_null,\n",
    "            \"% null\"              : (100*percent_of_null).round(2),\n",
    "            \"# NOT null\"          : num_of_non_null,\n",
    "            \"distinct val\"        : num_of_distinct_values,\n",
    "            \"-3*sig\"              : round(outlier_lo,2) ,\n",
    "            \"min\"                 : round(min_of_col,2),\n",
    "            \"max\"                 : round(max_of_col,2),\n",
    "            \"+3*sig\"              : round(outlier_hi,2) ,\n",
    "            \"distinct val count\"  : distinct_values_counts\n",
    "        })\n",
    "\n",
    "    df_tmp = pd.DataFrame(summary_lst)\n",
    "    return df_tmp"
   ]
  },
  {
   "cell_type": "code",
   "execution_count": 3,
   "metadata": {},
   "outputs": [],
   "source": [
    "# -----------------------------------------------------------------------------\n",
    "# drop empty cols and duplicates, rename cols...\n",
    "def cleaner(df):\n",
    "    df.drop(columns=\"Unnamed: 2\", inplace=True)\n",
    "    df.drop(columns=\"Unnamed: 3\", inplace=True)\n",
    "    df.drop(columns=\"Unnamed: 4\", inplace=True)\n",
    "\n",
    "    df.drop_duplicates(inplace=True)\n",
    "\n",
    "    df.columns = df.columns.str.lower()\n",
    "    df.columns = df.columns.str.replace(\"/\", \"_\")\n",
    "\n",
    "    df.rename(columns={\"v1\": \"target\"}, inplace=True)\n",
    "    df.rename(columns={\"v2\": \"text\"}, inplace=True)\n",
    "\n",
    "    return df"
   ]
  },
  {
   "cell_type": "code",
   "execution_count": 4,
   "metadata": {},
   "outputs": [
    {
     "name": "stdout",
     "output_type": "stream",
     "text": [
      "\n",
      "\n",
      "Preview of the dataset (raw) :\n"
     ]
    },
    {
     "data": {
      "text/html": [
       "<div>\n",
       "<style scoped>\n",
       "    .dataframe tbody tr th:only-of-type {\n",
       "        vertical-align: middle;\n",
       "    }\n",
       "\n",
       "    .dataframe tbody tr th {\n",
       "        vertical-align: top;\n",
       "    }\n",
       "\n",
       "    .dataframe thead th {\n",
       "        text-align: right;\n",
       "    }\n",
       "</style>\n",
       "<table border=\"1\" class=\"dataframe\">\n",
       "  <thead>\n",
       "    <tr style=\"text-align: right;\">\n",
       "      <th></th>\n",
       "      <th>v1</th>\n",
       "      <th>v2</th>\n",
       "      <th>Unnamed: 2</th>\n",
       "      <th>Unnamed: 3</th>\n",
       "      <th>Unnamed: 4</th>\n",
       "    </tr>\n",
       "  </thead>\n",
       "  <tbody>\n",
       "    <tr>\n",
       "      <th>0</th>\n",
       "      <td>ham</td>\n",
       "      <td>Go until jurong point, crazy.. Available only ...</td>\n",
       "      <td>NaN</td>\n",
       "      <td>NaN</td>\n",
       "      <td>NaN</td>\n",
       "    </tr>\n",
       "    <tr>\n",
       "      <th>1</th>\n",
       "      <td>ham</td>\n",
       "      <td>Ok lar... Joking wif u oni...</td>\n",
       "      <td>NaN</td>\n",
       "      <td>NaN</td>\n",
       "      <td>NaN</td>\n",
       "    </tr>\n",
       "    <tr>\n",
       "      <th>2</th>\n",
       "      <td>spam</td>\n",
       "      <td>Free entry in 2 a wkly comp to win FA Cup fina...</td>\n",
       "      <td>NaN</td>\n",
       "      <td>NaN</td>\n",
       "      <td>NaN</td>\n",
       "    </tr>\n",
       "    <tr>\n",
       "      <th>3</th>\n",
       "      <td>ham</td>\n",
       "      <td>U dun say so early hor... U c already then say...</td>\n",
       "      <td>NaN</td>\n",
       "      <td>NaN</td>\n",
       "      <td>NaN</td>\n",
       "    </tr>\n",
       "    <tr>\n",
       "      <th>4</th>\n",
       "      <td>ham</td>\n",
       "      <td>Nah I don't think he goes to usf, he lives aro...</td>\n",
       "      <td>NaN</td>\n",
       "      <td>NaN</td>\n",
       "      <td>NaN</td>\n",
       "    </tr>\n",
       "  </tbody>\n",
       "</table>\n",
       "</div>"
      ],
      "text/plain": [
       "     v1                                                 v2 Unnamed: 2  \\\n",
       "0   ham  Go until jurong point, crazy.. Available only ...        NaN   \n",
       "1   ham                      Ok lar... Joking wif u oni...        NaN   \n",
       "2  spam  Free entry in 2 a wkly comp to win FA Cup fina...        NaN   \n",
       "3   ham  U dun say so early hor... U c already then say...        NaN   \n",
       "4   ham  Nah I don't think he goes to usf, he lives aro...        NaN   \n",
       "\n",
       "  Unnamed: 3 Unnamed: 4  \n",
       "0        NaN        NaN  \n",
       "1        NaN        NaN  \n",
       "2        NaN        NaN  \n",
       "3        NaN        NaN  \n",
       "4        NaN        NaN  "
      ]
     },
     "metadata": {},
     "output_type": "display_data"
    },
    {
     "name": "stdout",
     "output_type": "stream",
     "text": [
      "\n",
      "\n",
      "Preview of the initial dataset :\n"
     ]
    },
    {
     "data": {
      "text/html": [
       "<div>\n",
       "<style scoped>\n",
       "    .dataframe tbody tr th:only-of-type {\n",
       "        vertical-align: middle;\n",
       "    }\n",
       "\n",
       "    .dataframe tbody tr th {\n",
       "        vertical-align: top;\n",
       "    }\n",
       "\n",
       "    .dataframe thead th {\n",
       "        text-align: right;\n",
       "    }\n",
       "</style>\n",
       "<table border=\"1\" class=\"dataframe\">\n",
       "  <thead>\n",
       "    <tr style=\"text-align: right;\">\n",
       "      <th></th>\n",
       "      <th>target</th>\n",
       "      <th>text</th>\n",
       "    </tr>\n",
       "  </thead>\n",
       "  <tbody>\n",
       "    <tr>\n",
       "      <th>0</th>\n",
       "      <td>ham</td>\n",
       "      <td>Go until jurong point, crazy.. Available only ...</td>\n",
       "    </tr>\n",
       "    <tr>\n",
       "      <th>1</th>\n",
       "      <td>ham</td>\n",
       "      <td>Ok lar... Joking wif u oni...</td>\n",
       "    </tr>\n",
       "    <tr>\n",
       "      <th>2</th>\n",
       "      <td>spam</td>\n",
       "      <td>Free entry in 2 a wkly comp to win FA Cup fina...</td>\n",
       "    </tr>\n",
       "    <tr>\n",
       "      <th>3</th>\n",
       "      <td>ham</td>\n",
       "      <td>U dun say so early hor... U c already then say...</td>\n",
       "    </tr>\n",
       "    <tr>\n",
       "      <th>4</th>\n",
       "      <td>ham</td>\n",
       "      <td>Nah I don't think he goes to usf, he lives aro...</td>\n",
       "    </tr>\n",
       "  </tbody>\n",
       "</table>\n",
       "</div>"
      ],
      "text/plain": [
       "  target                                               text\n",
       "0    ham  Go until jurong point, crazy.. Available only ...\n",
       "1    ham                      Ok lar... Joking wif u oni...\n",
       "2   spam  Free entry in 2 a wkly comp to win FA Cup fina...\n",
       "3    ham  U dun say so early hor... U c already then say...\n",
       "4    ham  Nah I don't think he goes to usf, he lives aro..."
      ]
     },
     "metadata": {},
     "output_type": "display_data"
    },
    {
     "name": "stdout",
     "output_type": "stream",
     "text": [
      "\n",
      "\n",
      "The dataset consists of :\n",
      "\t        2 dimensions\n",
      "\t    5_169 observations\n",
      "\t        2 features    \n",
      "\n",
      "\n",
      "It's a binary classification problem\n",
      "\n",
      "\n",
      "% of data type :\n"
     ]
    },
    {
     "data": {
      "text/html": [
       "<div>\n",
       "<style scoped>\n",
       "    .dataframe tbody tr th:only-of-type {\n",
       "        vertical-align: middle;\n",
       "    }\n",
       "\n",
       "    .dataframe tbody tr th {\n",
       "        vertical-align: top;\n",
       "    }\n",
       "\n",
       "    .dataframe thead th {\n",
       "        text-align: right;\n",
       "    }\n",
       "</style>\n",
       "<table border=\"1\" class=\"dataframe\">\n",
       "  <thead>\n",
       "    <tr style=\"text-align: right;\">\n",
       "      <th></th>\n",
       "      <th>types</th>\n",
       "      <th>as_%</th>\n",
       "    </tr>\n",
       "  </thead>\n",
       "  <tbody>\n",
       "    <tr>\n",
       "      <th>object</th>\n",
       "      <td>2</td>\n",
       "      <td>100.0</td>\n",
       "    </tr>\n",
       "  </tbody>\n",
       "</table>\n",
       "</div>"
      ],
      "text/plain": [
       "        types   as_%\n",
       "object      2  100.0"
      ]
     },
     "metadata": {},
     "output_type": "display_data"
    },
    {
     "name": "stdout",
     "output_type": "stream",
     "text": [
      "\n",
      "\n",
      "QuickView :\n"
     ]
    },
    {
     "data": {
      "text/html": [
       "<div>\n",
       "<style scoped>\n",
       "    .dataframe tbody tr th:only-of-type {\n",
       "        vertical-align: middle;\n",
       "    }\n",
       "\n",
       "    .dataframe tbody tr th {\n",
       "        vertical-align: top;\n",
       "    }\n",
       "\n",
       "    .dataframe thead th {\n",
       "        text-align: right;\n",
       "    }\n",
       "</style>\n",
       "<table border=\"1\" class=\"dataframe\">\n",
       "  <thead>\n",
       "    <tr style=\"text-align: right;\">\n",
       "      <th></th>\n",
       "      <th>name</th>\n",
       "      <th>dtype</th>\n",
       "      <th># null</th>\n",
       "      <th>% null</th>\n",
       "      <th># NOT null</th>\n",
       "      <th>distinct val</th>\n",
       "      <th>-3*sig</th>\n",
       "      <th>min</th>\n",
       "      <th>max</th>\n",
       "      <th>+3*sig</th>\n",
       "      <th>distinct val count</th>\n",
       "    </tr>\n",
       "  </thead>\n",
       "  <tbody>\n",
       "    <tr>\n",
       "      <th>0</th>\n",
       "      <td>target</td>\n",
       "      <td>object</td>\n",
       "      <td>0</td>\n",
       "      <td>0.0</td>\n",
       "      <td>5169</td>\n",
       "      <td>2</td>\n",
       "      <td>1</td>\n",
       "      <td>1</td>\n",
       "      <td>-1</td>\n",
       "      <td>-1</td>\n",
       "      <td>{'ham': 4516, 'spam': 653}</td>\n",
       "    </tr>\n",
       "    <tr>\n",
       "      <th>1</th>\n",
       "      <td>text</td>\n",
       "      <td>object</td>\n",
       "      <td>0</td>\n",
       "      <td>0.0</td>\n",
       "      <td>5169</td>\n",
       "      <td>5169</td>\n",
       "      <td>1</td>\n",
       "      <td>1</td>\n",
       "      <td>-1</td>\n",
       "      <td>-1</td>\n",
       "      <td>{'Go until jurong point, crazy.. Available onl...</td>\n",
       "    </tr>\n",
       "  </tbody>\n",
       "</table>\n",
       "</div>"
      ],
      "text/plain": [
       "     name   dtype  # null  % null  # NOT null  distinct val  -3*sig  min  max  \\\n",
       "0  target  object       0     0.0        5169             2       1    1   -1   \n",
       "1    text  object       0     0.0        5169          5169       1    1   -1   \n",
       "\n",
       "   +3*sig                                 distinct val count  \n",
       "0      -1                         {'ham': 4516, 'spam': 653}  \n",
       "1      -1  {'Go until jurong point, crazy.. Available onl...  "
      ]
     },
     "metadata": {},
     "output_type": "display_data"
    },
    {
     "name": "stdout",
     "output_type": "stream",
     "text": [
      "\n",
      "\n",
      "% of missing values :\n"
     ]
    },
    {
     "data": {
      "text/plain": [
       "target    0.0\n",
       "text      0.0\n",
       "dtype: float64"
      ]
     },
     "metadata": {},
     "output_type": "display_data"
    }
   ],
   "source": [
    "# df = pd.read_csv(\"https://full-stack-bigdata-datasets.s3.eu-west-3.amazonaws.com/Deep+Learning/project/spam.csv\", encoding=\"cp1252\")\n",
    "df = pd.read_csv(k_Current_dir / k_AssetsDir / \"spam.csv\", encoding=\"cp1252\")\n",
    "print(f\"\\n\\nPreview of the dataset (raw) :\")\n",
    "display(df.head())\n",
    "\n",
    "df = cleaner(df)\n",
    "# print(df.shape)\n",
    "\n",
    "print(f\"\\n\\nPreview of the initial dataset :\")\n",
    "display(df.head())\n",
    "\n",
    "print(f\"\\n\\nThe dataset consists of :\")\n",
    "print(f\"\\t{len(df.shape):>9_} dimensions\")\n",
    "print(f\"\\t{df.shape[0]:>9_} observations\")\n",
    "print(f\"\\t{df.shape[1]:>9_} features    \")\n",
    "\n",
    "print(f\"\\n\\nIt's a binary classification problem\")\n",
    "\n",
    "df_types = pd.DataFrame ({\n",
    "  \"types\" : df.dtypes.value_counts()\n",
    "})\n",
    "df_types[\"as_%\"] = (100 * df_types[\"types\"]/df_types[\"types\"].sum()).round(2)\n",
    "\n",
    "print(f\"\\n\\n% of data type :\")\n",
    "display(df_types)\n",
    "\n",
    "df_tmp = quick_View(df)\n",
    "print(f\"\\n\\nQuickView :\")\n",
    "display(df_tmp.sort_values(by=\"# null\", ascending=False))   \n",
    "\n",
    "print(f\"\\n\\n% of missing values :\")\n",
    "display(round(df.isnull().sum()/len(df)*100, 2))"
   ]
  },
  {
   "cell_type": "markdown",
   "metadata": {},
   "source": [
    "## <span style=\"color:orange\"><b>Comments :</b></span>\n",
    "* There is no missing values\n",
    "* 5k observations. Will it be enough ?\n",
    "* Unbalanced target"
   ]
  },
  {
   "cell_type": "markdown",
   "metadata": {},
   "source": [
    "## Spam & ham balance"
   ]
  },
  {
   "cell_type": "code",
   "execution_count": 5,
   "metadata": {},
   "outputs": [
    {
     "name": "stdout",
     "output_type": "stream",
     "text": [
      "Nb spam :     653\n",
      "Nb ham  :   4_516\n"
     ]
    },
    {
     "data": {
      "image/png": "[encoded data removed]",
      "text/plain": [
       "<Figure size 1200x741.656 with 1 Axes>"
      ]
     },
     "metadata": {},
     "output_type": "display_data"
    }
   ],
   "source": [
    "counts = df[\"target\"].value_counts()\n",
    "print(f\"Nb spam : {counts['spam']:>7_}\")\n",
    "print(f\"Nb ham  : {counts['ham']:>7_}\")\n",
    "\n",
    "_ = counts.plot.pie(title=\"Weight as %\", autopct=\"%1.1f%%\", figsize=(k_Width, k_Height))"
   ]
  },
  {
   "cell_type": "markdown",
   "metadata": {},
   "source": [
    "### <span style=\"color:orange\"><b>Comments :</b></span>\n",
    "* No surprise, the target is heavily unbalanced"
   ]
  },
  {
   "cell_type": "markdown",
   "metadata": {},
   "source": [
    "# Text processing\n"
   ]
  },
  {
   "cell_type": "markdown",
   "metadata": {},
   "source": [
    "## How ham and spam text look like ?"
   ]
  },
  {
   "cell_type": "code",
   "execution_count": 6,
   "metadata": {},
   "outputs": [
    {
     "name": "stdout",
     "output_type": "stream",
     "text": [
      "\n",
      "\n",
      "HAM : \n",
      "   target                                                                                                                                                                                                  text\n",
      "0     ham                                                                                       Go until jurong point, crazy.. Available only in bugis n great world la e buffet... Cine there got amore wat...\n",
      "1     ham                                                                                                                                                                         Ok lar... Joking wif u oni...\n",
      "3     ham                                                                                                                                                     U dun say so early hor... U c already then say...\n",
      "4     ham                                                                                                                                         Nah I don't think he goes to usf, he lives around here though\n",
      "6     ham                                                                                                                         Even my brother is not like to speak with me. They treat me like aids patent.\n",
      "7     ham                                      As per your request 'Melle Melle (Oru Minnaminunginte Nurungu Vettam)' has been set as your callertune for all Callers. Press *9 to copy your friends Callertune\n",
      "10    ham                                                                                         I'm gonna be home soon and i don't want to talk about this stuff anymore tonight, k? I've cried enough today.\n",
      "13    ham  I've been searching for the right words to thank you for this breather. I promise i wont take your help for granted and will fulfil my promise. You have been wonderful and a blessing at all times.\n",
      "14    ham                                                                                                                                                                   I HAVE A DATE ON SUNDAY WITH WILL!!\n",
      "16    ham                                                                                                                                                                            Oh k...i'm watching here:)\n",
      "17    ham                                                                                                                     Eh u remember how 2 spell his name... Yes i did. He v naughty make until i v wet.\n",
      "18    ham                                                                                                                                            Fine if thatåÕs the way u feel. ThatåÕs the way its gota b\n",
      "20    ham                                                                                                                                                             Is that seriously how you spell his name?\n",
      "21    ham                                                                                                                                                     I‰Û÷m going to try for 2 months ha ha only joking\n",
      "22    ham                                                                                                                                                 So Ì_ pay first lar... Then when is da stock comin...\n",
      "23    ham                                                                                                              Aft i finish my lunch then i go str down lor. Ard 3 smth lor. U finish ur lunch already?\n",
      "24    ham                                                                                                                                             Ffffffffff. Alright no way I can meet up with you sooner?\n",
      "25    ham                                                      Just forced myself to eat a slice. I'm really not hungry tho. This sucks. Mark is getting worried. He knows I'm sick when I turn down pizza. Lol\n",
      "26    ham                                                                                                                                                                        Lol your always so convincing.\n",
      "27    ham                                                                Did you catch the bus ? Are you frying an egg ? Did you make a tea? Are you eating your mom's left over dinner ? Do you feel my Love ?\n"
     ]
    }
   ],
   "source": [
    "print(f\"\\n\\nHAM : \")\n",
    "# pd.set_option(\"display.max_colwidth\", 1000)\n",
    "# print(df[df[\"target\"]==\"ham\"].head(20))\n",
    "print(df[df[\"target\"]==\"ham\"].head(20).to_string())"
   ]
  },
  {
   "cell_type": "code",
   "execution_count": 7,
   "metadata": {},
   "outputs": [
    {
     "name": "stdout",
     "output_type": "stream",
     "text": [
      "\n",
      "\n",
      "SPAM : \n",
      "    target                                                                                                                                                                          text\n",
      "2     spam                   Free entry in 2 a wkly comp to win FA Cup final tkts 21st May 2005. Text FA to 87121 to receive entry question(std txt rate)T&C's apply 08452810075over18's\n",
      "5     spam                          FreeMsg Hey there darling it's been 3 week's now and no word back! I'd like some fun you up for it still? Tb ok! XxX std chgs to send, å£1.50 to rcv\n",
      "8     spam                WINNER!! As a valued network customer you have been selected to receivea å£900 prize reward! To claim call 09061701461. Claim code KL341. Valid 12 hours only.\n",
      "9     spam                    Had your mobile 11 months or more? U R entitled to Update to the latest colour mobiles with camera for Free! Call The Mobile Update Co FREE on 08002986030\n",
      "11    spam                                      SIX chances to win CASH! From 100 to 20,000 pounds txt> CSH11 and send to 87575. Cost 150p/day, 6days, 16+ TsandCs apply Reply HL 4 info\n",
      "12    spam                  URGENT! You have won a 1 week FREE membership in our å£100,000 Prize Jackpot! Txt the word: CLAIM to No: 81010 T&C www.dbuk.net LCCLTD POBOX 4403LDNW1A7RW18\n",
      "15    spam                         XXXMobileMovieClub: To use your credit, click the WAP link in the next txt message or click here>> http://wap. xxxmobilemovieclub.com?n=QJKGIGHJJGCBL\n",
      "19    spam                  England v Macedonia - dont miss the goals/team news. Txt ur national team to 87077 eg ENGLAND to 87077 Try:WALES, SCOTLAND 4txt/Ì¼1.20 POBOXox36504W45WQ 16+\n",
      "34    spam               Thanks for your subscription to Ringtone UK your mobile will be charged å£5/month Please confirm by replying YES or NO. If you reply NO you will not be charged\n",
      "42    spam  07732584351 - Rodger Burns - MSG = We tried to call you re your reply to our sms for a free nokia mobile + free camcorder. Please call now 08000930705 for delivery tomorrow\n",
      "54    spam                                                      SMS. ac Sptv: The New Jersey Devils and the Detroit Red Wings play Ice Hockey. Correct or Incorrect? End? Reply END SPTV\n",
      "56    spam             Congrats! 1 year special cinema pass for 2 is yours. call 09061209465 now! C Suprman V, Matrix3, StarWars3, etc all 4 FREE! bx420-ip4-5we. 150pm. Dont miss out! \n",
      "65    spam                     As a valued customer, I am pleased to advise you that following recent review of your Mob No. you are awarded with a å£1500 Bonus Prize, call 09066364589\n",
      "67    spam             Urgent UR awarded a complimentary trip to EuroDisinc Trav, Aco&Entry41 Or å£1000. To claim txt DIS to 87121 18+6*å£1.50(moreFrmMob. ShrAcomOrSglSuplt)10, LS1 3AJ\n",
      "68    spam                                                                                              Did you hear about the new \\Divorce Barbie\\\"? It comes with all of Ken's stuff!\"\n",
      "93    spam                                   Please call our customer service representative on 0800 169 6031 between 10am-9pm as you have WON a guaranteed å£1000 cash or å£5000 prize!\n",
      "95    spam                                                 Your free ringtone is waiting to be collected. Simply text the password \\MIX\\\" to 85069 to verify. Get Usher and Britney. FML\n",
      "113   spam               GENT! We are trying to contact you. Last weekends draw shows that you won a å£1000 prize GUARANTEED. Call 09064012160. Claim Code K52. Valid 12hrs only. 150ppm\n",
      "116   spam                     You are a winner U have been specially selected 2 receive å£1000 or a 4* holiday (flights inc) speak to a live operator 2 claim 0871277810910p/min (18+) \n",
      "119   spam                              PRIVATE! Your 2004 Account Statement for 07742676969 shows 786 unredeemed Bonus Points. To claim call 08719180248 Identifier Code: 45239 Expires\n"
     ]
    }
   ],
   "source": [
    "print(f\"\\n\\nSPAM : \")\n",
    "print(df[df[\"target\"]==\"spam\"].head(20).to_string())"
   ]
  },
  {
   "cell_type": "markdown",
   "metadata": {},
   "source": [
    "## Cleaning"
   ]
  },
  {
   "cell_type": "code",
   "execution_count": 8,
   "metadata": {},
   "outputs": [
    {
     "data": {
      "text/html": [
       "<div>\n",
       "<style scoped>\n",
       "    .dataframe tbody tr th:only-of-type {\n",
       "        vertical-align: middle;\n",
       "    }\n",
       "\n",
       "    .dataframe tbody tr th {\n",
       "        vertical-align: top;\n",
       "    }\n",
       "\n",
       "    .dataframe thead th {\n",
       "        text-align: right;\n",
       "    }\n",
       "</style>\n",
       "<table border=\"1\" class=\"dataframe\">\n",
       "  <thead>\n",
       "    <tr style=\"text-align: right;\">\n",
       "      <th></th>\n",
       "      <th>target</th>\n",
       "      <th>text</th>\n",
       "      <th>clean_docs</th>\n",
       "    </tr>\n",
       "  </thead>\n",
       "  <tbody>\n",
       "    <tr>\n",
       "      <th>0</th>\n",
       "      <td>ham</td>\n",
       "      <td>Go until jurong point, crazy.. Available only ...</td>\n",
       "      <td>go until jurong point  crazy  available only i...</td>\n",
       "    </tr>\n",
       "    <tr>\n",
       "      <th>1</th>\n",
       "      <td>ham</td>\n",
       "      <td>Ok lar... Joking wif u oni...</td>\n",
       "      <td>ok lar  joking wif u oni</td>\n",
       "    </tr>\n",
       "    <tr>\n",
       "      <th>2</th>\n",
       "      <td>spam</td>\n",
       "      <td>Free entry in 2 a wkly comp to win FA Cup fina...</td>\n",
       "      <td>free entry in 2 a wkly comp to win fa cup fina...</td>\n",
       "    </tr>\n",
       "    <tr>\n",
       "      <th>3</th>\n",
       "      <td>ham</td>\n",
       "      <td>U dun say so early hor... U c already then say...</td>\n",
       "      <td>u dun say so early hor  u c already then say</td>\n",
       "    </tr>\n",
       "    <tr>\n",
       "      <th>4</th>\n",
       "      <td>ham</td>\n",
       "      <td>Nah I don't think he goes to usf, he lives aro...</td>\n",
       "      <td>nah i don't think he goes to usf  he lives aro...</td>\n",
       "    </tr>\n",
       "    <tr>\n",
       "      <th>...</th>\n",
       "      <td>...</td>\n",
       "      <td>...</td>\n",
       "      <td>...</td>\n",
       "    </tr>\n",
       "    <tr>\n",
       "      <th>5567</th>\n",
       "      <td>spam</td>\n",
       "      <td>This is the 2nd time we have tried 2 contact u...</td>\n",
       "      <td>this is the 2nd time we have tried 2 contact u...</td>\n",
       "    </tr>\n",
       "    <tr>\n",
       "      <th>5568</th>\n",
       "      <td>ham</td>\n",
       "      <td>Will Ì_ b going to esplanade fr home?</td>\n",
       "      <td>will ì  b going to esplanade fr home</td>\n",
       "    </tr>\n",
       "    <tr>\n",
       "      <th>5569</th>\n",
       "      <td>ham</td>\n",
       "      <td>Pity, * was in mood for that. So...any other s...</td>\n",
       "      <td>pity    was in mood for that  so any other sug...</td>\n",
       "    </tr>\n",
       "    <tr>\n",
       "      <th>5570</th>\n",
       "      <td>ham</td>\n",
       "      <td>The guy did some bitching but I acted like i'd...</td>\n",
       "      <td>the guy did some bitching but i acted like i'd...</td>\n",
       "    </tr>\n",
       "    <tr>\n",
       "      <th>5571</th>\n",
       "      <td>ham</td>\n",
       "      <td>Rofl. Its true to its name</td>\n",
       "      <td>rofl  its true to its name</td>\n",
       "    </tr>\n",
       "  </tbody>\n",
       "</table>\n",
       "<p>5169 rows × 3 columns</p>\n",
       "</div>"
      ],
      "text/plain": [
       "     target                                               text  \\\n",
       "0       ham  Go until jurong point, crazy.. Available only ...   \n",
       "1       ham                      Ok lar... Joking wif u oni...   \n",
       "2      spam  Free entry in 2 a wkly comp to win FA Cup fina...   \n",
       "3       ham  U dun say so early hor... U c already then say...   \n",
       "4       ham  Nah I don't think he goes to usf, he lives aro...   \n",
       "...     ...                                                ...   \n",
       "5567   spam  This is the 2nd time we have tried 2 contact u...   \n",
       "5568    ham              Will Ì_ b going to esplanade fr home?   \n",
       "5569    ham  Pity, * was in mood for that. So...any other s...   \n",
       "5570    ham  The guy did some bitching but I acted like i'd...   \n",
       "5571    ham                         Rofl. Its true to its name   \n",
       "\n",
       "                                             clean_docs  \n",
       "0     go until jurong point  crazy  available only i...  \n",
       "1                             ok lar  joking wif u oni   \n",
       "2     free entry in 2 a wkly comp to win fa cup fina...  \n",
       "3         u dun say so early hor  u c already then say   \n",
       "4     nah i don't think he goes to usf  he lives aro...  \n",
       "...                                                 ...  \n",
       "5567  this is the 2nd time we have tried 2 contact u...  \n",
       "5568              will ì  b going to esplanade fr home   \n",
       "5569  pity    was in mood for that  so any other sug...  \n",
       "5570  the guy did some bitching but i acted like i'd...  \n",
       "5571                         rofl  its true to its name  \n",
       "\n",
       "[5169 rows x 3 columns]"
      ]
     },
     "execution_count": 8,
     "metadata": {},
     "output_type": "execute_result"
    }
   ],
   "source": [
    "# The 2 lines below can help to print the punctuation signs\n",
    "# import string \n",
    "# string.punctuation\n",
    "\n",
    "# Remove punctuation  \n",
    "df[\"clean_docs\"] = df[\"text\"].apply(lambda x: re.sub(\"[!\\\"#$%&()*+,-./:;<=>?@\\[\\]^_`{|}~\\\\\\]+\",\" \", x)) \n",
    "\n",
    "# fillna() makes sure NA is replaced with \"\" so that lowering case do not generate error\n",
    "df[\"clean_docs\"] = df[\"clean_docs\"].fillna(\"\").apply(lambda x: x.lower())\n",
    "\n",
    "# df[\"clean_docs\"].head(20)\n",
    "df\n"
   ]
  },
  {
   "cell_type": "markdown",
   "metadata": {},
   "source": [
    "## Tokenization"
   ]
  },
  {
   "cell_type": "code",
   "execution_count": 9,
   "metadata": {},
   "outputs": [
    {
     "data": {
      "text/html": [
       "<div>\n",
       "<style scoped>\n",
       "    .dataframe tbody tr th:only-of-type {\n",
       "        vertical-align: middle;\n",
       "    }\n",
       "\n",
       "    .dataframe tbody tr th {\n",
       "        vertical-align: top;\n",
       "    }\n",
       "\n",
       "    .dataframe thead th {\n",
       "        text-align: right;\n",
       "    }\n",
       "</style>\n",
       "<table border=\"1\" class=\"dataframe\">\n",
       "  <thead>\n",
       "    <tr style=\"text-align: right;\">\n",
       "      <th></th>\n",
       "      <th>target</th>\n",
       "      <th>text</th>\n",
       "      <th>clean_docs</th>\n",
       "      <th>tokenized_docs</th>\n",
       "      <th>clean_tokens</th>\n",
       "    </tr>\n",
       "  </thead>\n",
       "  <tbody>\n",
       "    <tr>\n",
       "      <th>0</th>\n",
       "      <td>0</td>\n",
       "      <td>Go until jurong point, crazy.. Available only ...</td>\n",
       "      <td>go until jurong point  crazy  available only i...</td>\n",
       "      <td>[jurong, point,  , crazy,  , available, bugis,...</td>\n",
       "      <td>jurong point   crazy   available bugis n great...</td>\n",
       "    </tr>\n",
       "    <tr>\n",
       "      <th>1</th>\n",
       "      <td>0</td>\n",
       "      <td>Ok lar... Joking wif u oni...</td>\n",
       "      <td>ok lar  joking wif u oni</td>\n",
       "      <td>[ok, lar,  , joke, wif, u, oni]</td>\n",
       "      <td>ok lar   joke wif u oni</td>\n",
       "    </tr>\n",
       "    <tr>\n",
       "      <th>2</th>\n",
       "      <td>1</td>\n",
       "      <td>Free entry in 2 a wkly comp to win FA Cup fina...</td>\n",
       "      <td>free entry in 2 a wkly comp to win fa cup fina...</td>\n",
       "      <td>[free, entry, 2, wkly, comp, win, fa, cup, fin...</td>\n",
       "      <td>free entry 2 wkly comp win fa cup final tkts 2...</td>\n",
       "    </tr>\n",
       "    <tr>\n",
       "      <th>3</th>\n",
       "      <td>0</td>\n",
       "      <td>U dun say so early hor... U c already then say...</td>\n",
       "      <td>u dun say so early hor  u c already then say</td>\n",
       "      <td>[u, dun, early, hor,  , u, c]</td>\n",
       "      <td>u dun early hor   u c</td>\n",
       "    </tr>\n",
       "    <tr>\n",
       "      <th>4</th>\n",
       "      <td>0</td>\n",
       "      <td>Nah I don't think he goes to usf, he lives aro...</td>\n",
       "      <td>nah i don't think he goes to usf  he lives aro...</td>\n",
       "      <td>[nah, think, go, usf,  , live]</td>\n",
       "      <td>nah think go usf   live</td>\n",
       "    </tr>\n",
       "    <tr>\n",
       "      <th>...</th>\n",
       "      <td>...</td>\n",
       "      <td>...</td>\n",
       "      <td>...</td>\n",
       "      <td>...</td>\n",
       "      <td>...</td>\n",
       "    </tr>\n",
       "    <tr>\n",
       "      <th>5567</th>\n",
       "      <td>1</td>\n",
       "      <td>This is the 2nd time we have tried 2 contact u...</td>\n",
       "      <td>this is the 2nd time we have tried 2 contact u...</td>\n",
       "      <td>[2nd, time, try, 2, contact, u,  , u, win, å£7...</td>\n",
       "      <td>2nd time try 2 contact u   u win å£750 pound p...</td>\n",
       "    </tr>\n",
       "    <tr>\n",
       "      <th>5568</th>\n",
       "      <td>0</td>\n",
       "      <td>Will Ì_ b going to esplanade fr home?</td>\n",
       "      <td>will ì  b going to esplanade fr home</td>\n",
       "      <td>[ì,  , b, go, esplanade, fr, home]</td>\n",
       "      <td>ì   b go esplanade fr home</td>\n",
       "    </tr>\n",
       "    <tr>\n",
       "      <th>5569</th>\n",
       "      <td>0</td>\n",
       "      <td>Pity, * was in mood for that. So...any other s...</td>\n",
       "      <td>pity    was in mood for that  so any other sug...</td>\n",
       "      <td>[pity,    , mood,  , suggestion]</td>\n",
       "      <td>pity     mood   suggestion</td>\n",
       "    </tr>\n",
       "    <tr>\n",
       "      <th>5570</th>\n",
       "      <td>0</td>\n",
       "      <td>The guy did some bitching but I acted like i'd...</td>\n",
       "      <td>the guy did some bitching but i acted like i'd...</td>\n",
       "      <td>[guy, bitching, act, like, interested, buy, we...</td>\n",
       "      <td>guy bitching act like interested buy week give...</td>\n",
       "    </tr>\n",
       "    <tr>\n",
       "      <th>5571</th>\n",
       "      <td>0</td>\n",
       "      <td>Rofl. Its true to its name</td>\n",
       "      <td>rofl  its true to its name</td>\n",
       "      <td>[rofl,  , true]</td>\n",
       "      <td>rofl   true</td>\n",
       "    </tr>\n",
       "  </tbody>\n",
       "</table>\n",
       "<p>5169 rows × 5 columns</p>\n",
       "</div>"
      ],
      "text/plain": [
       "      target                                               text  \\\n",
       "0          0  Go until jurong point, crazy.. Available only ...   \n",
       "1          0                      Ok lar... Joking wif u oni...   \n",
       "2          1  Free entry in 2 a wkly comp to win FA Cup fina...   \n",
       "3          0  U dun say so early hor... U c already then say...   \n",
       "4          0  Nah I don't think he goes to usf, he lives aro...   \n",
       "...      ...                                                ...   \n",
       "5567       1  This is the 2nd time we have tried 2 contact u...   \n",
       "5568       0              Will Ì_ b going to esplanade fr home?   \n",
       "5569       0  Pity, * was in mood for that. So...any other s...   \n",
       "5570       0  The guy did some bitching but I acted like i'd...   \n",
       "5571       0                         Rofl. Its true to its name   \n",
       "\n",
       "                                             clean_docs  \\\n",
       "0     go until jurong point  crazy  available only i...   \n",
       "1                             ok lar  joking wif u oni    \n",
       "2     free entry in 2 a wkly comp to win fa cup fina...   \n",
       "3         u dun say so early hor  u c already then say    \n",
       "4     nah i don't think he goes to usf  he lives aro...   \n",
       "...                                                 ...   \n",
       "5567  this is the 2nd time we have tried 2 contact u...   \n",
       "5568              will ì  b going to esplanade fr home    \n",
       "5569  pity    was in mood for that  so any other sug...   \n",
       "5570  the guy did some bitching but i acted like i'd...   \n",
       "5571                         rofl  its true to its name   \n",
       "\n",
       "                                         tokenized_docs  \\\n",
       "0     [jurong, point,  , crazy,  , available, bugis,...   \n",
       "1                       [ok, lar,  , joke, wif, u, oni]   \n",
       "2     [free, entry, 2, wkly, comp, win, fa, cup, fin...   \n",
       "3                         [u, dun, early, hor,  , u, c]   \n",
       "4                        [nah, think, go, usf,  , live]   \n",
       "...                                                 ...   \n",
       "5567  [2nd, time, try, 2, contact, u,  , u, win, å£7...   \n",
       "5568                 [ì,  , b, go, esplanade, fr, home]   \n",
       "5569                   [pity,    , mood,  , suggestion]   \n",
       "5570  [guy, bitching, act, like, interested, buy, we...   \n",
       "5571                                    [rofl,  , true]   \n",
       "\n",
       "                                           clean_tokens  \n",
       "0     jurong point   crazy   available bugis n great...  \n",
       "1                               ok lar   joke wif u oni  \n",
       "2     free entry 2 wkly comp win fa cup final tkts 2...  \n",
       "3                                 u dun early hor   u c  \n",
       "4                               nah think go usf   live  \n",
       "...                                                 ...  \n",
       "5567  2nd time try 2 contact u   u win å£750 pound p...  \n",
       "5568                         ì   b go esplanade fr home  \n",
       "5569                         pity     mood   suggestion  \n",
       "5570  guy bitching act like interested buy week give...  \n",
       "5571                                        rofl   true  \n",
       "\n",
       "[5169 rows x 5 columns]"
      ]
     },
     "execution_count": 9,
     "metadata": {},
     "output_type": "execute_result"
    }
   ],
   "source": [
    "nlp = en_core_web_sm.load()\n",
    "\n",
    "# Tokenize the cleaned document\n",
    "df[\"tokenized_docs\"] = df[\"clean_docs\"].fillna(\"\").apply(lambda x: nlp(x))\n",
    "\n",
    "# remove stop-words, replace words with their lemma\n",
    "df[\"tokenized_docs\"] = df[\"tokenized_docs\"].apply(lambda x: [token.lemma_ for token in x if token.text not in STOP_WORDS])\n",
    "# df[\"tokenized_docs\"].head(20)\n",
    "\n",
    "# clean up tokenized documents\n",
    "df[\"clean_tokens\"] = [\" \".join(x) for x in df[\"tokenized_docs\"]]\n",
    "\n",
    "# set the target as boolean value (spam=1) \n",
    "df[\"target\"] = df[\"target\"].map({\"ham\":0,\"spam\":1})\n",
    "df\n"
   ]
  },
  {
   "cell_type": "markdown",
   "metadata": {},
   "source": [
    "## Word Cloud"
   ]
  },
  {
   "cell_type": "code",
   "execution_count": 10,
   "metadata": {},
   "outputs": [
    {
     "data": {
      "image/png": "[encoded data removed]",
      "text/plain": [
       "<Figure size 741.656x1200 with 1 Axes>"
      ]
     },
     "metadata": {},
     "output_type": "display_data"
    },
    {
     "data": {
      "image/png": "[encoded data removed]",
      "text/plain": [
       "<Figure size 741.656x1200 with 1 Axes>"
      ]
     },
     "metadata": {},
     "output_type": "display_data"
    }
   ],
   "source": [
    "for i in set(df[\"target\"]):\n",
    "    words = \"\"\n",
    "    for doc in df[df[\"target\"] == i][\"text\"]:\n",
    "        words += doc + \" \"\n",
    "    wordcloud = WordCloud().generate(words)\n",
    "    plt.figure(figsize = (k_Height, k_Width))\n",
    "    plt.imshow(wordcloud)\n",
    "    plt.axis(\"off\")\n",
    "    plt.title(f\"WordCloud for {'spam' if i==1 else 'ham'}\")\n",
    "    plt.show()"
   ]
  },
  {
   "cell_type": "markdown",
   "metadata": {},
   "source": [
    "### <span style=\"color:orange\"><b>Comments :</b></span>\n",
    "\n",
    "* With no surprise \"free\", \"call\", \"now\"... are dominant in spams sms\n",
    "* Surprisingly \"sex\" and \"viagra\" are missing 😁"
   ]
  },
  {
   "cell_type": "markdown",
   "metadata": {},
   "source": [
    "## Word occurrences"
   ]
  },
  {
   "cell_type": "code",
   "execution_count": 11,
   "metadata": {},
   "outputs": [],
   "source": [
    "def word_occurences_report(target):\n",
    "    df_tmp = \" \".join(df[df[\"target\"] == target][\"clean_tokens\"])\n",
    "    df_tmp = pd.DataFrame(df_tmp.split(\" \"))\n",
    "    df_tmp = df_tmp.value_counts(ascending=False)\n",
    "\n",
    "    df_tmp = df_tmp.reset_index()  \n",
    "    df_tmp.columns = [\"word\", \"occurrences\"]  \n",
    "    df_tmp.set_index(\"word\", inplace=True)  \n",
    "    display(df_tmp)\n",
    "\n",
    "    # print(f\"About words in ham :\")\n",
    "    print(f\"{len(df_tmp):>6_} differents words\")\n",
    "    print(f\"{df_tmp['occurrences'].sum():>6_} occurrences\")\n",
    "    pareto = int(df_tmp['occurrences'].sum()*0.8)\n",
    "    print(f\"{pareto:>6_} = 80% of thoses occurrences\")\n",
    "\n",
    "    i = 100\n",
    "    while df_tmp['occurrences'].head(i).sum()<pareto:\n",
    "        i+=100\n",
    "\n",
    "    print(f\"{i:6_} ({100*i/len(df_tmp):.0f} %) words are needed to cover 80% of the occurrences\")\n",
    "    print(f\"\\n\\n\\n\")\n",
    "    return"
   ]
  },
  {
   "cell_type": "code",
   "execution_count": 12,
   "metadata": {},
   "outputs": [
    {
     "name": "stdout",
     "output_type": "stream",
     "text": [
      "About words in spam :\n"
     ]
    },
    {
     "data": {
      "text/html": [
       "<div>\n",
       "<style scoped>\n",
       "    .dataframe tbody tr th:only-of-type {\n",
       "        vertical-align: middle;\n",
       "    }\n",
       "\n",
       "    .dataframe tbody tr th {\n",
       "        vertical-align: top;\n",
       "    }\n",
       "\n",
       "    .dataframe thead th {\n",
       "        text-align: right;\n",
       "    }\n",
       "</style>\n",
       "<table border=\"1\" class=\"dataframe\">\n",
       "  <thead>\n",
       "    <tr style=\"text-align: right;\">\n",
       "      <th></th>\n",
       "      <th>occurrences</th>\n",
       "    </tr>\n",
       "    <tr>\n",
       "      <th>word</th>\n",
       "      <th></th>\n",
       "    </tr>\n",
       "  </thead>\n",
       "  <tbody>\n",
       "    <tr>\n",
       "      <th></th>\n",
       "      <td>4422</td>\n",
       "    </tr>\n",
       "    <tr>\n",
       "      <th>free</th>\n",
       "      <td>195</td>\n",
       "    </tr>\n",
       "    <tr>\n",
       "      <th>2</th>\n",
       "      <td>171</td>\n",
       "    </tr>\n",
       "    <tr>\n",
       "      <th>txt</th>\n",
       "      <td>142</td>\n",
       "    </tr>\n",
       "    <tr>\n",
       "      <th>u</th>\n",
       "      <td>141</td>\n",
       "    </tr>\n",
       "    <tr>\n",
       "      <th>...</th>\n",
       "      <td>...</td>\n",
       "    </tr>\n",
       "    <tr>\n",
       "      <th>complete</th>\n",
       "      <td>1</td>\n",
       "    </tr>\n",
       "    <tr>\n",
       "      <th>complementary</th>\n",
       "      <td>1</td>\n",
       "    </tr>\n",
       "    <tr>\n",
       "      <th>compensation</th>\n",
       "      <td>1</td>\n",
       "    </tr>\n",
       "    <tr>\n",
       "      <th>compare</th>\n",
       "      <td>1</td>\n",
       "    </tr>\n",
       "    <tr>\n",
       "      <th>‰ûïharry</th>\n",
       "      <td>1</td>\n",
       "    </tr>\n",
       "  </tbody>\n",
       "</table>\n",
       "<p>2558 rows × 1 columns</p>\n",
       "</div>"
      ],
      "text/plain": [
       "               occurrences\n",
       "word                      \n",
       "                      4422\n",
       "free                   195\n",
       "2                      171\n",
       "txt                    142\n",
       "u                      141\n",
       "...                    ...\n",
       "complete                 1\n",
       "complementary            1\n",
       "compensation             1\n",
       "compare                  1\n",
       "‰ûïharry                 1\n",
       "\n",
       "[2558 rows x 1 columns]"
      ]
     },
     "metadata": {},
     "output_type": "display_data"
    },
    {
     "name": "stdout",
     "output_type": "stream",
     "text": [
      " 2_558 differents words\n",
      "15_527 occurrences\n",
      "12_421 = 80% of thoses occurrences\n",
      "   500 (20 %) words are needed to cover 80% of the occurrences\n",
      "\n",
      "\n",
      "\n",
      "\n",
      "About words in ham :\n"
     ]
    },
    {
     "data": {
      "text/html": [
       "<div>\n",
       "<style scoped>\n",
       "    .dataframe tbody tr th:only-of-type {\n",
       "        vertical-align: middle;\n",
       "    }\n",
       "\n",
       "    .dataframe tbody tr th {\n",
       "        vertical-align: top;\n",
       "    }\n",
       "\n",
       "    .dataframe thead th {\n",
       "        text-align: right;\n",
       "    }\n",
       "</style>\n",
       "<table border=\"1\" class=\"dataframe\">\n",
       "  <thead>\n",
       "    <tr style=\"text-align: right;\">\n",
       "      <th></th>\n",
       "      <th>occurrences</th>\n",
       "    </tr>\n",
       "    <tr>\n",
       "      <th>word</th>\n",
       "      <th></th>\n",
       "    </tr>\n",
       "  </thead>\n",
       "  <tbody>\n",
       "    <tr>\n",
       "      <th></th>\n",
       "      <td>15231</td>\n",
       "    </tr>\n",
       "    <tr>\n",
       "      <th>u</th>\n",
       "      <td>902</td>\n",
       "    </tr>\n",
       "    <tr>\n",
       "      <th>go</th>\n",
       "      <td>310</td>\n",
       "    </tr>\n",
       "    <tr>\n",
       "      <th>2</th>\n",
       "      <td>302</td>\n",
       "    </tr>\n",
       "    <tr>\n",
       "      <th>come</th>\n",
       "      <td>299</td>\n",
       "    </tr>\n",
       "    <tr>\n",
       "      <th>...</th>\n",
       "      <td>...</td>\n",
       "    </tr>\n",
       "    <tr>\n",
       "      <th>breath</th>\n",
       "      <td>1</td>\n",
       "    </tr>\n",
       "    <tr>\n",
       "      <th>breakin</th>\n",
       "      <td>1</td>\n",
       "    </tr>\n",
       "    <tr>\n",
       "      <th>breakfast</th>\n",
       "      <td>1</td>\n",
       "    </tr>\n",
       "    <tr>\n",
       "      <th>lovin</th>\n",
       "      <td>1</td>\n",
       "    </tr>\n",
       "    <tr>\n",
       "      <th>‹û¬ud</th>\n",
       "      <td>1</td>\n",
       "    </tr>\n",
       "  </tbody>\n",
       "</table>\n",
       "<p>5728 rows × 1 columns</p>\n",
       "</div>"
      ],
      "text/plain": [
       "           occurrences\n",
       "word                  \n",
       "                 15231\n",
       "u                  902\n",
       "go                 310\n",
       "2                  302\n",
       "come               299\n",
       "...                ...\n",
       "breath               1\n",
       "breakin              1\n",
       "breakfast            1\n",
       "lovin                1\n",
       "‹û¬ud                1\n",
       "\n",
       "[5728 rows x 1 columns]"
      ]
     },
     "metadata": {},
     "output_type": "display_data"
    },
    {
     "name": "stdout",
     "output_type": "stream",
     "text": [
      " 5_728 differents words\n",
      "47_980 occurrences\n",
      "38_384 = 80% of thoses occurrences\n",
      "   700 (12 %) words are needed to cover 80% of the occurrences\n",
      "\n",
      "\n",
      "\n",
      "\n"
     ]
    }
   ],
   "source": [
    "print(f\"About words in spam :\")\n",
    "word_occurences_report(1)\n",
    "\n",
    "print(f\"About words in ham :\")\n",
    "word_occurences_report(0)\n"
   ]
  },
  {
   "cell_type": "markdown",
   "metadata": {},
   "source": [
    "## Encoding"
   ]
  },
  {
   "cell_type": "code",
   "execution_count": 13,
   "metadata": {},
   "outputs": [
    {
     "data": {
      "text/html": [
       "<div>\n",
       "<style scoped>\n",
       "    .dataframe tbody tr th:only-of-type {\n",
       "        vertical-align: middle;\n",
       "    }\n",
       "\n",
       "    .dataframe tbody tr th {\n",
       "        vertical-align: top;\n",
       "    }\n",
       "\n",
       "    .dataframe thead th {\n",
       "        text-align: right;\n",
       "    }\n",
       "</style>\n",
       "<table border=\"1\" class=\"dataframe\">\n",
       "  <thead>\n",
       "    <tr style=\"text-align: right;\">\n",
       "      <th></th>\n",
       "      <th>target</th>\n",
       "      <th>text</th>\n",
       "      <th>clean_docs</th>\n",
       "      <th>tokenized_docs</th>\n",
       "      <th>clean_tokens</th>\n",
       "      <th>sms_encoded</th>\n",
       "    </tr>\n",
       "  </thead>\n",
       "  <tbody>\n",
       "    <tr>\n",
       "      <th>0</th>\n",
       "      <td>0</td>\n",
       "      <td>Go until jurong point, crazy.. Available only ...</td>\n",
       "      <td>go until jurong point  crazy  available only i...</td>\n",
       "      <td>[jurong, point,  , crazy,  , available, bugis,...</td>\n",
       "      <td>jurong point   crazy   available bugis n great...</td>\n",
       "      <td>[1, 253, 446, 469, 922, 37, 60, 272, 923, 75, ...</td>\n",
       "    </tr>\n",
       "    <tr>\n",
       "      <th>1</th>\n",
       "      <td>0</td>\n",
       "      <td>Ok lar... Joking wif u oni...</td>\n",
       "      <td>ok lar  joking wif u oni</td>\n",
       "      <td>[ok, lar,  , joke, wif, u, oni]</td>\n",
       "      <td>ok lar   joke wif u oni</td>\n",
       "      <td>[14, 207, 496, 301, 2, 1]</td>\n",
       "    </tr>\n",
       "    <tr>\n",
       "      <th>2</th>\n",
       "      <td>1</td>\n",
       "      <td>Free entry in 2 a wkly comp to win FA Cup fina...</td>\n",
       "      <td>free entry in 2 a wkly comp to win fa cup fina...</td>\n",
       "      <td>[free, entry, 2, wkly, comp, win, fa, cup, fin...</td>\n",
       "      <td>free entry 2 wkly comp win fa cup final tkts 2...</td>\n",
       "      <td>[15, 373, 3, 763, 716, 46, 1, 1, 497, 1, 1, 1,...</td>\n",
       "    </tr>\n",
       "    <tr>\n",
       "      <th>3</th>\n",
       "      <td>0</td>\n",
       "      <td>U dun say so early hor... U c already then say...</td>\n",
       "      <td>u dun say so early hor  u c already then say</td>\n",
       "      <td>[u, dun, early, hor,  , u, c]</td>\n",
       "      <td>u dun early hor   u c</td>\n",
       "      <td>[2, 129, 154, 1, 2, 56]</td>\n",
       "    </tr>\n",
       "    <tr>\n",
       "      <th>4</th>\n",
       "      <td>0</td>\n",
       "      <td>Nah I don't think he goes to usf, he lives aro...</td>\n",
       "      <td>nah i don't think he goes to usf  he lives aro...</td>\n",
       "      <td>[nah, think, go, usf,  , live]</td>\n",
       "      <td>nah think go usf   live</td>\n",
       "      <td>[717, 24, 5, 660, 175]</td>\n",
       "    </tr>\n",
       "    <tr>\n",
       "      <th>...</th>\n",
       "      <td>...</td>\n",
       "      <td>...</td>\n",
       "      <td>...</td>\n",
       "      <td>...</td>\n",
       "      <td>...</td>\n",
       "      <td>...</td>\n",
       "    </tr>\n",
       "    <tr>\n",
       "      <th>5567</th>\n",
       "      <td>1</td>\n",
       "      <td>This is the 2nd time we have tried 2 contact u...</td>\n",
       "      <td>this is the 2nd time we have tried 2 contact u...</td>\n",
       "      <td>[2nd, time, try, 2, contact, u,  , u, win, å£7...</td>\n",
       "      <td>2nd time try 2 contact u   u win å£750 pound p...</td>\n",
       "      <td>[310, 19, 57, 3, 106, 2, 2, 46, 1, 335, 84, 3,...</td>\n",
       "    </tr>\n",
       "    <tr>\n",
       "      <th>5568</th>\n",
       "      <td>0</td>\n",
       "      <td>Will Ì_ b going to esplanade fr home?</td>\n",
       "      <td>will ì  b going to esplanade fr home</td>\n",
       "      <td>[ì,  , b, go, esplanade, fr, home]</td>\n",
       "      <td>ì   b go esplanade fr home</td>\n",
       "      <td>[45, 97, 5, 1, 582, 28]</td>\n",
       "    </tr>\n",
       "    <tr>\n",
       "      <th>5569</th>\n",
       "      <td>0</td>\n",
       "      <td>Pity, * was in mood for that. So...any other s...</td>\n",
       "      <td>pity    was in mood for that  so any other sug...</td>\n",
       "      <td>[pity,    , mood,  , suggestion]</td>\n",
       "      <td>pity     mood   suggestion</td>\n",
       "      <td>[1, 1, 1]</td>\n",
       "    </tr>\n",
       "    <tr>\n",
       "      <th>5570</th>\n",
       "      <td>0</td>\n",
       "      <td>The guy did some bitching but I acted like i'd...</td>\n",
       "      <td>the guy did some bitching but i acted like i'd...</td>\n",
       "      <td>[guy, bitching, act, like, interested, buy, we...</td>\n",
       "      <td>guy bitching act like interested buy week give...</td>\n",
       "      <td>[121, 1, 1, 16, 980, 93, 44, 327, 15]</td>\n",
       "    </tr>\n",
       "    <tr>\n",
       "      <th>5571</th>\n",
       "      <td>0</td>\n",
       "      <td>Rofl. Its true to its name</td>\n",
       "      <td>rofl  its true to its name</td>\n",
       "      <td>[rofl,  , true]</td>\n",
       "      <td>rofl   true</td>\n",
       "      <td>[1, 368]</td>\n",
       "    </tr>\n",
       "  </tbody>\n",
       "</table>\n",
       "<p>5169 rows × 6 columns</p>\n",
       "</div>"
      ],
      "text/plain": [
       "      target                                               text  \\\n",
       "0          0  Go until jurong point, crazy.. Available only ...   \n",
       "1          0                      Ok lar... Joking wif u oni...   \n",
       "2          1  Free entry in 2 a wkly comp to win FA Cup fina...   \n",
       "3          0  U dun say so early hor... U c already then say...   \n",
       "4          0  Nah I don't think he goes to usf, he lives aro...   \n",
       "...      ...                                                ...   \n",
       "5567       1  This is the 2nd time we have tried 2 contact u...   \n",
       "5568       0              Will Ì_ b going to esplanade fr home?   \n",
       "5569       0  Pity, * was in mood for that. So...any other s...   \n",
       "5570       0  The guy did some bitching but I acted like i'd...   \n",
       "5571       0                         Rofl. Its true to its name   \n",
       "\n",
       "                                             clean_docs  \\\n",
       "0     go until jurong point  crazy  available only i...   \n",
       "1                             ok lar  joking wif u oni    \n",
       "2     free entry in 2 a wkly comp to win fa cup fina...   \n",
       "3         u dun say so early hor  u c already then say    \n",
       "4     nah i don't think he goes to usf  he lives aro...   \n",
       "...                                                 ...   \n",
       "5567  this is the 2nd time we have tried 2 contact u...   \n",
       "5568              will ì  b going to esplanade fr home    \n",
       "5569  pity    was in mood for that  so any other sug...   \n",
       "5570  the guy did some bitching but i acted like i'd...   \n",
       "5571                         rofl  its true to its name   \n",
       "\n",
       "                                         tokenized_docs  \\\n",
       "0     [jurong, point,  , crazy,  , available, bugis,...   \n",
       "1                       [ok, lar,  , joke, wif, u, oni]   \n",
       "2     [free, entry, 2, wkly, comp, win, fa, cup, fin...   \n",
       "3                         [u, dun, early, hor,  , u, c]   \n",
       "4                        [nah, think, go, usf,  , live]   \n",
       "...                                                 ...   \n",
       "5567  [2nd, time, try, 2, contact, u,  , u, win, å£7...   \n",
       "5568                 [ì,  , b, go, esplanade, fr, home]   \n",
       "5569                   [pity,    , mood,  , suggestion]   \n",
       "5570  [guy, bitching, act, like, interested, buy, we...   \n",
       "5571                                    [rofl,  , true]   \n",
       "\n",
       "                                           clean_tokens  \\\n",
       "0     jurong point   crazy   available bugis n great...   \n",
       "1                               ok lar   joke wif u oni   \n",
       "2     free entry 2 wkly comp win fa cup final tkts 2...   \n",
       "3                                 u dun early hor   u c   \n",
       "4                               nah think go usf   live   \n",
       "...                                                 ...   \n",
       "5567  2nd time try 2 contact u   u win å£750 pound p...   \n",
       "5568                         ì   b go esplanade fr home   \n",
       "5569                         pity     mood   suggestion   \n",
       "5570  guy bitching act like interested buy week give...   \n",
       "5571                                        rofl   true   \n",
       "\n",
       "                                            sms_encoded  \n",
       "0     [1, 253, 446, 469, 922, 37, 60, 272, 923, 75, ...  \n",
       "1                             [14, 207, 496, 301, 2, 1]  \n",
       "2     [15, 373, 3, 763, 716, 46, 1, 1, 497, 1, 1, 1,...  \n",
       "3                               [2, 129, 154, 1, 2, 56]  \n",
       "4                                [717, 24, 5, 660, 175]  \n",
       "...                                                 ...  \n",
       "5567  [310, 19, 57, 3, 106, 2, 2, 46, 1, 335, 84, 3,...  \n",
       "5568                            [45, 97, 5, 1, 582, 28]  \n",
       "5569                                          [1, 1, 1]  \n",
       "5570              [121, 1, 1, 16, 980, 93, 44, 327, 15]  \n",
       "5571                                           [1, 368]  \n",
       "\n",
       "[5169 rows x 6 columns]"
      ]
     },
     "execution_count": 13,
     "metadata": {},
     "output_type": "execute_result"
    }
   ],
   "source": [
    "# instantiate the tokenizer. oov_token=\"out_of_vocab\"\n",
    "# keep the 1_000 most frequents words during tokenization\n",
    "tokenizer = tf.keras.preprocessing.text.Tokenizer(num_words=k_num_words, oov_token=\"_UNKNOWN_\") \n",
    "tokenizer.fit_on_texts(df[\"clean_tokens\"])\n",
    "df[\"sms_encoded\"] = tokenizer.texts_to_sequences(df[\"clean_tokens\"])\n",
    "df\n"
   ]
  },
  {
   "cell_type": "markdown",
   "metadata": {},
   "source": [
    "## Padding"
   ]
  },
  {
   "cell_type": "code",
   "execution_count": 14,
   "metadata": {},
   "outputs": [
    {
     "name": "stdout",
     "output_type": "stream",
     "text": [
      "[[  1 253 446 ...   0   0   0]\n",
      " [ 14 207 496 ...   0   0   0]\n",
      " [ 15 373   3 ...   0   0   0]\n",
      " ...\n",
      " [  1   1   1 ...   0   0   0]\n",
      " [121   1   1 ...   0   0   0]\n",
      " [  1 368   0 ...   0   0   0]]\n",
      "(5169, 77)\n"
     ]
    }
   ],
   "source": [
    "# Tensorflow cannot create a tensor dataset based on lists\n",
    "# We have to store encoded sms into a numpy array before creating the tensorflow dataset\n",
    "# However, not all the sequences are the same length\n",
    "# This is where `tf.keras.preprocessing.sequence.pad_sequences()` comes in \n",
    "# It will add zero padding at the beginning (`padding=\"pre\"`) or at the end (`padding=\"post\"`) of our sequences so they all have equal length\n",
    "sms_padded = tf.keras.preprocessing.sequence.pad_sequences(df[\"sms_encoded\"], padding=\"post\")\n",
    "print(sms_padded)\n",
    "print(sms_padded.shape)\n",
    "\n",
    "# max_words = df['clean_tokens'].apply(lambda x: len(x.split())).max()\n",
    "# print(max_words)\n",
    "# 77"
   ]
  },
  {
   "cell_type": "markdown",
   "metadata": {},
   "source": [
    "## Split"
   ]
  },
  {
   "cell_type": "code",
   "execution_count": 15,
   "metadata": {},
   "outputs": [],
   "source": [
    "# stratify\n",
    "X_train, X_test, y_train, y_test = train_test_split(sms_padded, df[\"target\"], test_size = k_test_size, random_state = k_random_state, stratify = df[\"target\"])"
   ]
  },
  {
   "cell_type": "markdown",
   "metadata": {},
   "source": [
    "# SMOTE on train set\n",
    "* Synthetic Minority Oversampling Technique\n",
    "\n",
    "<p align=\"center\">\n",
    "<img src=\"./assets/smote.png\" alt=\"drawing\" width=\"800\"/>\n",
    "<p>\n"
   ]
  },
  {
   "cell_type": "code",
   "execution_count": 18,
   "metadata": {},
   "outputs": [
    {
     "name": "stdout",
     "output_type": "stream",
     "text": [
      "Original dataset shape Counter({0: 3161, 1: 457})\n",
      "Resample dataset shape Counter({0: 3161, 1: 3161})\n"
     ]
    }
   ],
   "source": [
    "smote = SMOTE()\n",
    "\n",
    "# fit predictor and target variable\n",
    "X_smote, y_smote = smote.fit_resample(X_train, y_train)\n",
    "\n",
    "print('Original dataset shape', Counter(y_train))\n",
    "print('Resample dataset shape', Counter(y_smote))"
   ]
  },
  {
   "cell_type": "code",
   "execution_count": 19,
   "metadata": {},
   "outputs": [
    {
     "data": {
      "text/plain": [
       "(6322,)"
      ]
     },
     "execution_count": 19,
     "metadata": {},
     "output_type": "execute_result"
    }
   ],
   "source": [
    "X_train = X_smote.copy()\n",
    "y_train = y_smote.copy()\n",
    "y_train.shape"
   ]
  },
  {
   "cell_type": "markdown",
   "metadata": {},
   "source": [
    "## Create Tensor"
   ]
  },
  {
   "cell_type": "code",
   "execution_count": 20,
   "metadata": {},
   "outputs": [],
   "source": [
    "# creates a TensorFlow Dataset object to be used for data loading, batching, shuffling, and preprocessing when training the model\n",
    "train_ds = tf.data.Dataset.from_tensor_slices((X_train, y_train))\n",
    "test_ds = tf.data.Dataset.from_tensor_slices((X_test, y_test))"
   ]
  },
  {
   "cell_type": "code",
   "execution_count": 21,
   "metadata": {},
   "outputs": [
    {
     "name": "stdout",
     "output_type": "stream",
     "text": [
      "tf.Tensor(\n",
      "[[743 510   1 ...   0   0   0]\n",
      " [  4 231   1 ...   0   0   0]\n",
      " [451 595 211 ...   0   0   0]\n",
      " ...\n",
      " [312 336 589 ...   0   0   0]\n",
      " [  9 295  26 ...   0   0   0]\n",
      " [ 85 200  49 ...   0   0   0]], shape=(64, 77), dtype=int32) tf.Tensor(\n",
      "[0 1 1 1 1 0 1 1 0 1 0 1 1 0 0 1 0 0 1 0 0 1 0 0 1 1 0 0 1 1 0 0 1 0 0 1 0\n",
      " 0 1 0 0 0 0 1 1 0 0 1 1 0 1 0 1 1 0 0 0 0 1 0 0 1 1 1], shape=(64,), dtype=int64)\n",
      "\n",
      "(64, 77)\n"
     ]
    }
   ],
   "source": [
    "# Create generators, making sure that data are blended/mixed and divided into batches of 64 observations \n",
    "train_batch = train_ds.shuffle(len(train_ds)).batch(64)\n",
    "test_batch = test_ds.shuffle(len(test_ds)).batch(64)\n",
    "\n",
    "for sms, ham_spam in train_batch.take(1):\n",
    "  print(sms, ham_spam)\n",
    "\n",
    "print()\n",
    "print(sms.shape)"
   ]
  },
  {
   "cell_type": "markdown",
   "metadata": {},
   "source": [
    "# Using a Baseline Model\n"
   ]
  },
  {
   "cell_type": "code",
   "execution_count": 22,
   "metadata": {},
   "outputs": [
    {
     "name": "stdout",
     "output_type": "stream",
     "text": [
      "Model: \"sequential\"\n",
      "_________________________________________________________________\n",
      " Layer (type)                Output Shape              Param #   \n",
      "=================================================================\n",
      " embedding (Embedding)       (None, 77, 8)             8008      \n",
      "                                                                 \n",
      " global_average_pooling1d (G  (None, 8)                0         \n",
      " lobalAveragePooling1D)                                          \n",
      "                                                                 \n",
      " dense (Dense)               (None, 16)                144       \n",
      "                                                                 \n",
      " dense_1 (Dense)             (None, 1)                 17        \n",
      "                                                                 \n",
      "=================================================================\n",
      "Total params: 8,169\n",
      "Trainable params: 8,169\n",
      "Non-trainable params: 0\n",
      "_________________________________________________________________\n"
     ]
    }
   ],
   "source": [
    "sequence_length = sms_padded.shape[1]\n",
    "\n",
    "model = tf.keras.Sequential([\n",
    "    # This Embedding layer converts integer-encoded words (from the tokenizer) into dense vectors of size 8 \n",
    "    # tokenizer.num_words should be equal to k_num_words\n",
    "    # +1 because TensorFlow reserves an index for padding or the OOV token\n",
    "    # sms.shape[1] is the length of the input sequence. See the output of the previous cell (77)\n",
    "    # For the output I tried : 16 8 4 and 2\n",
    "    # I like 8\n",
    "    # tf.keras.layers.Embedding(tokenizer.num_words + 1, 8, input_shape=[sms.shape[1],], name=\"embedding\"),\n",
    "    tf.keras.layers.Embedding(tokenizer.num_words + 1, 8, input_shape=[sequence_length], name=\"embedding\"),\n",
    "\n",
    "    # Global average pooling\n",
    "    # Reduces the dimensionality by averaging the vectors across the sequence length\n",
    "    # The model loose the order of the words but we don't care  \n",
    "    tf.keras.layers.GlobalAveragePooling1D(),\n",
    "\n",
    "    # Fully connected (Dense) layer with 16 neurons. \n",
    "    # relu activation function introduces non-linearity (this helps the model to capture more complex patterns)\n",
    "    tf.keras.layers.Dense(16, activation=\"relu\"),\n",
    "\n",
    "    # Since this is a binary classification problem (based on the sigmoid activation), there's a single output neuron. \n",
    "    tf.keras.layers.Dense(1, activation=\"sigmoid\")\n",
    "])\n",
    "\n",
    "model.summary()"
   ]
  },
  {
   "cell_type": "code",
   "execution_count": 23,
   "metadata": {},
   "outputs": [
    {
     "data": {
      "image/png": "[encoded data removed]",
      "text/plain": [
       "<IPython.core.display.Image object>"
      ]
     },
     "execution_count": 23,
     "metadata": {},
     "output_type": "execute_result"
    }
   ],
   "source": [
    "path = Path(f\"{k_Current_dir/k_AssetsDir/'basic_arch.png'}\")\n",
    "tf.keras.utils.plot_model(model, path, show_shapes=True)"
   ]
  },
  {
   "cell_type": "markdown",
   "metadata": {},
   "source": [
    "## <span style=\"color:orange\"><b>Comments :</b></span>\n",
    "\n",
    "About the number of trainable parameters of the model\n",
    "\n",
    "```\n",
    "Inputs                 : 1000 words    (see k_num_words in prelude)\n",
    "Embedding layer        :  8 neurons => (1000 + 1) * 8 = 8008 params\n",
    "GlobalAveragePooling1D :    average => no params      =    0 params\n",
    "Dense layer            : 16 neurons => 8  * 16 + 16   =  144 params\n",
    "Dense layer            :  1 neuron  => 16 *  1 +  1   =   17 params\n",
    "                                                TOTAL = 8169 params\n",
    "```\n"
   ]
  },
  {
   "cell_type": "code",
   "execution_count": 24,
   "metadata": {},
   "outputs": [],
   "source": [
    "model.compile(\n",
    "    optimizer=\"adam\",\n",
    "    loss=tf.keras.losses.BinaryCrossentropy(),\n",
    "    metrics=[tf.keras.metrics.Recall(name=\"recall\"), tf.keras.metrics.Precision(name=\"precision\"), \"accuracy\"]       # name=... avoid recall_1 for example\n",
    ")"
   ]
  },
  {
   "cell_type": "code",
   "execution_count": 25,
   "metadata": {},
   "outputs": [],
   "source": [
    "# history = model.fit(\n",
    "#     train_batch,\n",
    "#     epochs = k_epochs,\n",
    "#     validation_data=test_batch,\n",
    "# )"
   ]
  },
  {
   "cell_type": "code",
   "execution_count": 26,
   "metadata": {},
   "outputs": [
    {
     "name": "stdout",
     "output_type": "stream",
     "text": [
      "Epoch 1/50\n",
      "49/49 [==============================] - 0s 1ms/steposs: 0.6893 - recall: 0.5130 - precision: 0.5256 - accuracy: 0.\n",
      "99/99 [==============================] - 2s 8ms/step - loss: 0.6890 - recall: 0.4888 - precision: 0.5257 - accuracy: 0.5239 - val_loss: 0.6564 - val_recall: 0.1786 - val_precision: 0.6364 - val_accuracy: 0.8833\n",
      "Epoch 2/50\n",
      "49/49 [==============================] - 0s 1ms/steposs: 0.6645 - recall: 0.3506 - precision: 0.9008 - accuracy: 0.\n",
      "99/99 [==============================] - 1s 6ms/step - loss: 0.6625 - recall: 0.3755 - precision: 0.8992 - accuracy: 0.6667 - val_loss: 0.6085 - val_recall: 0.7653 - val_precision: 0.5660 - val_accuracy: 0.8962\n",
      "Epoch 3/50\n",
      "49/49 [==============================] - 0s 2ms/steposs: 0.6014 - recall: 0.7035 - precision: 0.9081 - accuracy: 0.\n",
      "99/99 [==============================] - 1s 6ms/step - loss: 0.5954 - recall: 0.7146 - precision: 0.9065 - accuracy: 0.8205 - val_loss: 0.5463 - val_recall: 0.8571 - val_precision: 0.4693 - val_accuracy: 0.8594\n",
      "Epoch 4/50\n",
      "49/49 [==============================] - 0s 1ms/steposs: 0.5095 - recall: 0.8044 - precision: 0.8942 - accuracy: 0.\n",
      "99/99 [==============================] - 1s 6ms/step - loss: 0.5041 - recall: 0.8077 - precision: 0.8964 - accuracy: 0.8572 - val_loss: 0.3976 - val_recall: 0.8010 - val_precision: 0.5470 - val_accuracy: 0.8910\n",
      "Epoch 5/50\n",
      "49/49 [==============================] - 0s 2ms/steposs: 0.4258 - recall: 0.8455 - precision: 0.8946 - accuracy: 0.\n",
      "99/99 [==============================] - 1s 6ms/step - loss: 0.4241 - recall: 0.8428 - precision: 0.8949 - accuracy: 0.8719 - val_loss: 0.3544 - val_recall: 0.8214 - val_precision: 0.5314 - val_accuracy: 0.8859\n",
      "Epoch 6/50\n",
      "49/49 [==============================] - 0s 2ms/steposs: 0.3678 - recall: 0.8611 - precision: 0.8944 - accuracy: 0.\n",
      "99/99 [==============================] - 1s 6ms/step - loss: 0.3666 - recall: 0.8608 - precision: 0.8951 - accuracy: 0.8799 - val_loss: 0.3318 - val_recall: 0.8316 - val_precision: 0.5309 - val_accuracy: 0.8859\n",
      "Epoch 7/50\n",
      "49/49 [==============================] - 0s 2ms/steposs: 0.3278 - recall: 0.8671 - precision: 0.9023 - accuracy: 0.\n",
      "99/99 [==============================] - 1s 6ms/step - loss: 0.3284 - recall: 0.8655 - precision: 0.9027 - accuracy: 0.8861 - val_loss: 0.3338 - val_recall: 0.8367 - val_precision: 0.5190 - val_accuracy: 0.8814\n",
      "Epoch 8/50\n",
      "49/49 [==============================] - 0s 1ms/steposs: 0.3012 - recall: 0.8718 - precision: 0.9116 - accuracy: 0.\n",
      "99/99 [==============================] - 1s 6ms/step - loss: 0.3018 - recall: 0.8703 - precision: 0.9118 - accuracy: 0.8931 - val_loss: 0.3141 - val_recall: 0.8367 - val_precision: 0.5273 - val_accuracy: 0.8846\n",
      "Epoch 9/50\n",
      "49/49 [==============================] - 0s 2ms/steposs: 0.2826 - recall: 0.8784 - precision: 0.9156 - accuracy: 0.\n",
      "99/99 [==============================] - 1s 5ms/step - loss: 0.2834 - recall: 0.8773 - precision: 0.9146 - accuracy: 0.8977 - val_loss: 0.2945 - val_recall: 0.8418 - val_precision: 0.5500 - val_accuracy: 0.8930\n",
      "Epoch 10/50\n",
      "49/49 [==============================] - 0s 2ms/steposs: 0.2717 - recall: 0.8750 - precision: 0.9209 - accuracy: 0.\n",
      "99/99 [==============================] - 1s 6ms/step - loss: 0.2677 - recall: 0.8782 - precision: 0.9220 - accuracy: 0.9019 - val_loss: 0.2882 - val_recall: 0.8520 - val_precision: 0.5530 - val_accuracy: 0.8943\n",
      "Epoch 11/50\n",
      "49/49 [==============================] - 0s 2ms/steposs: 0.2585 - recall: 0.8776 - precision: 0.9265 - accuracy: 0.\n",
      "99/99 [==============================] - 1s 6ms/step - loss: 0.2558 - recall: 0.8776 - precision: 0.9278 - accuracy: 0.9046 - val_loss: 0.2661 - val_recall: 0.8418 - val_precision: 0.5872 - val_accuracy: 0.9052\n",
      "Epoch 12/50\n",
      "49/49 [==============================] - 0s 1ms/steposs: 0.2461 - recall: 0.8822 - precision: 0.9297 - accuracy: 0.\n",
      "99/99 [==============================] - 1s 6ms/step - loss: 0.2454 - recall: 0.8823 - precision: 0.9306 - accuracy: 0.9083 - val_loss: 0.2548 - val_recall: 0.8520 - val_precision: 0.6007 - val_accuracy: 0.9097\n",
      "Epoch 13/50\n",
      "49/49 [==============================] - 0s 1ms/steposs: 0.2345 - recall: 0.8875 - precision: 0.9378 - accuracy: 0.\n",
      "99/99 [==============================] - 1s 5ms/step - loss: 0.2362 - recall: 0.8852 - precision: 0.9367 - accuracy: 0.9127 - val_loss: 0.2920 - val_recall: 0.8827 - val_precision: 0.5617 - val_accuracy: 0.8981\n",
      "Epoch 14/50\n",
      "49/49 [==============================] - 0s 1ms/steposs: 0.2362 - recall: 0.8816 - precision: 0.9340 - accuracy: 0.\n",
      "99/99 [==============================] - 1s 6ms/step - loss: 0.2287 - recall: 0.8886 - precision: 0.9366 - accuracy: 0.9143 - val_loss: 0.2530 - val_recall: 0.8724 - val_precision: 0.6129 - val_accuracy: 0.9142\n",
      "Epoch 15/50\n",
      "49/49 [==============================] - 0s 1ms/steposs: 0.2215 - recall: 0.8894 - precision: 0.9451 - accuracy: 0.\n",
      "99/99 [==============================] - 1s 5ms/step - loss: 0.2215 - recall: 0.8902 - precision: 0.9446 - accuracy: 0.9190 - val_loss: 0.3027 - val_recall: 0.8980 - val_precision: 0.5449 - val_accuracy: 0.8923\n",
      "Epoch 16/50\n",
      "49/49 [==============================] - 0s 1ms/steposs: 0.2175 - recall: 0.8993 - precision: 0.9424 - accuracy: 0.\n",
      "99/99 [==============================] - 1s 6ms/step - loss: 0.2160 - recall: 0.8997 - precision: 0.9436 - accuracy: 0.9230 - val_loss: 0.2418 - val_recall: 0.8776 - val_precision: 0.6187 - val_accuracy: 0.9162\n",
      "Epoch 17/50\n",
      "49/49 [==============================] - 0s 1ms/steposs: 0.2079 - recall: 0.9000 - precision: 0.9484 - accuracy: 0.\n",
      "99/99 [==============================] - 1s 6ms/step - loss: 0.2096 - recall: 0.9003 - precision: 0.9452 - accuracy: 0.9241 - val_loss: 0.2317 - val_recall: 0.8827 - val_precision: 0.6384 - val_accuracy: 0.9220\n",
      "Epoch 18/50\n",
      "49/49 [==============================] - 0s 2ms/steposs: 0.2045 - recall: 0.8988 - precision: 0.9524 - accuracy: 0.\n",
      "99/99 [==============================] - 1s 6ms/step - loss: 0.2052 - recall: 0.9000 - precision: 0.9502 - accuracy: 0.9264 - val_loss: 0.2420 - val_recall: 0.8929 - val_precision: 0.6228 - val_accuracy: 0.9181\n",
      "Epoch 19/50\n",
      "49/49 [==============================] - 0s 1ms/steposs: 0.1994 - recall: 0.9054 - precision: 0.9508 - accuracy: 0.\n",
      "99/99 [==============================] - 1s 6ms/step - loss: 0.1999 - recall: 0.9038 - precision: 0.9504 - accuracy: 0.9283 - val_loss: 0.2304 - val_recall: 0.8929 - val_precision: 0.6434 - val_accuracy: 0.9239\n",
      "Epoch 20/50\n",
      "49/49 [==============================] - 0s 2ms/steposs: 0.1951 - recall: 0.9057 - precision: 0.9523 - accuracy: 0.\n",
      "99/99 [==============================] - 1s 6ms/step - loss: 0.1948 - recall: 0.9067 - precision: 0.9525 - accuracy: 0.9307 - val_loss: 0.2485 - val_recall: 0.9031 - val_precision: 0.6082 - val_accuracy: 0.9142\n",
      "Epoch 21/50\n",
      "49/49 [==============================] - 0s 1ms/steposs: 0.1894 - recall: 0.9058 - precision: 0.9565 - accuracy: 0.\n",
      "99/99 [==============================] - 1s 6ms/step - loss: 0.1905 - recall: 0.9070 - precision: 0.9544 - accuracy: 0.9318 - val_loss: 0.2593 - val_recall: 0.9082 - val_precision: 0.5914 - val_accuracy: 0.9091\n",
      "Epoch 22/50\n",
      "49/49 [==============================] - 0s 1ms/steposs: 0.1855 - recall: 0.9105 - precision: 0.9562 - accuracy: 0.\n",
      "99/99 [==============================] - 1s 6ms/step - loss: 0.1864 - recall: 0.9098 - precision: 0.9542 - accuracy: 0.9331 - val_loss: 0.2302 - val_recall: 0.9031 - val_precision: 0.6344 - val_accuracy: 0.9220\n",
      "Epoch 23/50\n",
      "49/49 [==============================] - 0s 1ms/steposs: 0.1833 - recall: 0.9111 - precision: 0.9543 - accuracy: 0.\n",
      "99/99 [==============================] - 1s 5ms/step - loss: 0.1833 - recall: 0.9111 - precision: 0.9543 - accuracy: 0.9337 - val_loss: 0.2158 - val_recall: 0.9031 - val_precision: 0.6654 - val_accuracy: 0.9304\n",
      "Epoch 24/50\n",
      "49/49 [==============================] - 0s 2ms/steposs: 0.1798 - recall: 0.9127 - precision: 0.9553 - accuracy: 0.\n",
      "99/99 [==============================] - 1s 6ms/step - loss: 0.1798 - recall: 0.9127 - precision: 0.9553 - accuracy: 0.9350 - val_loss: 0.2436 - val_recall: 0.9082 - val_precision: 0.6117 - val_accuracy: 0.9155\n",
      "Epoch 25/50\n",
      "49/49 [==============================] - 0s 2ms/steposs: 0.1793 - recall: 0.9128 - precision: 0.9539 - accuracy: 0.\n",
      "99/99 [==============================] - 1s 6ms/step - loss: 0.1770 - recall: 0.9143 - precision: 0.9570 - accuracy: 0.9366 - val_loss: 0.2477 - val_recall: 0.9133 - val_precision: 0.6007 - val_accuracy: 0.9123\n",
      "Epoch 26/50\n",
      "49/49 [==============================] - 0s 1ms/steposs: 0.1736 - recall: 0.9167 - precision: 0.9594 - accuracy: 0.\n",
      "99/99 [==============================] - 1s 6ms/step - loss: 0.1730 - recall: 0.9177 - precision: 0.9590 - accuracy: 0.9393 - val_loss: 0.2363 - val_recall: 0.9133 - val_precision: 0.6194 - val_accuracy: 0.9181\n",
      "Epoch 27/50\n",
      "49/49 [==============================] - 0s 1ms/steposs: 0.1698 - recall: 0.9188 - precision: 0.9592 - accuracy: 0.\n",
      "99/99 [==============================] - 1s 6ms/step - loss: 0.1705 - recall: 0.9184 - precision: 0.9584 - accuracy: 0.9393 - val_loss: 0.2490 - val_recall: 0.9184 - val_precision: 0.5902 - val_accuracy: 0.9091\n",
      "Epoch 28/50\n",
      "49/49 [==============================] - 0s 1ms/steposs: 0.1636 - recall: 0.9240 - precision: 0.9616 - accuracy: 0.\n",
      "99/99 [==============================] - 1s 6ms/step - loss: 0.1675 - recall: 0.9215 - precision: 0.9614 - accuracy: 0.9423 - val_loss: 0.2691 - val_recall: 0.9337 - val_precision: 0.5737 - val_accuracy: 0.9039\n",
      "Epoch 29/50\n",
      "49/49 [==============================] - 0s 1ms/steposs: 0.1686 - recall: 0.9206 - precision: 0.9579 - accuracy: 0.\n",
      "99/99 [==============================] - 1s 6ms/step - loss: 0.1644 - recall: 0.9247 - precision: 0.9587 - accuracy: 0.9424 - val_loss: 0.1949 - val_recall: 0.9082 - val_precision: 0.6820 - val_accuracy: 0.9349\n",
      "Epoch 30/50\n",
      "49/49 [==============================] - 0s 2ms/steposs: 0.1602 - recall: 0.9229 - precision: 0.9626 - accuracy: 0.\n",
      "99/99 [==============================] - 1s 6ms/step - loss: 0.1630 - recall: 0.9222 - precision: 0.9620 - accuracy: 0.9429 - val_loss: 0.2471 - val_recall: 0.9337 - val_precision: 0.5961 - val_accuracy: 0.9117\n",
      "Epoch 31/50\n",
      "49/49 [==============================] - 0s 2ms/steposs: 0.1593 - recall: 0.9252 - precision: 0.9635 - accuracy: 0.\n",
      "99/99 [==============================] - 1s 6ms/step - loss: 0.1606 - recall: 0.9250 - precision: 0.9612 - accuracy: 0.9438 - val_loss: 0.2148 - val_recall: 0.9184 - val_precision: 0.6545 - val_accuracy: 0.9284\n",
      "Epoch 32/50\n",
      "49/49 [==============================] - 0s 1ms/steposs: 0.1572 - recall: 0.9283 - precision: 0.9633 - accuracy: 0.\n",
      "99/99 [==============================] - 1s 6ms/step - loss: 0.1574 - recall: 0.9282 - precision: 0.9629 - accuracy: 0.9462 - val_loss: 0.2266 - val_recall: 0.9388 - val_precision: 0.6389 - val_accuracy: 0.9252\n",
      "Epoch 33/50\n",
      "49/49 [==============================] - 0s 1ms/steposs: 0.1600 - recall: 0.9265 - precision: 0.9587 - accuracy: 0.\n",
      "99/99 [==============================] - 0s 5ms/step - loss: 0.1558 - recall: 0.9291 - precision: 0.9617 - accuracy: 0.9461 - val_loss: 0.2370 - val_recall: 0.9439 - val_precision: 0.6229 - val_accuracy: 0.9207\n",
      "Epoch 34/50\n",
      "49/49 [==============================] - 0s 1ms/steposs: 0.1538 - recall: 0.9313 - precision: 0.9617 - accuracy: 0.\n",
      "99/99 [==============================] - 1s 6ms/step - loss: 0.1530 - recall: 0.9314 - precision: 0.9630 - accuracy: 0.9478 - val_loss: 0.2098 - val_recall: 0.9388 - val_precision: 0.6691 - val_accuracy: 0.9336\n",
      "Epoch 35/50\n",
      "49/49 [==============================] - 0s 1ms/steposs: 0.1517 - recall: 0.9312 - precision: 0.9640 - accuracy: 0.\n",
      "99/99 [==============================] - 1s 6ms/step - loss: 0.1518 - recall: 0.9307 - precision: 0.9636 - accuracy: 0.9478 - val_loss: 0.2259 - val_recall: 0.9439 - val_precision: 0.6424 - val_accuracy: 0.9265\n",
      "Epoch 36/50\n",
      "49/49 [==============================] - 0s 2ms/steposs: 0.1475 - recall: 0.9322 - precision: 0.9658 - accuracy: 0.\n",
      "99/99 [==============================] - 1s 6ms/step - loss: 0.1494 - recall: 0.9307 - precision: 0.9649 - accuracy: 0.9484 - val_loss: 0.2333 - val_recall: 0.9439 - val_precision: 0.6293 - val_accuracy: 0.9226\n",
      "Epoch 37/50\n",
      "49/49 [==============================] - 0s 1ms/steposs: 0.1488 - recall: 0.9336 - precision: 0.9646 - accuracy: 0.\n",
      "99/99 [==============================] - 1s 6ms/step - loss: 0.1472 - recall: 0.9348 - precision: 0.9644 - accuracy: 0.9502 - val_loss: 0.2316 - val_recall: 0.9439 - val_precision: 0.6314 - val_accuracy: 0.9233\n",
      "Epoch 38/50\n",
      "49/49 [==============================] - 0s 1ms/steposs: 0.1414 - recall: 0.9356 - precision: 0.9689 - accuracy: 0.\n",
      "99/99 [==============================] - 1s 5ms/step - loss: 0.1448 - recall: 0.9342 - precision: 0.9685 - accuracy: 0.9519 - val_loss: 0.2664 - val_recall: 0.9490 - val_precision: 0.5741 - val_accuracy: 0.9046\n",
      "Epoch 39/50\n",
      "49/49 [==============================] - 0s 1ms/steposs: 0.1453 - recall: 0.9367 - precision: 0.9663 - accuracy: 0.\n",
      "99/99 [==============================] - 0s 5ms/step - loss: 0.1442 - recall: 0.9364 - precision: 0.9661 - accuracy: 0.9518 - val_loss: 0.2005 - val_recall: 0.9439 - val_precision: 0.6852 - val_accuracy: 0.9381\n",
      "Epoch 40/50\n",
      "49/49 [==============================] - 0s 1ms/steposs: 0.1423 - recall: 0.9340 - precision: 0.9694 - accuracy: 0.\n",
      "99/99 [==============================] - 1s 5ms/step - loss: 0.1423 - recall: 0.9339 - precision: 0.9698 - accuracy: 0.9524 - val_loss: 0.2123 - val_recall: 0.9439 - val_precision: 0.6727 - val_accuracy: 0.9349\n",
      "Epoch 41/50\n",
      "49/49 [==============================] - 0s 1ms/steposs: 0.1406 - recall: 0.9341 - precision: 0.9663 - accuracy: 0.\n",
      "99/99 [==============================] - 0s 5ms/step - loss: 0.1408 - recall: 0.9345 - precision: 0.9660 - accuracy: 0.9508 - val_loss: 0.2596 - val_recall: 0.9490 - val_precision: 0.5794 - val_accuracy: 0.9065\n",
      "Epoch 42/50\n",
      "49/49 [==============================] - 0s 1ms/steposs: 0.1385 - recall: 0.9365 - precision: 0.9674 - accuracy: 0.\n",
      "99/99 [==============================] - 0s 5ms/step - loss: 0.1396 - recall: 0.9358 - precision: 0.9670 - accuracy: 0.9519 - val_loss: 0.2179 - val_recall: 0.9439 - val_precision: 0.6560 - val_accuracy: 0.9304\n",
      "Epoch 43/50\n",
      "49/49 [==============================] - 0s 1ms/steposs: 0.1372 - recall: 0.9381 - precision: 0.9672 - accuracy: 0.\n",
      "99/99 [==============================] - 0s 5ms/step - loss: 0.1383 - recall: 0.9358 - precision: 0.9673 - accuracy: 0.9521 - val_loss: 0.2580 - val_recall: 0.9490 - val_precision: 0.5849 - val_accuracy: 0.9084\n",
      "Epoch 44/50\n",
      "49/49 [==============================] - 0s 1ms/steposs: 0.1378 - recall: 0.9372 - precision: 0.9650 - accuracy: 0.\n",
      "99/99 [==============================] - 0s 5ms/step - loss: 0.1374 - recall: 0.9370 - precision: 0.9648 - accuracy: 0.9514 - val_loss: 0.2351 - val_recall: 0.9439 - val_precision: 0.6293 - val_accuracy: 0.9226\n",
      "Epoch 45/50\n",
      "49/49 [==============================] - 0s 1ms/steposs: 0.1349 - recall: 0.9400 - precision: 0.9706 - accuracy: 0.\n",
      "99/99 [==============================] - 0s 5ms/step - loss: 0.1357 - recall: 0.9389 - precision: 0.9718 - accuracy: 0.9559 - val_loss: 0.2284 - val_recall: 0.9439 - val_precision: 0.6446 - val_accuracy: 0.9271\n",
      "Epoch 46/50\n",
      "49/49 [==============================] - 0s 1ms/steposs: 0.1345 - recall: 0.9370 - precision: 0.9669 - accuracy: 0.\n",
      "99/99 [==============================] - 0s 5ms/step - loss: 0.1346 - recall: 0.9380 - precision: 0.9661 - accuracy: 0.9525 - val_loss: 0.2149 - val_recall: 0.9439 - val_precision: 0.6631 - val_accuracy: 0.9323\n",
      "Epoch 47/50\n",
      "49/49 [==============================] - 0s 1ms/steposs: 0.1320 - recall: 0.9411 - precision: 0.9703 - accuracy: 0.\n",
      "99/99 [==============================] - 0s 5ms/step - loss: 0.1327 - recall: 0.9412 - precision: 0.9697 - accuracy: 0.9559 - val_loss: 0.2155 - val_recall: 0.9439 - val_precision: 0.6607 - val_accuracy: 0.9317\n",
      "Epoch 48/50\n",
      "49/49 [==============================] - 0s 1ms/steposs: 0.1302 - recall: 0.9440 - precision: 0.9700 - accuracy: 0.\n",
      "99/99 [==============================] - 0s 5ms/step - loss: 0.1309 - recall: 0.9418 - precision: 0.9703 - accuracy: 0.9565 - val_loss: 0.1967 - val_recall: 0.9439 - val_precision: 0.6827 - val_accuracy: 0.9375\n",
      "Epoch 49/50\n",
      "49/49 [==============================] - 0s 1ms/steposs: 0.1298 - recall: 0.9434 - precision: 0.9677 - accuracy: 0.\n",
      "99/99 [==============================] - 1s 5ms/step - loss: 0.1304 - recall: 0.9402 - precision: 0.9690 - accuracy: 0.9551 - val_loss: 0.2814 - val_recall: 0.9490 - val_precision: 0.5569 - val_accuracy: 0.8981\n",
      "Epoch 50/50\n",
      "49/49 [==============================] - 0s 1ms/steposs: 0.1275 - recall: 0.9417 - precision: 0.9713 - accuracy: 0.\n",
      "99/99 [==============================] - 0s 5ms/step - loss: 0.1298 - recall: 0.9405 - precision: 0.9694 - accuracy: 0.9554 - val_loss: 0.2468 - val_recall: 0.9490 - val_precision: 0.6019 - val_accuracy: 0.9142\n"
     ]
    }
   ],
   "source": [
    "confusion_matrices = []\n",
    "\n",
    "def get_data_from_dataset(dataset):\n",
    "    features = []\n",
    "    labels = []\n",
    "    for batch_features, batch_labels in dataset:\n",
    "        features.append(batch_features.numpy())\n",
    "        labels.append(batch_labels.numpy())\n",
    "    return np.concatenate(features), np.concatenate(labels)\n",
    "\n",
    "class ConfusionMatrixCallback(tf.keras.callbacks.Callback):             # inherit from tf.keras.callbacks.Callback\n",
    "    def __init__(self, val_data):\n",
    "        # store data once\n",
    "        self.val_data = val_data                                        \n",
    "\n",
    "    def on_epoch_end(self, epoch, logs=None):\n",
    "        # extract features and labels from validation set\n",
    "        val_features, val_labels = get_data_from_dataset(self.val_data)\n",
    "        \n",
    "        # make prediction with validation features\n",
    "        val_pred = (self.model.predict(val_features) > 0.5).astype(\"int32\")\n",
    "        \n",
    "        # compute the associated confusion matrix\n",
    "        cm = confusion_matrix(val_labels, val_pred)\n",
    "\n",
    "        # flip the 2 lines just to make sure it looks like sklearn.metrics.confusion_matrix\n",
    "        cm_flipped = np.flipud(cm)\n",
    "        \n",
    "        confusion_matrices.append(cm_flipped)\n",
    "\n",
    "history = model.fit(\n",
    "    train_batch,\n",
    "    epochs=k_epochs,\n",
    "    validation_data=test_batch,\n",
    "    callbacks=[ConfusionMatrixCallback(test_batch)]\n",
    ")"
   ]
  },
  {
   "cell_type": "markdown",
   "metadata": {},
   "source": [
    "## Evaluating"
   ]
  },
  {
   "cell_type": "markdown",
   "metadata": {},
   "source": [
    "### <span style=\"color:orange\"><b>Sync point :</b></span>\n",
    "\n",
    "<p align=\"center\">\n",
    "<img src=\"./assets/metrics.png\" alt=\"drawing\" width=\"400\"/>\n",
    "<p>\n",
    "\n",
    "* Sms identified as spam (=1)\n",
    "* Can I accept spam in my sms? I don't know...\n",
    "* Can I accept to see an sms from my beloved CEO classified as spam? No! \n",
    "* So I want FP to tend towards 0 and precision $\\frac{TP}{TP+FP}$ towards 1 (even if the recall, $\\frac{TP}{TP+FN}$, is not that great )\n",
    "* I decide to favour precision over recall\n",
    "\n",
    "Just to make sure...\n",
    "* **Overfitting**\n",
    "    * If accuracy continues to increase on training but starts to decrease or stagnate on validation\n",
    "    * this indicates overfitting.\n",
    "\n",
    "* **Underfitting** \n",
    "    * If the loss curves do not decrease \n",
    "    * or \n",
    "    * If accuracy remains low\n",
    "    * this could indicate that the model has not yet learned sufficiently.\n"
   ]
  },
  {
   "cell_type": "code",
   "execution_count": 27,
   "metadata": {},
   "outputs": [],
   "source": [
    "def save_fig(fig_id, tight_layout=True, fig_extension=\"png\", resolution=300):\n",
    "    path = Path(f\"{k_Current_dir/k_AssetsDir/fig_id}.{fig_extension}\")\n",
    "    print(\"Saving figure\", fig_id)\n",
    "    if tight_layout:\n",
    "        plt.tight_layout()\n",
    "    plt.savefig(path, format=fig_extension, dpi=resolution)\n",
    "    return"
   ]
  },
  {
   "cell_type": "markdown",
   "metadata": {},
   "source": [
    "### Loss"
   ]
  },
  {
   "cell_type": "code",
   "execution_count": 28,
   "metadata": {},
   "outputs": [
    {
     "name": "stdout",
     "output_type": "stream",
     "text": [
      "Saving figure baseline_smote_loss\n"
     ]
    },
    {
     "data": {
      "image/png": "[encoded data removed]",
      "text/plain": [
       "<Figure size 640x480 with 1 Axes>"
      ]
     },
     "metadata": {},
     "output_type": "display_data"
    },
    {
     "data": {
      "text/plain": [
       "[[0.140821,\n",
       "  0.139559,\n",
       "  0.138281,\n",
       "  0.137371,\n",
       "  0.13572,\n",
       "  0.134647,\n",
       "  0.132705,\n",
       "  0.130887,\n",
       "  0.130358,\n",
       "  0.129827]]"
      ]
     },
     "metadata": {},
     "output_type": "display_data"
    },
    {
     "data": {
      "text/plain": [
       "[[0.259578,\n",
       "  0.217927,\n",
       "  0.258024,\n",
       "  0.235056,\n",
       "  0.228364,\n",
       "  0.214885,\n",
       "  0.21555,\n",
       "  0.196708,\n",
       "  0.281407,\n",
       "  0.246802]]"
      ]
     },
     "metadata": {},
     "output_type": "display_data"
    }
   ],
   "source": [
    "# \"val_\" stands for validation\n",
    "# history.history.keys()\n",
    "\n",
    "plt.plot(history.history[\"loss\"], color=\"b\", label=\"Train Loss\")\n",
    "plt.plot(history.history[\"val_loss\"], color=\"r\", label=\"Val Loss\")\n",
    "plt.ylabel(\"Values\")\n",
    "plt.xlabel(\"Epochs\")\n",
    "plt.title(\"Baseline SMOTE : Loss\")\n",
    "plt.legend()\n",
    "plt.ylim(0,1)\n",
    "save_fig(\"baseline_smote_loss\", \"png\")\n",
    "plt.show()\n",
    "\n",
    "\n",
    "# display(history.history['loss'][-10:])\n",
    "display([[round(f, 6) for f in history.history['loss'][-10:]]])\n",
    "display([[round(f, 6) for f in history.history['val_loss'][-10:]]])\n"
   ]
  },
  {
   "cell_type": "markdown",
   "metadata": {},
   "source": [
    "### Accuracy"
   ]
  },
  {
   "cell_type": "code",
   "execution_count": 29,
   "metadata": {},
   "outputs": [
    {
     "name": "stdout",
     "output_type": "stream",
     "text": [
      "Saving figure baseline_smote_accuracy\n"
     ]
    },
    {
     "data": {
      "image/png": "[encoded data removed]",
      "text/plain": [
       "<Figure size 640x480 with 1 Axes>"
      ]
     },
     "metadata": {},
     "output_type": "display_data"
    },
    {
     "data": {
      "text/plain": [
       "[[0.950807,\n",
       "  0.951914,\n",
       "  0.952072,\n",
       "  0.951439,\n",
       "  0.955868,\n",
       "  0.952547,\n",
       "  0.955868,\n",
       "  0.956501,\n",
       "  0.955078,\n",
       "  0.955394]]"
      ]
     },
     "metadata": {},
     "output_type": "display_data"
    },
    {
     "data": {
      "text/plain": [
       "[[0.906512,\n",
       "  0.930368,\n",
       "  0.908446,\n",
       "  0.922631,\n",
       "  0.927144,\n",
       "  0.932302,\n",
       "  0.931657,\n",
       "  0.93746,\n",
       "  0.89813,\n",
       "  0.914249]]"
      ]
     },
     "metadata": {},
     "output_type": "display_data"
    }
   ],
   "source": [
    "plt.plot(history.history[\"accuracy\"], color=\"b\", label=\"Train Accuracy\")\n",
    "plt.plot(history.history[\"val_accuracy\"], color=\"r\", label=\"Val Accuracy\")\n",
    "plt.ylabel(\"Values\")\n",
    "plt.xlabel(\"Epochs\")\n",
    "plt.title(\"Baseline SMOTE : Accuracy\")\n",
    "plt.legend()\n",
    "plt.ylim(0,1)\n",
    "save_fig(\"baseline_smote_accuracy\", \"png\")\n",
    "plt.show()\n",
    "\n",
    "display([[round(f, 6) for f in history.history['accuracy'][-10:]]])\n",
    "display([[round(f, 6) for f in history.history['val_accuracy'][-10:]]])\n"
   ]
  },
  {
   "cell_type": "markdown",
   "metadata": {},
   "source": [
    "### Precision"
   ]
  },
  {
   "cell_type": "code",
   "execution_count": 30,
   "metadata": {},
   "outputs": [
    {
     "name": "stdout",
     "output_type": "stream",
     "text": [
      "Saving figure baseline_smote_precision\n"
     ]
    },
    {
     "data": {
      "image/png": "[encoded data removed]",
      "text/plain": [
       "<Figure size 640x480 with 1 Axes>"
      ]
     },
     "metadata": {},
     "output_type": "display_data"
    },
    {
     "data": {
      "text/plain": [
       "[[0.965991,\n",
       "  0.966983,\n",
       "  0.967299,\n",
       "  0.964821,\n",
       "  0.97184,\n",
       "  0.966113,\n",
       "  0.969687,\n",
       "  0.970339,\n",
       "  0.969025,\n",
       "  0.969351]]"
      ]
     },
     "metadata": {},
     "output_type": "display_data"
    },
    {
     "data": {
      "text/plain": [
       "[[0.579439,\n",
       "  0.656028,\n",
       "  0.584906,\n",
       "  0.629252,\n",
       "  0.644599,\n",
       "  0.663082,\n",
       "  0.660714,\n",
       "  0.682657,\n",
       "  0.556886,\n",
       "  0.601942]]"
      ]
     },
     "metadata": {},
     "output_type": "display_data"
    }
   ],
   "source": [
    "plt.plot(history.history[\"precision\"], color=\"b\", label=\"Train Precision\")\n",
    "plt.plot(history.history[\"val_precision\"], color=\"r\", label=\"Val Precision\")\n",
    "plt.ylabel(\"Values\")\n",
    "plt.xlabel(\"Epochs\")\n",
    "plt.title(\"Baseline SMOTE : Precision\")\n",
    "plt.legend()\n",
    "plt.ylim(0,1)\n",
    "save_fig(\"baseline_smote_precision\", \"png\")\n",
    "plt.show()\n",
    "\n",
    "display([[round(f, 6) for f in history.history['precision'][-10:]]])\n",
    "display([[round(f, 6) for f in history.history['val_precision'][-10:]]])\n"
   ]
  },
  {
   "cell_type": "markdown",
   "metadata": {},
   "source": [
    "### Recall"
   ]
  },
  {
   "cell_type": "code",
   "execution_count": 31,
   "metadata": {},
   "outputs": [
    {
     "name": "stdout",
     "output_type": "stream",
     "text": [
      "Saving figure baseline_smote_recall\n"
     ]
    },
    {
     "data": {
      "image/png": "[encoded data removed]",
      "text/plain": [
       "<Figure size 640x480 with 1 Axes>"
      ]
     },
     "metadata": {},
     "output_type": "display_data"
    },
    {
     "data": {
      "text/plain": [
       "[[0.934514,\n",
       "  0.93578,\n",
       "  0.93578,\n",
       "  0.937045,\n",
       "  0.938943,\n",
       "  0.937994,\n",
       "  0.941158,\n",
       "  0.941791,\n",
       "  0.940209,\n",
       "  0.940525]]"
      ]
     },
     "metadata": {},
     "output_type": "display_data"
    },
    {
     "data": {
      "text/plain": [
       "[[0.94898,\n",
       "  0.943878,\n",
       "  0.94898,\n",
       "  0.943878,\n",
       "  0.943878,\n",
       "  0.943878,\n",
       "  0.943878,\n",
       "  0.943878,\n",
       "  0.94898,\n",
       "  0.94898]]"
      ]
     },
     "metadata": {},
     "output_type": "display_data"
    }
   ],
   "source": [
    "plt.plot(history.history[\"recall\"], color=\"b\", label=\"Train Recall\")\n",
    "plt.plot(history.history[\"val_recall\"], color=\"r\", label=\"Val Recall\")\n",
    "plt.ylabel(\"Values\")\n",
    "plt.xlabel(\"Epochs\")\n",
    "plt.title(\"Baseline SMOTE: Recall\")\n",
    "plt.legend()\n",
    "plt.ylim(0,1)\n",
    "save_fig(\"baseline_smote_recall\", \"png\")\n",
    "plt.show()\n",
    "\n",
    "display([[round(f, 6) for f in history.history['recall'][-10:]]])\n",
    "display([[round(f, 6) for f in history.history['val_recall'][-10:]]])\n"
   ]
  },
  {
   "cell_type": "code",
   "execution_count": 32,
   "metadata": {},
   "outputs": [],
   "source": [
    "def f1_calculus(name, rec, prec):\n",
    "    df_tmp=pd.DataFrame()\n",
    "    df_tmp[name] = 2*np.array(rec)*np.array(prec)/(np.array(rec)+np.array(prec)+tf.keras.backend.epsilon()) # epsilon avoid runtimeWarning: divide by zero encountered in divide...\n",
    "    return df_tmp"
   ]
  },
  {
   "cell_type": "markdown",
   "metadata": {},
   "source": [
    "### F1 Score"
   ]
  },
  {
   "cell_type": "code",
   "execution_count": 33,
   "metadata": {},
   "outputs": [
    {
     "name": "stdout",
     "output_type": "stream",
     "text": [
      "Saving figure baseline_smote_f1\n"
     ]
    },
    {
     "data": {
      "image/png": "[encoded data removed]",
      "text/plain": [
       "<Figure size 640x480 with 1 Axes>"
      ]
     },
     "metadata": {},
     "output_type": "display_data"
    },
    {
     "data": {
      "text/html": [
       "<div>\n",
       "<style scoped>\n",
       "    .dataframe tbody tr th:only-of-type {\n",
       "        vertical-align: middle;\n",
       "    }\n",
       "\n",
       "    .dataframe tbody tr th {\n",
       "        vertical-align: top;\n",
       "    }\n",
       "\n",
       "    .dataframe thead th {\n",
       "        text-align: right;\n",
       "    }\n",
       "</style>\n",
       "<table border=\"1\" class=\"dataframe\">\n",
       "  <thead>\n",
       "    <tr style=\"text-align: right;\">\n",
       "      <th></th>\n",
       "      <th>f1</th>\n",
       "    </tr>\n",
       "  </thead>\n",
       "  <tbody>\n",
       "    <tr>\n",
       "      <th>40</th>\n",
       "      <td>0.949992</td>\n",
       "    </tr>\n",
       "    <tr>\n",
       "      <th>41</th>\n",
       "      <td>0.951125</td>\n",
       "    </tr>\n",
       "    <tr>\n",
       "      <th>42</th>\n",
       "      <td>0.951278</td>\n",
       "    </tr>\n",
       "    <tr>\n",
       "      <th>43</th>\n",
       "      <td>0.950730</td>\n",
       "    </tr>\n",
       "    <tr>\n",
       "      <th>44</th>\n",
       "      <td>0.955109</td>\n",
       "    </tr>\n",
       "    <tr>\n",
       "      <th>45</th>\n",
       "      <td>0.951846</td>\n",
       "    </tr>\n",
       "    <tr>\n",
       "      <th>46</th>\n",
       "      <td>0.955209</td>\n",
       "    </tr>\n",
       "    <tr>\n",
       "      <th>47</th>\n",
       "      <td>0.955852</td>\n",
       "    </tr>\n",
       "    <tr>\n",
       "      <th>48</th>\n",
       "      <td>0.954399</td>\n",
       "    </tr>\n",
       "    <tr>\n",
       "      <th>49</th>\n",
       "      <td>0.954721</td>\n",
       "    </tr>\n",
       "  </tbody>\n",
       "</table>\n",
       "</div>"
      ],
      "text/plain": [
       "          f1\n",
       "40  0.949992\n",
       "41  0.951125\n",
       "42  0.951278\n",
       "43  0.950730\n",
       "44  0.955109\n",
       "45  0.951846\n",
       "46  0.955209\n",
       "47  0.955852\n",
       "48  0.954399\n",
       "49  0.954721"
      ]
     },
     "metadata": {},
     "output_type": "display_data"
    },
    {
     "data": {
      "text/html": [
       "<div>\n",
       "<style scoped>\n",
       "    .dataframe tbody tr th:only-of-type {\n",
       "        vertical-align: middle;\n",
       "    }\n",
       "\n",
       "    .dataframe tbody tr th {\n",
       "        vertical-align: top;\n",
       "    }\n",
       "\n",
       "    .dataframe thead th {\n",
       "        text-align: right;\n",
       "    }\n",
       "</style>\n",
       "<table border=\"1\" class=\"dataframe\">\n",
       "  <thead>\n",
       "    <tr style=\"text-align: right;\">\n",
       "      <th></th>\n",
       "      <th>val_f1</th>\n",
       "    </tr>\n",
       "  </thead>\n",
       "  <tbody>\n",
       "    <tr>\n",
       "      <th>40</th>\n",
       "      <td>0.719536</td>\n",
       "    </tr>\n",
       "    <tr>\n",
       "      <th>41</th>\n",
       "      <td>0.774059</td>\n",
       "    </tr>\n",
       "    <tr>\n",
       "      <th>42</th>\n",
       "      <td>0.723735</td>\n",
       "    </tr>\n",
       "    <tr>\n",
       "      <th>43</th>\n",
       "      <td>0.755102</td>\n",
       "    </tr>\n",
       "    <tr>\n",
       "      <th>44</th>\n",
       "      <td>0.766046</td>\n",
       "    </tr>\n",
       "    <tr>\n",
       "      <th>45</th>\n",
       "      <td>0.778947</td>\n",
       "    </tr>\n",
       "    <tr>\n",
       "      <th>46</th>\n",
       "      <td>0.777311</td>\n",
       "    </tr>\n",
       "    <tr>\n",
       "      <th>47</th>\n",
       "      <td>0.792291</td>\n",
       "    </tr>\n",
       "    <tr>\n",
       "      <th>48</th>\n",
       "      <td>0.701887</td>\n",
       "    </tr>\n",
       "    <tr>\n",
       "      <th>49</th>\n",
       "      <td>0.736634</td>\n",
       "    </tr>\n",
       "  </tbody>\n",
       "</table>\n",
       "</div>"
      ],
      "text/plain": [
       "      val_f1\n",
       "40  0.719536\n",
       "41  0.774059\n",
       "42  0.723735\n",
       "43  0.755102\n",
       "44  0.766046\n",
       "45  0.778947\n",
       "46  0.777311\n",
       "47  0.792291\n",
       "48  0.701887\n",
       "49  0.736634"
      ]
     },
     "metadata": {},
     "output_type": "display_data"
    }
   ],
   "source": [
    "df_tmp = f1_calculus(\"f1\", history.history[\"recall\"], history.history[\"precision\"])\n",
    "df_val_tmp = f1_calculus(\"val_f1\", history.history[\"val_recall\"], history.history[\"val_precision\"])\n",
    "\n",
    "plt.plot(df_tmp[\"f1\"], color=\"b\", label=\"Train F1\")\n",
    "plt.plot(df_val_tmp[\"val_f1\"], color=\"r\", label=\"Val F1\")\n",
    "plt.ylabel(\"Values\")\n",
    "plt.xlabel(\"Epochs\")\n",
    "plt.title(\"Baseline SMOTE: F1\")\n",
    "plt.legend()\n",
    "plt.ylim(0,1)\n",
    "save_fig(\"baseline_smote_f1\", \"png\")\n",
    "plt.show()\n",
    "\n",
    "display(df_tmp.tail(10))\n",
    "display(df_val_tmp.tail(10))\n",
    "\n",
    "\n"
   ]
  },
  {
   "cell_type": "markdown",
   "metadata": {},
   "source": [
    "### Confusion matrix (animated)"
   ]
  },
  {
   "cell_type": "code",
   "execution_count": 34,
   "metadata": {},
   "outputs": [
    {
     "data": {
      "application/vnd.plotly.v1+json": {
       "config": {
        "plotlyServerURL": "https://plot.ly"
       },
       "data": [
        {
         "colorscale": [
          [
           0,
           "#440154"
          ],
          [
           0.1111111111111111,
           "#482878"
          ],
          [
           0.2222222222222222,
           "#3e4989"
          ],
          [
           0.3333333333333333,
           "#31688e"
          ],
          [
           0.4444444444444444,
           "#26828e"
          ],
          [
           0.5555555555555556,
           "#1f9e89"
          ],
          [
           0.6666666666666666,
           "#35b779"
          ],
          [
           0.7777777777777778,
           "#6ece58"
          ],
          [
           0.8888888888888888,
           "#b5de2b"
          ],
          [
           1,
           "#fde725"
          ]
         ],
         "hoverinfo": "skip",
         "showscale": true,
         "text": [
          [
           "161",
           "35"
          ],
          [
           "1335",
           "20"
          ]
         ],
         "textfont": {
          "size": 14
         },
         "texttemplate": "%{text}",
         "type": "heatmap",
         "z": [
          [
           161,
           35
          ],
          [
           1335,
           20
          ]
         ]
        }
       ],
       "frames": [
        {
         "data": [
          {
           "colorscale": [
            [
             0,
             "#440154"
            ],
            [
             0.1111111111111111,
             "#482878"
            ],
            [
             0.2222222222222222,
             "#3e4989"
            ],
            [
             0.3333333333333333,
             "#31688e"
            ],
            [
             0.4444444444444444,
             "#26828e"
            ],
            [
             0.5555555555555556,
             "#1f9e89"
            ],
            [
             0.6666666666666666,
             "#35b779"
            ],
            [
             0.7777777777777778,
             "#6ece58"
            ],
            [
             0.8888888888888888,
             "#b5de2b"
            ],
            [
             1,
             "#fde725"
            ]
           ],
           "hoverinfo": "skip",
           "showscale": true,
           "text": [
            [
             "161",
             "35"
            ],
            [
             "1335",
             "20"
            ]
           ],
           "textfont": {
            "size": 14
           },
           "texttemplate": "%{text}",
           "type": "heatmap",
           "z": [
            [
             161,
             35
            ],
            [
             1335,
             20
            ]
           ]
          }
         ],
         "name": "Epoch 1"
        },
        {
         "data": [
          {
           "colorscale": [
            [
             0,
             "#440154"
            ],
            [
             0.1111111111111111,
             "#482878"
            ],
            [
             0.2222222222222222,
             "#3e4989"
            ],
            [
             0.3333333333333333,
             "#31688e"
            ],
            [
             0.4444444444444444,
             "#26828e"
            ],
            [
             0.5555555555555556,
             "#1f9e89"
            ],
            [
             0.6666666666666666,
             "#35b779"
            ],
            [
             0.7777777777777778,
             "#6ece58"
            ],
            [
             0.8888888888888888,
             "#b5de2b"
            ],
            [
             1,
             "#fde725"
            ]
           ],
           "hoverinfo": "skip",
           "showscale": true,
           "text": [
            [
             "46",
             "150"
            ],
            [
             "1240",
             "115"
            ]
           ],
           "textfont": {
            "size": 14
           },
           "texttemplate": "%{text}",
           "type": "heatmap",
           "z": [
            [
             46,
             150
            ],
            [
             1240,
             115
            ]
           ]
          }
         ],
         "name": "Epoch 2"
        },
        {
         "data": [
          {
           "colorscale": [
            [
             0,
             "#440154"
            ],
            [
             0.1111111111111111,
             "#482878"
            ],
            [
             0.2222222222222222,
             "#3e4989"
            ],
            [
             0.3333333333333333,
             "#31688e"
            ],
            [
             0.4444444444444444,
             "#26828e"
            ],
            [
             0.5555555555555556,
             "#1f9e89"
            ],
            [
             0.6666666666666666,
             "#35b779"
            ],
            [
             0.7777777777777778,
             "#6ece58"
            ],
            [
             0.8888888888888888,
             "#b5de2b"
            ],
            [
             1,
             "#fde725"
            ]
           ],
           "hoverinfo": "skip",
           "showscale": true,
           "text": [
            [
             "28",
             "168"
            ],
            [
             "1165",
             "190"
            ]
           ],
           "textfont": {
            "size": 14
           },
           "texttemplate": "%{text}",
           "type": "heatmap",
           "z": [
            [
             28,
             168
            ],
            [
             1165,
             190
            ]
           ]
          }
         ],
         "name": "Epoch 3"
        },
        {
         "data": [
          {
           "colorscale": [
            [
             0,
             "#440154"
            ],
            [
             0.1111111111111111,
             "#482878"
            ],
            [
             0.2222222222222222,
             "#3e4989"
            ],
            [
             0.3333333333333333,
             "#31688e"
            ],
            [
             0.4444444444444444,
             "#26828e"
            ],
            [
             0.5555555555555556,
             "#1f9e89"
            ],
            [
             0.6666666666666666,
             "#35b779"
            ],
            [
             0.7777777777777778,
             "#6ece58"
            ],
            [
             0.8888888888888888,
             "#b5de2b"
            ],
            [
             1,
             "#fde725"
            ]
           ],
           "hoverinfo": "skip",
           "showscale": true,
           "text": [
            [
             "39",
             "157"
            ],
            [
             "1225",
             "130"
            ]
           ],
           "textfont": {
            "size": 14
           },
           "texttemplate": "%{text}",
           "type": "heatmap",
           "z": [
            [
             39,
             157
            ],
            [
             1225,
             130
            ]
           ]
          }
         ],
         "name": "Epoch 4"
        },
        {
         "data": [
          {
           "colorscale": [
            [
             0,
             "#440154"
            ],
            [
             0.1111111111111111,
             "#482878"
            ],
            [
             0.2222222222222222,
             "#3e4989"
            ],
            [
             0.3333333333333333,
             "#31688e"
            ],
            [
             0.4444444444444444,
             "#26828e"
            ],
            [
             0.5555555555555556,
             "#1f9e89"
            ],
            [
             0.6666666666666666,
             "#35b779"
            ],
            [
             0.7777777777777778,
             "#6ece58"
            ],
            [
             0.8888888888888888,
             "#b5de2b"
            ],
            [
             1,
             "#fde725"
            ]
           ],
           "hoverinfo": "skip",
           "showscale": true,
           "text": [
            [
             "35",
             "161"
            ],
            [
             "1213",
             "142"
            ]
           ],
           "textfont": {
            "size": 14
           },
           "texttemplate": "%{text}",
           "type": "heatmap",
           "z": [
            [
             35,
             161
            ],
            [
             1213,
             142
            ]
           ]
          }
         ],
         "name": "Epoch 5"
        },
        {
         "data": [
          {
           "colorscale": [
            [
             0,
             "#440154"
            ],
            [
             0.1111111111111111,
             "#482878"
            ],
            [
             0.2222222222222222,
             "#3e4989"
            ],
            [
             0.3333333333333333,
             "#31688e"
            ],
            [
             0.4444444444444444,
             "#26828e"
            ],
            [
             0.5555555555555556,
             "#1f9e89"
            ],
            [
             0.6666666666666666,
             "#35b779"
            ],
            [
             0.7777777777777778,
             "#6ece58"
            ],
            [
             0.8888888888888888,
             "#b5de2b"
            ],
            [
             1,
             "#fde725"
            ]
           ],
           "hoverinfo": "skip",
           "showscale": true,
           "text": [
            [
             "33",
             "163"
            ],
            [
             "1211",
             "144"
            ]
           ],
           "textfont": {
            "size": 14
           },
           "texttemplate": "%{text}",
           "type": "heatmap",
           "z": [
            [
             33,
             163
            ],
            [
             1211,
             144
            ]
           ]
          }
         ],
         "name": "Epoch 6"
        },
        {
         "data": [
          {
           "colorscale": [
            [
             0,
             "#440154"
            ],
            [
             0.1111111111111111,
             "#482878"
            ],
            [
             0.2222222222222222,
             "#3e4989"
            ],
            [
             0.3333333333333333,
             "#31688e"
            ],
            [
             0.4444444444444444,
             "#26828e"
            ],
            [
             0.5555555555555556,
             "#1f9e89"
            ],
            [
             0.6666666666666666,
             "#35b779"
            ],
            [
             0.7777777777777778,
             "#6ece58"
            ],
            [
             0.8888888888888888,
             "#b5de2b"
            ],
            [
             1,
             "#fde725"
            ]
           ],
           "hoverinfo": "skip",
           "showscale": true,
           "text": [
            [
             "32",
             "164"
            ],
            [
             "1203",
             "152"
            ]
           ],
           "textfont": {
            "size": 14
           },
           "texttemplate": "%{text}",
           "type": "heatmap",
           "z": [
            [
             32,
             164
            ],
            [
             1203,
             152
            ]
           ]
          }
         ],
         "name": "Epoch 7"
        },
        {
         "data": [
          {
           "colorscale": [
            [
             0,
             "#440154"
            ],
            [
             0.1111111111111111,
             "#482878"
            ],
            [
             0.2222222222222222,
             "#3e4989"
            ],
            [
             0.3333333333333333,
             "#31688e"
            ],
            [
             0.4444444444444444,
             "#26828e"
            ],
            [
             0.5555555555555556,
             "#1f9e89"
            ],
            [
             0.6666666666666666,
             "#35b779"
            ],
            [
             0.7777777777777778,
             "#6ece58"
            ],
            [
             0.8888888888888888,
             "#b5de2b"
            ],
            [
             1,
             "#fde725"
            ]
           ],
           "hoverinfo": "skip",
           "showscale": true,
           "text": [
            [
             "32",
             "164"
            ],
            [
             "1208",
             "147"
            ]
           ],
           "textfont": {
            "size": 14
           },
           "texttemplate": "%{text}",
           "type": "heatmap",
           "z": [
            [
             32,
             164
            ],
            [
             1208,
             147
            ]
           ]
          }
         ],
         "name": "Epoch 8"
        },
        {
         "data": [
          {
           "colorscale": [
            [
             0,
             "#440154"
            ],
            [
             0.1111111111111111,
             "#482878"
            ],
            [
             0.2222222222222222,
             "#3e4989"
            ],
            [
             0.3333333333333333,
             "#31688e"
            ],
            [
             0.4444444444444444,
             "#26828e"
            ],
            [
             0.5555555555555556,
             "#1f9e89"
            ],
            [
             0.6666666666666666,
             "#35b779"
            ],
            [
             0.7777777777777778,
             "#6ece58"
            ],
            [
             0.8888888888888888,
             "#b5de2b"
            ],
            [
             1,
             "#fde725"
            ]
           ],
           "hoverinfo": "skip",
           "showscale": true,
           "text": [
            [
             "31",
             "165"
            ],
            [
             "1220",
             "135"
            ]
           ],
           "textfont": {
            "size": 14
           },
           "texttemplate": "%{text}",
           "type": "heatmap",
           "z": [
            [
             31,
             165
            ],
            [
             1220,
             135
            ]
           ]
          }
         ],
         "name": "Epoch 9"
        },
        {
         "data": [
          {
           "colorscale": [
            [
             0,
             "#440154"
            ],
            [
             0.1111111111111111,
             "#482878"
            ],
            [
             0.2222222222222222,
             "#3e4989"
            ],
            [
             0.3333333333333333,
             "#31688e"
            ],
            [
             0.4444444444444444,
             "#26828e"
            ],
            [
             0.5555555555555556,
             "#1f9e89"
            ],
            [
             0.6666666666666666,
             "#35b779"
            ],
            [
             0.7777777777777778,
             "#6ece58"
            ],
            [
             0.8888888888888888,
             "#b5de2b"
            ],
            [
             1,
             "#fde725"
            ]
           ],
           "hoverinfo": "skip",
           "showscale": true,
           "text": [
            [
             "29",
             "167"
            ],
            [
             "1220",
             "135"
            ]
           ],
           "textfont": {
            "size": 14
           },
           "texttemplate": "%{text}",
           "type": "heatmap",
           "z": [
            [
             29,
             167
            ],
            [
             1220,
             135
            ]
           ]
          }
         ],
         "name": "Epoch 10"
        },
        {
         "data": [
          {
           "colorscale": [
            [
             0,
             "#440154"
            ],
            [
             0.1111111111111111,
             "#482878"
            ],
            [
             0.2222222222222222,
             "#3e4989"
            ],
            [
             0.3333333333333333,
             "#31688e"
            ],
            [
             0.4444444444444444,
             "#26828e"
            ],
            [
             0.5555555555555556,
             "#1f9e89"
            ],
            [
             0.6666666666666666,
             "#35b779"
            ],
            [
             0.7777777777777778,
             "#6ece58"
            ],
            [
             0.8888888888888888,
             "#b5de2b"
            ],
            [
             1,
             "#fde725"
            ]
           ],
           "hoverinfo": "skip",
           "showscale": true,
           "text": [
            [
             "31",
             "165"
            ],
            [
             "1239",
             "116"
            ]
           ],
           "textfont": {
            "size": 14
           },
           "texttemplate": "%{text}",
           "type": "heatmap",
           "z": [
            [
             31,
             165
            ],
            [
             1239,
             116
            ]
           ]
          }
         ],
         "name": "Epoch 11"
        },
        {
         "data": [
          {
           "colorscale": [
            [
             0,
             "#440154"
            ],
            [
             0.1111111111111111,
             "#482878"
            ],
            [
             0.2222222222222222,
             "#3e4989"
            ],
            [
             0.3333333333333333,
             "#31688e"
            ],
            [
             0.4444444444444444,
             "#26828e"
            ],
            [
             0.5555555555555556,
             "#1f9e89"
            ],
            [
             0.6666666666666666,
             "#35b779"
            ],
            [
             0.7777777777777778,
             "#6ece58"
            ],
            [
             0.8888888888888888,
             "#b5de2b"
            ],
            [
             1,
             "#fde725"
            ]
           ],
           "hoverinfo": "skip",
           "showscale": true,
           "text": [
            [
             "29",
             "167"
            ],
            [
             "1244",
             "111"
            ]
           ],
           "textfont": {
            "size": 14
           },
           "texttemplate": "%{text}",
           "type": "heatmap",
           "z": [
            [
             29,
             167
            ],
            [
             1244,
             111
            ]
           ]
          }
         ],
         "name": "Epoch 12"
        },
        {
         "data": [
          {
           "colorscale": [
            [
             0,
             "#440154"
            ],
            [
             0.1111111111111111,
             "#482878"
            ],
            [
             0.2222222222222222,
             "#3e4989"
            ],
            [
             0.3333333333333333,
             "#31688e"
            ],
            [
             0.4444444444444444,
             "#26828e"
            ],
            [
             0.5555555555555556,
             "#1f9e89"
            ],
            [
             0.6666666666666666,
             "#35b779"
            ],
            [
             0.7777777777777778,
             "#6ece58"
            ],
            [
             0.8888888888888888,
             "#b5de2b"
            ],
            [
             1,
             "#fde725"
            ]
           ],
           "hoverinfo": "skip",
           "showscale": true,
           "text": [
            [
             "23",
             "173"
            ],
            [
             "1220",
             "135"
            ]
           ],
           "textfont": {
            "size": 14
           },
           "texttemplate": "%{text}",
           "type": "heatmap",
           "z": [
            [
             23,
             173
            ],
            [
             1220,
             135
            ]
           ]
          }
         ],
         "name": "Epoch 13"
        },
        {
         "data": [
          {
           "colorscale": [
            [
             0,
             "#440154"
            ],
            [
             0.1111111111111111,
             "#482878"
            ],
            [
             0.2222222222222222,
             "#3e4989"
            ],
            [
             0.3333333333333333,
             "#31688e"
            ],
            [
             0.4444444444444444,
             "#26828e"
            ],
            [
             0.5555555555555556,
             "#1f9e89"
            ],
            [
             0.6666666666666666,
             "#35b779"
            ],
            [
             0.7777777777777778,
             "#6ece58"
            ],
            [
             0.8888888888888888,
             "#b5de2b"
            ],
            [
             1,
             "#fde725"
            ]
           ],
           "hoverinfo": "skip",
           "showscale": true,
           "text": [
            [
             "25",
             "171"
            ],
            [
             "1247",
             "108"
            ]
           ],
           "textfont": {
            "size": 14
           },
           "texttemplate": "%{text}",
           "type": "heatmap",
           "z": [
            [
             25,
             171
            ],
            [
             1247,
             108
            ]
           ]
          }
         ],
         "name": "Epoch 14"
        },
        {
         "data": [
          {
           "colorscale": [
            [
             0,
             "#440154"
            ],
            [
             0.1111111111111111,
             "#482878"
            ],
            [
             0.2222222222222222,
             "#3e4989"
            ],
            [
             0.3333333333333333,
             "#31688e"
            ],
            [
             0.4444444444444444,
             "#26828e"
            ],
            [
             0.5555555555555556,
             "#1f9e89"
            ],
            [
             0.6666666666666666,
             "#35b779"
            ],
            [
             0.7777777777777778,
             "#6ece58"
            ],
            [
             0.8888888888888888,
             "#b5de2b"
            ],
            [
             1,
             "#fde725"
            ]
           ],
           "hoverinfo": "skip",
           "showscale": true,
           "text": [
            [
             "20",
             "176"
            ],
            [
             "1208",
             "147"
            ]
           ],
           "textfont": {
            "size": 14
           },
           "texttemplate": "%{text}",
           "type": "heatmap",
           "z": [
            [
             20,
             176
            ],
            [
             1208,
             147
            ]
           ]
          }
         ],
         "name": "Epoch 15"
        },
        {
         "data": [
          {
           "colorscale": [
            [
             0,
             "#440154"
            ],
            [
             0.1111111111111111,
             "#482878"
            ],
            [
             0.2222222222222222,
             "#3e4989"
            ],
            [
             0.3333333333333333,
             "#31688e"
            ],
            [
             0.4444444444444444,
             "#26828e"
            ],
            [
             0.5555555555555556,
             "#1f9e89"
            ],
            [
             0.6666666666666666,
             "#35b779"
            ],
            [
             0.7777777777777778,
             "#6ece58"
            ],
            [
             0.8888888888888888,
             "#b5de2b"
            ],
            [
             1,
             "#fde725"
            ]
           ],
           "hoverinfo": "skip",
           "showscale": true,
           "text": [
            [
             "24",
             "172"
            ],
            [
             "1249",
             "106"
            ]
           ],
           "textfont": {
            "size": 14
           },
           "texttemplate": "%{text}",
           "type": "heatmap",
           "z": [
            [
             24,
             172
            ],
            [
             1249,
             106
            ]
           ]
          }
         ],
         "name": "Epoch 16"
        },
        {
         "data": [
          {
           "colorscale": [
            [
             0,
             "#440154"
            ],
            [
             0.1111111111111111,
             "#482878"
            ],
            [
             0.2222222222222222,
             "#3e4989"
            ],
            [
             0.3333333333333333,
             "#31688e"
            ],
            [
             0.4444444444444444,
             "#26828e"
            ],
            [
             0.5555555555555556,
             "#1f9e89"
            ],
            [
             0.6666666666666666,
             "#35b779"
            ],
            [
             0.7777777777777778,
             "#6ece58"
            ],
            [
             0.8888888888888888,
             "#b5de2b"
            ],
            [
             1,
             "#fde725"
            ]
           ],
           "hoverinfo": "skip",
           "showscale": true,
           "text": [
            [
             "23",
             "173"
            ],
            [
             "1257",
             "98"
            ]
           ],
           "textfont": {
            "size": 14
           },
           "texttemplate": "%{text}",
           "type": "heatmap",
           "z": [
            [
             23,
             173
            ],
            [
             1257,
             98
            ]
           ]
          }
         ],
         "name": "Epoch 17"
        },
        {
         "data": [
          {
           "colorscale": [
            [
             0,
             "#440154"
            ],
            [
             0.1111111111111111,
             "#482878"
            ],
            [
             0.2222222222222222,
             "#3e4989"
            ],
            [
             0.3333333333333333,
             "#31688e"
            ],
            [
             0.4444444444444444,
             "#26828e"
            ],
            [
             0.5555555555555556,
             "#1f9e89"
            ],
            [
             0.6666666666666666,
             "#35b779"
            ],
            [
             0.7777777777777778,
             "#6ece58"
            ],
            [
             0.8888888888888888,
             "#b5de2b"
            ],
            [
             1,
             "#fde725"
            ]
           ],
           "hoverinfo": "skip",
           "showscale": true,
           "text": [
            [
             "21",
             "175"
            ],
            [
             "1249",
             "106"
            ]
           ],
           "textfont": {
            "size": 14
           },
           "texttemplate": "%{text}",
           "type": "heatmap",
           "z": [
            [
             21,
             175
            ],
            [
             1249,
             106
            ]
           ]
          }
         ],
         "name": "Epoch 18"
        },
        {
         "data": [
          {
           "colorscale": [
            [
             0,
             "#440154"
            ],
            [
             0.1111111111111111,
             "#482878"
            ],
            [
             0.2222222222222222,
             "#3e4989"
            ],
            [
             0.3333333333333333,
             "#31688e"
            ],
            [
             0.4444444444444444,
             "#26828e"
            ],
            [
             0.5555555555555556,
             "#1f9e89"
            ],
            [
             0.6666666666666666,
             "#35b779"
            ],
            [
             0.7777777777777778,
             "#6ece58"
            ],
            [
             0.8888888888888888,
             "#b5de2b"
            ],
            [
             1,
             "#fde725"
            ]
           ],
           "hoverinfo": "skip",
           "showscale": true,
           "text": [
            [
             "21",
             "175"
            ],
            [
             "1258",
             "97"
            ]
           ],
           "textfont": {
            "size": 14
           },
           "texttemplate": "%{text}",
           "type": "heatmap",
           "z": [
            [
             21,
             175
            ],
            [
             1258,
             97
            ]
           ]
          }
         ],
         "name": "Epoch 19"
        },
        {
         "data": [
          {
           "colorscale": [
            [
             0,
             "#440154"
            ],
            [
             0.1111111111111111,
             "#482878"
            ],
            [
             0.2222222222222222,
             "#3e4989"
            ],
            [
             0.3333333333333333,
             "#31688e"
            ],
            [
             0.4444444444444444,
             "#26828e"
            ],
            [
             0.5555555555555556,
             "#1f9e89"
            ],
            [
             0.6666666666666666,
             "#35b779"
            ],
            [
             0.7777777777777778,
             "#6ece58"
            ],
            [
             0.8888888888888888,
             "#b5de2b"
            ],
            [
             1,
             "#fde725"
            ]
           ],
           "hoverinfo": "skip",
           "showscale": true,
           "text": [
            [
             "19",
             "177"
            ],
            [
             "1241",
             "114"
            ]
           ],
           "textfont": {
            "size": 14
           },
           "texttemplate": "%{text}",
           "type": "heatmap",
           "z": [
            [
             19,
             177
            ],
            [
             1241,
             114
            ]
           ]
          }
         ],
         "name": "Epoch 20"
        },
        {
         "data": [
          {
           "colorscale": [
            [
             0,
             "#440154"
            ],
            [
             0.1111111111111111,
             "#482878"
            ],
            [
             0.2222222222222222,
             "#3e4989"
            ],
            [
             0.3333333333333333,
             "#31688e"
            ],
            [
             0.4444444444444444,
             "#26828e"
            ],
            [
             0.5555555555555556,
             "#1f9e89"
            ],
            [
             0.6666666666666666,
             "#35b779"
            ],
            [
             0.7777777777777778,
             "#6ece58"
            ],
            [
             0.8888888888888888,
             "#b5de2b"
            ],
            [
             1,
             "#fde725"
            ]
           ],
           "hoverinfo": "skip",
           "showscale": true,
           "text": [
            [
             "18",
             "178"
            ],
            [
             "1232",
             "123"
            ]
           ],
           "textfont": {
            "size": 14
           },
           "texttemplate": "%{text}",
           "type": "heatmap",
           "z": [
            [
             18,
             178
            ],
            [
             1232,
             123
            ]
           ]
          }
         ],
         "name": "Epoch 21"
        },
        {
         "data": [
          {
           "colorscale": [
            [
             0,
             "#440154"
            ],
            [
             0.1111111111111111,
             "#482878"
            ],
            [
             0.2222222222222222,
             "#3e4989"
            ],
            [
             0.3333333333333333,
             "#31688e"
            ],
            [
             0.4444444444444444,
             "#26828e"
            ],
            [
             0.5555555555555556,
             "#1f9e89"
            ],
            [
             0.6666666666666666,
             "#35b779"
            ],
            [
             0.7777777777777778,
             "#6ece58"
            ],
            [
             0.8888888888888888,
             "#b5de2b"
            ],
            [
             1,
             "#fde725"
            ]
           ],
           "hoverinfo": "skip",
           "showscale": true,
           "text": [
            [
             "19",
             "177"
            ],
            [
             "1253",
             "102"
            ]
           ],
           "textfont": {
            "size": 14
           },
           "texttemplate": "%{text}",
           "type": "heatmap",
           "z": [
            [
             19,
             177
            ],
            [
             1253,
             102
            ]
           ]
          }
         ],
         "name": "Epoch 22"
        },
        {
         "data": [
          {
           "colorscale": [
            [
             0,
             "#440154"
            ],
            [
             0.1111111111111111,
             "#482878"
            ],
            [
             0.2222222222222222,
             "#3e4989"
            ],
            [
             0.3333333333333333,
             "#31688e"
            ],
            [
             0.4444444444444444,
             "#26828e"
            ],
            [
             0.5555555555555556,
             "#1f9e89"
            ],
            [
             0.6666666666666666,
             "#35b779"
            ],
            [
             0.7777777777777778,
             "#6ece58"
            ],
            [
             0.8888888888888888,
             "#b5de2b"
            ],
            [
             1,
             "#fde725"
            ]
           ],
           "hoverinfo": "skip",
           "showscale": true,
           "text": [
            [
             "19",
             "177"
            ],
            [
             "1266",
             "89"
            ]
           ],
           "textfont": {
            "size": 14
           },
           "texttemplate": "%{text}",
           "type": "heatmap",
           "z": [
            [
             19,
             177
            ],
            [
             1266,
             89
            ]
           ]
          }
         ],
         "name": "Epoch 23"
        },
        {
         "data": [
          {
           "colorscale": [
            [
             0,
             "#440154"
            ],
            [
             0.1111111111111111,
             "#482878"
            ],
            [
             0.2222222222222222,
             "#3e4989"
            ],
            [
             0.3333333333333333,
             "#31688e"
            ],
            [
             0.4444444444444444,
             "#26828e"
            ],
            [
             0.5555555555555556,
             "#1f9e89"
            ],
            [
             0.6666666666666666,
             "#35b779"
            ],
            [
             0.7777777777777778,
             "#6ece58"
            ],
            [
             0.8888888888888888,
             "#b5de2b"
            ],
            [
             1,
             "#fde725"
            ]
           ],
           "hoverinfo": "skip",
           "showscale": true,
           "text": [
            [
             "18",
             "178"
            ],
            [
             "1242",
             "113"
            ]
           ],
           "textfont": {
            "size": 14
           },
           "texttemplate": "%{text}",
           "type": "heatmap",
           "z": [
            [
             18,
             178
            ],
            [
             1242,
             113
            ]
           ]
          }
         ],
         "name": "Epoch 24"
        },
        {
         "data": [
          {
           "colorscale": [
            [
             0,
             "#440154"
            ],
            [
             0.1111111111111111,
             "#482878"
            ],
            [
             0.2222222222222222,
             "#3e4989"
            ],
            [
             0.3333333333333333,
             "#31688e"
            ],
            [
             0.4444444444444444,
             "#26828e"
            ],
            [
             0.5555555555555556,
             "#1f9e89"
            ],
            [
             0.6666666666666666,
             "#35b779"
            ],
            [
             0.7777777777777778,
             "#6ece58"
            ],
            [
             0.8888888888888888,
             "#b5de2b"
            ],
            [
             1,
             "#fde725"
            ]
           ],
           "hoverinfo": "skip",
           "showscale": true,
           "text": [
            [
             "17",
             "179"
            ],
            [
             "1236",
             "119"
            ]
           ],
           "textfont": {
            "size": 14
           },
           "texttemplate": "%{text}",
           "type": "heatmap",
           "z": [
            [
             17,
             179
            ],
            [
             1236,
             119
            ]
           ]
          }
         ],
         "name": "Epoch 25"
        },
        {
         "data": [
          {
           "colorscale": [
            [
             0,
             "#440154"
            ],
            [
             0.1111111111111111,
             "#482878"
            ],
            [
             0.2222222222222222,
             "#3e4989"
            ],
            [
             0.3333333333333333,
             "#31688e"
            ],
            [
             0.4444444444444444,
             "#26828e"
            ],
            [
             0.5555555555555556,
             "#1f9e89"
            ],
            [
             0.6666666666666666,
             "#35b779"
            ],
            [
             0.7777777777777778,
             "#6ece58"
            ],
            [
             0.8888888888888888,
             "#b5de2b"
            ],
            [
             1,
             "#fde725"
            ]
           ],
           "hoverinfo": "skip",
           "showscale": true,
           "text": [
            [
             "17",
             "179"
            ],
            [
             "1245",
             "110"
            ]
           ],
           "textfont": {
            "size": 14
           },
           "texttemplate": "%{text}",
           "type": "heatmap",
           "z": [
            [
             17,
             179
            ],
            [
             1245,
             110
            ]
           ]
          }
         ],
         "name": "Epoch 26"
        },
        {
         "data": [
          {
           "colorscale": [
            [
             0,
             "#440154"
            ],
            [
             0.1111111111111111,
             "#482878"
            ],
            [
             0.2222222222222222,
             "#3e4989"
            ],
            [
             0.3333333333333333,
             "#31688e"
            ],
            [
             0.4444444444444444,
             "#26828e"
            ],
            [
             0.5555555555555556,
             "#1f9e89"
            ],
            [
             0.6666666666666666,
             "#35b779"
            ],
            [
             0.7777777777777778,
             "#6ece58"
            ],
            [
             0.8888888888888888,
             "#b5de2b"
            ],
            [
             1,
             "#fde725"
            ]
           ],
           "hoverinfo": "skip",
           "showscale": true,
           "text": [
            [
             "16",
             "180"
            ],
            [
             "1230",
             "125"
            ]
           ],
           "textfont": {
            "size": 14
           },
           "texttemplate": "%{text}",
           "type": "heatmap",
           "z": [
            [
             16,
             180
            ],
            [
             1230,
             125
            ]
           ]
          }
         ],
         "name": "Epoch 27"
        },
        {
         "data": [
          {
           "colorscale": [
            [
             0,
             "#440154"
            ],
            [
             0.1111111111111111,
             "#482878"
            ],
            [
             0.2222222222222222,
             "#3e4989"
            ],
            [
             0.3333333333333333,
             "#31688e"
            ],
            [
             0.4444444444444444,
             "#26828e"
            ],
            [
             0.5555555555555556,
             "#1f9e89"
            ],
            [
             0.6666666666666666,
             "#35b779"
            ],
            [
             0.7777777777777778,
             "#6ece58"
            ],
            [
             0.8888888888888888,
             "#b5de2b"
            ],
            [
             1,
             "#fde725"
            ]
           ],
           "hoverinfo": "skip",
           "showscale": true,
           "text": [
            [
             "13",
             "183"
            ],
            [
             "1219",
             "136"
            ]
           ],
           "textfont": {
            "size": 14
           },
           "texttemplate": "%{text}",
           "type": "heatmap",
           "z": [
            [
             13,
             183
            ],
            [
             1219,
             136
            ]
           ]
          }
         ],
         "name": "Epoch 28"
        },
        {
         "data": [
          {
           "colorscale": [
            [
             0,
             "#440154"
            ],
            [
             0.1111111111111111,
             "#482878"
            ],
            [
             0.2222222222222222,
             "#3e4989"
            ],
            [
             0.3333333333333333,
             "#31688e"
            ],
            [
             0.4444444444444444,
             "#26828e"
            ],
            [
             0.5555555555555556,
             "#1f9e89"
            ],
            [
             0.6666666666666666,
             "#35b779"
            ],
            [
             0.7777777777777778,
             "#6ece58"
            ],
            [
             0.8888888888888888,
             "#b5de2b"
            ],
            [
             1,
             "#fde725"
            ]
           ],
           "hoverinfo": "skip",
           "showscale": true,
           "text": [
            [
             "18",
             "178"
            ],
            [
             "1272",
             "83"
            ]
           ],
           "textfont": {
            "size": 14
           },
           "texttemplate": "%{text}",
           "type": "heatmap",
           "z": [
            [
             18,
             178
            ],
            [
             1272,
             83
            ]
           ]
          }
         ],
         "name": "Epoch 29"
        },
        {
         "data": [
          {
           "colorscale": [
            [
             0,
             "#440154"
            ],
            [
             0.1111111111111111,
             "#482878"
            ],
            [
             0.2222222222222222,
             "#3e4989"
            ],
            [
             0.3333333333333333,
             "#31688e"
            ],
            [
             0.4444444444444444,
             "#26828e"
            ],
            [
             0.5555555555555556,
             "#1f9e89"
            ],
            [
             0.6666666666666666,
             "#35b779"
            ],
            [
             0.7777777777777778,
             "#6ece58"
            ],
            [
             0.8888888888888888,
             "#b5de2b"
            ],
            [
             1,
             "#fde725"
            ]
           ],
           "hoverinfo": "skip",
           "showscale": true,
           "text": [
            [
             "13",
             "183"
            ],
            [
             "1231",
             "124"
            ]
           ],
           "textfont": {
            "size": 14
           },
           "texttemplate": "%{text}",
           "type": "heatmap",
           "z": [
            [
             13,
             183
            ],
            [
             1231,
             124
            ]
           ]
          }
         ],
         "name": "Epoch 30"
        },
        {
         "data": [
          {
           "colorscale": [
            [
             0,
             "#440154"
            ],
            [
             0.1111111111111111,
             "#482878"
            ],
            [
             0.2222222222222222,
             "#3e4989"
            ],
            [
             0.3333333333333333,
             "#31688e"
            ],
            [
             0.4444444444444444,
             "#26828e"
            ],
            [
             0.5555555555555556,
             "#1f9e89"
            ],
            [
             0.6666666666666666,
             "#35b779"
            ],
            [
             0.7777777777777778,
             "#6ece58"
            ],
            [
             0.8888888888888888,
             "#b5de2b"
            ],
            [
             1,
             "#fde725"
            ]
           ],
           "hoverinfo": "skip",
           "showscale": true,
           "text": [
            [
             "16",
             "180"
            ],
            [
             "1260",
             "95"
            ]
           ],
           "textfont": {
            "size": 14
           },
           "texttemplate": "%{text}",
           "type": "heatmap",
           "z": [
            [
             16,
             180
            ],
            [
             1260,
             95
            ]
           ]
          }
         ],
         "name": "Epoch 31"
        },
        {
         "data": [
          {
           "colorscale": [
            [
             0,
             "#440154"
            ],
            [
             0.1111111111111111,
             "#482878"
            ],
            [
             0.2222222222222222,
             "#3e4989"
            ],
            [
             0.3333333333333333,
             "#31688e"
            ],
            [
             0.4444444444444444,
             "#26828e"
            ],
            [
             0.5555555555555556,
             "#1f9e89"
            ],
            [
             0.6666666666666666,
             "#35b779"
            ],
            [
             0.7777777777777778,
             "#6ece58"
            ],
            [
             0.8888888888888888,
             "#b5de2b"
            ],
            [
             1,
             "#fde725"
            ]
           ],
           "hoverinfo": "skip",
           "showscale": true,
           "text": [
            [
             "12",
             "184"
            ],
            [
             "1251",
             "104"
            ]
           ],
           "textfont": {
            "size": 14
           },
           "texttemplate": "%{text}",
           "type": "heatmap",
           "z": [
            [
             12,
             184
            ],
            [
             1251,
             104
            ]
           ]
          }
         ],
         "name": "Epoch 32"
        },
        {
         "data": [
          {
           "colorscale": [
            [
             0,
             "#440154"
            ],
            [
             0.1111111111111111,
             "#482878"
            ],
            [
             0.2222222222222222,
             "#3e4989"
            ],
            [
             0.3333333333333333,
             "#31688e"
            ],
            [
             0.4444444444444444,
             "#26828e"
            ],
            [
             0.5555555555555556,
             "#1f9e89"
            ],
            [
             0.6666666666666666,
             "#35b779"
            ],
            [
             0.7777777777777778,
             "#6ece58"
            ],
            [
             0.8888888888888888,
             "#b5de2b"
            ],
            [
             1,
             "#fde725"
            ]
           ],
           "hoverinfo": "skip",
           "showscale": true,
           "text": [
            [
             "11",
             "185"
            ],
            [
             "1243",
             "112"
            ]
           ],
           "textfont": {
            "size": 14
           },
           "texttemplate": "%{text}",
           "type": "heatmap",
           "z": [
            [
             11,
             185
            ],
            [
             1243,
             112
            ]
           ]
          }
         ],
         "name": "Epoch 33"
        },
        {
         "data": [
          {
           "colorscale": [
            [
             0,
             "#440154"
            ],
            [
             0.1111111111111111,
             "#482878"
            ],
            [
             0.2222222222222222,
             "#3e4989"
            ],
            [
             0.3333333333333333,
             "#31688e"
            ],
            [
             0.4444444444444444,
             "#26828e"
            ],
            [
             0.5555555555555556,
             "#1f9e89"
            ],
            [
             0.6666666666666666,
             "#35b779"
            ],
            [
             0.7777777777777778,
             "#6ece58"
            ],
            [
             0.8888888888888888,
             "#b5de2b"
            ],
            [
             1,
             "#fde725"
            ]
           ],
           "hoverinfo": "skip",
           "showscale": true,
           "text": [
            [
             "12",
             "184"
            ],
            [
             "1264",
             "91"
            ]
           ],
           "textfont": {
            "size": 14
           },
           "texttemplate": "%{text}",
           "type": "heatmap",
           "z": [
            [
             12,
             184
            ],
            [
             1264,
             91
            ]
           ]
          }
         ],
         "name": "Epoch 34"
        },
        {
         "data": [
          {
           "colorscale": [
            [
             0,
             "#440154"
            ],
            [
             0.1111111111111111,
             "#482878"
            ],
            [
             0.2222222222222222,
             "#3e4989"
            ],
            [
             0.3333333333333333,
             "#31688e"
            ],
            [
             0.4444444444444444,
             "#26828e"
            ],
            [
             0.5555555555555556,
             "#1f9e89"
            ],
            [
             0.6666666666666666,
             "#35b779"
            ],
            [
             0.7777777777777778,
             "#6ece58"
            ],
            [
             0.8888888888888888,
             "#b5de2b"
            ],
            [
             1,
             "#fde725"
            ]
           ],
           "hoverinfo": "skip",
           "showscale": true,
           "text": [
            [
             "11",
             "185"
            ],
            [
             "1252",
             "103"
            ]
           ],
           "textfont": {
            "size": 14
           },
           "texttemplate": "%{text}",
           "type": "heatmap",
           "z": [
            [
             11,
             185
            ],
            [
             1252,
             103
            ]
           ]
          }
         ],
         "name": "Epoch 35"
        },
        {
         "data": [
          {
           "colorscale": [
            [
             0,
             "#440154"
            ],
            [
             0.1111111111111111,
             "#482878"
            ],
            [
             0.2222222222222222,
             "#3e4989"
            ],
            [
             0.3333333333333333,
             "#31688e"
            ],
            [
             0.4444444444444444,
             "#26828e"
            ],
            [
             0.5555555555555556,
             "#1f9e89"
            ],
            [
             0.6666666666666666,
             "#35b779"
            ],
            [
             0.7777777777777778,
             "#6ece58"
            ],
            [
             0.8888888888888888,
             "#b5de2b"
            ],
            [
             1,
             "#fde725"
            ]
           ],
           "hoverinfo": "skip",
           "showscale": true,
           "text": [
            [
             "11",
             "185"
            ],
            [
             "1246",
             "109"
            ]
           ],
           "textfont": {
            "size": 14
           },
           "texttemplate": "%{text}",
           "type": "heatmap",
           "z": [
            [
             11,
             185
            ],
            [
             1246,
             109
            ]
           ]
          }
         ],
         "name": "Epoch 36"
        },
        {
         "data": [
          {
           "colorscale": [
            [
             0,
             "#440154"
            ],
            [
             0.1111111111111111,
             "#482878"
            ],
            [
             0.2222222222222222,
             "#3e4989"
            ],
            [
             0.3333333333333333,
             "#31688e"
            ],
            [
             0.4444444444444444,
             "#26828e"
            ],
            [
             0.5555555555555556,
             "#1f9e89"
            ],
            [
             0.6666666666666666,
             "#35b779"
            ],
            [
             0.7777777777777778,
             "#6ece58"
            ],
            [
             0.8888888888888888,
             "#b5de2b"
            ],
            [
             1,
             "#fde725"
            ]
           ],
           "hoverinfo": "skip",
           "showscale": true,
           "text": [
            [
             "11",
             "185"
            ],
            [
             "1247",
             "108"
            ]
           ],
           "textfont": {
            "size": 14
           },
           "texttemplate": "%{text}",
           "type": "heatmap",
           "z": [
            [
             11,
             185
            ],
            [
             1247,
             108
            ]
           ]
          }
         ],
         "name": "Epoch 37"
        },
        {
         "data": [
          {
           "colorscale": [
            [
             0,
             "#440154"
            ],
            [
             0.1111111111111111,
             "#482878"
            ],
            [
             0.2222222222222222,
             "#3e4989"
            ],
            [
             0.3333333333333333,
             "#31688e"
            ],
            [
             0.4444444444444444,
             "#26828e"
            ],
            [
             0.5555555555555556,
             "#1f9e89"
            ],
            [
             0.6666666666666666,
             "#35b779"
            ],
            [
             0.7777777777777778,
             "#6ece58"
            ],
            [
             0.8888888888888888,
             "#b5de2b"
            ],
            [
             1,
             "#fde725"
            ]
           ],
           "hoverinfo": "skip",
           "showscale": true,
           "text": [
            [
             "10",
             "186"
            ],
            [
             "1217",
             "138"
            ]
           ],
           "textfont": {
            "size": 14
           },
           "texttemplate": "%{text}",
           "type": "heatmap",
           "z": [
            [
             10,
             186
            ],
            [
             1217,
             138
            ]
           ]
          }
         ],
         "name": "Epoch 38"
        },
        {
         "data": [
          {
           "colorscale": [
            [
             0,
             "#440154"
            ],
            [
             0.1111111111111111,
             "#482878"
            ],
            [
             0.2222222222222222,
             "#3e4989"
            ],
            [
             0.3333333333333333,
             "#31688e"
            ],
            [
             0.4444444444444444,
             "#26828e"
            ],
            [
             0.5555555555555556,
             "#1f9e89"
            ],
            [
             0.6666666666666666,
             "#35b779"
            ],
            [
             0.7777777777777778,
             "#6ece58"
            ],
            [
             0.8888888888888888,
             "#b5de2b"
            ],
            [
             1,
             "#fde725"
            ]
           ],
           "hoverinfo": "skip",
           "showscale": true,
           "text": [
            [
             "11",
             "185"
            ],
            [
             "1270",
             "85"
            ]
           ],
           "textfont": {
            "size": 14
           },
           "texttemplate": "%{text}",
           "type": "heatmap",
           "z": [
            [
             11,
             185
            ],
            [
             1270,
             85
            ]
           ]
          }
         ],
         "name": "Epoch 39"
        },
        {
         "data": [
          {
           "colorscale": [
            [
             0,
             "#440154"
            ],
            [
             0.1111111111111111,
             "#482878"
            ],
            [
             0.2222222222222222,
             "#3e4989"
            ],
            [
             0.3333333333333333,
             "#31688e"
            ],
            [
             0.4444444444444444,
             "#26828e"
            ],
            [
             0.5555555555555556,
             "#1f9e89"
            ],
            [
             0.6666666666666666,
             "#35b779"
            ],
            [
             0.7777777777777778,
             "#6ece58"
            ],
            [
             0.8888888888888888,
             "#b5de2b"
            ],
            [
             1,
             "#fde725"
            ]
           ],
           "hoverinfo": "skip",
           "showscale": true,
           "text": [
            [
             "11",
             "185"
            ],
            [
             "1265",
             "90"
            ]
           ],
           "textfont": {
            "size": 14
           },
           "texttemplate": "%{text}",
           "type": "heatmap",
           "z": [
            [
             11,
             185
            ],
            [
             1265,
             90
            ]
           ]
          }
         ],
         "name": "Epoch 40"
        },
        {
         "data": [
          {
           "colorscale": [
            [
             0,
             "#440154"
            ],
            [
             0.1111111111111111,
             "#482878"
            ],
            [
             0.2222222222222222,
             "#3e4989"
            ],
            [
             0.3333333333333333,
             "#31688e"
            ],
            [
             0.4444444444444444,
             "#26828e"
            ],
            [
             0.5555555555555556,
             "#1f9e89"
            ],
            [
             0.6666666666666666,
             "#35b779"
            ],
            [
             0.7777777777777778,
             "#6ece58"
            ],
            [
             0.8888888888888888,
             "#b5de2b"
            ],
            [
             1,
             "#fde725"
            ]
           ],
           "hoverinfo": "skip",
           "showscale": true,
           "text": [
            [
             "10",
             "186"
            ],
            [
             "1220",
             "135"
            ]
           ],
           "textfont": {
            "size": 14
           },
           "texttemplate": "%{text}",
           "type": "heatmap",
           "z": [
            [
             10,
             186
            ],
            [
             1220,
             135
            ]
           ]
          }
         ],
         "name": "Epoch 41"
        },
        {
         "data": [
          {
           "colorscale": [
            [
             0,
             "#440154"
            ],
            [
             0.1111111111111111,
             "#482878"
            ],
            [
             0.2222222222222222,
             "#3e4989"
            ],
            [
             0.3333333333333333,
             "#31688e"
            ],
            [
             0.4444444444444444,
             "#26828e"
            ],
            [
             0.5555555555555556,
             "#1f9e89"
            ],
            [
             0.6666666666666666,
             "#35b779"
            ],
            [
             0.7777777777777778,
             "#6ece58"
            ],
            [
             0.8888888888888888,
             "#b5de2b"
            ],
            [
             1,
             "#fde725"
            ]
           ],
           "hoverinfo": "skip",
           "showscale": true,
           "text": [
            [
             "11",
             "185"
            ],
            [
             "1258",
             "97"
            ]
           ],
           "textfont": {
            "size": 14
           },
           "texttemplate": "%{text}",
           "type": "heatmap",
           "z": [
            [
             11,
             185
            ],
            [
             1258,
             97
            ]
           ]
          }
         ],
         "name": "Epoch 42"
        },
        {
         "data": [
          {
           "colorscale": [
            [
             0,
             "#440154"
            ],
            [
             0.1111111111111111,
             "#482878"
            ],
            [
             0.2222222222222222,
             "#3e4989"
            ],
            [
             0.3333333333333333,
             "#31688e"
            ],
            [
             0.4444444444444444,
             "#26828e"
            ],
            [
             0.5555555555555556,
             "#1f9e89"
            ],
            [
             0.6666666666666666,
             "#35b779"
            ],
            [
             0.7777777777777778,
             "#6ece58"
            ],
            [
             0.8888888888888888,
             "#b5de2b"
            ],
            [
             1,
             "#fde725"
            ]
           ],
           "hoverinfo": "skip",
           "showscale": true,
           "text": [
            [
             "10",
             "186"
            ],
            [
             "1223",
             "132"
            ]
           ],
           "textfont": {
            "size": 14
           },
           "texttemplate": "%{text}",
           "type": "heatmap",
           "z": [
            [
             10,
             186
            ],
            [
             1223,
             132
            ]
           ]
          }
         ],
         "name": "Epoch 43"
        },
        {
         "data": [
          {
           "colorscale": [
            [
             0,
             "#440154"
            ],
            [
             0.1111111111111111,
             "#482878"
            ],
            [
             0.2222222222222222,
             "#3e4989"
            ],
            [
             0.3333333333333333,
             "#31688e"
            ],
            [
             0.4444444444444444,
             "#26828e"
            ],
            [
             0.5555555555555556,
             "#1f9e89"
            ],
            [
             0.6666666666666666,
             "#35b779"
            ],
            [
             0.7777777777777778,
             "#6ece58"
            ],
            [
             0.8888888888888888,
             "#b5de2b"
            ],
            [
             1,
             "#fde725"
            ]
           ],
           "hoverinfo": "skip",
           "showscale": true,
           "text": [
            [
             "11",
             "185"
            ],
            [
             "1246",
             "109"
            ]
           ],
           "textfont": {
            "size": 14
           },
           "texttemplate": "%{text}",
           "type": "heatmap",
           "z": [
            [
             11,
             185
            ],
            [
             1246,
             109
            ]
           ]
          }
         ],
         "name": "Epoch 44"
        },
        {
         "data": [
          {
           "colorscale": [
            [
             0,
             "#440154"
            ],
            [
             0.1111111111111111,
             "#482878"
            ],
            [
             0.2222222222222222,
             "#3e4989"
            ],
            [
             0.3333333333333333,
             "#31688e"
            ],
            [
             0.4444444444444444,
             "#26828e"
            ],
            [
             0.5555555555555556,
             "#1f9e89"
            ],
            [
             0.6666666666666666,
             "#35b779"
            ],
            [
             0.7777777777777778,
             "#6ece58"
            ],
            [
             0.8888888888888888,
             "#b5de2b"
            ],
            [
             1,
             "#fde725"
            ]
           ],
           "hoverinfo": "skip",
           "showscale": true,
           "text": [
            [
             "11",
             "185"
            ],
            [
             "1253",
             "102"
            ]
           ],
           "textfont": {
            "size": 14
           },
           "texttemplate": "%{text}",
           "type": "heatmap",
           "z": [
            [
             11,
             185
            ],
            [
             1253,
             102
            ]
           ]
          }
         ],
         "name": "Epoch 45"
        },
        {
         "data": [
          {
           "colorscale": [
            [
             0,
             "#440154"
            ],
            [
             0.1111111111111111,
             "#482878"
            ],
            [
             0.2222222222222222,
             "#3e4989"
            ],
            [
             0.3333333333333333,
             "#31688e"
            ],
            [
             0.4444444444444444,
             "#26828e"
            ],
            [
             0.5555555555555556,
             "#1f9e89"
            ],
            [
             0.6666666666666666,
             "#35b779"
            ],
            [
             0.7777777777777778,
             "#6ece58"
            ],
            [
             0.8888888888888888,
             "#b5de2b"
            ],
            [
             1,
             "#fde725"
            ]
           ],
           "hoverinfo": "skip",
           "showscale": true,
           "text": [
            [
             "11",
             "185"
            ],
            [
             "1261",
             "94"
            ]
           ],
           "textfont": {
            "size": 14
           },
           "texttemplate": "%{text}",
           "type": "heatmap",
           "z": [
            [
             11,
             185
            ],
            [
             1261,
             94
            ]
           ]
          }
         ],
         "name": "Epoch 46"
        },
        {
         "data": [
          {
           "colorscale": [
            [
             0,
             "#440154"
            ],
            [
             0.1111111111111111,
             "#482878"
            ],
            [
             0.2222222222222222,
             "#3e4989"
            ],
            [
             0.3333333333333333,
             "#31688e"
            ],
            [
             0.4444444444444444,
             "#26828e"
            ],
            [
             0.5555555555555556,
             "#1f9e89"
            ],
            [
             0.6666666666666666,
             "#35b779"
            ],
            [
             0.7777777777777778,
             "#6ece58"
            ],
            [
             0.8888888888888888,
             "#b5de2b"
            ],
            [
             1,
             "#fde725"
            ]
           ],
           "hoverinfo": "skip",
           "showscale": true,
           "text": [
            [
             "11",
             "185"
            ],
            [
             "1260",
             "95"
            ]
           ],
           "textfont": {
            "size": 14
           },
           "texttemplate": "%{text}",
           "type": "heatmap",
           "z": [
            [
             11,
             185
            ],
            [
             1260,
             95
            ]
           ]
          }
         ],
         "name": "Epoch 47"
        },
        {
         "data": [
          {
           "colorscale": [
            [
             0,
             "#440154"
            ],
            [
             0.1111111111111111,
             "#482878"
            ],
            [
             0.2222222222222222,
             "#3e4989"
            ],
            [
             0.3333333333333333,
             "#31688e"
            ],
            [
             0.4444444444444444,
             "#26828e"
            ],
            [
             0.5555555555555556,
             "#1f9e89"
            ],
            [
             0.6666666666666666,
             "#35b779"
            ],
            [
             0.7777777777777778,
             "#6ece58"
            ],
            [
             0.8888888888888888,
             "#b5de2b"
            ],
            [
             1,
             "#fde725"
            ]
           ],
           "hoverinfo": "skip",
           "showscale": true,
           "text": [
            [
             "11",
             "185"
            ],
            [
             "1269",
             "86"
            ]
           ],
           "textfont": {
            "size": 14
           },
           "texttemplate": "%{text}",
           "type": "heatmap",
           "z": [
            [
             11,
             185
            ],
            [
             1269,
             86
            ]
           ]
          }
         ],
         "name": "Epoch 48"
        },
        {
         "data": [
          {
           "colorscale": [
            [
             0,
             "#440154"
            ],
            [
             0.1111111111111111,
             "#482878"
            ],
            [
             0.2222222222222222,
             "#3e4989"
            ],
            [
             0.3333333333333333,
             "#31688e"
            ],
            [
             0.4444444444444444,
             "#26828e"
            ],
            [
             0.5555555555555556,
             "#1f9e89"
            ],
            [
             0.6666666666666666,
             "#35b779"
            ],
            [
             0.7777777777777778,
             "#6ece58"
            ],
            [
             0.8888888888888888,
             "#b5de2b"
            ],
            [
             1,
             "#fde725"
            ]
           ],
           "hoverinfo": "skip",
           "showscale": true,
           "text": [
            [
             "10",
             "186"
            ],
            [
             "1207",
             "148"
            ]
           ],
           "textfont": {
            "size": 14
           },
           "texttemplate": "%{text}",
           "type": "heatmap",
           "z": [
            [
             10,
             186
            ],
            [
             1207,
             148
            ]
           ]
          }
         ],
         "name": "Epoch 49"
        },
        {
         "data": [
          {
           "colorscale": [
            [
             0,
             "#440154"
            ],
            [
             0.1111111111111111,
             "#482878"
            ],
            [
             0.2222222222222222,
             "#3e4989"
            ],
            [
             0.3333333333333333,
             "#31688e"
            ],
            [
             0.4444444444444444,
             "#26828e"
            ],
            [
             0.5555555555555556,
             "#1f9e89"
            ],
            [
             0.6666666666666666,
             "#35b779"
            ],
            [
             0.7777777777777778,
             "#6ece58"
            ],
            [
             0.8888888888888888,
             "#b5de2b"
            ],
            [
             1,
             "#fde725"
            ]
           ],
           "hoverinfo": "skip",
           "showscale": true,
           "text": [
            [
             "10",
             "186"
            ],
            [
             "1232",
             "123"
            ]
           ],
           "textfont": {
            "size": 14
           },
           "texttemplate": "%{text}",
           "type": "heatmap",
           "z": [
            [
             10,
             186
            ],
            [
             1232,
             123
            ]
           ]
          }
         ],
         "name": "Epoch 50"
        }
       ],
       "layout": {
        "autosize": false,
        "height": 1000,
        "sliders": [
         {
          "currentvalue": {
           "prefix": "Epoch: "
          },
          "steps": [
           {
            "args": [
             [
              "Epoch 1"
             ],
             {
              "frame": {
               "duration": 500,
               "redraw": true
              }
             }
            ],
            "label": "Epoch 1",
            "method": "animate"
           },
           {
            "args": [
             [
              "Epoch 2"
             ],
             {
              "frame": {
               "duration": 500,
               "redraw": true
              }
             }
            ],
            "label": "Epoch 2",
            "method": "animate"
           },
           {
            "args": [
             [
              "Epoch 3"
             ],
             {
              "frame": {
               "duration": 500,
               "redraw": true
              }
             }
            ],
            "label": "Epoch 3",
            "method": "animate"
           },
           {
            "args": [
             [
              "Epoch 4"
             ],
             {
              "frame": {
               "duration": 500,
               "redraw": true
              }
             }
            ],
            "label": "Epoch 4",
            "method": "animate"
           },
           {
            "args": [
             [
              "Epoch 5"
             ],
             {
              "frame": {
               "duration": 500,
               "redraw": true
              }
             }
            ],
            "label": "Epoch 5",
            "method": "animate"
           },
           {
            "args": [
             [
              "Epoch 6"
             ],
             {
              "frame": {
               "duration": 500,
               "redraw": true
              }
             }
            ],
            "label": "Epoch 6",
            "method": "animate"
           },
           {
            "args": [
             [
              "Epoch 7"
             ],
             {
              "frame": {
               "duration": 500,
               "redraw": true
              }
             }
            ],
            "label": "Epoch 7",
            "method": "animate"
           },
           {
            "args": [
             [
              "Epoch 8"
             ],
             {
              "frame": {
               "duration": 500,
               "redraw": true
              }
             }
            ],
            "label": "Epoch 8",
            "method": "animate"
           },
           {
            "args": [
             [
              "Epoch 9"
             ],
             {
              "frame": {
               "duration": 500,
               "redraw": true
              }
             }
            ],
            "label": "Epoch 9",
            "method": "animate"
           },
           {
            "args": [
             [
              "Epoch 10"
             ],
             {
              "frame": {
               "duration": 500,
               "redraw": true
              }
             }
            ],
            "label": "Epoch 10",
            "method": "animate"
           },
           {
            "args": [
             [
              "Epoch 11"
             ],
             {
              "frame": {
               "duration": 500,
               "redraw": true
              }
             }
            ],
            "label": "Epoch 11",
            "method": "animate"
           },
           {
            "args": [
             [
              "Epoch 12"
             ],
             {
              "frame": {
               "duration": 500,
               "redraw": true
              }
             }
            ],
            "label": "Epoch 12",
            "method": "animate"
           },
           {
            "args": [
             [
              "Epoch 13"
             ],
             {
              "frame": {
               "duration": 500,
               "redraw": true
              }
             }
            ],
            "label": "Epoch 13",
            "method": "animate"
           },
           {
            "args": [
             [
              "Epoch 14"
             ],
             {
              "frame": {
               "duration": 500,
               "redraw": true
              }
             }
            ],
            "label": "Epoch 14",
            "method": "animate"
           },
           {
            "args": [
             [
              "Epoch 15"
             ],
             {
              "frame": {
               "duration": 500,
               "redraw": true
              }
             }
            ],
            "label": "Epoch 15",
            "method": "animate"
           },
           {
            "args": [
             [
              "Epoch 16"
             ],
             {
              "frame": {
               "duration": 500,
               "redraw": true
              }
             }
            ],
            "label": "Epoch 16",
            "method": "animate"
           },
           {
            "args": [
             [
              "Epoch 17"
             ],
             {
              "frame": {
               "duration": 500,
               "redraw": true
              }
             }
            ],
            "label": "Epoch 17",
            "method": "animate"
           },
           {
            "args": [
             [
              "Epoch 18"
             ],
             {
              "frame": {
               "duration": 500,
               "redraw": true
              }
             }
            ],
            "label": "Epoch 18",
            "method": "animate"
           },
           {
            "args": [
             [
              "Epoch 19"
             ],
             {
              "frame": {
               "duration": 500,
               "redraw": true
              }
             }
            ],
            "label": "Epoch 19",
            "method": "animate"
           },
           {
            "args": [
             [
              "Epoch 20"
             ],
             {
              "frame": {
               "duration": 500,
               "redraw": true
              }
             }
            ],
            "label": "Epoch 20",
            "method": "animate"
           },
           {
            "args": [
             [
              "Epoch 21"
             ],
             {
              "frame": {
               "duration": 500,
               "redraw": true
              }
             }
            ],
            "label": "Epoch 21",
            "method": "animate"
           },
           {
            "args": [
             [
              "Epoch 22"
             ],
             {
              "frame": {
               "duration": 500,
               "redraw": true
              }
             }
            ],
            "label": "Epoch 22",
            "method": "animate"
           },
           {
            "args": [
             [
              "Epoch 23"
             ],
             {
              "frame": {
               "duration": 500,
               "redraw": true
              }
             }
            ],
            "label": "Epoch 23",
            "method": "animate"
           },
           {
            "args": [
             [
              "Epoch 24"
             ],
             {
              "frame": {
               "duration": 500,
               "redraw": true
              }
             }
            ],
            "label": "Epoch 24",
            "method": "animate"
           },
           {
            "args": [
             [
              "Epoch 25"
             ],
             {
              "frame": {
               "duration": 500,
               "redraw": true
              }
             }
            ],
            "label": "Epoch 25",
            "method": "animate"
           },
           {
            "args": [
             [
              "Epoch 26"
             ],
             {
              "frame": {
               "duration": 500,
               "redraw": true
              }
             }
            ],
            "label": "Epoch 26",
            "method": "animate"
           },
           {
            "args": [
             [
              "Epoch 27"
             ],
             {
              "frame": {
               "duration": 500,
               "redraw": true
              }
             }
            ],
            "label": "Epoch 27",
            "method": "animate"
           },
           {
            "args": [
             [
              "Epoch 28"
             ],
             {
              "frame": {
               "duration": 500,
               "redraw": true
              }
             }
            ],
            "label": "Epoch 28",
            "method": "animate"
           },
           {
            "args": [
             [
              "Epoch 29"
             ],
             {
              "frame": {
               "duration": 500,
               "redraw": true
              }
             }
            ],
            "label": "Epoch 29",
            "method": "animate"
           },
           {
            "args": [
             [
              "Epoch 30"
             ],
             {
              "frame": {
               "duration": 500,
               "redraw": true
              }
             }
            ],
            "label": "Epoch 30",
            "method": "animate"
           },
           {
            "args": [
             [
              "Epoch 31"
             ],
             {
              "frame": {
               "duration": 500,
               "redraw": true
              }
             }
            ],
            "label": "Epoch 31",
            "method": "animate"
           },
           {
            "args": [
             [
              "Epoch 32"
             ],
             {
              "frame": {
               "duration": 500,
               "redraw": true
              }
             }
            ],
            "label": "Epoch 32",
            "method": "animate"
           },
           {
            "args": [
             [
              "Epoch 33"
             ],
             {
              "frame": {
               "duration": 500,
               "redraw": true
              }
             }
            ],
            "label": "Epoch 33",
            "method": "animate"
           },
           {
            "args": [
             [
              "Epoch 34"
             ],
             {
              "frame": {
               "duration": 500,
               "redraw": true
              }
             }
            ],
            "label": "Epoch 34",
            "method": "animate"
           },
           {
            "args": [
             [
              "Epoch 35"
             ],
             {
              "frame": {
               "duration": 500,
               "redraw": true
              }
             }
            ],
            "label": "Epoch 35",
            "method": "animate"
           },
           {
            "args": [
             [
              "Epoch 36"
             ],
             {
              "frame": {
               "duration": 500,
               "redraw": true
              }
             }
            ],
            "label": "Epoch 36",
            "method": "animate"
           },
           {
            "args": [
             [
              "Epoch 37"
             ],
             {
              "frame": {
               "duration": 500,
               "redraw": true
              }
             }
            ],
            "label": "Epoch 37",
            "method": "animate"
           },
           {
            "args": [
             [
              "Epoch 38"
             ],
             {
              "frame": {
               "duration": 500,
               "redraw": true
              }
             }
            ],
            "label": "Epoch 38",
            "method": "animate"
           },
           {
            "args": [
             [
              "Epoch 39"
             ],
             {
              "frame": {
               "duration": 500,
               "redraw": true
              }
             }
            ],
            "label": "Epoch 39",
            "method": "animate"
           },
           {
            "args": [
             [
              "Epoch 40"
             ],
             {
              "frame": {
               "duration": 500,
               "redraw": true
              }
             }
            ],
            "label": "Epoch 40",
            "method": "animate"
           },
           {
            "args": [
             [
              "Epoch 41"
             ],
             {
              "frame": {
               "duration": 500,
               "redraw": true
              }
             }
            ],
            "label": "Epoch 41",
            "method": "animate"
           },
           {
            "args": [
             [
              "Epoch 42"
             ],
             {
              "frame": {
               "duration": 500,
               "redraw": true
              }
             }
            ],
            "label": "Epoch 42",
            "method": "animate"
           },
           {
            "args": [
             [
              "Epoch 43"
             ],
             {
              "frame": {
               "duration": 500,
               "redraw": true
              }
             }
            ],
            "label": "Epoch 43",
            "method": "animate"
           },
           {
            "args": [
             [
              "Epoch 44"
             ],
             {
              "frame": {
               "duration": 500,
               "redraw": true
              }
             }
            ],
            "label": "Epoch 44",
            "method": "animate"
           },
           {
            "args": [
             [
              "Epoch 45"
             ],
             {
              "frame": {
               "duration": 500,
               "redraw": true
              }
             }
            ],
            "label": "Epoch 45",
            "method": "animate"
           },
           {
            "args": [
             [
              "Epoch 46"
             ],
             {
              "frame": {
               "duration": 500,
               "redraw": true
              }
             }
            ],
            "label": "Epoch 46",
            "method": "animate"
           },
           {
            "args": [
             [
              "Epoch 47"
             ],
             {
              "frame": {
               "duration": 500,
               "redraw": true
              }
             }
            ],
            "label": "Epoch 47",
            "method": "animate"
           },
           {
            "args": [
             [
              "Epoch 48"
             ],
             {
              "frame": {
               "duration": 500,
               "redraw": true
              }
             }
            ],
            "label": "Epoch 48",
            "method": "animate"
           },
           {
            "args": [
             [
              "Epoch 49"
             ],
             {
              "frame": {
               "duration": 500,
               "redraw": true
              }
             }
            ],
            "label": "Epoch 49",
            "method": "animate"
           },
           {
            "args": [
             [
              "Epoch 50"
             ],
             {
              "frame": {
               "duration": 500,
               "redraw": true
              }
             }
            ],
            "label": "Epoch 50",
            "method": "animate"
           }
          ]
         }
        ],
        "template": {
         "data": {
          "bar": [
           {
            "error_x": {
             "color": "#2a3f5f"
            },
            "error_y": {
             "color": "#2a3f5f"
            },
            "marker": {
             "line": {
              "color": "#E5ECF6",
              "width": 0.5
             },
             "pattern": {
              "fillmode": "overlay",
              "size": 10,
              "solidity": 0.2
             }
            },
            "type": "bar"
           }
          ],
          "barpolar": [
           {
            "marker": {
             "line": {
              "color": "#E5ECF6",
              "width": 0.5
             },
             "pattern": {
              "fillmode": "overlay",
              "size": 10,
              "solidity": 0.2
             }
            },
            "type": "barpolar"
           }
          ],
          "carpet": [
           {
            "aaxis": {
             "endlinecolor": "#2a3f5f",
             "gridcolor": "white",
             "linecolor": "white",
             "minorgridcolor": "white",
             "startlinecolor": "#2a3f5f"
            },
            "baxis": {
             "endlinecolor": "#2a3f5f",
             "gridcolor": "white",
             "linecolor": "white",
             "minorgridcolor": "white",
             "startlinecolor": "#2a3f5f"
            },
            "type": "carpet"
           }
          ],
          "choropleth": [
           {
            "colorbar": {
             "outlinewidth": 0,
             "ticks": ""
            },
            "type": "choropleth"
           }
          ],
          "contour": [
           {
            "colorbar": {
             "outlinewidth": 0,
             "ticks": ""
            },
            "colorscale": [
             [
              0,
              "#0d0887"
             ],
             [
              0.1111111111111111,
              "#46039f"
             ],
             [
              0.2222222222222222,
              "#7201a8"
             ],
             [
              0.3333333333333333,
              "#9c179e"
             ],
             [
              0.4444444444444444,
              "#bd3786"
             ],
             [
              0.5555555555555556,
              "#d8576b"
             ],
             [
              0.6666666666666666,
              "#ed7953"
             ],
             [
              0.7777777777777778,
              "#fb9f3a"
             ],
             [
              0.8888888888888888,
              "#fdca26"
             ],
             [
              1,
              "#f0f921"
             ]
            ],
            "type": "contour"
           }
          ],
          "contourcarpet": [
           {
            "colorbar": {
             "outlinewidth": 0,
             "ticks": ""
            },
            "type": "contourcarpet"
           }
          ],
          "heatmap": [
           {
            "colorbar": {
             "outlinewidth": 0,
             "ticks": ""
            },
            "colorscale": [
             [
              0,
              "#0d0887"
             ],
             [
              0.1111111111111111,
              "#46039f"
             ],
             [
              0.2222222222222222,
              "#7201a8"
             ],
             [
              0.3333333333333333,
              "#9c179e"
             ],
             [
              0.4444444444444444,
              "#bd3786"
             ],
             [
              0.5555555555555556,
              "#d8576b"
             ],
             [
              0.6666666666666666,
              "#ed7953"
             ],
             [
              0.7777777777777778,
              "#fb9f3a"
             ],
             [
              0.8888888888888888,
              "#fdca26"
             ],
             [
              1,
              "#f0f921"
             ]
            ],
            "type": "heatmap"
           }
          ],
          "heatmapgl": [
           {
            "colorbar": {
             "outlinewidth": 0,
             "ticks": ""
            },
            "colorscale": [
             [
              0,
              "#0d0887"
             ],
             [
              0.1111111111111111,
              "#46039f"
             ],
             [
              0.2222222222222222,
              "#7201a8"
             ],
             [
              0.3333333333333333,
              "#9c179e"
             ],
             [
              0.4444444444444444,
              "#bd3786"
             ],
             [
              0.5555555555555556,
              "#d8576b"
             ],
             [
              0.6666666666666666,
              "#ed7953"
             ],
             [
              0.7777777777777778,
              "#fb9f3a"
             ],
             [
              0.8888888888888888,
              "#fdca26"
             ],
             [
              1,
              "#f0f921"
             ]
            ],
            "type": "heatmapgl"
           }
          ],
          "histogram": [
           {
            "marker": {
             "pattern": {
              "fillmode": "overlay",
              "size": 10,
              "solidity": 0.2
             }
            },
            "type": "histogram"
           }
          ],
          "histogram2d": [
           {
            "colorbar": {
             "outlinewidth": 0,
             "ticks": ""
            },
            "colorscale": [
             [
              0,
              "#0d0887"
             ],
             [
              0.1111111111111111,
              "#46039f"
             ],
             [
              0.2222222222222222,
              "#7201a8"
             ],
             [
              0.3333333333333333,
              "#9c179e"
             ],
             [
              0.4444444444444444,
              "#bd3786"
             ],
             [
              0.5555555555555556,
              "#d8576b"
             ],
             [
              0.6666666666666666,
              "#ed7953"
             ],
             [
              0.7777777777777778,
              "#fb9f3a"
             ],
             [
              0.8888888888888888,
              "#fdca26"
             ],
             [
              1,
              "#f0f921"
             ]
            ],
            "type": "histogram2d"
           }
          ],
          "histogram2dcontour": [
           {
            "colorbar": {
             "outlinewidth": 0,
             "ticks": ""
            },
            "colorscale": [
             [
              0,
              "#0d0887"
             ],
             [
              0.1111111111111111,
              "#46039f"
             ],
             [
              0.2222222222222222,
              "#7201a8"
             ],
             [
              0.3333333333333333,
              "#9c179e"
             ],
             [
              0.4444444444444444,
              "#bd3786"
             ],
             [
              0.5555555555555556,
              "#d8576b"
             ],
             [
              0.6666666666666666,
              "#ed7953"
             ],
             [
              0.7777777777777778,
              "#fb9f3a"
             ],
             [
              0.8888888888888888,
              "#fdca26"
             ],
             [
              1,
              "#f0f921"
             ]
            ],
            "type": "histogram2dcontour"
           }
          ],
          "mesh3d": [
           {
            "colorbar": {
             "outlinewidth": 0,
             "ticks": ""
            },
            "type": "mesh3d"
           }
          ],
          "parcoords": [
           {
            "line": {
             "colorbar": {
              "outlinewidth": 0,
              "ticks": ""
             }
            },
            "type": "parcoords"
           }
          ],
          "pie": [
           {
            "automargin": true,
            "type": "pie"
           }
          ],
          "scatter": [
           {
            "fillpattern": {
             "fillmode": "overlay",
             "size": 10,
             "solidity": 0.2
            },
            "type": "scatter"
           }
          ],
          "scatter3d": [
           {
            "line": {
             "colorbar": {
              "outlinewidth": 0,
              "ticks": ""
             }
            },
            "marker": {
             "colorbar": {
              "outlinewidth": 0,
              "ticks": ""
             }
            },
            "type": "scatter3d"
           }
          ],
          "scattercarpet": [
           {
            "marker": {
             "colorbar": {
              "outlinewidth": 0,
              "ticks": ""
             }
            },
            "type": "scattercarpet"
           }
          ],
          "scattergeo": [
           {
            "marker": {
             "colorbar": {
              "outlinewidth": 0,
              "ticks": ""
             }
            },
            "type": "scattergeo"
           }
          ],
          "scattergl": [
           {
            "marker": {
             "colorbar": {
              "outlinewidth": 0,
              "ticks": ""
             }
            },
            "type": "scattergl"
           }
          ],
          "scattermapbox": [
           {
            "marker": {
             "colorbar": {
              "outlinewidth": 0,
              "ticks": ""
             }
            },
            "type": "scattermapbox"
           }
          ],
          "scatterpolar": [
           {
            "marker": {
             "colorbar": {
              "outlinewidth": 0,
              "ticks": ""
             }
            },
            "type": "scatterpolar"
           }
          ],
          "scatterpolargl": [
           {
            "marker": {
             "colorbar": {
              "outlinewidth": 0,
              "ticks": ""
             }
            },
            "type": "scatterpolargl"
           }
          ],
          "scatterternary": [
           {
            "marker": {
             "colorbar": {
              "outlinewidth": 0,
              "ticks": ""
             }
            },
            "type": "scatterternary"
           }
          ],
          "surface": [
           {
            "colorbar": {
             "outlinewidth": 0,
             "ticks": ""
            },
            "colorscale": [
             [
              0,
              "#0d0887"
             ],
             [
              0.1111111111111111,
              "#46039f"
             ],
             [
              0.2222222222222222,
              "#7201a8"
             ],
             [
              0.3333333333333333,
              "#9c179e"
             ],
             [
              0.4444444444444444,
              "#bd3786"
             ],
             [
              0.5555555555555556,
              "#d8576b"
             ],
             [
              0.6666666666666666,
              "#ed7953"
             ],
             [
              0.7777777777777778,
              "#fb9f3a"
             ],
             [
              0.8888888888888888,
              "#fdca26"
             ],
             [
              1,
              "#f0f921"
             ]
            ],
            "type": "surface"
           }
          ],
          "table": [
           {
            "cells": {
             "fill": {
              "color": "#EBF0F8"
             },
             "line": {
              "color": "white"
             }
            },
            "header": {
             "fill": {
              "color": "#C8D4E3"
             },
             "line": {
              "color": "white"
             }
            },
            "type": "table"
           }
          ]
         },
         "layout": {
          "annotationdefaults": {
           "arrowcolor": "#2a3f5f",
           "arrowhead": 0,
           "arrowwidth": 1
          },
          "autotypenumbers": "strict",
          "coloraxis": {
           "colorbar": {
            "outlinewidth": 0,
            "ticks": ""
           }
          },
          "colorscale": {
           "diverging": [
            [
             0,
             "#8e0152"
            ],
            [
             0.1,
             "#c51b7d"
            ],
            [
             0.2,
             "#de77ae"
            ],
            [
             0.3,
             "#f1b6da"
            ],
            [
             0.4,
             "#fde0ef"
            ],
            [
             0.5,
             "#f7f7f7"
            ],
            [
             0.6,
             "#e6f5d0"
            ],
            [
             0.7,
             "#b8e186"
            ],
            [
             0.8,
             "#7fbc41"
            ],
            [
             0.9,
             "#4d9221"
            ],
            [
             1,
             "#276419"
            ]
           ],
           "sequential": [
            [
             0,
             "#0d0887"
            ],
            [
             0.1111111111111111,
             "#46039f"
            ],
            [
             0.2222222222222222,
             "#7201a8"
            ],
            [
             0.3333333333333333,
             "#9c179e"
            ],
            [
             0.4444444444444444,
             "#bd3786"
            ],
            [
             0.5555555555555556,
             "#d8576b"
            ],
            [
             0.6666666666666666,
             "#ed7953"
            ],
            [
             0.7777777777777778,
             "#fb9f3a"
            ],
            [
             0.8888888888888888,
             "#fdca26"
            ],
            [
             1,
             "#f0f921"
            ]
           ],
           "sequentialminus": [
            [
             0,
             "#0d0887"
            ],
            [
             0.1111111111111111,
             "#46039f"
            ],
            [
             0.2222222222222222,
             "#7201a8"
            ],
            [
             0.3333333333333333,
             "#9c179e"
            ],
            [
             0.4444444444444444,
             "#bd3786"
            ],
            [
             0.5555555555555556,
             "#d8576b"
            ],
            [
             0.6666666666666666,
             "#ed7953"
            ],
            [
             0.7777777777777778,
             "#fb9f3a"
            ],
            [
             0.8888888888888888,
             "#fdca26"
            ],
            [
             1,
             "#f0f921"
            ]
           ]
          },
          "colorway": [
           "#636efa",
           "#EF553B",
           "#00cc96",
           "#ab63fa",
           "#FFA15A",
           "#19d3f3",
           "#FF6692",
           "#B6E880",
           "#FF97FF",
           "#FECB52"
          ],
          "font": {
           "color": "#2a3f5f"
          },
          "geo": {
           "bgcolor": "white",
           "lakecolor": "white",
           "landcolor": "#E5ECF6",
           "showlakes": true,
           "showland": true,
           "subunitcolor": "white"
          },
          "hoverlabel": {
           "align": "left"
          },
          "hovermode": "closest",
          "mapbox": {
           "style": "light"
          },
          "paper_bgcolor": "white",
          "plot_bgcolor": "#E5ECF6",
          "polar": {
           "angularaxis": {
            "gridcolor": "white",
            "linecolor": "white",
            "ticks": ""
           },
           "bgcolor": "#E5ECF6",
           "radialaxis": {
            "gridcolor": "white",
            "linecolor": "white",
            "ticks": ""
           }
          },
          "scene": {
           "xaxis": {
            "backgroundcolor": "#E5ECF6",
            "gridcolor": "white",
            "gridwidth": 2,
            "linecolor": "white",
            "showbackground": true,
            "ticks": "",
            "zerolinecolor": "white"
           },
           "yaxis": {
            "backgroundcolor": "#E5ECF6",
            "gridcolor": "white",
            "gridwidth": 2,
            "linecolor": "white",
            "showbackground": true,
            "ticks": "",
            "zerolinecolor": "white"
           },
           "zaxis": {
            "backgroundcolor": "#E5ECF6",
            "gridcolor": "white",
            "gridwidth": 2,
            "linecolor": "white",
            "showbackground": true,
            "ticks": "",
            "zerolinecolor": "white"
           }
          },
          "shapedefaults": {
           "line": {
            "color": "#2a3f5f"
           }
          },
          "ternary": {
           "aaxis": {
            "gridcolor": "white",
            "linecolor": "white",
            "ticks": ""
           },
           "baxis": {
            "gridcolor": "white",
            "linecolor": "white",
            "ticks": ""
           },
           "bgcolor": "#E5ECF6",
           "caxis": {
            "gridcolor": "white",
            "linecolor": "white",
            "ticks": ""
           }
          },
          "title": {
           "x": 0.05
          },
          "xaxis": {
           "automargin": true,
           "gridcolor": "white",
           "linecolor": "white",
           "ticks": "",
           "title": {
            "standoff": 15
           },
           "zerolinecolor": "white",
           "zerolinewidth": 2
          },
          "yaxis": {
           "automargin": true,
           "gridcolor": "white",
           "linecolor": "white",
           "ticks": "",
           "title": {
            "standoff": 15
           },
           "zerolinecolor": "white",
           "zerolinewidth": 2
          }
         }
        },
        "title": {
         "text": "Animated confusion matrix"
        },
        "updatemenus": [
         {
          "buttons": [
           {
            "args": [
             null,
             {
              "frame": {
               "duration": 500,
               "redraw": true
              },
              "fromcurrent": true,
              "mode": "immediate"
             }
            ],
            "label": "Play",
            "method": "animate"
           }
          ],
          "type": "buttons"
         }
        ],
        "width": 1000,
        "xaxis": {
         "ticktext": [
          "Ham",
          "Spam"
         ],
         "tickvals": [
          0,
          1
         ],
         "title": {
          "text": "Predicted label"
         }
        },
        "yaxis": {
         "categoryarray": [
          1,
          0
         ],
         "categoryorder": "array",
         "ticktext": [
          "Spam",
          "Ham"
         ],
         "tickvals": [
          0,
          1
         ],
         "title": {
          "text": "True Label"
         }
        }
       }
      }
     },
     "metadata": {},
     "output_type": "display_data"
    }
   ],
   "source": [
    "def plot_confusion_matrices(confusion_matrices):\n",
    "    epochs = range(1, k_epochs + 1)\n",
    "    frames = []\n",
    "\n",
    "    # Create a frame per epoch\n",
    "    for epoch, cm in zip(epochs, confusion_matrices):\n",
    "        annotations = [[f'{value}' for value in row] for row in cm]\n",
    "        frame = go.Frame(data=[go.Heatmap(\n",
    "            z=cm, \n",
    "            text=annotations,\n",
    "            colorscale='Viridis',                       # mimic default color of sklearn.metrics.confusion_matrix()\n",
    "            hoverinfo='skip',                           # ! Hide hover info (x, y, z)\n",
    "            showscale=True,                             # colorbar visible\n",
    "            texttemplate=\"%{text}\",                     # string to be displayed in the cells\n",
    "            textfont={\"size\": 14},  \n",
    "        )], name=f\"Epoch {epoch}\")\n",
    "        frames.append(frame)\n",
    "\n",
    "    # Initialization with the first confusion matrix\n",
    "    fig = go.Figure(\n",
    "        data=[go.Heatmap(\n",
    "            z=confusion_matrices[0], \n",
    "            text=[[f'{value}' for value in row] for row in confusion_matrices[0]], \n",
    "            colorscale='Viridis',\n",
    "            hoverinfo='skip',  \n",
    "            showscale=True,  \n",
    "            texttemplate=\"%{text}\",  \n",
    "            textfont={\"size\": 14},  \n",
    "        )],\n",
    "        layout=go.Layout(\n",
    "            autosize=False,\n",
    "            width=1000,\n",
    "            height=1000,\n",
    "            title=\"Animated confusion matrix\",\n",
    "            xaxis_title=\"Predicted label\",\n",
    "            yaxis_title=\"True Label\",\n",
    "            # Make sure 0 is on top and 1 is bottom on y axis \n",
    "            # Make sure we read \"Ham\" and \"Spam\"\n",
    "            xaxis=dict(\n",
    "                tickvals=[0, 1], \n",
    "                ticktext=[\"Ham\", \"Spam\"]\n",
    "            ),\n",
    "            yaxis=dict(\n",
    "                tickvals=[0, 1],  \n",
    "                ticktext=[\"Spam\", \"Ham\"],  \n",
    "                categoryorder=\"array\",  \n",
    "                categoryarray=[1, 0]  \n",
    "            ),\n",
    "            updatemenus=[{\n",
    "                'type': 'buttons',\n",
    "                'buttons': [{\n",
    "                    'label': 'Play',\n",
    "                    'method': 'animate',\n",
    "                    'args': [None, {\n",
    "                        'frame': {'duration': 500, 'redraw': True},\n",
    "                        'fromcurrent': True,\n",
    "                        'mode': 'immediate',\n",
    "                    }]\n",
    "                }]\n",
    "            }]\n",
    "        ),\n",
    "        frames=frames  # assign frames to the Figure\n",
    "    )\n",
    "\n",
    "    # Add a slider\n",
    "    fig.update_layout(\n",
    "        sliders=[{\n",
    "            'steps': [{\n",
    "                'args': [[f\"Epoch {epoch}\"], {'frame': {'duration': 500, 'redraw': True}}],\n",
    "                'label': f'Epoch {epoch}',\n",
    "                'method': 'animate'\n",
    "            } for epoch in epochs],\n",
    "            'currentvalue': {'prefix': 'Epoch: '}\n",
    "        }]\n",
    "    )\n",
    "    fig.show()\n",
    "\n",
    "plot_confusion_matrices(confusion_matrices)"
   ]
  }
 ],
 "metadata": {
  "kernelspec": {
   "display_name": "jedha",
   "language": "python",
   "name": "python3"
  },
  "language_info": {
   "codemirror_mode": {
    "name": "ipython",
    "version": 3
   },
   "file_extension": ".py",
   "mimetype": "text/x-python",
   "name": "python",
   "nbconvert_exporter": "python",
   "pygments_lexer": "ipython3",
   "version": "3.10.8"
  }
 },
 "nbformat": 4,
 "nbformat_minor": 2
}
